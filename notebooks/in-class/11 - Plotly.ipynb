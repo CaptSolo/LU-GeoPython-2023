{
 "cells": [
  {
   "cell_type": "code",
   "execution_count": 1,
   "id": "84095e0d-c205-4a7a-95dc-da652a92f1a5",
   "metadata": {},
   "outputs": [
    {
     "name": "stdout",
     "output_type": "stream",
     "text": [
      "Plotly version: 5.24.1\n"
     ]
    }
   ],
   "source": [
    "# Import Plotly and check its version\n",
    "import plotly\n",
    "print(f\"Plotly version: {plotly.__version__}\")\n",
    "\n",
    "# Import Pandas\n",
    "import pandas as pd"
   ]
  },
  {
   "cell_type": "markdown",
   "id": "d9898ec1-728b-4ce2-af52-2d4cdc1d8370",
   "metadata": {},
   "source": [
    "## Plotly\n",
    "\n",
    "Documentation: https://plotly.com/python/\n",
    "\n",
    "We will use Plotly Express – a simple, high-level approach to creating Plotly visualizations.\n",
    "- Plotly Express documentation: https://plotly.com/python/plotly-express/"
   ]
  },
  {
   "cell_type": "code",
   "execution_count": 2,
   "id": "7a639c6d-a22c-494c-b0ed-e292f0a778cf",
   "metadata": {},
   "outputs": [],
   "source": [
    "import plotly.express as px\n",
    "\n",
    "# Needed to get visualizations working in Jupyter notebooks\n",
    "import plotly.io as pio\n",
    "pio.renderers.default = 'colab'"
   ]
  },
  {
   "cell_type": "code",
   "execution_count": 3,
   "id": "a80ece6b-5628-42c8-8d4c-65abf5a3ab17",
   "metadata": {},
   "outputs": [
    {
     "data": {
      "text/html": [
       "<div>\n",
       "<style scoped>\n",
       "    .dataframe tbody tr th:only-of-type {\n",
       "        vertical-align: middle;\n",
       "    }\n",
       "\n",
       "    .dataframe tbody tr th {\n",
       "        vertical-align: top;\n",
       "    }\n",
       "\n",
       "    .dataframe thead th {\n",
       "        text-align: right;\n",
       "    }\n",
       "</style>\n",
       "<table border=\"1\" class=\"dataframe\">\n",
       "  <thead>\n",
       "    <tr style=\"text-align: right;\">\n",
       "      <th></th>\n",
       "      <th>country</th>\n",
       "      <th>continent</th>\n",
       "      <th>year</th>\n",
       "      <th>lifeExp</th>\n",
       "      <th>pop</th>\n",
       "      <th>gdpPercap</th>\n",
       "      <th>iso_alpha</th>\n",
       "      <th>iso_num</th>\n",
       "    </tr>\n",
       "  </thead>\n",
       "  <tbody>\n",
       "    <tr>\n",
       "      <th>516</th>\n",
       "      <td>Finland</td>\n",
       "      <td>Europe</td>\n",
       "      <td>1952</td>\n",
       "      <td>66.550</td>\n",
       "      <td>4090500</td>\n",
       "      <td>6424.519071</td>\n",
       "      <td>FIN</td>\n",
       "      <td>246</td>\n",
       "    </tr>\n",
       "    <tr>\n",
       "      <th>517</th>\n",
       "      <td>Finland</td>\n",
       "      <td>Europe</td>\n",
       "      <td>1957</td>\n",
       "      <td>67.490</td>\n",
       "      <td>4324000</td>\n",
       "      <td>7545.415386</td>\n",
       "      <td>FIN</td>\n",
       "      <td>246</td>\n",
       "    </tr>\n",
       "    <tr>\n",
       "      <th>518</th>\n",
       "      <td>Finland</td>\n",
       "      <td>Europe</td>\n",
       "      <td>1962</td>\n",
       "      <td>68.750</td>\n",
       "      <td>4491443</td>\n",
       "      <td>9371.842561</td>\n",
       "      <td>FIN</td>\n",
       "      <td>246</td>\n",
       "    </tr>\n",
       "    <tr>\n",
       "      <th>519</th>\n",
       "      <td>Finland</td>\n",
       "      <td>Europe</td>\n",
       "      <td>1967</td>\n",
       "      <td>69.830</td>\n",
       "      <td>4605744</td>\n",
       "      <td>10921.636260</td>\n",
       "      <td>FIN</td>\n",
       "      <td>246</td>\n",
       "    </tr>\n",
       "    <tr>\n",
       "      <th>520</th>\n",
       "      <td>Finland</td>\n",
       "      <td>Europe</td>\n",
       "      <td>1972</td>\n",
       "      <td>70.870</td>\n",
       "      <td>4639657</td>\n",
       "      <td>14358.875900</td>\n",
       "      <td>FIN</td>\n",
       "      <td>246</td>\n",
       "    </tr>\n",
       "    <tr>\n",
       "      <th>521</th>\n",
       "      <td>Finland</td>\n",
       "      <td>Europe</td>\n",
       "      <td>1977</td>\n",
       "      <td>72.520</td>\n",
       "      <td>4738902</td>\n",
       "      <td>15605.422830</td>\n",
       "      <td>FIN</td>\n",
       "      <td>246</td>\n",
       "    </tr>\n",
       "    <tr>\n",
       "      <th>522</th>\n",
       "      <td>Finland</td>\n",
       "      <td>Europe</td>\n",
       "      <td>1982</td>\n",
       "      <td>74.550</td>\n",
       "      <td>4826933</td>\n",
       "      <td>18533.157610</td>\n",
       "      <td>FIN</td>\n",
       "      <td>246</td>\n",
       "    </tr>\n",
       "    <tr>\n",
       "      <th>523</th>\n",
       "      <td>Finland</td>\n",
       "      <td>Europe</td>\n",
       "      <td>1987</td>\n",
       "      <td>74.830</td>\n",
       "      <td>4931729</td>\n",
       "      <td>21141.012230</td>\n",
       "      <td>FIN</td>\n",
       "      <td>246</td>\n",
       "    </tr>\n",
       "    <tr>\n",
       "      <th>524</th>\n",
       "      <td>Finland</td>\n",
       "      <td>Europe</td>\n",
       "      <td>1992</td>\n",
       "      <td>75.700</td>\n",
       "      <td>5041039</td>\n",
       "      <td>20647.164990</td>\n",
       "      <td>FIN</td>\n",
       "      <td>246</td>\n",
       "    </tr>\n",
       "    <tr>\n",
       "      <th>525</th>\n",
       "      <td>Finland</td>\n",
       "      <td>Europe</td>\n",
       "      <td>1997</td>\n",
       "      <td>77.130</td>\n",
       "      <td>5134406</td>\n",
       "      <td>23723.950200</td>\n",
       "      <td>FIN</td>\n",
       "      <td>246</td>\n",
       "    </tr>\n",
       "    <tr>\n",
       "      <th>526</th>\n",
       "      <td>Finland</td>\n",
       "      <td>Europe</td>\n",
       "      <td>2002</td>\n",
       "      <td>78.370</td>\n",
       "      <td>5193039</td>\n",
       "      <td>28204.590570</td>\n",
       "      <td>FIN</td>\n",
       "      <td>246</td>\n",
       "    </tr>\n",
       "    <tr>\n",
       "      <th>527</th>\n",
       "      <td>Finland</td>\n",
       "      <td>Europe</td>\n",
       "      <td>2007</td>\n",
       "      <td>79.313</td>\n",
       "      <td>5238460</td>\n",
       "      <td>33207.084400</td>\n",
       "      <td>FIN</td>\n",
       "      <td>246</td>\n",
       "    </tr>\n",
       "  </tbody>\n",
       "</table>\n",
       "</div>"
      ],
      "text/plain": [
       "     country continent  year  lifeExp      pop     gdpPercap iso_alpha  \\\n",
       "516  Finland    Europe  1952   66.550  4090500   6424.519071       FIN   \n",
       "517  Finland    Europe  1957   67.490  4324000   7545.415386       FIN   \n",
       "518  Finland    Europe  1962   68.750  4491443   9371.842561       FIN   \n",
       "519  Finland    Europe  1967   69.830  4605744  10921.636260       FIN   \n",
       "520  Finland    Europe  1972   70.870  4639657  14358.875900       FIN   \n",
       "521  Finland    Europe  1977   72.520  4738902  15605.422830       FIN   \n",
       "522  Finland    Europe  1982   74.550  4826933  18533.157610       FIN   \n",
       "523  Finland    Europe  1987   74.830  4931729  21141.012230       FIN   \n",
       "524  Finland    Europe  1992   75.700  5041039  20647.164990       FIN   \n",
       "525  Finland    Europe  1997   77.130  5134406  23723.950200       FIN   \n",
       "526  Finland    Europe  2002   78.370  5193039  28204.590570       FIN   \n",
       "527  Finland    Europe  2007   79.313  5238460  33207.084400       FIN   \n",
       "\n",
       "     iso_num  \n",
       "516      246  \n",
       "517      246  \n",
       "518      246  \n",
       "519      246  \n",
       "520      246  \n",
       "521      246  \n",
       "522      246  \n",
       "523      246  \n",
       "524      246  \n",
       "525      246  \n",
       "526      246  \n",
       "527      246  "
      ]
     },
     "execution_count": 3,
     "metadata": {},
     "output_type": "execute_result"
    }
   ],
   "source": [
    "# Load the Gapminder dataset + query for a given country\n",
    "df_gap = px.data.gapminder()\n",
    "df_fin = df_gap.query(\"country=='Finland'\")\n",
    "\n",
    "df_fin"
   ]
  },
  {
   "cell_type": "code",
   "execution_count": 4,
   "id": "7a285228-9a31-46cc-a49f-c8d9f791f1cf",
   "metadata": {},
   "outputs": [
    {
     "data": {
      "text/html": [
       "<iframe\n",
       "    scrolling=\"no\"\n",
       "    width=\"100%\"\n",
       "    height=\"545px\"\n",
       "    src=\"iframe_figures/figure_4.html\"\n",
       "    frameborder=\"0\"\n",
       "    allowfullscreen\n",
       "></iframe>\n"
      ]
     },
     "metadata": {},
     "output_type": "display_data"
    }
   ],
   "source": [
    "\n",
    "\n",
    "# Let's draw a line plot\n",
    "# https://plotly.com/python/line-charts/\n",
    "fig = px.line(df_fin, x=\"year\", y=\"lifeExp\", title='Life expectancy in Finland')\n",
    "fig.show()"
   ]
  },
  {
   "cell_type": "code",
   "execution_count": 5,
   "id": "dda8dbfa-9e07-451b-b94a-b8ed3d3cb97d",
   "metadata": {},
   "outputs": [
    {
     "data": {
      "text/html": [
       "<iframe\n",
       "    scrolling=\"no\"\n",
       "    width=\"100%\"\n",
       "    height=\"545px\"\n",
       "    src=\"iframe_figures/figure_5.html\"\n",
       "    frameborder=\"0\"\n",
       "    allowfullscreen\n",
       "></iframe>\n"
      ]
     },
     "metadata": {},
     "output_type": "display_data"
    }
   ],
   "source": [
    "# https://plotly.com/python/plotly-express/\n",
    "\n",
    "df_iris = px.data.iris()\n",
    "\n",
    "fig = px.scatter(df_iris, x=\"sepal_width\", y=\"sepal_length\", color=\"species\")\n",
    "fig.show()"
   ]
  },
  {
   "cell_type": "code",
   "execution_count": 6,
   "id": "854d4aa3-be23-42aa-b17b-201f4b78257e",
   "metadata": {},
   "outputs": [
    {
     "data": {
      "text/html": [
       "<iframe\n",
       "    scrolling=\"no\"\n",
       "    width=\"100%\"\n",
       "    height=\"545px\"\n",
       "    src=\"iframe_figures/figure_6.html\"\n",
       "    frameborder=\"0\"\n",
       "    allowfullscreen\n",
       "></iframe>\n"
      ]
     },
     "metadata": {},
     "output_type": "display_data"
    }
   ],
   "source": [
    "# statsmodels library must be installed for this example to work\n",
    "# https://plotly.com/python/plotly-express/\n",
    "\n",
    "fig = px.scatter(df_iris, x=\"sepal_width\", y=\"sepal_length\", color=\"species\", marginal_y=\"violin\",\n",
    "           marginal_x=\"box\", trendline=\"ols\", template=\"simple_white\")\n",
    "fig.show()"
   ]
  },
  {
   "cell_type": "code",
   "execution_count": 7,
   "id": "15df6a14-f5e1-4a32-b3bd-31e3cd9eb940",
   "metadata": {},
   "outputs": [
    {
     "data": {
      "text/html": [
       "<iframe\n",
       "    scrolling=\"no\"\n",
       "    width=\"100%\"\n",
       "    height=\"545px\"\n",
       "    src=\"iframe_figures/figure_7.html\"\n",
       "    frameborder=\"0\"\n",
       "    allowfullscreen\n",
       "></iframe>\n"
      ]
     },
     "metadata": {},
     "output_type": "display_data"
    }
   ],
   "source": [
    "# https://plotly.com/python/plotly-express/\n",
    "\n",
    "fig = px.scatter(df_gap.query(\"year==2007\"), x=\"gdpPercap\", y=\"lifeExp\", size=\"pop\", color=\"continent\",\n",
    "           hover_name=\"country\", log_x=True, size_max=60)\n",
    "fig.show()"
   ]
  },
  {
   "cell_type": "code",
   "execution_count": 9,
   "id": "c2e1810a-20ce-4d66-aa7e-3e7b875e4026",
   "metadata": {},
   "outputs": [],
   "source": [
    "fig.write_html(\"our_visualization.html\")"
   ]
  }
 ],
 "metadata": {
  "kernelspec": {
   "display_name": "Python 3 (ipykernel)",
   "language": "python",
   "name": "python3"
  },
  "language_info": {
   "codemirror_mode": {
    "name": "ipython",
    "version": 3
   },
   "file_extension": ".py",
   "mimetype": "text/x-python",
   "name": "python",
   "nbconvert_exporter": "python",
   "pygments_lexer": "ipython3",
   "version": "3.12.7"
  }
 },
 "nbformat": 4,
 "nbformat_minor": 5
}
