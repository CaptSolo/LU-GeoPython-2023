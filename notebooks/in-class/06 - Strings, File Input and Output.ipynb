{
 "cells": [
  {
   "cell_type": "markdown",
   "id": "41e3f505-ea2e-4eee-b020-d86b6f96853c",
   "metadata": {},
   "source": [
    "## Lecture summary\n",
    "\n",
    "- Text strings (continued)\n",
    "- Exceptions and error handling\n",
    "- File input / output\n",
    "  - CSV files "
   ]
  },
  {
   "cell_type": "markdown",
   "id": "e55fc460",
   "metadata": {},
   "source": [
    "## Python Strings (continued)\n",
    "\n",
    "[Chapter 6 – Manipulating Strings](https://automatetheboringstuff.com/2e/chapter6/) (Automate the Boring Stuff)"
   ]
  },
  {
   "cell_type": "code",
   "execution_count": null,
   "id": "003402d6-1da1-4f07-a229-8b53f6da3b87",
   "metadata": {},
   "outputs": [],
   "source": [
    "for name in dir(str):\n",
    "    if not name.startswith(\"_\"):\n",
    "        print(name)"
   ]
  },
  {
   "cell_type": "code",
   "execution_count": null,
   "id": "e3fea878",
   "metadata": {},
   "outputs": [],
   "source": [
    "help(str.startswith)"
   ]
  },
  {
   "cell_type": "code",
   "execution_count": null,
   "id": "672a25d1-0501-40de-95aa-7e9368c332fd",
   "metadata": {},
   "outputs": [],
   "source": [
    "help(str.strip)"
   ]
  },
  {
   "cell_type": "code",
   "execution_count": null,
   "id": "6ba00250",
   "metadata": {},
   "outputs": [],
   "source": [
    "text = \"   Uldis   \""
   ]
  },
  {
   "cell_type": "code",
   "execution_count": null,
   "id": "6dbb58e2",
   "metadata": {},
   "outputs": [],
   "source": [
    "# strip removes whitespace from start and end of the string\n",
    "text.strip()"
   ]
  },
  {
   "cell_type": "code",
   "execution_count": null,
   "id": "e352bf08",
   "metadata": {},
   "outputs": [],
   "source": [
    "text.lstrip()"
   ]
  },
  {
   "cell_type": "code",
   "execution_count": null,
   "id": "39f242b3",
   "metadata": {},
   "outputs": [],
   "source": [
    "text.rstrip()"
   ]
  },
  {
   "cell_type": "markdown",
   "id": "98b3cdb3",
   "metadata": {},
   "source": [
    "### Checking if string contains a substring\n"
   ]
  },
  {
   "cell_type": "code",
   "execution_count": null,
   "id": "808ae19e",
   "metadata": {},
   "outputs": [],
   "source": [
    "text2 = \"This is an example\""
   ]
  },
  {
   "cell_type": "code",
   "execution_count": null,
   "id": "2e932f24",
   "metadata": {},
   "outputs": [],
   "source": [
    "text2.startswith(\"This\")"
   ]
  },
  {
   "cell_type": "code",
   "execution_count": null,
   "id": "9e48bee0",
   "metadata": {},
   "outputs": [],
   "source": [
    "text2.startswith(\"example\")"
   ]
  },
  {
   "cell_type": "code",
   "execution_count": null,
   "id": "1415e726",
   "metadata": {},
   "outputs": [],
   "source": [
    "text2.endswith(\"example\")"
   ]
  },
  {
   "cell_type": "code",
   "execution_count": null,
   "id": "5c8ee517-907a-49fb-944e-a30238d700d9",
   "metadata": {},
   "outputs": [],
   "source": [
    "# checking for substring\n",
    "\"is an\" in text2"
   ]
  },
  {
   "cell_type": "code",
   "execution_count": null,
   "id": "a2b03bcc",
   "metadata": {},
   "outputs": [],
   "source": [
    "# let's put that in the if command:\n",
    "\n",
    "if \"is an\" in text2:\n",
    "    print(\"Substring found!\")"
   ]
  },
  {
   "cell_type": "code",
   "execution_count": null,
   "id": "3e23e782",
   "metadata": {},
   "outputs": [],
   "source": [
    "# position of the 1st match\n",
    "\n",
    "text2.index(\" is \")"
   ]
  },
  {
   "cell_type": "code",
   "execution_count": null,
   "id": "a0bb9441",
   "metadata": {},
   "outputs": [],
   "source": [
    "text2[4:]"
   ]
  },
  {
   "cell_type": "code",
   "execution_count": null,
   "id": "c8e288ec-2452-438f-9046-663e8562e1d4",
   "metadata": {},
   "outputs": [],
   "source": [
    "help(str.index)"
   ]
  },
  {
   "cell_type": "code",
   "execution_count": null,
   "id": "3fe72a9e",
   "metadata": {},
   "outputs": [],
   "source": [
    "text2.index(\"not found\")"
   ]
  },
  {
   "cell_type": "code",
   "execution_count": null,
   "id": "dbad3796-6fe8-4a1b-8fa7-597b0f2888a5",
   "metadata": {},
   "outputs": [],
   "source": [
    "help(str.find)"
   ]
  },
  {
   "cell_type": "code",
   "execution_count": null,
   "id": "f487bcef",
   "metadata": {},
   "outputs": [],
   "source": [
    "text2.find(\"not found\")"
   ]
  },
  {
   "cell_type": "code",
   "execution_count": null,
   "id": "803e7acf",
   "metadata": {},
   "outputs": [],
   "source": [
    "text2.find(\" is \")"
   ]
  },
  {
   "cell_type": "code",
   "execution_count": null,
   "id": "b9de6922",
   "metadata": {},
   "outputs": [],
   "source": [
    "# how many times does a substring occur in text2?\n",
    "\n",
    "text2.count(\"is\")"
   ]
  },
  {
   "cell_type": "code",
   "execution_count": null,
   "id": "a45099cb",
   "metadata": {},
   "outputs": [],
   "source": []
  },
  {
   "cell_type": "markdown",
   "id": "37e58a0d",
   "metadata": {},
   "source": [
    "### Different types of text content\n"
   ]
  },
  {
   "cell_type": "code",
   "execution_count": null,
   "id": "cd15d35d",
   "metadata": {},
   "outputs": [],
   "source": [
    "text_str = \"Just a string\"\n",
    "text_alpha = \"Nospaceshere\"\n",
    "text_num = \"123456\"\n",
    "text_alnum = \"Password123\"\n",
    "text_upper = \"THIS IS IMPORTANT\"\n",
    "text_lower = \"nothing to see here\"\n",
    "text_whitespace = \"   \\t \""
   ]
  },
  {
   "cell_type": "code",
   "execution_count": null,
   "id": "d2bc6df7-ae74-4207-a205-de6f36cf9cb1",
   "metadata": {},
   "outputs": [],
   "source": [
    "help(str.isalpha)"
   ]
  },
  {
   "cell_type": "code",
   "execution_count": null,
   "id": "9b50ef35",
   "metadata": {},
   "outputs": [],
   "source": [
    "text_alpha.isalpha()"
   ]
  },
  {
   "cell_type": "code",
   "execution_count": null,
   "id": "2f9ee5d0",
   "metadata": {},
   "outputs": [],
   "source": [
    "# False, because of whitespace characters\n",
    "text_str.isalpha()"
   ]
  },
  {
   "cell_type": "code",
   "execution_count": null,
   "id": "b79498a1",
   "metadata": {},
   "outputs": [],
   "source": [
    "text_num.isnumeric()"
   ]
  },
  {
   "cell_type": "code",
   "execution_count": null,
   "id": "c5fd92cc",
   "metadata": {},
   "outputs": [],
   "source": [
    "# False, because the string contains a dot\n",
    "\"123.45\".isnumeric()"
   ]
  },
  {
   "cell_type": "code",
   "execution_count": null,
   "id": "b89c494d",
   "metadata": {},
   "outputs": [],
   "source": [
    "text_alnum.isalnum()"
   ]
  },
  {
   "cell_type": "code",
   "execution_count": null,
   "id": "4d5e6f96",
   "metadata": {},
   "outputs": [],
   "source": [
    "text_upper.isupper()"
   ]
  },
  {
   "cell_type": "code",
   "execution_count": null,
   "id": "4d1000a1",
   "metadata": {},
   "outputs": [],
   "source": [
    "text_lower.islower()"
   ]
  },
  {
   "cell_type": "code",
   "execution_count": null,
   "id": "831aaa94",
   "metadata": {},
   "outputs": [],
   "source": [
    "text_whitespace.isspace()"
   ]
  },
  {
   "cell_type": "code",
   "execution_count": null,
   "id": "11f8b259",
   "metadata": {},
   "outputs": [],
   "source": []
  },
  {
   "cell_type": "markdown",
   "id": "923f02d8",
   "metadata": {},
   "source": [
    "### Justifying strings"
   ]
  },
  {
   "cell_type": "code",
   "execution_count": null,
   "id": "59f7da39",
   "metadata": {},
   "outputs": [],
   "source": [
    "text3 = \"123\"\n",
    "text3"
   ]
  },
  {
   "cell_type": "code",
   "execution_count": null,
   "id": "b64e26bf",
   "metadata": {},
   "outputs": [],
   "source": [
    "text4 = \"567890\""
   ]
  },
  {
   "cell_type": "code",
   "execution_count": null,
   "id": "2cdd1e81",
   "metadata": {},
   "outputs": [],
   "source": [
    "text3.ljust(10)"
   ]
  },
  {
   "cell_type": "code",
   "execution_count": null,
   "id": "aa5e479e",
   "metadata": {},
   "outputs": [],
   "source": [
    "text3.center(10)"
   ]
  },
  {
   "cell_type": "code",
   "execution_count": null,
   "id": "434a997e",
   "metadata": {},
   "outputs": [],
   "source": [
    "print(text3.rjust(10))\n",
    "print(text4.rjust(10))"
   ]
  },
  {
   "cell_type": "code",
   "execution_count": null,
   "id": "6555babc",
   "metadata": {},
   "outputs": [],
   "source": []
  },
  {
   "cell_type": "markdown",
   "id": "eb2efde8",
   "metadata": {},
   "source": [
    "## Exceptions, Error Hadling\n",
    "\n",
    "Exceptions and try/except commands let us handle (\"catch\") error situations.\n",
    "\n",
    "- https://docs.python.org/3/tutorial/errors.html\n",
    "- https://realpython.com/python-exceptions/"
   ]
  },
  {
   "cell_type": "code",
   "execution_count": null,
   "id": "72c45856",
   "metadata": {},
   "outputs": [],
   "source": [
    "# Syntax errors (found before a program is run)\n",
    "\n",
    "print(\"Missing end bracket\""
   ]
  },
  {
   "cell_type": "code",
   "execution_count": null,
   "id": "84134ba2",
   "metadata": {},
   "outputs": [],
   "source": [
    "text"
   ]
  },
  {
   "cell_type": "code",
   "execution_count": null,
   "id": "7c8dc717",
   "metadata": {},
   "outputs": [],
   "source": [
    "# Exceptions (raised when program is run)\n",
    "# in this case: can not convert this string to an integer\n",
    "\n",
    "print(int(text))"
   ]
  },
  {
   "cell_type": "code",
   "execution_count": null,
   "id": "14c72913",
   "metadata": {},
   "outputs": [],
   "source": [
    "print(int(\"123\"))"
   ]
  },
  {
   "cell_type": "code",
   "execution_count": null,
   "id": "338cc135",
   "metadata": {},
   "outputs": [],
   "source": [
    "int(\"123.45\")"
   ]
  },
  {
   "cell_type": "code",
   "execution_count": null,
   "id": "d45e2d99",
   "metadata": {},
   "outputs": [],
   "source": [
    "# Division by 0 error\n",
    "\n",
    "print(100/0)"
   ]
  },
  {
   "cell_type": "code",
   "execution_count": null,
   "id": "35bf8d5d",
   "metadata": {},
   "outputs": [],
   "source": [
    "# We can catch exceptions and do something with them\n",
    "\n",
    "try:\n",
    "    result = 100/0\n",
    "    print(result)\n",
    "    \n",
    "except ZeroDivisionError as error:\n",
    "    print(\"Can not divide by 0\")\n",
    "    \n",
    "print(\"Continue executing the program\")"
   ]
  },
  {
   "cell_type": "code",
   "execution_count": null,
   "id": "8b815aca",
   "metadata": {},
   "outputs": [],
   "source": [
    "# \"else\" block is executed if there was no exception\n",
    "\n",
    "n = 2\n",
    "\n",
    "try:\n",
    "    result = 100/n\n",
    "    \n",
    "except ZeroDivisionError as error:\n",
    "    print(\"Can not divide by 0\")\n",
    "    \n",
    "else:\n",
    "    print(\"In 'else' block.\")\n",
    "    print(\"Result is\", result)\n",
    "    "
   ]
  },
  {
   "cell_type": "code",
   "execution_count": null,
   "id": "7fd4dcac",
   "metadata": {},
   "outputs": [],
   "source": [
    "a = input(\"Enter an integer value: \")\n",
    "\n",
    "try:\n",
    "    b = int(a)\n",
    "    \n",
    "except ValueError:\n",
    "    print(\"Text must be an integer value\")\n"
   ]
  },
  {
   "cell_type": "code",
   "execution_count": null,
   "id": "b34a3d5e",
   "metadata": {},
   "outputs": [],
   "source": [
    "b"
   ]
  },
  {
   "cell_type": "markdown",
   "id": "6d50cada",
   "metadata": {},
   "source": [
    "### Raising exceptions"
   ]
  },
  {
   "cell_type": "code",
   "execution_count": null,
   "id": "26456221",
   "metadata": {},
   "outputs": [],
   "source": [
    "# Your code may also raise exceptions\n",
    "\n",
    "i = -5\n",
    "\n",
    "if i < 1:\n",
    "    raise Exception(\"Must be a positive number\")"
   ]
  },
  {
   "cell_type": "code",
   "execution_count": null,
   "id": "74d1f9a2",
   "metadata": {},
   "outputs": [],
   "source": [
    "def test_pos_num(arg):\n",
    "    \n",
    "    if arg < 1:\n",
    "        raise Exception(\"Must be a positive number\")"
   ]
  },
  {
   "cell_type": "code",
   "execution_count": null,
   "id": "b4c4a63e",
   "metadata": {},
   "outputs": [],
   "source": [
    "test_pos_num(-1)"
   ]
  },
  {
   "cell_type": "code",
   "execution_count": null,
   "id": "cd1061c0",
   "metadata": {},
   "outputs": [],
   "source": [
    "# Let's catch this exception\n",
    "\n",
    "try:\n",
    "    test_pos_num(i)\n",
    "    \n",
    "except Exception as error:\n",
    "    print(error)\n",
    "    \n",
    "print(\"Program continues running.\")"
   ]
  },
  {
   "cell_type": "markdown",
   "id": "508f7d75",
   "metadata": {},
   "source": [
    "### Exercise\n",
    "\n",
    "Write a program that asks a user to input an integer value.\n",
    "- if the value is an integer, print this value\n",
    "- if it is not an integer, print an error message and ask the user to input an integer number again (until they input a valid integer value)"
   ]
  },
  {
   "cell_type": "code",
   "execution_count": null,
   "id": "3b70fdf8-6113-41a9-af32-411d283bbfd5",
   "metadata": {},
   "outputs": [],
   "source": [
    "\n",
    "    "
   ]
  },
  {
   "cell_type": "markdown",
   "id": "32ea7348",
   "metadata": {},
   "source": [
    "## File Input / Output\n",
    "\n",
    "- https://docs.python.org/3/tutorial/inputoutput.html#reading-and-writing-files\n",
    "- [Chapter 9 – Reading and Writing Files](https://automatetheboringstuff.com/2e/chapter9/) (Automate the Boring Stuff)"
   ]
  },
  {
   "cell_type": "markdown",
   "id": "416a4f0b",
   "metadata": {},
   "source": [
    "We can use Jupyter `%%writefile` to create an example file to work with.\n",
    "\n",
    "We may also want to check what is the current directory (where the file will be created)."
   ]
  },
  {
   "cell_type": "code",
   "execution_count": null,
   "id": "4c43e6c0",
   "metadata": {},
   "outputs": [],
   "source": [
    "# uncomment the next line to check what is the current directory\n",
    "#%pwd"
   ]
  },
  {
   "cell_type": "code",
   "execution_count": null,
   "id": "25e5910c",
   "metadata": {},
   "outputs": [],
   "source": [
    "%%writefile somefile.txt\n",
    "This is an example file\n",
    "that we can experiment\n",
    "with."
   ]
  },
  {
   "cell_type": "code",
   "execution_count": null,
   "id": "43466d4a",
   "metadata": {},
   "outputs": [],
   "source": [
    "## Linux and Mac\n",
    "#%ls\n",
    "\n",
    "## Windows\n",
    "#!dir"
   ]
  },
  {
   "cell_type": "markdown",
   "id": "5bc75ad3-e6b5-4251-8ac6-86a9fdcfd773",
   "metadata": {},
   "source": [
    "### Directories and file paths\n",
    "\n",
    "- https://realpython.com/python-pathlib/\n",
    "- [Chapter 9 – Reading and Writing Files](https://automatetheboringstuff.com/2e/chapter9/) (Automate the Boring Stuff)"
   ]
  },
  {
   "cell_type": "code",
   "execution_count": null,
   "id": "1639eb95-74ed-4a46-bd51-c9ac14f60253",
   "metadata": {},
   "outputs": [],
   "source": [
    "# let's import the Path class\n",
    "from pathlib import Path"
   ]
  },
  {
   "cell_type": "code",
   "execution_count": null,
   "id": "161b0c78-b68e-4e95-aca8-8c05ee568a5d",
   "metadata": {},
   "outputs": [],
   "source": [
    "# now we can make a Path for the current directory (.)\n",
    "my_path = Path(\".\")"
   ]
  },
  {
   "cell_type": "code",
   "execution_count": null,
   "id": "9fcd3e40-75e5-4a77-99ae-d37f4816e932",
   "metadata": {},
   "outputs": [],
   "source": [
    "# ... and list contents of this directory (but the list is not ordered)\n",
    "\n",
    "for item in my_path.iterdir():\n",
    "    print(item)"
   ]
  },
  {
   "cell_type": "code",
   "execution_count": null,
   "id": "3cce0722-17c6-498a-9737-78a940d30b06",
   "metadata": {},
   "outputs": [],
   "source": [
    "# let's order the file list\n",
    "\n",
    "for item in sorted(my_path.iterdir()):\n",
    "    print(item)"
   ]
  },
  {
   "cell_type": "code",
   "execution_count": null,
   "id": "90e39158-966c-460f-a550-12286567a2b9",
   "metadata": {},
   "outputs": [],
   "source": [
    "# .glob() method lets us look for files matching the given pattern\n",
    "# * = means any text\n",
    "\n",
    "for item in my_path.glob(\"*.txt\"):\n",
    "    print(item)"
   ]
  },
  {
   "cell_type": "code",
   "execution_count": null,
   "id": "f4dae894-6bfc-42f5-af21-801ece8dc524",
   "metadata": {},
   "outputs": [],
   "source": [
    "# we can also look for files in subdirectories of the given directory\n",
    "\n",
    "# .. = the directory \"above\" the current directory in the directory tree\n",
    "my_path2 = Path(\"..\")\n",
    "\n",
    "for item in my_path2.glob(\"**/05*\"):\n",
    "    print(item)"
   ]
  },
  {
   "cell_type": "markdown",
   "id": "550981d7",
   "metadata": {},
   "source": [
    "### Reading a file\n",
    "\n",
    "Now that we have found some files, we can look at reading and writing files."
   ]
  },
  {
   "cell_type": "code",
   "execution_count": null,
   "id": "1df32653",
   "metadata": {},
   "outputs": [],
   "source": [
    "fname = \"somefile.txt\""
   ]
  },
  {
   "cell_type": "code",
   "execution_count": null,
   "id": "8eae44f2",
   "metadata": {},
   "outputs": [],
   "source": [
    "file = open(fname, encoding=\"utf-8\")"
   ]
  },
  {
   "cell_type": "code",
   "execution_count": null,
   "id": "5f3dc3b2",
   "metadata": {},
   "outputs": [],
   "source": [
    "help(file)"
   ]
  },
  {
   "cell_type": "code",
   "execution_count": null,
   "id": "805ea409-4df8-48c7-ac19-fe3db01563c8",
   "metadata": {},
   "outputs": [],
   "source": [
    "help(file.read)"
   ]
  },
  {
   "cell_type": "code",
   "execution_count": null,
   "id": "49d67702",
   "metadata": {},
   "outputs": [],
   "source": [
    "data = file.read()\n",
    "\n",
    "print(data)"
   ]
  },
  {
   "cell_type": "code",
   "execution_count": null,
   "id": "18cc4463",
   "metadata": {},
   "outputs": [],
   "source": [
    "# it is good practice to close a file when you're done with it\n",
    "file.close()"
   ]
  },
  {
   "cell_type": "markdown",
   "id": "aa2648e9",
   "metadata": {},
   "source": [
    "### Automatically closing a file using `with`"
   ]
  },
  {
   "cell_type": "code",
   "execution_count": null,
   "id": "131a31b0",
   "metadata": {},
   "outputs": [],
   "source": [
    "with open(fname) as file:\n",
    "    data = file.read()\n",
    "\n",
    "# file is closed automatically when the `with` block ends\n",
    "\n",
    "print(data)"
   ]
  },
  {
   "cell_type": "code",
   "execution_count": null,
   "id": "22e834d4",
   "metadata": {},
   "outputs": [],
   "source": [
    "# we can also iterate (go through) a file line by line\n",
    "\n",
    "with open(fname) as file:\n",
    "    \n",
    "    for line in file:\n",
    "        print(\">\", line)"
   ]
  },
  {
   "cell_type": "code",
   "execution_count": null,
   "id": "416b562f-33c4-4176-afc8-d2f95e1bed18",
   "metadata": {},
   "outputs": [],
   "source": [
    "# let's get rid of the empty lines\n",
    "\n",
    "with open(fname) as file:\n",
    "    \n",
    "    for line in file:\n",
    "        line = line.strip()\n",
    "        print(\">\", line)"
   ]
  },
  {
   "cell_type": "markdown",
   "id": "62b72ef7",
   "metadata": {},
   "source": [
    "### Writing a file\n",
    "\n",
    "Note: it is **important** to **close a file** after writing is finished. The `with` command does it automatically."
   ]
  },
  {
   "cell_type": "code",
   "execution_count": null,
   "id": "0790474f",
   "metadata": {},
   "outputs": [],
   "source": [
    "fname_out = \"test123.txt\"\n",
    "\n",
    "text = \"\"\"\n",
    "This is an example text string.\n",
    "\n",
    "f.write(string) writes the contents of string to the file, returning the number of characters written.\n",
    "\"\"\"\n",
    "\n",
    "with open(fname_out, \"w\", encoding=\"utf-8\") as file_out:\n",
    "    \n",
    "    file_out.write(text)\n",
    "    \n",
    "    file_out.write(str(123) + \"\\n\")\n",
    "    file_out.write(str(456) + \"\\n\")    "
   ]
  },
  {
   "cell_type": "code",
   "execution_count": null,
   "id": "152d4f2b",
   "metadata": {},
   "outputs": [],
   "source": []
  },
  {
   "cell_type": "code",
   "execution_count": null,
   "id": "008acffd",
   "metadata": {},
   "outputs": [],
   "source": [
    "# Read a file to see what was written to it\n",
    "\n",
    "def read_file(fname):\n",
    "\n",
    "    with open(fname) as file:\n",
    "        data = file.read()\n",
    "        print(data)\n",
    "        \n",
    "read_file(fname_out)"
   ]
  },
  {
   "cell_type": "code",
   "execution_count": null,
   "id": "0278bc2c",
   "metadata": {},
   "outputs": [],
   "source": [
    "# You can also use print() to write to a file\n",
    "\n",
    "with open(fname_out, \"w\", encoding=\"utf-8\") as file_out:\n",
    "\n",
    "    print(text, file=file_out)\n",
    "    print(str(123), file=file_out)\n",
    "    print(str(789), file=file_out)"
   ]
  },
  {
   "cell_type": "code",
   "execution_count": null,
   "id": "b1fb53cf",
   "metadata": {},
   "outputs": [],
   "source": [
    "read_file(fname_out)"
   ]
  },
  {
   "cell_type": "markdown",
   "id": "a62722e9",
   "metadata": {},
   "source": [
    "### CSV files\n",
    "\n",
    "- https://docs.python.org/3/library/csv.html\n",
    "- https://realpython.com/python-csv/\n",
    "\n",
    "Comma-Separated Values\n",
    "- rows of values (table cells) separated using a \",\" character (or using another separator)\n",
    "- ar komatu (vai citu atdalītāju) atdalītas vērtības\n",
    "\n",
    "---\n",
    "\n",
    "#### Open Data in CSV format\n",
    "\n",
    "Download COVID-19 open dataset (or any other CSV dataset) from data.gov.lv and put it in the current directory:\n",
    "- https://data.gov.lv/dati/lv/dataset/stacionaru-operativie-dati-par-covid19"
   ]
  },
  {
   "cell_type": "code",
   "execution_count": null,
   "id": "824b28c1",
   "metadata": {},
   "outputs": [],
   "source": [
    "fname_csv = \"covidpatients.csv\""
   ]
  },
  {
   "cell_type": "code",
   "execution_count": null,
   "id": "4232b2bd",
   "metadata": {},
   "outputs": [],
   "source": [
    "from itertools import islice"
   ]
  },
  {
   "cell_type": "code",
   "execution_count": null,
   "id": "78b8477d",
   "metadata": {
    "scrolled": true
   },
   "outputs": [],
   "source": [
    "with open(fname_csv, encoding=\"utf-8\") as file_csv:\n",
    "\n",
    "    # here we use islice() to limit the input data to 10 records\n",
    "    first_10_rows = islice(file_csv, 10)\n",
    "    \n",
    "    for line in first_10_rows:\n",
    "        print(line)"
   ]
  },
  {
   "cell_type": "code",
   "execution_count": null,
   "id": "2b05f444",
   "metadata": {},
   "outputs": [],
   "source": [
    "# A-ha! This time \";\" is the separator character"
   ]
  },
  {
   "cell_type": "code",
   "execution_count": null,
   "id": "59f40212",
   "metadata": {},
   "outputs": [],
   "source": [
    "# Let's read it as a CSV file\n",
    "\n",
    "import csv\n",
    "\n",
    "with open(fname_csv, encoding=\"utf-8\") as file_csv:\n",
    "    \n",
    "    rdr = csv.reader(file_csv)\n",
    "    \n",
    "    rdr_10_rows = islice(rdr, 10)\n",
    "    \n",
    "    for row in rdr_10_rows:\n",
    "        print(row)\n",
    "        "
   ]
  },
  {
   "cell_type": "code",
   "execution_count": null,
   "id": "f0046e16",
   "metadata": {
    "scrolled": true
   },
   "outputs": [],
   "source": [
    "# Separator is \";\"\n",
    "\n",
    "data = []\n",
    "\n",
    "with open(fname_csv, encoding=\"utf-8\") as file_csv:\n",
    "    \n",
    "    rdr = csv.reader(file_csv, delimiter=\";\")\n",
    "    \n",
    "    rdr_10_rows = islice(rdr, 10)\n",
    "    \n",
    "    for row in rdr_10_rows:\n",
    "        print(row)\n",
    "        data.append(row)\n",
    "    "
   ]
  },
  {
   "cell_type": "code",
   "execution_count": null,
   "id": "a3eb9fc9",
   "metadata": {},
   "outputs": [],
   "source": [
    "data[0][2]"
   ]
  },
  {
   "cell_type": "code",
   "execution_count": null,
   "id": "8314feea",
   "metadata": {},
   "outputs": [],
   "source": [
    "data[1][2]"
   ]
  },
  {
   "cell_type": "code",
   "execution_count": null,
   "id": "fa233f53",
   "metadata": {},
   "outputs": [],
   "source": [
    "from pprint import pprint\n",
    "\n",
    "pprint(data[:3])"
   ]
  },
  {
   "cell_type": "code",
   "execution_count": null,
   "id": "66f667ec",
   "metadata": {},
   "outputs": [],
   "source": [
    "# Writing a CSV file\n",
    "\n",
    "fname_out = \"test_data.csv\"\n",
    "\n",
    "with open(fname_out, \"w\") as file_out:\n",
    "    \n",
    "    writer = csv.writer(file_out)\n",
    "    \n",
    "    for row in data:\n",
    "        writer.writerow(row)\n",
    "        "
   ]
  },
  {
   "cell_type": "code",
   "execution_count": null,
   "id": "c872b26c",
   "metadata": {},
   "outputs": [],
   "source": [
    "# we defined the read_file() function earlier \n",
    "read_file(fname_out)"
   ]
  },
  {
   "cell_type": "markdown",
   "id": "7312f5d8",
   "metadata": {},
   "source": [
    "### Reading files using Pandas\n",
    "\n",
    "- https://realpython.com/python-csv/#parsing-csv-files-with-the-pandas-library\n",
    "\n",
    "- https://pandas.pydata.org/docs/reference/api/pandas.read_csv.html\n",
    "- https://pandas.pydata.org/docs/reference/api/pandas.DataFrame.to_csv.html#pandas.DataFrame.to_csv"
   ]
  },
  {
   "cell_type": "code",
   "execution_count": null,
   "id": "4b1bc44f-208c-4d29-8e58-1ac0bfd45b7a",
   "metadata": {},
   "outputs": [],
   "source": [
    "#!pip install pandas"
   ]
  },
  {
   "cell_type": "code",
   "execution_count": null,
   "id": "d7a66a70",
   "metadata": {},
   "outputs": [],
   "source": [
    "import pandas as pd"
   ]
  },
  {
   "cell_type": "code",
   "execution_count": null,
   "id": "a281ac25",
   "metadata": {},
   "outputs": [],
   "source": [
    "print(fname_csv)"
   ]
  },
  {
   "cell_type": "code",
   "execution_count": null,
   "id": "274ec9f8",
   "metadata": {},
   "outputs": [],
   "source": [
    "dataframe = pd.read_csv(fname_csv, delimiter=\";\")\n",
    "\n",
    "dataframe[:10]"
   ]
  },
  {
   "cell_type": "code",
   "execution_count": null,
   "id": "ed7c9cf6",
   "metadata": {},
   "outputs": [],
   "source": [
    "dataframe.info()"
   ]
  },
  {
   "cell_type": "code",
   "execution_count": null,
   "id": "73371b09",
   "metadata": {},
   "outputs": [],
   "source": [
    "dataframe.head()"
   ]
  },
  {
   "cell_type": "code",
   "execution_count": null,
   "id": "2a166103",
   "metadata": {},
   "outputs": [],
   "source": [
    "dataframe[2:4]"
   ]
  },
  {
   "cell_type": "code",
   "execution_count": null,
   "id": "a9adbfe4",
   "metadata": {},
   "outputs": [],
   "source": [
    "df2 = dataframe[[\"ĀI nosaukums\", \"Kopā\"]]\n",
    "\n",
    "df2[:5]"
   ]
  },
  {
   "cell_type": "code",
   "execution_count": null,
   "id": "78af64e9",
   "metadata": {},
   "outputs": [],
   "source": [
    "dataframe[\"Kopā\"].sum()"
   ]
  },
  {
   "cell_type": "code",
   "execution_count": null,
   "id": "c81540cf",
   "metadata": {},
   "outputs": [],
   "source": [
    "# Writing to a CSV file\n",
    "\n",
    "fname_out_pandas = \"test_pandas.csv\"\n",
    "df2.to_csv(fname_out_pandas)"
   ]
  },
  {
   "cell_type": "code",
   "execution_count": null,
   "id": "55b3e27c",
   "metadata": {},
   "outputs": [],
   "source": [
    "# Print contents of the CSV file\n",
    "\n",
    "with open(fname_out_pandas, encoding=\"utf-8\") as in_file:\n",
    "    \n",
    "    data = islice(in_file, 6)\n",
    "    \n",
    "    for line in data:\n",
    "        print(line, end=\"\")"
   ]
  },
  {
   "cell_type": "code",
   "execution_count": null,
   "id": "a1b3b9da",
   "metadata": {},
   "outputs": [],
   "source": []
  },
  {
   "cell_type": "markdown",
   "id": "ff5e7d99-20ee-48fe-95ff-f441e4c6969b",
   "metadata": {},
   "source": [
    "## Summary\n",
    "\n",
    "- Text strings (continued)\n",
    "- Exceptions and error handling\n",
    "- File input / output\n",
    "  - CSV files "
   ]
  }
 ],
 "metadata": {
  "kernelspec": {
   "display_name": "Python 3 (ipykernel)",
   "language": "python",
   "name": "python3"
  },
  "language_info": {
   "codemirror_mode": {
    "name": "ipython",
    "version": 3
   },
   "file_extension": ".py",
   "mimetype": "text/x-python",
   "name": "python",
   "nbconvert_exporter": "python",
   "pygments_lexer": "ipython3",
   "version": "3.12.4"
  }
 },
 "nbformat": 4,
 "nbformat_minor": 5
}
