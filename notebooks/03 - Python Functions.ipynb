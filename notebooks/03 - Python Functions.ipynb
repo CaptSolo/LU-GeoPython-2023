{
 "cells": [
  {
   "cell_type": "markdown",
   "id": "215dc109",
   "metadata": {},
   "source": [
    "# Lists (recap)"
   ]
  },
  {
   "cell_type": "markdown",
   "id": "316cefbf",
   "metadata": {},
   "source": [
    "* List methods\n",
    "* `len()` function\n",
    "* Adding, multiplying lists\n",
    "* \"`in`\" and \"`not in`\" = checking if some element is part of the list\n",
    "* Looping over a list\n",
    " * `for item in list:`\n",
    " * `for i in range(len(list)):`\n",
    " * using `enumerate` to get list element numbers"
   ]
  },
  {
   "cell_type": "code",
   "execution_count": 8,
   "id": "bd7b3039",
   "metadata": {},
   "outputs": [],
   "source": [
    "sar1 = [\"ābols\", \"bumbieris\", \"citrons\"]"
   ]
  },
  {
   "cell_type": "code",
   "execution_count": 9,
   "id": "255b312e",
   "metadata": {},
   "outputs": [
    {
     "data": {
      "text/plain": [
       "3"
      ]
     },
     "execution_count": 9,
     "metadata": {},
     "output_type": "execute_result"
    }
   ],
   "source": [
    "len(sar1)"
   ]
  },
  {
   "cell_type": "code",
   "execution_count": 10,
   "id": "db48d490",
   "metadata": {},
   "outputs": [
    {
     "name": "stdout",
     "output_type": "stream",
     "text": [
      "citrons\n"
     ]
    }
   ],
   "source": [
    "print(sar1[2])"
   ]
  },
  {
   "cell_type": "code",
   "execution_count": 11,
   "id": "9d6c15de",
   "metadata": {},
   "outputs": [],
   "source": [
    "sar2 = [\"piens\", \"kefīrs\"]"
   ]
  },
  {
   "cell_type": "code",
   "execution_count": 12,
   "id": "3f60ed9b",
   "metadata": {},
   "outputs": [
    {
     "name": "stdout",
     "output_type": "stream",
     "text": [
      "['ābols', 'bumbieris', 'citrons', 'piens', 'kefīrs']\n"
     ]
    }
   ],
   "source": [
    "print(sar1 + sar2)"
   ]
  },
  {
   "cell_type": "code",
   "execution_count": 13,
   "id": "7e5aab7f",
   "metadata": {},
   "outputs": [
    {
     "name": "stdout",
     "output_type": "stream",
     "text": [
      "['piens', 'kefīrs', 'piens', 'kefīrs', 'piens', 'kefīrs']\n"
     ]
    }
   ],
   "source": [
    "print(sar2 * 3)"
   ]
  },
  {
   "cell_type": "code",
   "execution_count": 14,
   "id": "aaa8d988",
   "metadata": {},
   "outputs": [],
   "source": [
    "sar1.append(\"persiks\")"
   ]
  },
  {
   "cell_type": "code",
   "execution_count": 15,
   "id": "b500a4a2",
   "metadata": {},
   "outputs": [
    {
     "data": {
      "text/plain": [
       "['ābols', 'bumbieris', 'citrons', 'persiks']"
      ]
     },
     "execution_count": 15,
     "metadata": {},
     "output_type": "execute_result"
    }
   ],
   "source": [
    "sar1"
   ]
  },
  {
   "cell_type": "code",
   "execution_count": 17,
   "id": "65b4256b",
   "metadata": {},
   "outputs": [
    {
     "name": "stdout",
     "output_type": "stream",
     "text": [
      "Help on method_descriptor:\n",
      "\n",
      "sort(self, /, *, key=None, reverse=False)\n",
      "    Sort the list in ascending order and return None.\n",
      "    \n",
      "    The sort is in-place (i.e. the list itself is modified) and stable (i.e. the\n",
      "    order of two equal elements is maintained).\n",
      "    \n",
      "    If a key function is given, apply it once to each list item and sort them,\n",
      "    ascending or descending, according to their function values.\n",
      "    \n",
      "    The reverse flag can be set to sort in descending order.\n",
      "\n"
     ]
    }
   ],
   "source": [
    "help(list.sort)"
   ]
  },
  {
   "cell_type": "code",
   "execution_count": 18,
   "id": "f2681a25-43ee-4927-a998-7230065e41db",
   "metadata": {},
   "outputs": [],
   "source": [
    "sar1.append(\"kola\")"
   ]
  },
  {
   "cell_type": "code",
   "execution_count": 19,
   "id": "edfee02c",
   "metadata": {},
   "outputs": [],
   "source": [
    "sar1.sort()"
   ]
  },
  {
   "cell_type": "code",
   "execution_count": 20,
   "id": "8144c7b6",
   "metadata": {},
   "outputs": [
    {
     "data": {
      "text/plain": [
       "['bumbieris', 'citrons', 'kola', 'persiks', 'ābols']"
      ]
     },
     "execution_count": 20,
     "metadata": {},
     "output_type": "execute_result"
    }
   ],
   "source": [
    "sar1"
   ]
  },
  {
   "cell_type": "code",
   "execution_count": 21,
   "id": "fb2cb440",
   "metadata": {},
   "outputs": [
    {
     "data": {
      "text/plain": [
       "True"
      ]
     },
     "execution_count": 21,
     "metadata": {},
     "output_type": "execute_result"
    }
   ],
   "source": [
    "\"citrons\" in sar1"
   ]
  },
  {
   "cell_type": "code",
   "execution_count": 22,
   "id": "9c26d1a8",
   "metadata": {},
   "outputs": [
    {
     "name": "stdout",
     "output_type": "stream",
     "text": [
      "Jā, 'citrons' ir sarakstā sar1!\n"
     ]
    }
   ],
   "source": [
    "if \"citrons\" in sar1:\n",
    "    print(\"Jā, 'citrons' ir sarakstā sar1!\")"
   ]
  },
  {
   "cell_type": "code",
   "execution_count": 23,
   "id": "bdb5081d",
   "metadata": {},
   "outputs": [
    {
     "data": {
      "text/plain": [
       "True"
      ]
     },
     "execution_count": 23,
     "metadata": {},
     "output_type": "execute_result"
    }
   ],
   "source": [
    "\"citrons\" not in sar2"
   ]
  },
  {
   "cell_type": "code",
   "execution_count": 24,
   "id": "3c3e4484",
   "metadata": {},
   "outputs": [
    {
     "name": "stdout",
     "output_type": "stream",
     "text": [
      "bumbieris\n",
      "citrons\n",
      "kola\n",
      "persiks\n",
      "ābols\n"
     ]
    }
   ],
   "source": [
    "for elements in sar1:\n",
    "    print(elements)"
   ]
  },
  {
   "cell_type": "code",
   "execution_count": null,
   "id": "f5ce1373",
   "metadata": {},
   "outputs": [],
   "source": [
    "range(len(sar1))"
   ]
  },
  {
   "cell_type": "code",
   "execution_count": null,
   "id": "9c3caf42",
   "metadata": {},
   "outputs": [],
   "source": [
    "list(range(len(sar1)))"
   ]
  },
  {
   "cell_type": "code",
   "execution_count": null,
   "id": "74285d23",
   "metadata": {},
   "outputs": [],
   "source": [
    "for index in range(len(sar1)):\n",
    "    print(sar1[index])"
   ]
  },
  {
   "cell_type": "code",
   "execution_count": 25,
   "id": "dc7a6233",
   "metadata": {},
   "outputs": [
    {
     "name": "stdout",
     "output_type": "stream",
     "text": [
      "0: bumbieris\n",
      "1: citrons\n",
      "2: kola\n",
      "3: persiks\n",
      "4: ābols\n"
     ]
    }
   ],
   "source": [
    "for numurs, elements in enumerate(sar1):\n",
    "    print(f\"{numurs}: {elements}\")"
   ]
  },
  {
   "cell_type": "markdown",
   "id": "f17fe61c-89f9-4be9-92ce-0e12cfe68f57",
   "metadata": {},
   "source": [
    "---\n",
    "### Exception handling\n",
    "\n",
    "Python may \"raise\" exceptions in error situations. These exception situations can be \"caught\" using Python commands `try` and `except`:\n",
    "\n",
    "```\n",
    "try:\n",
    "    <Python commands that may raise an exception>\n",
    "except:\n",
    "    <commands to execute if an exception occurred>\n",
    "```\n",
    "\n",
    "Exception handling can be useful if we want to, for example, ensure that a user enters an integer (and not a text string)."
   ]
  },
  {
   "cell_type": "code",
   "execution_count": null,
   "id": "aa1d65eb-acf9-4d21-abd1-e8dec6c20359",
   "metadata": {},
   "outputs": [],
   "source": [
    "5/0"
   ]
  },
  {
   "cell_type": "code",
   "execution_count": null,
   "id": "1df6a88b-f0f0-444d-a55d-2618703755b6",
   "metadata": {},
   "outputs": [],
   "source": [
    "val = \"aaa\"\n",
    "\n",
    "int_val = int(val)"
   ]
  },
  {
   "cell_type": "code",
   "execution_count": null,
   "id": "1b05ae6c-f6c7-44d8-9e47-624397606031",
   "metadata": {},
   "outputs": [],
   "source": [
    "var = \"aaa\"\n",
    "\n",
    "try:\n",
    "    int_val = int(val)\n",
    "except ValueError:\n",
    "    print(\"Please enter an integer value.\")\n",
    "    "
   ]
  },
  {
   "cell_type": "markdown",
   "id": "979ed44d-8690-4ee9-9ceb-3c5c16e0f155",
   "metadata": {},
   "source": [
    "---\n",
    "`while True:` creates an infinite cycle\n",
    " - but we can exit this cycle using a `break` command"
   ]
  },
  {
   "cell_type": "code",
   "execution_count": null,
   "id": "f14d1add-8546-4b80-9fa1-85ae7dce5f93",
   "metadata": {},
   "outputs": [],
   "source": [
    "# let's put this cycle together with exception handling\n",
    "# to ensure a user enters an integer value\n",
    "\n",
    "while True:\n",
    "\n",
    "    try:\n",
    "        val = input(\"Please enter an integer value: \")\n",
    "        int_val = int(val)\n",
    "\n",
    "        # this command will exit the cycle\n",
    "        break\n",
    "        \n",
    "    except ValueError:\n",
    "        print(\"This is not an integer value!\")"
   ]
  },
  {
   "cell_type": "markdown",
   "id": "c5e143b4",
   "metadata": {},
   "source": [
    "---\n",
    "### Python standard library (\"Batteries included\")\n",
    "\n",
    "https://docs.python.org/3/library/\n",
    "\n",
    "Random module:\n",
    "https://docs.python.org/3/library/random.html\n"
   ]
  },
  {
   "cell_type": "code",
   "execution_count": null,
   "id": "723aaa9a",
   "metadata": {},
   "outputs": [],
   "source": [
    "import random"
   ]
  },
  {
   "cell_type": "code",
   "execution_count": null,
   "id": "206c6d32",
   "metadata": {},
   "outputs": [],
   "source": [
    "for name in dir(random):\n",
    "    if not name.startswith(\"_\"):\n",
    "        print(name)"
   ]
  },
  {
   "cell_type": "code",
   "execution_count": null,
   "id": "37f11513",
   "metadata": {},
   "outputs": [],
   "source": [
    "help(random.shuffle)"
   ]
  },
  {
   "cell_type": "code",
   "execution_count": null,
   "id": "e025fd01",
   "metadata": {},
   "outputs": [],
   "source": [
    "help(random.choice)"
   ]
  },
  {
   "cell_type": "code",
   "execution_count": null,
   "id": "d8152d69",
   "metadata": {},
   "outputs": [],
   "source": [
    "my_list = [\"pear\", \"apple\", \"rose\", \"tulip\", \"mango\"]"
   ]
  },
  {
   "cell_type": "code",
   "execution_count": null,
   "id": "8072ae93",
   "metadata": {},
   "outputs": [],
   "source": [
    "print(random.choice(my_list))\n",
    "print(random.choice(my_list))\n",
    "print(random.choice(my_list))\n",
    "print(random.choice(my_list))"
   ]
  },
  {
   "cell_type": "markdown",
   "id": "51ff5c32",
   "metadata": {},
   "source": [
    "---\n",
    "\n",
    "## Practical Exercises\n",
    "\n",
    "* Print elements of a list\n",
    "  * Just print all the elements\n",
    "  * Print a line with element numbers and values: \"Element #1 = pear\", ...\n",
    "* Shuffle the list\n",
    "* Print list elements again\n",
    "  * If we have to do this many times, maybe define it as a function?\n",
    " "
   ]
  },
  {
   "cell_type": "code",
   "execution_count": null,
   "id": "902c5034-e886-4624-a5b7-7c1b69225416",
   "metadata": {},
   "outputs": [],
   "source": []
  },
  {
   "cell_type": "code",
   "execution_count": null,
   "id": "4210068f-131a-4328-9bfb-859ff0f0dca0",
   "metadata": {},
   "outputs": [],
   "source": []
  },
  {
   "cell_type": "code",
   "execution_count": null,
   "id": "f45b70a1-2806-4087-9408-c88990503344",
   "metadata": {},
   "outputs": [],
   "source": []
  },
  {
   "cell_type": "markdown",
   "id": "48c03df3",
   "metadata": {},
   "source": [
    "---\n",
    "\n",
    "# Python Functions"
   ]
  },
  {
   "cell_type": "markdown",
   "id": "db92351c",
   "metadata": {},
   "source": [
    "## What is a function?\n",
    "\n",
    "* A function is a block of organized, reusable code that is used to perform a single, related action.\n",
    "* Functions:\n",
    " * [usually] have a name (by which they can be called)\n",
    "   * `fun_nosaukums(argumenti)`\n",
    " * may have arguments (values passed into the function)\n",
    " * may perform some operations / calculations / ...\n",
    "   * for example: print something\n",
    " * may have a return value (that we can get back from the function)\n",
    "\n",
    "### DRY - Do not Repeat Yourself principle\n",
    "\n",
    "* *Every piece of knowledge must have a single, unambiguous, authoritative representation within a system.*\n",
    "http://wiki.c2.com/?DontRepeatYourself\n",
    "* Do not write something multiple times if it can be written just once.\n",
    "\n",
    "![Python function declaration](img/function.png)\n",
    "\n",
    "* Functions are like mini-programs = they can do something and you can call them again and again\n",
    "* Code in the function \"body\" starts with an indentation (similar how we used indentation in `if` statements)\n"
   ]
  },
  {
   "cell_type": "code",
   "execution_count": null,
   "id": "ac385f0b",
   "metadata": {},
   "outputs": [],
   "source": [
    "text = \"Daudz teksta\"\n",
    "print(text)\n",
    "print(text)\n",
    "print(text)"
   ]
  },
  {
   "cell_type": "code",
   "execution_count": null,
   "id": "8d4649b1",
   "metadata": {},
   "outputs": [],
   "source": [
    "def print_3x(argument):\n",
    "    print(argument)\n",
    "    print(argument)\n",
    "    print(argument)\n",
    "    \n",
    "# This function prints its argument 3 times. It does not return any value."
   ]
  },
  {
   "cell_type": "code",
   "execution_count": null,
   "id": "ef93dc61",
   "metadata": {},
   "outputs": [],
   "source": [
    "# After a function is defined, we can use it:\n",
    "\n",
    "print_3x(text)"
   ]
  },
  {
   "cell_type": "code",
   "execution_count": null,
   "id": "39e96b0a",
   "metadata": {},
   "outputs": [],
   "source": [
    "print_3x(text)\n",
    "print()   # print is also a function (just it is a built-in Python function) \n",
    "print_3x(text + \" #2\")"
   ]
  },
  {
   "cell_type": "code",
   "execution_count": null,
   "id": "0700d4c2",
   "metadata": {},
   "outputs": [],
   "source": [
    "# It is good to write down what a function does. We will use \"\"\"docstrings\"\"\" for that.\n",
    "# Let's re-define our function (this time with a docstring):\n",
    "\n",
    "def print_3x(argument):\n",
    "    \"\"\"\n",
    "    Print the argument 3 times.\n",
    "    \n",
    "    It's good to have documentation :)\n",
    "    \"\"\"\n",
    "    \n",
    "    print(argument)\n",
    "    print(argument)\n",
    "    print(argument)\n"
   ]
  },
  {
   "cell_type": "code",
   "execution_count": null,
   "id": "ad8bf5db",
   "metadata": {},
   "outputs": [],
   "source": [
    "help(print_3x)"
   ]
  },
  {
   "cell_type": "code",
   "execution_count": null,
   "id": "a0bc8f02",
   "metadata": {},
   "outputs": [],
   "source": [
    "# We can use the \"return\" statement to return a value from a function.\n",
    "# The return statement stops (finishes) function execution.\n",
    "\n",
    "# This function does not have arguments and it does not do much \n",
    "# but it returns a value (= it has a return value)\n",
    "\n",
    "def get_the_answer():\n",
    "    \"\"\"\n",
    "    Return the Answer to the Ultimate Question of Life, the Universe, and Everything.    \n",
    "    \n",
    "    https://en.wikipedia.org/wiki/42_(number)#The_Hitchhiker's_Guide_to_the_Galaxy\n",
    "    \"\"\"\n",
    "\n",
    "    return 42\n",
    "    \n",
    "res = get_the_answer()\n",
    "\n",
    "print(res)"
   ]
  },
  {
   "cell_type": "markdown",
   "id": "2934f766",
   "metadata": {},
   "source": [
    "---\n",
    "\n",
    "## Practical Exercises\n",
    "\n",
    "* Define a function that converts its argument from degrees Celsuis to degrees Fahrenheit\n",
    "* Call this function 2-3 times with different argument values and print the result values\n"
   ]
  },
  {
   "cell_type": "code",
   "execution_count": null,
   "id": "d637771e-7c73-43dd-b85a-4fa94eb5c8cf",
   "metadata": {},
   "outputs": [],
   "source": []
  },
  {
   "cell_type": "code",
   "execution_count": null,
   "id": "b9da2f6b-28ba-4113-b90b-91392c431ec9",
   "metadata": {},
   "outputs": [],
   "source": []
  },
  {
   "cell_type": "code",
   "execution_count": null,
   "id": "455a18ec-2acc-4583-83e2-82291459922a",
   "metadata": {},
   "outputs": [],
   "source": []
  },
  {
   "cell_type": "markdown",
   "id": "76998804",
   "metadata": {},
   "source": [
    "---\n",
    "\n",
    "## Functions (continued)\n",
    "\n",
    "Functions can call other functions:"
   ]
  },
  {
   "cell_type": "code",
   "execution_count": null,
   "id": "50b45b12",
   "metadata": {},
   "outputs": [],
   "source": [
    "def eat():\n",
    "    print(\"  Cooking food.\")\n",
    "    print(\"  Eating food.\")"
   ]
  },
  {
   "cell_type": "code",
   "execution_count": null,
   "id": "efc94295",
   "metadata": {},
   "outputs": [],
   "source": [
    "eat()"
   ]
  },
  {
   "cell_type": "code",
   "execution_count": null,
   "id": "5146c5e5",
   "metadata": {},
   "outputs": [],
   "source": [
    "def eating_time():\n",
    "    print(\"Breakfast:\")\n",
    "    eat()\n",
    "    \n",
    "    print(\"\")\n",
    "    print(\"Lunch:\")\n",
    "    eat()\n",
    "    \n",
    "    print(\"\")\n",
    "    print(\"Dinner:\")\n",
    "    eat()"
   ]
  },
  {
   "cell_type": "code",
   "execution_count": null,
   "id": "1006b245",
   "metadata": {},
   "outputs": [],
   "source": [
    "eating_time()"
   ]
  },
  {
   "cell_type": "code",
   "execution_count": null,
   "id": "3f2f1a86",
   "metadata": {},
   "outputs": [],
   "source": [
    "# We can move printing to the function eat():\n",
    "\n",
    "def eat(meal_name):\n",
    "    \n",
    "    print(meal_name + \":\")\n",
    "    print(\"  Cooking food.\")\n",
    "    print(\"  Eating food.\")\n",
    "    \n",
    "def eating_time():\n",
    "    \n",
    "    eat(\"Breakfast\")\n",
    "    print()\n",
    "    \n",
    "    eat(\"Lunch\")\n",
    "    print()\n",
    "    \n",
    "    eat(\"Dinner:\")\n",
    "\n",
    "# call our function:\n",
    "\n",
    "eating_time()"
   ]
  },
  {
   "cell_type": "markdown",
   "id": "b76c9d44",
   "metadata": {},
   "source": [
    "Functions can even call themselves (that's called [recursion](https://en.wikipedia.org/wiki/Recursion_(computer_science))):\n",
    "* but be careful with it (or you may end up with an infinite loop)"
   ]
  },
  {
   "cell_type": "code",
   "execution_count": null,
   "id": "9f155b90",
   "metadata": {},
   "outputs": [],
   "source": [
    "def count_to_zero(number):\n",
    "\n",
    "    if number < 0:\n",
    "        print(\"Negative values are not allowed!\")\n",
    "        return\n",
    "\n",
    "    if number == 0:\n",
    "        print(\"That's it!\")\n",
    "        return    # we use return here to end function execution\n",
    "        \n",
    "    print(number)\n",
    "    \n",
    "    # recursive function call\n",
    "    count_to_zero(number-1)"
   ]
  },
  {
   "cell_type": "code",
   "execution_count": null,
   "id": "e697dcc6",
   "metadata": {
    "scrolled": true
   },
   "outputs": [],
   "source": [
    "count_to_zero(5)"
   ]
  },
  {
   "cell_type": "code",
   "execution_count": null,
   "id": "2cc90751",
   "metadata": {},
   "outputs": [],
   "source": [
    "count_to_zero(-5)"
   ]
  },
  {
   "cell_type": "code",
   "execution_count": null,
   "id": "47843d48",
   "metadata": {},
   "outputs": [],
   "source": [
    "# We can re-write this function not to use recursion:\n",
    "\n",
    "def count_to_zero_2(number):\n",
    "\n",
    "    if number < 0:\n",
    "        print(\"Negative values are not allowed!\")\n",
    "        return\n",
    "\n",
    "    while number > 0:\n",
    "        print(number)\n",
    "        number = number - 1\n",
    "\n",
    "    print(\"That's it!\")"
   ]
  },
  {
   "cell_type": "code",
   "execution_count": null,
   "id": "994833af",
   "metadata": {},
   "outputs": [],
   "source": [
    "count_to_zero_2(5)"
   ]
  },
  {
   "cell_type": "code",
   "execution_count": null,
   "id": "900aa55e",
   "metadata": {},
   "outputs": [],
   "source": [
    "count_to_zero_2(-5)"
   ]
  },
  {
   "cell_type": "code",
   "execution_count": null,
   "id": "a8edfb23",
   "metadata": {},
   "outputs": [],
   "source": [
    "count_to_zero_2(0)"
   ]
  },
  {
   "cell_type": "markdown",
   "id": "a991b9d4",
   "metadata": {},
   "source": [
    "---"
   ]
  },
  {
   "cell_type": "code",
   "execution_count": null,
   "id": "d8cb241c",
   "metadata": {},
   "outputs": [],
   "source": [
    "# Functions may also have keyword arguments:\n",
    "#  - print function has a \"sep\" keyword argument (also: \"end\", ...)\n",
    "\n",
    "help(print)"
   ]
  },
  {
   "cell_type": "code",
   "execution_count": null,
   "id": "3a6d0011",
   "metadata": {},
   "outputs": [],
   "source": [
    "print(1, 2, 3)\n",
    "print(4, 5, 6)"
   ]
  },
  {
   "cell_type": "code",
   "execution_count": null,
   "id": "f870a86b",
   "metadata": {},
   "outputs": [],
   "source": [
    "print(1, 2, 3, end=\"; \")   # not jumping to a new line here\n",
    "print(4, 5, 6)"
   ]
  },
  {
   "cell_type": "code",
   "execution_count": null,
   "id": "7b70b072",
   "metadata": {},
   "outputs": [],
   "source": [
    "print(1, 2, 3)\n",
    "print()\n",
    "print(1, 2, 3, sep=\", \")   # using a different separator string here"
   ]
  },
  {
   "cell_type": "markdown",
   "id": "f091c2d2",
   "metadata": {},
   "source": [
    "---\n",
    "\n",
    "### Local and global variables (scope)"
   ]
  },
  {
   "cell_type": "code",
   "execution_count": null,
   "id": "3bfbe7d0",
   "metadata": {},
   "outputs": [],
   "source": [
    "global_var = \"Global variable\"\n",
    "\n",
    "# the variables defined in the function are local to the function\n",
    "#  - function arguments are also local (and not \"visible\" globally)\n",
    "\n",
    "def some_function(argument_1):\n",
    "    \n",
    "    local_var = \"Local variable\"\n",
    "    \n",
    "    print(f\"Variable: {local_var}\")\n",
    "    print(f\"Argument: {argument_1}\")\n",
    "    \n",
    "    # we can also use global variable inside a function\n",
    "    #  - but better don't - pass it as an argument instead\n",
    "    print()\n",
    "    print(f\"Global var: {global_var}\")\n",
    "\n",
    "some_function(111)\n"
   ]
  },
  {
   "cell_type": "code",
   "execution_count": null,
   "id": "35f4a4e4",
   "metadata": {},
   "outputs": [],
   "source": [
    "# Outside of the function (in the global scope or \n",
    "# in the scope of another function) we can not \n",
    "# access local variables and arguments:\n",
    "\n",
    "print(f\"Global var: {global_var}\")\n",
    "\n",
    "print(f\"Variable: {local_var}\")"
   ]
  },
  {
   "cell_type": "code",
   "execution_count": null,
   "id": "74cf8ec4",
   "metadata": {},
   "outputs": [],
   "source": [
    "print(f\"Argument: {argument_1}\")"
   ]
  },
  {
   "cell_type": "code",
   "execution_count": null,
   "id": "e9eb5b8f",
   "metadata": {},
   "outputs": [],
   "source": [
    "# Changing a global variable in a function is not that simple\n",
    "# (and you should avoid doing it)\n",
    "\n",
    "def change_global():\n",
    "    \n",
    "    global_var = 111\n",
    "    print(\"...\", global_var)\n",
    "    \n",
    "print(global_var)\n",
    "change_global()\n",
    "print(global_var)"
   ]
  },
  {
   "cell_type": "code",
   "execution_count": null,
   "id": "86e7ea67",
   "metadata": {},
   "outputs": [],
   "source": [
    "def change_global_2():\n",
    "    global global_var\n",
    "    \n",
    "    global_var =  111\n",
    "    \n",
    "print(global_var)\n",
    "change_global_2()\n",
    "print(global_var)"
   ]
  },
  {
   "cell_type": "markdown",
   "id": "7a9d5306",
   "metadata": {},
   "source": [
    "---"
   ]
  },
  {
   "cell_type": "code",
   "execution_count": null,
   "id": "c7d14c84",
   "metadata": {},
   "outputs": [],
   "source": [
    "# A function may have multiple arguments.\n",
    "# The arguments may be of different types.\n",
    "\n",
    "def add(a, b):\n",
    "    return a + b    # returns the sum of arguments"
   ]
  },
  {
   "cell_type": "code",
   "execution_count": null,
   "id": "a31a67d4",
   "metadata": {},
   "outputs": [],
   "source": [
    "print(add(1, 2))\n",
    "\n",
    "print(add(3.14, 2.1))\n",
    "\n",
    "print(add(\"text\", \" here\"))\n",
    "\n",
    "print(add([1, 2, 3], [4, 5]))\n"
   ]
  },
  {
   "cell_type": "code",
   "execution_count": null,
   "id": "5e5b82d0",
   "metadata": {},
   "outputs": [],
   "source": [
    "add(add(1, 2), add(45, 5))"
   ]
  },
  {
   "cell_type": "code",
   "execution_count": null,
   "id": "fbc8ea29",
   "metadata": {},
   "outputs": [],
   "source": [
    "# What if we do not return a value but just print the result?\n",
    "\n",
    "def another_add(a, b):\n",
    "    c = a + b    # c is local to the function\n",
    "    print(c)\n",
    "    \n",
    "print(another_add(1, 2))    # the function returns a special value None"
   ]
  },
  {
   "cell_type": "code",
   "execution_count": null,
   "id": "7ba9c275",
   "metadata": {},
   "outputs": [],
   "source": [
    "# this will not work like it did for the \"add\" function:\n",
    "# (because the function does not return a value)\n",
    "\n",
    "another_add(another_add(1, 2), another_add(45, 5))"
   ]
  },
  {
   "cell_type": "markdown",
   "id": "b973a90c",
   "metadata": {},
   "source": [
    "---"
   ]
  },
  {
   "cell_type": "code",
   "execution_count": null,
   "id": "705fdcf9",
   "metadata": {},
   "outputs": [],
   "source": [
    "# Functions may modify values of mutable \"things\" passed to it\n",
    "# (for example, lists)\n",
    "\n",
    "my_list = [\"Meat\", \"Potatoes\", \"Cake\"]\n",
    "\n",
    "def add_element(some_list, element):\n",
    "    some_list.append(element)\n",
    "    \n",
    "print(my_list)"
   ]
  },
  {
   "cell_type": "code",
   "execution_count": null,
   "id": "569c2e46",
   "metadata": {},
   "outputs": [],
   "source": [
    "add_element(my_list, \"Water\")\n",
    "\n",
    "print(my_list)"
   ]
  },
  {
   "cell_type": "code",
   "execution_count": null,
   "id": "b9a2e924",
   "metadata": {},
   "outputs": [],
   "source": [
    "# Let's make a function to search for sub-elements in a list:\n",
    "\n",
    "my_list = [\"Mashed potatoes\", \"Crispy chicken\", \"Tasty cake\"]\n",
    "\n",
    "def search_for(some_list, sub_element):\n",
    "        \n",
    "    for list_element in some_list:\n",
    "        \n",
    "        if sub_element.lower() in list_element.lower():\n",
    "            print(f\"Found [{sub_element}] in [{list_element}]\")\n",
    "            return list_element\n",
    "            \n",
    "    print(f\"Sorry, [{sub_element}] not found in the list {some_list}.\")\n",
    "\n",
    "search_for(my_list, \"cake\")"
   ]
  },
  {
   "cell_type": "code",
   "execution_count": null,
   "id": "e0fa5f17",
   "metadata": {},
   "outputs": [],
   "source": [
    "search_for(my_list, \"vegetables\")"
   ]
  },
  {
   "cell_type": "code",
   "execution_count": null,
   "id": "7b10fb78",
   "metadata": {},
   "outputs": [],
   "source": [
    "search_for(my_list, \"Cake\")   # comparison is \"case sensitive\"!"
   ]
  },
  {
   "cell_type": "markdown",
   "id": "d311187d",
   "metadata": {},
   "source": [
    "Question:\n",
    "* how would you modify this function to find elements independent of lowercase / uppercase?\n",
    "\n",
    "---\n",
    "\n",
    "### Default values"
   ]
  },
  {
   "cell_type": "code",
   "execution_count": null,
   "id": "896b79ce",
   "metadata": {},
   "outputs": [],
   "source": [
    "# Function arguments may have default values:\n",
    "\n",
    "def mix_drinks(juice=\"Apple juice\", alcohol=\"rum\"):\n",
    "    \"\"\"\n",
    "    Mixes drinks for you.\n",
    "    \n",
    "    Specify the components to mix using the \"juice\" and \"alcohol\" parameters.\n",
    "    \"\"\"\n",
    "    \n",
    "    print(f\"Have a drink: {juice} with {alcohol}\")"
   ]
  },
  {
   "cell_type": "code",
   "execution_count": null,
   "id": "4fbab134",
   "metadata": {},
   "outputs": [],
   "source": [
    "mix_drinks(\"Tomatoe juice\", \"vodka\")"
   ]
  },
  {
   "cell_type": "code",
   "execution_count": null,
   "id": "f8ae3318",
   "metadata": {},
   "outputs": [],
   "source": [
    "mix_drinks(\"Cola\")"
   ]
  },
  {
   "cell_type": "code",
   "execution_count": null,
   "id": "9ec3d86d",
   "metadata": {},
   "outputs": [],
   "source": [
    "mix_drinks()"
   ]
  },
  {
   "cell_type": "markdown",
   "id": "1bb10749",
   "metadata": {},
   "source": [
    "---\n",
    "Question:\n",
    "\n",
    "* can you specify just the second argument?\n",
    "* how can you get help about this function (in Jupyter and in \"plain\" Python)?"
   ]
  },
  {
   "cell_type": "code",
   "execution_count": null,
   "id": "81549142",
   "metadata": {},
   "outputs": [],
   "source": [
    "mix_drinks(alcohol=\"vodka\")"
   ]
  },
  {
   "cell_type": "markdown",
   "id": "507a3244",
   "metadata": {},
   "source": [
    "---\n",
    "\n",
    "### Returning multiple values\n",
    "\n",
    "* multiple values may be returned as a tuple"
   ]
  },
  {
   "cell_type": "code",
   "execution_count": null,
   "id": "a6491c0f",
   "metadata": {},
   "outputs": [],
   "source": [
    "def return_multiple(a, b):\n",
    "    \n",
    "    return (a+b, a-b)\n",
    "\n",
    "print(return_multiple(12, 4))"
   ]
  },
  {
   "cell_type": "code",
   "execution_count": null,
   "id": "a8209001",
   "metadata": {},
   "outputs": [],
   "source": [
    "result = return_multiple(12, 4)"
   ]
  },
  {
   "cell_type": "code",
   "execution_count": null,
   "id": "d30e5a66",
   "metadata": {},
   "outputs": [],
   "source": [
    "print(result)\n",
    "print(type(result))"
   ]
  },
  {
   "cell_type": "code",
   "execution_count": null,
   "id": "03ebcdf0",
   "metadata": {},
   "outputs": [],
   "source": [
    "first_val = result[0]\n",
    "print(first_val)"
   ]
  },
  {
   "cell_type": "markdown",
   "id": "500fdb7c",
   "metadata": {},
   "source": [
    "---\n",
    "\n",
    "### Practical exercises\n",
    "\n",
    "* Write a function that checks if its argument is a prime number\n",
    "* Write a function that checks if a string argument is a palindrome:\n",
    " * A palindrome is a word, number, phrase, or other sequence of characters which reads the same backward as forward.\n",
    " * Examples: \"madam\", \"racecar\"."
   ]
  },
  {
   "cell_type": "code",
   "execution_count": null,
   "id": "a4474812",
   "metadata": {},
   "outputs": [],
   "source": []
  },
  {
   "cell_type": "code",
   "execution_count": null,
   "id": "4e3d0fc7",
   "metadata": {},
   "outputs": [],
   "source": []
  },
  {
   "cell_type": "code",
   "execution_count": null,
   "id": "ebd743f5",
   "metadata": {},
   "outputs": [],
   "source": []
  },
  {
   "cell_type": "code",
   "execution_count": null,
   "id": "769ca7b6",
   "metadata": {},
   "outputs": [],
   "source": []
  },
  {
   "cell_type": "markdown",
   "id": "460bd8c5",
   "metadata": {},
   "source": [
    "---\n",
    "\n",
    "### More information:\n",
    "\n",
    "* [\"Automate the boring stuff\" chapter about functions](https://automatetheboringstuff.com/2e/chapter3/)\n",
    "* [Python functions exercises](https://www.w3resource.com/python-exercises/python-functions-exercises.php)\n",
    "* [Python built-in functions](https://docs.python.org/3/library/functions.html)\n"
   ]
  }
 ],
 "metadata": {
  "kernelspec": {
   "display_name": "Python 3 (ipykernel)",
   "language": "python",
   "name": "python3"
  },
  "language_info": {
   "codemirror_mode": {
    "name": "ipython",
    "version": 3
   },
   "file_extension": ".py",
   "mimetype": "text/x-python",
   "name": "python",
   "nbconvert_exporter": "python",
   "pygments_lexer": "ipython3",
   "version": "3.9.16"
  }
 },
 "nbformat": 4,
 "nbformat_minor": 5
}
