{
 "cells": [
  {
   "cell_type": "code",
   "execution_count": 1,
   "id": "13cfdcee-13c8-47a6-8794-7663f6a0d360",
   "metadata": {},
   "outputs": [
    {
     "name": "stdin",
     "output_type": "stream",
     "text": [
      "Ievadi skaitli:  12\n",
      "Ievadi skaitli:  4\n",
      "Ievadi skaitli:  67\n",
      "Ievadi skaitli:  15\n"
     ]
    },
    {
     "name": "stdout",
     "output_type": "stream",
     "text": [
      "Uzminēji!!!\n",
      "Ārpus cikla\n"
     ]
    }
   ],
   "source": [
    "\n",
    "gad_skaitlis = 15\n",
    "\n",
    "# while True:\n",
    "\n",
    "for i in range(20):\n",
    "    \n",
    "    skaitlis = int(input(\"Ievadi skaitli: \"))\n",
    "\n",
    "    if skaitlis == gad_skaitlis:\n",
    "        print(\"Uzminēji!!!\")\n",
    "        break\n",
    "\n",
    "\n"
   ]
  },
  {
   "cell_type": "code",
   "execution_count": null,
   "id": "db3197a2-48d5-4acf-a232-95f6b7f7c88e",
   "metadata": {},
   "outputs": [],
   "source": []
  }
 ],
 "metadata": {
  "kernelspec": {
   "display_name": "Python 3 (ipykernel)",
   "language": "python",
   "name": "python3"
  },
  "language_info": {
   "codemirror_mode": {
    "name": "ipython",
    "version": 3
   },
   "file_extension": ".py",
   "mimetype": "text/x-python",
   "name": "python",
   "nbconvert_exporter": "python",
   "pygments_lexer": "ipython3",
   "version": "3.9.16"
  }
 },
 "nbformat": 4,
 "nbformat_minor": 5
}
