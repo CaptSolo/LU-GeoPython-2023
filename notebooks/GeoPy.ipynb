{
 "cells": [
  {
   "cell_type": "markdown",
   "id": "b169caaf",
   "metadata": {},
   "source": [
    "## GeoPy\n",
    "\n",
    "https://geopy.readthedocs.io/en/stable/"
   ]
  },
  {
   "cell_type": "code",
   "execution_count": 1,
   "id": "2cb2af07",
   "metadata": {},
   "outputs": [
    {
     "name": "stdout",
     "output_type": "stream",
     "text": [
      "Collecting geopy\n",
      "  Downloading geopy-2.4.1-py3-none-any.whl.metadata (6.8 kB)\n",
      "Collecting geographiclib<3,>=1.52 (from geopy)\n",
      "  Downloading geographiclib-2.0-py3-none-any.whl.metadata (1.4 kB)\n",
      "Downloading geopy-2.4.1-py3-none-any.whl (125 kB)\n",
      "Downloading geographiclib-2.0-py3-none-any.whl (40 kB)\n",
      "Installing collected packages: geographiclib, geopy\n",
      "Successfully installed geographiclib-2.0 geopy-2.4.1\n"
     ]
    }
   ],
   "source": [
    "# install GeoPy if needed\n",
    "!pip install geopy"
   ]
  },
  {
   "cell_type": "code",
   "execution_count": 2,
   "id": "2b544835",
   "metadata": {},
   "outputs": [],
   "source": [
    "from geopy.geocoders import Nominatim\n",
    "from pprint import pprint\n",
    "\n",
    "user_agent = \"GeoPython course\"\n",
    "\n",
    "geolocator = Nominatim(user_agent=user_agent)"
   ]
  },
  {
   "cell_type": "markdown",
   "id": "6178fc28",
   "metadata": {},
   "source": [
    "### Geolocate a query to an address and coordinates"
   ]
  },
  {
   "cell_type": "code",
   "execution_count": 3,
   "id": "bd34e45c",
   "metadata": {},
   "outputs": [
    {
     "name": "stdout",
     "output_type": "stream",
     "text": [
      "Flatiron Building, 175, 5th Avenue, Manhattan Community Board 5, Manhattan, New York County, City of New York, New York, 10010, United States\n",
      "\n",
      "(40.741059199999995, -73.98964162240998)\n"
     ]
    }
   ],
   "source": [
    "location = geolocator.geocode(\"175 5th Avenue NYC\")\n",
    "print(location.address)\n",
    "\n",
    "print()\n",
    "print((location.latitude, location.longitude))"
   ]
  },
  {
   "cell_type": "code",
   "execution_count": 4,
   "id": "df31bcc2",
   "metadata": {},
   "outputs": [
    {
     "name": "stdout",
     "output_type": "stream",
     "text": [
      "Latvijas Universitāte, 19, Raiņa bulvāris, Centrs, Centra apkaime, Rīga, LV-1050, Latvija\n",
      "\n",
      "(56.950744, 24.116059419868535)\n"
     ]
    }
   ],
   "source": [
    "location = geolocator.geocode(\"Raina bulvaris 19, Riga\")\n",
    "print(location.address)\n",
    "\n",
    "print()\n",
    "print((location.latitude, location.longitude))"
   ]
  },
  {
   "cell_type": "code",
   "execution_count": 5,
   "id": "acdee3f9",
   "metadata": {},
   "outputs": [
    {
     "name": "stdout",
     "output_type": "stream",
     "text": [
      "{'addresstype': 'building',\n",
      " 'boundingbox': ['56.9503143', '56.9512064', '24.1153968', '24.1170651'],\n",
      " 'class': 'building',\n",
      " 'display_name': 'Latvijas Universitāte, 19, Raiņa bulvāris, Centrs, Centra '\n",
      "                 'apkaime, Rīga, LV-1050, Latvija',\n",
      " 'importance': 0.5391879253617387,\n",
      " 'lat': '56.950744',\n",
      " 'licence': 'Data © OpenStreetMap contributors, ODbL 1.0. '\n",
      "            'http://osm.org/copyright',\n",
      " 'lon': '24.116059419868535',\n",
      " 'name': 'Latvijas Universitāte',\n",
      " 'osm_id': 1297961,\n",
      " 'osm_type': 'relation',\n",
      " 'place_id': 158370043,\n",
      " 'place_rank': 30,\n",
      " 'type': 'university'}\n"
     ]
    }
   ],
   "source": [
    "pprint(location.raw)"
   ]
  },
  {
   "cell_type": "markdown",
   "id": "b9c0044b",
   "metadata": {},
   "source": [
    "### Find the address corresponding to a set of coordinates"
   ]
  },
  {
   "cell_type": "code",
   "execution_count": 6,
   "id": "7d3374a9",
   "metadata": {},
   "outputs": [
    {
     "name": "stdout",
     "output_type": "stream",
     "text": [
      "Potsdamer Platz, Tiergarten, Mitte, Berlin, 10785, Deutschland\n"
     ]
    }
   ],
   "source": [
    "location = geolocator.reverse(\"52.509669, 13.376294\")\n",
    "print(location.address)"
   ]
  },
  {
   "cell_type": "code",
   "execution_count": 7,
   "id": "4cc3e2d0",
   "metadata": {},
   "outputs": [
    {
     "name": "stdout",
     "output_type": "stream",
     "text": [
      "Torņakalns, Āgenskalna apkaime, Rīga, LV-1004, Latvija\n",
      "\n",
      "(56.93719325, 24.097382475543963)\n",
      "\n",
      "{'address': {'ISO3166-2-lvl5': 'LV-RIX',\n",
      "             'city': 'Rīga',\n",
      "             'city_district': 'Āgenskalna apkaime',\n",
      "             'country': 'Latvija',\n",
      "             'country_code': 'lv',\n",
      "             'postcode': 'LV-1004',\n",
      "             'suburb': 'Torņakalns'},\n",
      " 'addresstype': 'road',\n",
      " 'boundingbox': ['56.9369050', '56.9374774', '24.0962308', '24.0978976'],\n",
      " 'class': 'highway',\n",
      " 'display_name': 'Torņakalns, Āgenskalna apkaime, Rīga, LV-1004, Latvija',\n",
      " 'importance': 0.05340999389639121,\n",
      " 'lat': '56.93719325',\n",
      " 'licence': 'Data © OpenStreetMap contributors, ODbL 1.0. '\n",
      "            'http://osm.org/copyright',\n",
      " 'lon': '24.097382475543963',\n",
      " 'name': '',\n",
      " 'osm_id': 8172701,\n",
      " 'osm_type': 'relation',\n",
      " 'place_id': 157861973,\n",
      " 'place_rank': 26,\n",
      " 'type': 'pedestrian'}\n"
     ]
    }
   ],
   "source": [
    "location = geolocator.reverse(\"56.937357, 24.097539\")\n",
    "print(location.address)\n",
    "\n",
    "print()\n",
    "print((location.latitude, location.longitude))\n",
    "\n",
    "print()\n",
    "pprint(location.raw)"
   ]
  },
  {
   "cell_type": "markdown",
   "id": "b0b62936",
   "metadata": {},
   "source": [
    "### Calculating distance\n",
    "\n",
    "https://geopy.readthedocs.io/en/stable/#module-geopy.distance"
   ]
  },
  {
   "cell_type": "code",
   "execution_count": 8,
   "id": "616caad9",
   "metadata": {},
   "outputs": [
    {
     "name": "stdout",
     "output_type": "stream",
     "text": [
      "195.4022121937465 km\n"
     ]
    }
   ],
   "source": [
    "from geopy import distance\n",
    "\n",
    "riga = (56.9475, 24.106389)\n",
    "liepaja = (56.511667, 21.013889)\n",
    "\n",
    "print(distance.distance(riga, liepaja))"
   ]
  },
  {
   "cell_type": "code",
   "execution_count": 9,
   "id": "e035c04f",
   "metadata": {},
   "outputs": [
    {
     "name": "stdout",
     "output_type": "stream",
     "text": [
      "195.38309089790886 km\n"
     ]
    }
   ],
   "source": [
    "# You can change the ellipsoid model used by the geodesic formulas:\n",
    "\n",
    "print(distance.geodesic(riga, liepaja, ellipsoid='Airy (1830)'))"
   ]
  },
  {
   "cell_type": "code",
   "execution_count": null,
   "id": "e9019e3c-5bd4-4932-8ecb-785606994ebf",
   "metadata": {},
   "outputs": [],
   "source": []
  }
 ],
 "metadata": {
  "kernelspec": {
   "display_name": "Python 3 (ipykernel)",
   "language": "python",
   "name": "python3"
  },
  "language_info": {
   "codemirror_mode": {
    "name": "ipython",
    "version": 3
   },
   "file_extension": ".py",
   "mimetype": "text/x-python",
   "name": "python",
   "nbconvert_exporter": "python",
   "pygments_lexer": "ipython3",
   "version": "3.12.7"
  }
 },
 "nbformat": 4,
 "nbformat_minor": 5
}
