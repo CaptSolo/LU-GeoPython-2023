{
 "cells": [
  {
   "cell_type": "markdown",
   "id": "b2800378",
   "metadata": {},
   "source": [
    "## List, Dictionary, Set comprehensions"
   ]
  },
  {
   "cell_type": "markdown",
   "id": "e0b2faa8-a38e-4775-a56f-27cddf6e7d42",
   "metadata": {},
   "source": [
    "### List comprehension"
   ]
  },
  {
   "cell_type": "code",
   "execution_count": 1,
   "id": "cfb3d00f",
   "metadata": {},
   "outputs": [],
   "source": [
    "a = [\"a\", \"list\"]"
   ]
  },
  {
   "cell_type": "code",
   "execution_count": 2,
   "id": "cffd724a",
   "metadata": {
    "scrolled": true
   },
   "outputs": [
    {
     "data": {
      "text/plain": [
       "['append',\n",
       " 'clear',\n",
       " 'copy',\n",
       " 'count',\n",
       " 'extend',\n",
       " 'index',\n",
       " 'insert',\n",
       " 'pop',\n",
       " 'remove',\n",
       " 'reverse',\n",
       " 'sort']"
      ]
     },
     "execution_count": 2,
     "metadata": {},
     "output_type": "execute_result"
    }
   ],
   "source": [
    "\n",
    "[name for name in dir(a) if not name.startswith(\"__\")]\n"
   ]
  },
  {
   "cell_type": "code",
   "execution_count": 3,
   "id": "d2b51bdc",
   "metadata": {},
   "outputs": [
    {
     "data": {
      "text/plain": [
       "['append',\n",
       " 'clear',\n",
       " 'copy',\n",
       " 'count',\n",
       " 'extend',\n",
       " 'index',\n",
       " 'insert',\n",
       " 'pop',\n",
       " 'remove',\n",
       " 'reverse',\n",
       " 'sort']"
      ]
     },
     "execution_count": 3,
     "metadata": {},
     "output_type": "execute_result"
    }
   ],
   "source": [
    "# the same result using a for cycle\n",
    "\n",
    "buf = []\n",
    "\n",
    "for name in dir(a):\n",
    "    if not name.startswith(\"__\"):\n",
    "        buf.append(name)\n",
    "        \n",
    "buf"
   ]
  },
  {
   "cell_type": "markdown",
   "id": "a38516e0-7421-4e0c-b47f-f6f85be13f34",
   "metadata": {},
   "source": [
    "### Dictionary comprehension"
   ]
  },
  {
   "cell_type": "code",
   "execution_count": 4,
   "id": "4843a584",
   "metadata": {},
   "outputs": [],
   "source": [
    "names = [\"Adam\", \"Betty\"]\n",
    "\n",
    "res = {key: 1 for key in names }"
   ]
  },
  {
   "cell_type": "code",
   "execution_count": 5,
   "id": "2ae3a0c7",
   "metadata": {},
   "outputs": [
    {
     "data": {
      "text/plain": [
       "{'Adam': 1, 'Betty': 1}"
      ]
     },
     "execution_count": 5,
     "metadata": {},
     "output_type": "execute_result"
    }
   ],
   "source": [
    "res"
   ]
  },
  {
   "cell_type": "code",
   "execution_count": 6,
   "id": "f9d7d070",
   "metadata": {},
   "outputs": [
    {
     "data": {
      "text/plain": [
       "{'Adam': 1, 'Betty': 1}"
      ]
     },
     "execution_count": 6,
     "metadata": {},
     "output_type": "execute_result"
    }
   ],
   "source": [
    "# Using a for cycle:\n",
    "\n",
    "res2 = {}\n",
    "\n",
    "for key in names:\n",
    "    res2[key] = 1\n",
    "    \n",
    "res2"
   ]
  },
  {
   "cell_type": "code",
   "execution_count": 7,
   "id": "7acac90d-e29a-46b7-8d4b-b706eb40e8e6",
   "metadata": {},
   "outputs": [
    {
     "name": "stdout",
     "output_type": "stream",
     "text": [
      "{'John': 25, 'Anna': 20, 'Beatrice': 30}\n"
     ]
    }
   ],
   "source": [
    "# Another example - filtering a dictionary\n",
    "\n",
    "data1 = {\"John\": 25, \"Peter\": 35, \"Anna\": 20, \"Beatrice\": 30}\n",
    "\n",
    "# filter the dictionary leaving the entries that have values <= 30\n",
    "\n",
    "data2 = {key: value for key, value in data1.items() if value <= 30}\n",
    "\n",
    "print(data2)"
   ]
  },
  {
   "cell_type": "code",
   "execution_count": 8,
   "id": "60caaa68-6b3a-426d-9096-bc4bc07bb93e",
   "metadata": {},
   "outputs": [
    {
     "name": "stdout",
     "output_type": "stream",
     "text": [
      "{'John': 25, 'Anna': 20, 'Beatrice': 30}\n"
     ]
    }
   ],
   "source": [
    "# Using a for cycle:\n",
    "\n",
    "data2 = {}\n",
    "\n",
    "for key, value in data1.items():\n",
    "    if value <= 30:\n",
    "        data2[key] = value\n",
    "\n",
    "print(data2)"
   ]
  },
  {
   "cell_type": "markdown",
   "id": "dca74735-d747-4017-bc88-d90c84fd2243",
   "metadata": {},
   "source": [
    "### Set comprehension"
   ]
  },
  {
   "cell_type": "code",
   "execution_count": 9,
   "id": "bc44b98b",
   "metadata": {},
   "outputs": [
    {
     "data": {
      "text/plain": [
       "{'a', 'about', 'bit', 'little', 'nothing'}"
      ]
     },
     "execution_count": 9,
     "metadata": {},
     "output_type": "execute_result"
    }
   ],
   "source": [
    "words = [\"a\", \"little\", \"bit\", \"about\", \"nothing\", \"a\", \"bit\"]\n",
    "\n",
    "set1 = {word for word in words}\n",
    "\n",
    "set1"
   ]
  },
  {
   "cell_type": "code",
   "execution_count": 10,
   "id": "9eb558ea",
   "metadata": {},
   "outputs": [
    {
     "data": {
      "text/plain": [
       "{'a', 'about', 'bit', 'little', 'nothing'}"
      ]
     },
     "execution_count": 10,
     "metadata": {},
     "output_type": "execute_result"
    }
   ],
   "source": [
    "# This was a simple set comprehension example. You could do that same using the set() function:\n",
    "\n",
    "set1 = set(words)\n",
    "\n",
    "set1"
   ]
  },
  {
   "cell_type": "markdown",
   "id": "fc006b41",
   "metadata": {},
   "source": [
    "## File Operations (continued)"
   ]
  },
  {
   "cell_type": "code",
   "execution_count": 11,
   "id": "b3e3041e",
   "metadata": {},
   "outputs": [
    {
     "name": "stdout",
     "output_type": "stream",
     "text": [
      "Overwriting somefile.txt\n"
     ]
    }
   ],
   "source": [
    "%%writefile somefile.txt\n",
    "This is an example file\n",
    "that we can experiment\n",
    "with."
   ]
  },
  {
   "cell_type": "code",
   "execution_count": 12,
   "id": "f1952b1f",
   "metadata": {},
   "outputs": [
    {
     "name": "stdout",
     "output_type": "stream",
     "text": [
      "This is an example file\n",
      "that we can experiment\n",
      "with.\n"
     ]
    }
   ],
   "source": [
    "fname = \"somefile.txt\"\n",
    "\n",
    "file = open(fname, encoding=\"utf-8\")\n",
    "\n",
    "for line in file:\n",
    "    print(line.strip())\n",
    "    \n",
    "file.close()"
   ]
  },
  {
   "cell_type": "code",
   "execution_count": 13,
   "id": "2cc6995e",
   "metadata": {},
   "outputs": [
    {
     "name": "stdout",
     "output_type": "stream",
     "text": [
      "This is an example file\n",
      "that we can experiment\n",
      "with.\n"
     ]
    }
   ],
   "source": [
    "# we can avoid having to explicitly call close()\n",
    "\n",
    "with open(fname, encoding=\"utf-8\") as file:\n",
    "    for line in file:\n",
    "        print(line.strip())\n",
    "        \n",
    "# close() gets called automatically when with block ends"
   ]
  },
  {
   "cell_type": "code",
   "execution_count": 14,
   "id": "9dff588a",
   "metadata": {},
   "outputs": [
    {
     "name": "stdout",
     "output_type": "stream",
     "text": [
      "This is an example file\n",
      "that we can experiment\n",
      "with.\n",
      "\n",
      "This is an example file\n",
      "that we can experiment\n",
      "with.\n"
     ]
    }
   ],
   "source": [
    "# we can use seek() to got back to the start of the file (in needed)\n",
    "\n",
    "with open(fname, encoding=\"utf-8\") as file:\n",
    "    for line in file:\n",
    "        print(line.strip())\n",
    "        \n",
    "    print()\n",
    "    \n",
    "    # go to beginning\n",
    "    file.seek(0)\n",
    "    \n",
    "    # print the file again\n",
    "    for line in file:\n",
    "        print(line.strip())        "
   ]
  },
  {
   "cell_type": "markdown",
   "id": "c34a06ba",
   "metadata": {},
   "source": [
    "### CSV - DictReader and DictWriter"
   ]
  },
  {
   "cell_type": "code",
   "execution_count": 15,
   "id": "810ac53d",
   "metadata": {},
   "outputs": [],
   "source": [
    "# https://data.gov.lv/dati/lv/dataset/stacionaru-operativie-dati-par-covid19\n",
    "\n",
    "fname_csv = \"data/covidpatients.csv\""
   ]
  },
  {
   "cell_type": "code",
   "execution_count": 16,
   "id": "2b3ead26",
   "metadata": {},
   "outputs": [],
   "source": [
    "import csv"
   ]
  },
  {
   "cell_type": "code",
   "execution_count": 17,
   "id": "ec3ebec4",
   "metadata": {},
   "outputs": [
    {
     "data": {
      "text/plain": [
       "[['Datums',\n",
       "  'ĀI kods',\n",
       "  'ĀI nosaukums',\n",
       "  'Kopā',\n",
       "  'Jauni',\n",
       "  'Pamata diagnoze',\n",
       "  'Blakus diagnoze',\n",
       "  'Smaga slimības gaita',\n",
       "  't.sk. Invazīva MPV',\n",
       "  'Vidēja slimības gaita',\n",
       "  'Miruši',\n",
       "  'Izrakstīti',\n",
       "  'Pārvesti',\n",
       "  't.sk. uz augstāka līmeņa',\n",
       "  't.sk. uz zemāka līmeņa',\n",
       "  't.sk. uz tāda paša līmeņa'],\n",
       " ['2022-02-01T00:00:00',\n",
       "  '320200001-01',\n",
       "  'Aizkraukles slimnīca',\n",
       "  '1',\n",
       "  '1',\n",
       "  '0',\n",
       "  '1',\n",
       "  '0',\n",
       "  '0',\n",
       "  '0',\n",
       "  '0',\n",
       "  '0',\n",
       "  '0',\n",
       "  '0',\n",
       "  '0',\n",
       "  '0'],\n",
       " ['2022-02-01T00:00:00',\n",
       "  '360200027-01',\n",
       "  'Alūksnes slimnīca',\n",
       "  '0',\n",
       "  '0',\n",
       "  '0',\n",
       "  '6',\n",
       "  '0',\n",
       "  '0',\n",
       "  '0',\n",
       "  '0',\n",
       "  '1',\n",
       "  '0',\n",
       "  '0',\n",
       "  '0',\n",
       "  '0'],\n",
       " ['2022-02-01T00:00:00',\n",
       "  '500200052-02',\n",
       "  'Balvu un Gulbenes slimnīcu apvienība',\n",
       "  '18',\n",
       "  '',\n",
       "  '12',\n",
       "  '6',\n",
       "  '2',\n",
       "  '0',\n",
       "  '16',\n",
       "  '1',\n",
       "  '1',\n",
       "  '0',\n",
       "  '0',\n",
       "  '0',\n",
       "  '0'],\n",
       " ['2022-02-01T00:00:00',\n",
       "  '400200024-01',\n",
       "  'Bauskas slimnīca',\n",
       "  '2',\n",
       "  '0',\n",
       "  '4',\n",
       "  '0',\n",
       "  '0',\n",
       "  '0',\n",
       "  '4',\n",
       "  '0',\n",
       "  '1',\n",
       "  '0',\n",
       "  '0',\n",
       "  '0',\n",
       "  '0'],\n",
       " ['2022-02-01T00:00:00',\n",
       "  '010011804-01',\n",
       "  'Bērnu klīniskā universitātes slimnīca',\n",
       "  '9',\n",
       "  '5',\n",
       "  '6',\n",
       "  '3',\n",
       "  '',\n",
       "  '',\n",
       "  '9',\n",
       "  '',\n",
       "  '9',\n",
       "  '',\n",
       "  '',\n",
       "  '',\n",
       "  '2'],\n",
       " ['2022-02-01T00:00:00',\n",
       "  '661400011-01',\n",
       "  'Bērnu psihoneiroloģiskā slimnīca \"Ainaži\"',\n",
       "  '2',\n",
       "  '1',\n",
       "  '0',\n",
       "  '1',\n",
       "  '0',\n",
       "  '0',\n",
       "  '0',\n",
       "  '0',\n",
       "  '0',\n",
       "  '0',\n",
       "  '0',\n",
       "  '0',\n",
       "  '0'],\n",
       " ['2022-02-01T00:00:00',\n",
       "  '420200052-01',\n",
       "  'Cēsu klīnika',\n",
       "  '11',\n",
       "  '2',\n",
       "  '11',\n",
       "  '0',\n",
       "  '1',\n",
       "  '1',\n",
       "  '8',\n",
       "  '0',\n",
       "  '0',\n",
       "  '0',\n",
       "  '0',\n",
       "  '',\n",
       "  '0'],\n",
       " ['2022-02-01T00:00:00',\n",
       "  '050012101-01',\n",
       "  'Daugavpils psihoneiroloģiskā slimnīca',\n",
       "  '6',\n",
       "  '1',\n",
       "  '3',\n",
       "  '3',\n",
       "  '0',\n",
       "  '0',\n",
       "  '1',\n",
       "  '0',\n",
       "  '0',\n",
       "  '1',\n",
       "  '0',\n",
       "  '0',\n",
       "  '1'],\n",
       " ['2022-02-01T00:00:00',\n",
       "  '050012101-02',\n",
       "  'Daugavpils psihoneiroloģiskās slimnīcas Aknīstes slimnīca',\n",
       "  '1',\n",
       "  '0',\n",
       "  '',\n",
       "  '1',\n",
       "  '',\n",
       "  '',\n",
       "  '1',\n",
       "  '',\n",
       "  '',\n",
       "  '',\n",
       "  '',\n",
       "  '',\n",
       "  '']]"
      ]
     },
     "execution_count": 17,
     "metadata": {},
     "output_type": "execute_result"
    }
   ],
   "source": [
    "from itertools import islice\n",
    "\n",
    "with open(fname_csv, encoding=\"utf-8\") as file_csv:\n",
    "    \n",
    "    rdr = csv.reader(file_csv, delimiter=\";\")\n",
    "    rdr_10_rows = islice(rdr, 10)\n",
    "    \n",
    "    data = [line for line in rdr_10_rows]\n",
    "\n",
    "data"
   ]
  },
  {
   "cell_type": "code",
   "execution_count": 18,
   "id": "d78aaa06",
   "metadata": {},
   "outputs": [
    {
     "data": {
      "text/plain": [
       "'ĀI nosaukums'"
      ]
     },
     "execution_count": 18,
     "metadata": {},
     "output_type": "execute_result"
    }
   ],
   "source": [
    "data[0][2]"
   ]
  },
  {
   "cell_type": "code",
   "execution_count": 19,
   "id": "4ade152c",
   "metadata": {},
   "outputs": [
    {
     "data": {
      "text/plain": [
       "'Aizkraukles slimnīca'"
      ]
     },
     "execution_count": 19,
     "metadata": {},
     "output_type": "execute_result"
    }
   ],
   "source": [
    "data[1][2]"
   ]
  },
  {
   "cell_type": "code",
   "execution_count": 20,
   "id": "2026a9e6",
   "metadata": {
    "scrolled": true
   },
   "outputs": [
    {
     "data": {
      "text/plain": [
       "[{'Datums': '2022-02-01T00:00:00',\n",
       "  'ĀI kods': '320200001-01',\n",
       "  'ĀI nosaukums': 'Aizkraukles slimnīca',\n",
       "  'Kopā': '1',\n",
       "  'Jauni': '1',\n",
       "  'Pamata diagnoze': '0',\n",
       "  'Blakus diagnoze': '1',\n",
       "  'Smaga slimības gaita': '0',\n",
       "  't.sk. Invazīva MPV': '0',\n",
       "  'Vidēja slimības gaita': '0',\n",
       "  'Miruši': '0',\n",
       "  'Izrakstīti': '0',\n",
       "  'Pārvesti': '0',\n",
       "  't.sk. uz augstāka līmeņa': '0',\n",
       "  't.sk. uz zemāka līmeņa': '0',\n",
       "  't.sk. uz tāda paša līmeņa': '0'},\n",
       " {'Datums': '2022-02-01T00:00:00',\n",
       "  'ĀI kods': '360200027-01',\n",
       "  'ĀI nosaukums': 'Alūksnes slimnīca',\n",
       "  'Kopā': '0',\n",
       "  'Jauni': '0',\n",
       "  'Pamata diagnoze': '0',\n",
       "  'Blakus diagnoze': '6',\n",
       "  'Smaga slimības gaita': '0',\n",
       "  't.sk. Invazīva MPV': '0',\n",
       "  'Vidēja slimības gaita': '0',\n",
       "  'Miruši': '0',\n",
       "  'Izrakstīti': '1',\n",
       "  'Pārvesti': '0',\n",
       "  't.sk. uz augstāka līmeņa': '0',\n",
       "  't.sk. uz zemāka līmeņa': '0',\n",
       "  't.sk. uz tāda paša līmeņa': '0'},\n",
       " {'Datums': '2022-02-01T00:00:00',\n",
       "  'ĀI kods': '500200052-02',\n",
       "  'ĀI nosaukums': 'Balvu un Gulbenes slimnīcu apvienība',\n",
       "  'Kopā': '18',\n",
       "  'Jauni': '',\n",
       "  'Pamata diagnoze': '12',\n",
       "  'Blakus diagnoze': '6',\n",
       "  'Smaga slimības gaita': '2',\n",
       "  't.sk. Invazīva MPV': '0',\n",
       "  'Vidēja slimības gaita': '16',\n",
       "  'Miruši': '1',\n",
       "  'Izrakstīti': '1',\n",
       "  'Pārvesti': '0',\n",
       "  't.sk. uz augstāka līmeņa': '0',\n",
       "  't.sk. uz zemāka līmeņa': '0',\n",
       "  't.sk. uz tāda paša līmeņa': '0'},\n",
       " {'Datums': '2022-02-01T00:00:00',\n",
       "  'ĀI kods': '400200024-01',\n",
       "  'ĀI nosaukums': 'Bauskas slimnīca',\n",
       "  'Kopā': '2',\n",
       "  'Jauni': '0',\n",
       "  'Pamata diagnoze': '4',\n",
       "  'Blakus diagnoze': '0',\n",
       "  'Smaga slimības gaita': '0',\n",
       "  't.sk. Invazīva MPV': '0',\n",
       "  'Vidēja slimības gaita': '4',\n",
       "  'Miruši': '0',\n",
       "  'Izrakstīti': '1',\n",
       "  'Pārvesti': '0',\n",
       "  't.sk. uz augstāka līmeņa': '0',\n",
       "  't.sk. uz zemāka līmeņa': '0',\n",
       "  't.sk. uz tāda paša līmeņa': '0'},\n",
       " {'Datums': '2022-02-01T00:00:00',\n",
       "  'ĀI kods': '010011804-01',\n",
       "  'ĀI nosaukums': 'Bērnu klīniskā universitātes slimnīca',\n",
       "  'Kopā': '9',\n",
       "  'Jauni': '5',\n",
       "  'Pamata diagnoze': '6',\n",
       "  'Blakus diagnoze': '3',\n",
       "  'Smaga slimības gaita': '',\n",
       "  't.sk. Invazīva MPV': '',\n",
       "  'Vidēja slimības gaita': '9',\n",
       "  'Miruši': '',\n",
       "  'Izrakstīti': '9',\n",
       "  'Pārvesti': '',\n",
       "  't.sk. uz augstāka līmeņa': '',\n",
       "  't.sk. uz zemāka līmeņa': '',\n",
       "  't.sk. uz tāda paša līmeņa': '2'},\n",
       " {'Datums': '2022-02-01T00:00:00',\n",
       "  'ĀI kods': '661400011-01',\n",
       "  'ĀI nosaukums': 'Bērnu psihoneiroloģiskā slimnīca \"Ainaži\"',\n",
       "  'Kopā': '2',\n",
       "  'Jauni': '1',\n",
       "  'Pamata diagnoze': '0',\n",
       "  'Blakus diagnoze': '1',\n",
       "  'Smaga slimības gaita': '0',\n",
       "  't.sk. Invazīva MPV': '0',\n",
       "  'Vidēja slimības gaita': '0',\n",
       "  'Miruši': '0',\n",
       "  'Izrakstīti': '0',\n",
       "  'Pārvesti': '0',\n",
       "  't.sk. uz augstāka līmeņa': '0',\n",
       "  't.sk. uz zemāka līmeņa': '0',\n",
       "  't.sk. uz tāda paša līmeņa': '0'},\n",
       " {'Datums': '2022-02-01T00:00:00',\n",
       "  'ĀI kods': '420200052-01',\n",
       "  'ĀI nosaukums': 'Cēsu klīnika',\n",
       "  'Kopā': '11',\n",
       "  'Jauni': '2',\n",
       "  'Pamata diagnoze': '11',\n",
       "  'Blakus diagnoze': '0',\n",
       "  'Smaga slimības gaita': '1',\n",
       "  't.sk. Invazīva MPV': '1',\n",
       "  'Vidēja slimības gaita': '8',\n",
       "  'Miruši': '0',\n",
       "  'Izrakstīti': '0',\n",
       "  'Pārvesti': '0',\n",
       "  't.sk. uz augstāka līmeņa': '0',\n",
       "  't.sk. uz zemāka līmeņa': '',\n",
       "  't.sk. uz tāda paša līmeņa': '0'},\n",
       " {'Datums': '2022-02-01T00:00:00',\n",
       "  'ĀI kods': '050012101-01',\n",
       "  'ĀI nosaukums': 'Daugavpils psihoneiroloģiskā slimnīca',\n",
       "  'Kopā': '6',\n",
       "  'Jauni': '1',\n",
       "  'Pamata diagnoze': '3',\n",
       "  'Blakus diagnoze': '3',\n",
       "  'Smaga slimības gaita': '0',\n",
       "  't.sk. Invazīva MPV': '0',\n",
       "  'Vidēja slimības gaita': '1',\n",
       "  'Miruši': '0',\n",
       "  'Izrakstīti': '0',\n",
       "  'Pārvesti': '1',\n",
       "  't.sk. uz augstāka līmeņa': '0',\n",
       "  't.sk. uz zemāka līmeņa': '0',\n",
       "  't.sk. uz tāda paša līmeņa': '1'},\n",
       " {'Datums': '2022-02-01T00:00:00',\n",
       "  'ĀI kods': '050012101-02',\n",
       "  'ĀI nosaukums': 'Daugavpils psihoneiroloģiskās slimnīcas Aknīstes slimnīca',\n",
       "  'Kopā': '1',\n",
       "  'Jauni': '0',\n",
       "  'Pamata diagnoze': '',\n",
       "  'Blakus diagnoze': '1',\n",
       "  'Smaga slimības gaita': '',\n",
       "  't.sk. Invazīva MPV': '',\n",
       "  'Vidēja slimības gaita': '1',\n",
       "  'Miruši': '',\n",
       "  'Izrakstīti': '',\n",
       "  'Pārvesti': '',\n",
       "  't.sk. uz augstāka līmeņa': '',\n",
       "  't.sk. uz zemāka līmeņa': '',\n",
       "  't.sk. uz tāda paša līmeņa': ''},\n",
       " {'Datums': '2022-02-01T00:00:00',\n",
       "  'ĀI kods': '050020401-01',\n",
       "  'ĀI nosaukums': 'Daugavpils reģionālā slimnīca',\n",
       "  'Kopā': '81',\n",
       "  'Jauni': '10',\n",
       "  'Pamata diagnoze': '59',\n",
       "  'Blakus diagnoze': '22',\n",
       "  'Smaga slimības gaita': '4',\n",
       "  't.sk. Invazīva MPV': '1',\n",
       "  'Vidēja slimības gaita': '55',\n",
       "  'Miruši': '1',\n",
       "  'Izrakstīti': '10',\n",
       "  'Pārvesti': '',\n",
       "  't.sk. uz augstāka līmeņa': '',\n",
       "  't.sk. uz zemāka līmeņa': '',\n",
       "  't.sk. uz tāda paša līmeņa': ''}]"
      ]
     },
     "execution_count": 20,
     "metadata": {},
     "output_type": "execute_result"
    }
   ],
   "source": [
    "# how could we access columns by name?\n",
    "#  - DictReader to the rescue\n",
    "\n",
    "with open(fname_csv, encoding=\"utf-8\") as file_csv:\n",
    "    \n",
    "    rdr = csv.DictReader(file_csv, delimiter=\";\")\n",
    "    rdr_10_rows = islice(rdr, 10)\n",
    "    \n",
    "    data = [line for line in rdr_10_rows]\n",
    "\n",
    "data"
   ]
  },
  {
   "cell_type": "code",
   "execution_count": 21,
   "id": "51b0ee77",
   "metadata": {},
   "outputs": [
    {
     "data": {
      "text/plain": [
       "'Aizkraukles slimnīca'"
      ]
     },
     "execution_count": 21,
     "metadata": {},
     "output_type": "execute_result"
    }
   ],
   "source": [
    "data[0][\"ĀI nosaukums\"]"
   ]
  },
  {
   "cell_type": "code",
   "execution_count": 22,
   "id": "f56728bf",
   "metadata": {},
   "outputs": [
    {
     "data": {
      "text/plain": [
       "['Datums',\n",
       " 'ĀI kods',\n",
       " 'ĀI nosaukums',\n",
       " 'Kopā',\n",
       " 'Jauni',\n",
       " 'Pamata diagnoze',\n",
       " 'Blakus diagnoze',\n",
       " 'Smaga slimības gaita',\n",
       " 't.sk. Invazīva MPV',\n",
       " 'Vidēja slimības gaita',\n",
       " 'Miruši',\n",
       " 'Izrakstīti',\n",
       " 'Pārvesti',\n",
       " 't.sk. uz augstāka līmeņa',\n",
       " 't.sk. uz zemāka līmeņa',\n",
       " 't.sk. uz tāda paša līmeņa']"
      ]
     },
     "execution_count": 22,
     "metadata": {},
     "output_type": "execute_result"
    }
   ],
   "source": [
    "rdr.fieldnames"
   ]
  },
  {
   "cell_type": "markdown",
   "id": "e7949931",
   "metadata": {},
   "source": [
    "#### DictWriter\n",
    "\n",
    "https://docs.python.org/3/library/csv.html#csv.DictWriter"
   ]
  },
  {
   "cell_type": "code",
   "execution_count": 23,
   "id": "f0ab2a07",
   "metadata": {},
   "outputs": [],
   "source": [
    "with open('names.csv', 'w', newline='') as csvfile:\n",
    "    fieldnames = ['first_name', 'last_name']\n",
    "    writer = csv.DictWriter(csvfile, fieldnames=fieldnames)\n",
    "\n",
    "    writer.writeheader()\n",
    "    writer.writerow({'first_name': 'John', 'last_name': 'Smith'})\n",
    "    writer.writerow({'first_name': 'Adam', 'last_name': 'Strange'})\n",
    "    writer.writerow({'first_name': 'Alice', 'last_name': 'Wonder'})"
   ]
  },
  {
   "cell_type": "code",
   "execution_count": 24,
   "id": "c4a520b7",
   "metadata": {},
   "outputs": [
    {
     "name": "stdout",
     "output_type": "stream",
     "text": [
      "first_name,last_name\n",
      "John,Smith\n",
      "Adam,Strange\n",
      "Alice,Wonder\n"
     ]
    }
   ],
   "source": [
    "with open('names.csv') as csvfile:\n",
    "    for line in csvfile:\n",
    "        print(line.strip())"
   ]
  },
  {
   "cell_type": "markdown",
   "id": "785f0c36",
   "metadata": {},
   "source": [
    "### JSON input / output\n",
    "\n",
    "JSON (JavaScript Object Notation) files let us save Python data hierarchies (dictionaries, lists, ...) to a file / read them from a file.\n",
    "\n",
    "https://www.json.org/json-en.html\n",
    "\n",
    "To do this, we will use Python json library:\n",
    "\n",
    "- json.dump() – save structured data to a JSON file\n",
    "- json.dumps() – return structured data as a JSON string\n",
    "- json.load() – read structured data from a JSON file\n",
    "- json.loads() – read structured data from a JSON string\n",
    "\n",
    "https://docs.python.org/3/library/json.html"
   ]
  },
  {
   "cell_type": "code",
   "execution_count": 25,
   "id": "c55e20bf",
   "metadata": {},
   "outputs": [
    {
     "data": {
      "text/plain": [
       "['JSONDecodeError',\n",
       " 'JSONDecoder',\n",
       " 'JSONEncoder',\n",
       " '_default_decoder',\n",
       " '_default_encoder',\n",
       " 'codecs',\n",
       " 'decoder',\n",
       " 'detect_encoding',\n",
       " 'dump',\n",
       " 'dumps',\n",
       " 'encoder',\n",
       " 'load',\n",
       " 'loads',\n",
       " 'scanner']"
      ]
     },
     "execution_count": 25,
     "metadata": {},
     "output_type": "execute_result"
    }
   ],
   "source": [
    "import json\n",
    "\n",
    "[name for name in dir(json) if not name.startswith(\"__\")]"
   ]
  },
  {
   "cell_type": "code",
   "execution_count": 26,
   "id": "f37ddd05",
   "metadata": {},
   "outputs": [],
   "source": [
    "example = {\"key1\": \"value1\",\n",
    "           \"key2\": [\"list\", \"of\", \"values\"],\n",
    "           \"key3\": {\"another\": 1, \"dict\": 42}}"
   ]
  },
  {
   "cell_type": "code",
   "execution_count": 27,
   "id": "7df06a74",
   "metadata": {},
   "outputs": [],
   "source": [
    "# saving data to a JSON file\n",
    "\n",
    "example_fname = \"example.json\"\n",
    "\n",
    "with open(example_fname, \"w\") as file:\n",
    "    json.dump(example, file)"
   ]
  },
  {
   "cell_type": "code",
   "execution_count": 28,
   "id": "89f299f8",
   "metadata": {},
   "outputs": [],
   "source": [
    "# loading data from a JSON file\n",
    "\n",
    "with open(example_fname) as file:\n",
    "    data = json.load(file)"
   ]
  },
  {
   "cell_type": "code",
   "execution_count": 29,
   "id": "22dfa3ba",
   "metadata": {},
   "outputs": [
    {
     "data": {
      "text/plain": [
       "{'key1': 'value1',\n",
       " 'key2': ['list', 'of', 'values'],\n",
       " 'key3': {'another': 1, 'dict': 42}}"
      ]
     },
     "execution_count": 29,
     "metadata": {},
     "output_type": "execute_result"
    }
   ],
   "source": [
    "data"
   ]
  },
  {
   "cell_type": "markdown",
   "id": "cfb1ba4e",
   "metadata": {},
   "source": [
    "#### Loading JSON from a URL (using requests)\n",
    "\n",
    "Data source: https://jsonplaceholder.typicode.com/"
   ]
  },
  {
   "cell_type": "code",
   "execution_count": 30,
   "id": "19d975ed",
   "metadata": {},
   "outputs": [],
   "source": [
    "json_url = \"https://jsonplaceholder.typicode.com/posts\""
   ]
  },
  {
   "cell_type": "code",
   "execution_count": 31,
   "id": "aa50d536",
   "metadata": {},
   "outputs": [],
   "source": [
    "import requests"
   ]
  },
  {
   "cell_type": "code",
   "execution_count": 32,
   "id": "f1043930",
   "metadata": {},
   "outputs": [
    {
     "data": {
      "text/plain": [
       "[{'userId': 1,\n",
       "  'id': 1,\n",
       "  'title': 'sunt aut facere repellat provident occaecati excepturi optio reprehenderit',\n",
       "  'body': 'quia et suscipit\\nsuscipit recusandae consequuntur expedita et cum\\nreprehenderit molestiae ut ut quas totam\\nnostrum rerum est autem sunt rem eveniet architecto'},\n",
       " {'userId': 1,\n",
       "  'id': 2,\n",
       "  'title': 'qui est esse',\n",
       "  'body': 'est rerum tempore vitae\\nsequi sint nihil reprehenderit dolor beatae ea dolores neque\\nfugiat blanditiis voluptate porro vel nihil molestiae ut reiciendis\\nqui aperiam non debitis possimus qui neque nisi nulla'},\n",
       " {'userId': 1,\n",
       "  'id': 3,\n",
       "  'title': 'ea molestias quasi exercitationem repellat qui ipsa sit aut',\n",
       "  'body': 'et iusto sed quo iure\\nvoluptatem occaecati omnis eligendi aut ad\\nvoluptatem doloribus vel accusantium quis pariatur\\nmolestiae porro eius odio et labore et velit aut'}]"
      ]
     },
     "execution_count": 32,
     "metadata": {},
     "output_type": "execute_result"
    }
   ],
   "source": [
    "req = requests.get(json_url)\n",
    "\n",
    "json_data = req.json()\n",
    "\n",
    "json_data[:3]"
   ]
  },
  {
   "cell_type": "code",
   "execution_count": 33,
   "id": "2eb1e8d1",
   "metadata": {},
   "outputs": [
    {
     "data": {
      "text/plain": [
       "b'[\\n  {\\n    \"userId\": 1,\\n    \"id\": 1,\\n    \"title\": \"sunt aut facere repellat provident occaecati excep'"
      ]
     },
     "execution_count": 33,
     "metadata": {},
     "output_type": "execute_result"
    }
   ],
   "source": [
    "# alternative approach (without requests)\n",
    "\n",
    "from urllib.request import urlopen\n",
    "\n",
    "with urlopen(json_url) as req:\n",
    "    body = req.read()\n",
    "\n",
    "body[:100]"
   ]
  },
  {
   "cell_type": "code",
   "execution_count": 34,
   "id": "1cffd8a4",
   "metadata": {},
   "outputs": [
    {
     "data": {
      "text/plain": [
       "[{'userId': 1,\n",
       "  'id': 1,\n",
       "  'title': 'sunt aut facere repellat provident occaecati excepturi optio reprehenderit',\n",
       "  'body': 'quia et suscipit\\nsuscipit recusandae consequuntur expedita et cum\\nreprehenderit molestiae ut ut quas totam\\nnostrum rerum est autem sunt rem eveniet architecto'},\n",
       " {'userId': 1,\n",
       "  'id': 2,\n",
       "  'title': 'qui est esse',\n",
       "  'body': 'est rerum tempore vitae\\nsequi sint nihil reprehenderit dolor beatae ea dolores neque\\nfugiat blanditiis voluptate porro vel nihil molestiae ut reiciendis\\nqui aperiam non debitis possimus qui neque nisi nulla'}]"
      ]
     },
     "execution_count": 34,
     "metadata": {},
     "output_type": "execute_result"
    }
   ],
   "source": [
    "# decode JSON data from string input\n",
    "\n",
    "json_data = json.loads(body)\n",
    "\n",
    "json_data[:2]"
   ]
  },
  {
   "cell_type": "code",
   "execution_count": 35,
   "id": "6312bf88",
   "metadata": {},
   "outputs": [
    {
     "data": {
      "text/plain": [
       "{'key1': 'value1',\n",
       " 'key2': ['list', 'of', 'values'],\n",
       " 'key3': {'another': 1, 'dict': 42}}"
      ]
     },
     "execution_count": 35,
     "metadata": {},
     "output_type": "execute_result"
    }
   ],
   "source": [
    "# you can also use dumps() to convert data to a JSON string\n",
    "\n",
    "example"
   ]
  },
  {
   "cell_type": "code",
   "execution_count": 36,
   "id": "c8a380ef",
   "metadata": {},
   "outputs": [
    {
     "data": {
      "text/plain": [
       "'{\"key1\": \"value1\", \"key2\": [\"list\", \"of\", \"values\"], \"key3\": {\"another\": 1, \"dict\": 42}}'"
      ]
     },
     "execution_count": 36,
     "metadata": {},
     "output_type": "execute_result"
    }
   ],
   "source": [
    "json.dumps(example)"
   ]
  },
  {
   "cell_type": "markdown",
   "id": "d75788fe",
   "metadata": {},
   "source": [
    "### Saving Python objects - pickle module\n",
    "\n",
    "https://docs.python.org/3/library/pickle.html"
   ]
  },
  {
   "cell_type": "code",
   "execution_count": 37,
   "id": "4c1ae7d8",
   "metadata": {},
   "outputs": [],
   "source": [
    "# example class\n",
    "\n",
    "class Dog:\n",
    "    \"\"\"\n",
    "    I am a dog.\n",
    "    \"\"\"\n",
    "    def __init__(self, name, age):\n",
    "        self.name = name\n",
    "        self.age = age\n",
    "        \n",
    "    def say(self, text=\"Wow!\"):\n",
    "        print(self.name, \"says '\" + text + \"'\")\n",
    "        \n",
    "    def __str__(self):\n",
    "        # define how to convert this object to a string\n",
    "        return f\"Dog: name={self.name}, age={self.age}\"\n",
    "    \n",
    "rex = Dog(\"Rex\", 2)"
   ]
  },
  {
   "cell_type": "code",
   "execution_count": 38,
   "id": "bf923081",
   "metadata": {},
   "outputs": [],
   "source": [
    "import pickle\n",
    "\n",
    "fname = \"data.pickle\"\n",
    "\n",
    "# we are opening file in a binary mode (\"wb\")\n",
    "with open(fname, \"wb\") as outf:\n",
    "    pickle.dump(rex, outf)\n"
   ]
  },
  {
   "cell_type": "code",
   "execution_count": 39,
   "id": "e5b95a78",
   "metadata": {},
   "outputs": [
    {
     "data": {
      "text/plain": [
       "<__main__.Dog at 0x10a48f580>"
      ]
     },
     "execution_count": 39,
     "metadata": {},
     "output_type": "execute_result"
    }
   ],
   "source": [
    "with open(fname, \"rb\") as inf:\n",
    "    data = pickle.load(inf)\n",
    "    \n",
    "data"
   ]
  },
  {
   "cell_type": "code",
   "execution_count": 40,
   "id": "548c9369",
   "metadata": {},
   "outputs": [
    {
     "data": {
      "text/plain": [
       "'Dog: name=Rex, age=2'"
      ]
     },
     "execution_count": 40,
     "metadata": {},
     "output_type": "execute_result"
    }
   ],
   "source": [
    "str(data)"
   ]
  },
  {
   "cell_type": "code",
   "execution_count": null,
   "id": "25b22803",
   "metadata": {},
   "outputs": [],
   "source": []
  },
  {
   "cell_type": "markdown",
   "id": "8444fb23",
   "metadata": {},
   "source": [
    "### Other file-related operations\n",
    "\n",
    "- https://docs.python.org/3/library/filesys.html\n",
    "- https://realpython.com/working-with-files-in-python/\n",
    "\n",
    "#### Listing files in a directory"
   ]
  },
  {
   "cell_type": "code",
   "execution_count": 41,
   "id": "2cf7897d",
   "metadata": {},
   "outputs": [
    {
     "data": {
      "text/plain": [
       "'/Users/captsolo/_changed_stuff_/Code/LU_GeoPython_2023/notebooks'"
      ]
     },
     "execution_count": 41,
     "metadata": {},
     "output_type": "execute_result"
    }
   ],
   "source": [
    "import os\n",
    "\n",
    "# current directory\n",
    "cwd = os.getcwd()\n",
    "\n",
    "cwd"
   ]
  },
  {
   "cell_type": "code",
   "execution_count": 42,
   "id": "69c0d525",
   "metadata": {
    "scrolled": true
   },
   "outputs": [
    {
     "name": "stdout",
     "output_type": "stream",
     "text": [
      "nltk_example.ipynb\n",
      "06 - Strings, File Input and Output.ipynb\n",
      "pandas_cheatsheet.pdf\n",
      "09 - Pandas.ipynb\n",
      "FOLIUM.ipynb\n",
      "somefile.txt\n",
      "01 - Python Introduction.ipynb\n",
      "data.pickle\n",
      "04 - Python Dictionaries and Sets.ipynb\n",
      "US_Unemployment_Oct2012.csv\n",
      "test123.txt\n",
      "10 - Matplotlib.ipynb\n",
      "03 - Python Functions.ipynb\n",
      "example.json\n",
      "07 - Object Oriented Programming.ipynb\n",
      "Colormaps_2.html\n",
      "Pandas Exercises.ipynb\n",
      "riga.json\n",
      "README.md\n",
      "img\n",
      "Colormaps_1.html\n",
      "names.csv\n",
      "GeoPy.ipynb\n",
      "Colormaps_0.html\n",
      ".ipynb_checkpoints\n",
      "test_pandas.csv\n",
      "11 - NumPy.ipynb\n",
      "us-states.json\n",
      "08 - File Operations 2.ipynb\n",
      "02 - Python Introduction.ipynb\n",
      "program_example.py\n",
      "data\n",
      "05 - Python Libraries.ipynb\n",
      "test_data.csv\n",
      "02 - Examples.ipynb\n",
      "covidpatients.csv\n"
     ]
    }
   ],
   "source": [
    "main_dir = \".\"\n",
    "\n",
    "with os.scandir(main_dir) as lines:\n",
    "    for line in lines:\n",
    "        print(line.name)"
   ]
  },
  {
   "cell_type": "code",
   "execution_count": null,
   "id": "c20b3346",
   "metadata": {},
   "outputs": [],
   "source": []
  },
  {
   "cell_type": "code",
   "execution_count": 43,
   "id": "6340112c",
   "metadata": {
    "scrolled": true
   },
   "outputs": [
    {
     "name": "stdout",
     "output_type": "stream",
     "text": [
      ".ipynb_checkpoints\n",
      "01 - Python Introduction.ipynb\n",
      "02 - Examples.ipynb\n",
      "02 - Python Introduction.ipynb\n",
      "03 - Python Functions.ipynb\n",
      "04 - Python Dictionaries and Sets.ipynb\n",
      "05 - Python Libraries.ipynb\n",
      "06 - Strings, File Input and Output.ipynb\n",
      "07 - Object Oriented Programming.ipynb\n",
      "08 - File Operations 2.ipynb\n",
      "09 - Pandas.ipynb\n",
      "10 - Matplotlib.ipynb\n",
      "11 - NumPy.ipynb\n",
      "Colormaps_0.html\n",
      "Colormaps_1.html\n",
      "Colormaps_2.html\n",
      "FOLIUM.ipynb\n",
      "GeoPy.ipynb\n",
      "Pandas Exercises.ipynb\n",
      "README.md\n",
      "US_Unemployment_Oct2012.csv\n",
      "covidpatients.csv\n",
      "data\n",
      "data.pickle\n",
      "example.json\n",
      "img\n",
      "names.csv\n",
      "nltk_example.ipynb\n",
      "pandas_cheatsheet.pdf\n",
      "program_example.py\n",
      "riga.json\n",
      "somefile.txt\n",
      "test123.txt\n",
      "test_data.csv\n",
      "test_pandas.csv\n",
      "us-states.json\n"
     ]
    }
   ],
   "source": [
    "from pathlib import Path\n",
    "\n",
    "my_path = Path(\".\")\n",
    "\n",
    "entries_in_path = my_path.iterdir()\n",
    "\n",
    "for line in sorted(entries_in_path):\n",
    "    print(line.name)"
   ]
  },
  {
   "cell_type": "code",
   "execution_count": 44,
   "id": "f4565b8c",
   "metadata": {},
   "outputs": [
    {
     "name": "stdout",
     "output_type": "stream",
     "text": [
      ".ipynb_checkpoints\n",
      "data\n",
      "img\n"
     ]
    }
   ],
   "source": [
    "# listing only directories\n",
    "\n",
    "entries_in_path = my_path.iterdir()\n",
    "\n",
    "for line in sorted(entries_in_path):\n",
    "    if line.is_dir():\n",
    "        print(line.name)"
   ]
  },
  {
   "cell_type": "code",
   "execution_count": 45,
   "id": "11451b8f",
   "metadata": {},
   "outputs": [
    {
     "name": "stdout",
     "output_type": "stream",
     "text": [
      "01 - Python Introduction.ipynb\n",
      "02 - Examples.ipynb\n",
      "02 - Python Introduction.ipynb\n",
      "03 - Python Functions.ipynb\n",
      "04 - Python Dictionaries and Sets.ipynb\n",
      "05 - Python Libraries.ipynb\n",
      "06 - Strings, File Input and Output.ipynb\n",
      "07 - Object Oriented Programming.ipynb\n",
      "08 - File Operations 2.ipynb\n",
      "09 - Pandas.ipynb\n",
      "10 - Matplotlib.ipynb\n",
      "11 - NumPy.ipynb\n",
      "Colormaps_0.html\n",
      "Colormaps_1.html\n",
      "Colormaps_2.html\n",
      "FOLIUM.ipynb\n",
      "GeoPy.ipynb\n",
      "Pandas Exercises.ipynb\n",
      "README.md\n",
      "US_Unemployment_Oct2012.csv\n",
      "covidpatients.csv\n",
      "data.pickle\n",
      "example.json\n",
      "names.csv\n",
      "nltk_example.ipynb\n",
      "pandas_cheatsheet.pdf\n",
      "program_example.py\n",
      "riga.json\n",
      "somefile.txt\n",
      "test123.txt\n",
      "test_data.csv\n",
      "test_pandas.csv\n",
      "us-states.json\n"
     ]
    }
   ],
   "source": [
    "# listing only files\n",
    "\n",
    "entries_in_path = my_path.iterdir()\n",
    "\n",
    "for line in sorted(entries_in_path):\n",
    "    if line.is_file():\n",
    "        print(line.name)"
   ]
  },
  {
   "cell_type": "markdown",
   "id": "744be69b",
   "metadata": {},
   "source": [
    "#### Searching for files"
   ]
  },
  {
   "cell_type": "code",
   "execution_count": 46,
   "id": "3de4038b",
   "metadata": {},
   "outputs": [
    {
     "data": {
      "text/plain": [
       "['US_Unemployment_Oct2012.csv',\n",
       " 'names.csv',\n",
       " 'test_pandas.csv',\n",
       " 'test_data.csv',\n",
       " 'covidpatients.csv']"
      ]
     },
     "execution_count": 46,
     "metadata": {},
     "output_type": "execute_result"
    }
   ],
   "source": [
    "import glob\n",
    "\n",
    "# find all files ending with \".csv\" (in the current directory)\n",
    "glob.glob('*.csv')"
   ]
  },
  {
   "cell_type": "code",
   "execution_count": 47,
   "id": "6ac666ba",
   "metadata": {},
   "outputs": [
    {
     "data": {
      "text/plain": [
       "['US_Unemployment_Oct2012.csv',\n",
       " 'names.csv',\n",
       " 'test_pandas.csv',\n",
       " 'test_data.csv',\n",
       " 'covidpatients.csv',\n",
       " 'data/iedz_skaits_2018.csv',\n",
       " 'data/covidpatients.csv']"
      ]
     },
     "execution_count": 47,
     "metadata": {},
     "output_type": "execute_result"
    }
   ],
   "source": [
    "# look for files in sub-directories too\n",
    "glob.glob(\"**/*.csv\", recursive=True)"
   ]
  },
  {
   "cell_type": "markdown",
   "id": "07db0bd3",
   "metadata": {},
   "source": [
    "#### More information\n",
    "\n",
    "See the [Real Python article](https://realpython.com/working-with-files-in-python/) for info on how to:\n",
    "- Create directories and directory trees\n",
    "- Find patterns in filenames\n",
    "- Create temporary files and directories\n",
    "- Move, rename, copy, and delete files or directories\n",
    "- Read and extract data from different types of archives\n",
    "\n"
   ]
  },
  {
   "cell_type": "markdown",
   "id": "661aeb8b",
   "metadata": {},
   "source": [
    "### Exercises"
   ]
  },
  {
   "cell_type": "code",
   "execution_count": null,
   "id": "9d715849",
   "metadata": {},
   "outputs": [],
   "source": []
  },
  {
   "cell_type": "code",
   "execution_count": null,
   "id": "eddb5e7f",
   "metadata": {},
   "outputs": [],
   "source": []
  },
  {
   "cell_type": "code",
   "execution_count": null,
   "id": "ee953006",
   "metadata": {},
   "outputs": [],
   "source": []
  }
 ],
 "metadata": {
  "kernelspec": {
   "display_name": "Python 3 (ipykernel)",
   "language": "python",
   "name": "python3"
  },
  "language_info": {
   "codemirror_mode": {
    "name": "ipython",
    "version": 3
   },
   "file_extension": ".py",
   "mimetype": "text/x-python",
   "name": "python",
   "nbconvert_exporter": "python",
   "pygments_lexer": "ipython3",
   "version": "3.9.18"
  }
 },
 "nbformat": 4,
 "nbformat_minor": 5
}
