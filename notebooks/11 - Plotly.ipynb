{
 "cells": [
  {
   "cell_type": "code",
   "execution_count": null,
   "id": "84095e0d-c205-4a7a-95dc-da652a92f1a5",
   "metadata": {},
   "outputs": [],
   "source": [
    "# Import Plotly and check its version\n",
    "import plotly\n",
    "print(f\"Plotly version: {plotly.__version__}\")\n",
    "\n",
    "# Import Pandas\n",
    "import pandas as pd"
   ]
  },
  {
   "cell_type": "markdown",
   "id": "d9898ec1-728b-4ce2-af52-2d4cdc1d8370",
   "metadata": {},
   "source": [
    "## Plotly\n",
    "\n",
    "Documentation: https://plotly.com/python/\n",
    "\n",
    "We will use Plotly Express – a simple, high-level approach to creating Plotly visualizations.\n",
    "- Plotly Express documentation: https://plotly.com/python/plotly-express/"
   ]
  },
  {
   "cell_type": "code",
   "execution_count": null,
   "id": "7a639c6d-a22c-494c-b0ed-e292f0a778cf",
   "metadata": {},
   "outputs": [],
   "source": [
    "import plotly.express as px\n",
    "\n",
    "# Needed to get visualizations working in Jupyter notebooks\n",
    "import plotly.io as pio\n",
    "pio.renderers.default = 'iframe'"
   ]
  },
  {
   "cell_type": "code",
   "execution_count": null,
   "id": "a8b55fcb-cb78-4bba-9d70-d74ff9ecbe15",
   "metadata": {},
   "outputs": [],
   "source": [
    "# Load the Gapminder dataset + query for a given country\n",
    "df_gap = px.data.gapminder()\n",
    "df_fin = df_gap.query(\"country=='Finland'\")\n",
    "\n",
    "# Let's draw a line plot\n",
    "# https://plotly.com/python/line-charts/\n",
    "fig = px.line(df_fin, x=\"year\", y=\"lifeExp\", title='Life expectancy in Finland')\n",
    "fig.show()"
   ]
  },
  {
   "cell_type": "code",
   "execution_count": null,
   "id": "dda8dbfa-9e07-451b-b94a-b8ed3d3cb97d",
   "metadata": {},
   "outputs": [],
   "source": [
    "# https://plotly.com/python/plotly-express/\n",
    "\n",
    "df_iris = px.data.iris()\n",
    "\n",
    "fig = px.scatter(df_iris, x=\"sepal_width\", y=\"sepal_length\", color=\"species\")\n",
    "fig.show()"
   ]
  },
  {
   "cell_type": "code",
   "execution_count": null,
   "id": "854d4aa3-be23-42aa-b17b-201f4b78257e",
   "metadata": {},
   "outputs": [],
   "source": [
    "# statsmodels library must be installed for this example to work\n",
    "# https://plotly.com/python/plotly-express/\n",
    "\n",
    "fig = px.scatter(df_iris, x=\"sepal_width\", y=\"sepal_length\", color=\"species\", marginal_y=\"violin\",\n",
    "           marginal_x=\"box\", trendline=\"ols\", template=\"simple_white\")\n",
    "fig.show()"
   ]
  },
  {
   "cell_type": "code",
   "execution_count": null,
   "id": "15df6a14-f5e1-4a32-b3bd-31e3cd9eb940",
   "metadata": {},
   "outputs": [],
   "source": [
    "# https://plotly.com/python/plotly-express/\n",
    "\n",
    "fig = px.scatter(df_gap.query(\"year==2007\"), x=\"gdpPercap\", y=\"lifeExp\", size=\"pop\", color=\"continent\",\n",
    "           hover_name=\"country\", log_x=True, size_max=60)\n",
    "fig.show()"
   ]
  }
 ],
 "metadata": {
  "kernelspec": {
   "display_name": "Python 3 (ipykernel)",
   "language": "python",
   "name": "python3"
  },
  "language_info": {
   "codemirror_mode": {
    "name": "ipython",
    "version": 3
   },
   "file_extension": ".py",
   "mimetype": "text/x-python",
   "name": "python",
   "nbconvert_exporter": "python",
   "pygments_lexer": "ipython3",
   "version": "3.12.7"
  }
 },
 "nbformat": 4,
 "nbformat_minor": 5
}
