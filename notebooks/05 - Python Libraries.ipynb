{
 "cells": [
  {
   "cell_type": "markdown",
   "id": "03d574cd",
   "metadata": {},
   "source": [
    "# Python Libraries"
   ]
  },
  {
   "cell_type": "markdown",
   "id": "ffd8fe9a",
   "metadata": {},
   "source": [
    "Python library is a \"bundle\" of code that can be used repeatedly to perform some related functionality.\n",
    "\n",
    "### Python standard library (\"Batteries included\") contains many built-in libraries\n",
    "\n",
    "https://docs.python.org/3/library/\n",
    "\n",
    "### External libraries\n",
    "\n",
    "[PyPI = Python package index](https://pypi.org/)\n",
    "- contains > 400 thousand projects\n",
    "\n",
    "[Awesome Python](https://github.com/vinta/awesome-python)\n",
    "- A curated list of awesome Python frameworks, libraries, software and resources.\n",
    "\n",
    "### Examples\n",
    "\n",
    "- [Random library](https://docs.python.org/3/library/random.html) = built-in\n",
    "- [Requests library](https://requests.readthedocs.io/en/latest/) = external\n"
   ]
  },
  {
   "cell_type": "markdown",
   "id": "5f93d220",
   "metadata": {},
   "source": [
    "---\n",
    "\n",
    "## Importing libraries, `import` command\n",
    "\n",
    "In order to use Python libraries you must `import` them.\n",
    "- `import library_name`\n",
    "\n",
    "External libraries need to be installed before you can import and use them. \n",
    "\n",
    "The way how to install external libraries depends on what Python distribution you are using."
   ]
  },
  {
   "cell_type": "code",
   "execution_count": null,
   "id": "ef0d9577",
   "metadata": {},
   "outputs": [],
   "source": [
    "import random"
   ]
  },
  {
   "cell_type": "code",
   "execution_count": null,
   "id": "30cd802f",
   "metadata": {},
   "outputs": [],
   "source": [
    "help(random)"
   ]
  },
  {
   "cell_type": "markdown",
   "id": "8ad18a4f",
   "metadata": {},
   "source": [
    "### `import` library `as` new_name\n",
    "\n",
    "You may prefer to call a library in another, usually shorter, name. In order to do that you need to specify the new name using the `as` keyword:\n",
    "- `import pandas as pd`\n"
   ]
  },
  {
   "cell_type": "code",
   "execution_count": null,
   "id": "f8a00871",
   "metadata": {},
   "outputs": [],
   "source": [
    "import random as rnd"
   ]
  },
  {
   "cell_type": "code",
   "execution_count": null,
   "id": "e7dd65c7",
   "metadata": {},
   "outputs": [],
   "source": [
    "rnd.choice([\"ābols\", \"zemene\", \"mango\"])"
   ]
  },
  {
   "cell_type": "markdown",
   "id": "3bbd0fb9",
   "metadata": {},
   "source": [
    "### Example : random"
   ]
  },
  {
   "cell_type": "code",
   "execution_count": null,
   "id": "4940d5af",
   "metadata": {},
   "outputs": [],
   "source": [
    "import random\n",
    "\n",
    "# a list of \"names\" (objects, methods, ...) provided by this library:\n",
    "\n",
    "for line in dir(random):\n",
    "    if not line.startswith(\"_\"):\n",
    "        print(line)"
   ]
  },
  {
   "cell_type": "code",
   "execution_count": null,
   "id": "7af9fb91",
   "metadata": {},
   "outputs": [],
   "source": [
    "list_of_values = range(10)"
   ]
  },
  {
   "cell_type": "code",
   "execution_count": null,
   "id": "8e4b0eda",
   "metadata": {},
   "outputs": [],
   "source": [
    "value = random.choice(list_of_values)\n",
    "\n",
    "print(value)"
   ]
  },
  {
   "cell_type": "code",
   "execution_count": null,
   "id": "b25170df",
   "metadata": {},
   "outputs": [],
   "source": [
    "# libraries usually have help text:\n",
    "\n",
    "help(random.choice)"
   ]
  },
  {
   "cell_type": "markdown",
   "id": "7efb5b26",
   "metadata": {},
   "source": [
    "### `from` library `import` name\n",
    "\n",
    "If you only need to some of the functionality as a library you can list the names of things you want to import:\n",
    "\n",
    "- `from name_of_library import list, of, names`\n",
    "\n",
    "Example:\n",
    "- `from random import choice`\n",
    "\n",
    "You may list many names to import:\n",
    "- `from random import choice, randint`\n"
   ]
  },
  {
   "cell_type": "code",
   "execution_count": null,
   "id": "daa6f67b",
   "metadata": {},
   "outputs": [],
   "source": [
    "from random import choice\n",
    "\n",
    "value = choice(list_of_values)\n",
    "print(value)"
   ]
  },
  {
   "cell_type": "code",
   "execution_count": null,
   "id": "723c5051",
   "metadata": {},
   "outputs": [],
   "source": []
  },
  {
   "cell_type": "markdown",
   "id": "d091b9e1",
   "metadata": {},
   "source": [
    "### Example : collections, Counter\n",
    "\n",
    "`Counter()` object lets us count things.\n",
    "\n",
    "https://docs.python.org/3/library/collections.html#collections.Counter\n",
    "\n",
    "https://realpython.com/python-counter/"
   ]
  },
  {
   "cell_type": "code",
   "execution_count": null,
   "id": "dcf3db92",
   "metadata": {},
   "outputs": [],
   "source": [
    "from collections import Counter"
   ]
  },
  {
   "cell_type": "code",
   "execution_count": null,
   "id": "a866aadc",
   "metadata": {},
   "outputs": [],
   "source": [
    "things_to_count = [1, 2, 11, 15, 2, 2, 18, 1]\n",
    "\n",
    "cnt = Counter(things_to_count)\n",
    "\n",
    "print(cnt)"
   ]
  },
  {
   "cell_type": "code",
   "execution_count": null,
   "id": "721dffd3",
   "metadata": {},
   "outputs": [],
   "source": [
    "# let's see what methods we can use with the Counter object\n",
    "\n",
    "names = dir(cnt)\n",
    "\n",
    "for name in names:\n",
    "    if not name.startswith(\"_\"):\n",
    "        print(name)"
   ]
  },
  {
   "cell_type": "code",
   "execution_count": null,
   "id": "422a928b",
   "metadata": {},
   "outputs": [],
   "source": [
    "help(cnt.most_common)"
   ]
  },
  {
   "cell_type": "code",
   "execution_count": null,
   "id": "a581cb29",
   "metadata": {},
   "outputs": [],
   "source": [
    "# print most common items\n",
    "cnt.most_common(2)"
   ]
  },
  {
   "cell_type": "code",
   "execution_count": null,
   "id": "dd79719e",
   "metadata": {},
   "outputs": [],
   "source": [
    "# a prettier way to display most common items:\n",
    "\n",
    "for thing, count in cnt.most_common(2):\n",
    "    print(f\"Item {thing} appeared {count} time(s).\")"
   ]
  },
  {
   "cell_type": "code",
   "execution_count": null,
   "id": "4915bcd9",
   "metadata": {},
   "outputs": [],
   "source": [
    "cnt2 = Counter(\"mans teksts\")"
   ]
  },
  {
   "cell_type": "code",
   "execution_count": null,
   "id": "95b58781",
   "metadata": {},
   "outputs": [],
   "source": [
    "cnt2"
   ]
  },
  {
   "cell_type": "markdown",
   "id": "9cc8c351-505b-4b08-a4d5-ac9bcdbeb84d",
   "metadata": {},
   "source": [
    "### Example: datetime - Date and Time Operations\n",
    "\n",
    "https://docs.python.org/3/library/datetime.html"
   ]
  },
  {
   "cell_type": "code",
   "execution_count": null,
   "id": "a576d84d-3059-406f-b66e-aedacddd3897",
   "metadata": {},
   "outputs": [],
   "source": [
    "import datetime as dt"
   ]
  },
  {
   "cell_type": "code",
   "execution_count": null,
   "id": "aa8600c4-b018-42ac-bbf5-e6e60adb6553",
   "metadata": {},
   "outputs": [],
   "source": [
    "start = dt.datetime(2023, 9, 1)\n",
    "now = dt.datetime.today()"
   ]
  },
  {
   "cell_type": "code",
   "execution_count": null,
   "id": "7708348e-fc09-4bfc-9abd-4db4ae7a8029",
   "metadata": {},
   "outputs": [],
   "source": [
    "print(start)\n",
    "print(now)"
   ]
  },
  {
   "cell_type": "code",
   "execution_count": null,
   "id": "88587388-d923-4e3b-9909-2683ff5751f5",
   "metadata": {},
   "outputs": [],
   "source": [
    "# difference between two datetime values\n",
    "\n",
    "print(now - start)"
   ]
  },
  {
   "cell_type": "markdown",
   "id": "bebadad6-4b56-4e85-ae9e-299ff405fbe6",
   "metadata": {},
   "source": [
    "### Example: time - Time Access and Conversion\n",
    "\n",
    "https://docs.python.org/3/library/time.html"
   ]
  },
  {
   "cell_type": "code",
   "execution_count": null,
   "id": "c98f199b-56e4-4871-9ebc-05e3736c3cef",
   "metadata": {},
   "outputs": [],
   "source": [
    "import time"
   ]
  },
  {
   "cell_type": "code",
   "execution_count": null,
   "id": "e73aa28b-0177-4edc-9a12-61ef7a0ee8c5",
   "metadata": {},
   "outputs": [],
   "source": [
    "curr_time = time.localtime()\n",
    "\n",
    "# format a date-time string\n",
    "print(time.strftime(\"%a, %d %b %Y %H:%M:%S\", curr_time))"
   ]
  },
  {
   "cell_type": "code",
   "execution_count": null,
   "id": "00a10d7f-b654-478d-bc94-524319d5ebc0",
   "metadata": {},
   "outputs": [],
   "source": [
    "\n",
    "# parse (interpret) as date-time string\n",
    "time.strptime(\"11 Oct 23\", \"%d %b %y\")"
   ]
  },
  {
   "cell_type": "markdown",
   "id": "1741697f",
   "metadata": {},
   "source": [
    "---\n",
    "\n",
    "## External libraries\n",
    "\n",
    "[Awesome Python](https://github.com/vinta/awesome-python) resources list\n",
    "\n",
    "External libraries need to be installed before use.\n"
   ]
  },
  {
   "cell_type": "markdown",
   "id": "11bcfead",
   "metadata": {},
   "source": [
    "### Example : requests\n",
    "\n",
    "\"Requests is an elegant and simple HTTP library for Python, built for human beings.\"\n",
    "\n",
    "https://requests.readthedocs.io/en/latest/"
   ]
  },
  {
   "cell_type": "code",
   "execution_count": null,
   "id": "0a4b5ae1",
   "metadata": {},
   "outputs": [],
   "source": [
    "## Installation of the library depends on what Python distribution you use\n",
    "## Example of installing requests using the pip command:\n",
    "\n",
    "# !pip install requests"
   ]
  },
  {
   "cell_type": "code",
   "execution_count": null,
   "id": "d62864ef",
   "metadata": {},
   "outputs": [],
   "source": [
    "import requests"
   ]
  },
  {
   "cell_type": "code",
   "execution_count": null,
   "id": "0626dc29",
   "metadata": {},
   "outputs": [],
   "source": [
    "# raw text of Wikipedia article about Salaspils\n",
    "url = \"https://lv.wikipedia.org/wiki/Salaspils?action=raw\""
   ]
  },
  {
   "cell_type": "code",
   "execution_count": null,
   "id": "2227512a",
   "metadata": {},
   "outputs": [],
   "source": [
    "# let's get the contents of this webpage\n",
    "\n",
    "result = requests.get(url)\n",
    "\n",
    "# result code \"200\" means the page was retrieved OK\n",
    "print(result.status_code)\n",
    "print()\n",
    "\n",
    "# this is the \"text\" of the webpage\n",
    "print(result.text[:3000])"
   ]
  },
  {
   "cell_type": "markdown",
   "id": "f446b5be",
   "metadata": {},
   "source": [
    "### Exercise\n",
    "\n",
    "Count the number of words in the text of the webpage retrieved above and display a list of Top 10 words on this webpage.\n"
   ]
  },
  {
   "cell_type": "code",
   "execution_count": null,
   "id": "1bf41500",
   "metadata": {},
   "outputs": [],
   "source": [
    "data = result.text"
   ]
  },
  {
   "cell_type": "code",
   "execution_count": null,
   "id": "f2810c0e-3633-4e76-ac05-c68dc998a33e",
   "metadata": {},
   "outputs": [],
   "source": []
  },
  {
   "cell_type": "markdown",
   "id": "fc89a1dd",
   "metadata": {},
   "source": [
    "## Other libraries\n",
    "\n",
    "What other Python libraries do you need / are interested in?"
   ]
  },
  {
   "cell_type": "code",
   "execution_count": null,
   "id": "40a13db7",
   "metadata": {},
   "outputs": [],
   "source": []
  },
  {
   "cell_type": "code",
   "execution_count": null,
   "id": "cf4b3f22",
   "metadata": {},
   "outputs": [],
   "source": []
  },
  {
   "cell_type": "code",
   "execution_count": null,
   "id": "a6b9dadc",
   "metadata": {},
   "outputs": [],
   "source": []
  }
 ],
 "metadata": {
  "kernelspec": {
   "display_name": "Python 3 (ipykernel)",
   "language": "python",
   "name": "python3"
  },
  "language_info": {
   "codemirror_mode": {
    "name": "ipython",
    "version": 3
   },
   "file_extension": ".py",
   "mimetype": "text/x-python",
   "name": "python",
   "nbconvert_exporter": "python",
   "pygments_lexer": "ipython3",
   "version": "3.9.16"
  }
 },
 "nbformat": 4,
 "nbformat_minor": 5
}
