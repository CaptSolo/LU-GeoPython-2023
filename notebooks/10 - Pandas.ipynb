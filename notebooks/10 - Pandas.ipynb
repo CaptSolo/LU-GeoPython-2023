{
 "cells": [
  {
   "cell_type": "markdown",
   "metadata": {},
   "source": [
    "<center><h1>Python Pandas Tutorial</h1><center>"
   ]
  },
  {
   "cell_type": "markdown",
   "metadata": {},
   "source": [
    "## Pandas is Python Data Analysis Library\n",
    "\n",
    "Pandas is an open source, BSD-licensed(can use for commercial means) library providing high-performance, easy-to-use data structures and data analysis tools for the Python programming language"
   ]
  },
  {
   "cell_type": "markdown",
   "metadata": {},
   "source": [
    "* Widely used\n",
    "* Open Source\n",
    "* Active Development\n",
    "* Great Documentation\n",
    "\n",
    "Home Page: http://pandas.pydata.org/\n",
    "\n",
    "User Documentation: http://pandas.pydata.org/pandas-docs/stable/\n",
    "\n",
    "Great Cheat Sheet: https://github.com/pandas-dev/pandas/blob/master/doc/cheatsheet/Pandas_Cheat_Sheet.pdf\n",
    "\n",
    "Best book by Pandas' creator Wes McKinney (3rd Edition 2022): https://wesmckinney.com/book/\n",
    "\n",
    "GeoPandas: https://geopandas.org/"
   ]
  },
  {
   "cell_type": "markdown",
   "metadata": {},
   "source": [
    "### Pandas resources\n",
    "\n",
    "- https://www.dataschool.io/easier-data-analysis-with-pandas/ (video)\n",
    "\n",
    "- Tutorials: https://pandas.pydata.org/pandas-docs/stable/getting_started/tutorials.html\n",
    "  - [\"Getting started\"](https://pandas.pydata.org/pandas-docs/stable/getting_started/index.html) - see also the \"10 minutes to pandas\" section\n",
    "  - [\"Modern Pandas\"](http://tomaugspurger.github.io/modern-1-intro.html) tutorial\n",
    "  - [Python Data Science Handbook - Pandas](https://jakevdp.github.io/PythonDataScienceHandbook/index.html#3.-Data-Manipulation-with-Pandas)\n",
    "  \n",
    "- [Pandas cheat-sheet](https://github.com/CaptSolo/LU_GeoPython_2022/blob/main/notebooks/pandas_cheatsheet.pdf)\n",
    "\n",
    "Pandas offers two labeled data structures: pd.Series and pd.DataFrame\n"
   ]
  },
  {
   "cell_type": "code",
   "execution_count": 2,
   "metadata": {},
   "outputs": [
    {
     "name": "stdout",
     "output_type": "stream",
     "text": [
      "Requirement already satisfied: pandas in /Users/captsolo/_changed_stuff_/Code/LU_GeoPython_2023/venv/lib/python3.9/site-packages (2.1.1)\n",
      "Requirement already satisfied: python-dateutil>=2.8.2 in /Users/captsolo/_changed_stuff_/Code/LU_GeoPython_2023/venv/lib/python3.9/site-packages (from pandas) (2.8.2)\n",
      "Requirement already satisfied: numpy>=1.22.4 in /Users/captsolo/_changed_stuff_/Code/LU_GeoPython_2023/venv/lib/python3.9/site-packages (from pandas) (1.26.1)\n",
      "Requirement already satisfied: pytz>=2020.1 in /Users/captsolo/_changed_stuff_/Code/LU_GeoPython_2023/venv/lib/python3.9/site-packages (from pandas) (2023.3.post1)\n",
      "Requirement already satisfied: tzdata>=2022.1 in /Users/captsolo/_changed_stuff_/Code/LU_GeoPython_2023/venv/lib/python3.9/site-packages (from pandas) (2023.3)\n",
      "Requirement already satisfied: six>=1.5 in /Users/captsolo/_changed_stuff_/Code/LU_GeoPython_2023/venv/lib/python3.9/site-packages (from python-dateutil>=2.8.2->pandas) (1.16.0)\n",
      "\u001b[33mWARNING: You are using pip version 22.0.4; however, version 23.3.1 is available.\n",
      "You should consider upgrading via the '/Users/captsolo/_changed_stuff_/Code/LU_GeoPython_2023/venv/bin/python -m pip install --upgrade pip' command.\u001b[0m\u001b[33m\n",
      "\u001b[0m"
     ]
    }
   ],
   "source": [
    "!pip install pandas"
   ]
  },
  {
   "cell_type": "code",
   "execution_count": 1,
   "metadata": {},
   "outputs": [],
   "source": [
    "import pandas as pd"
   ]
  },
  {
   "cell_type": "code",
   "execution_count": 3,
   "metadata": {},
   "outputs": [],
   "source": [
    "#pd.reset_option('display.max_rows')\n",
    "pd.options.display.max_rows = 40"
   ]
  },
  {
   "cell_type": "code",
   "execution_count": 4,
   "metadata": {},
   "outputs": [],
   "source": [
    "import numpy as np # another big library with various numeric functions"
   ]
  },
  {
   "cell_type": "code",
   "execution_count": 5,
   "metadata": {},
   "outputs": [],
   "source": [
    "import matplotlib.pyplot as plt"
   ]
  },
  {
   "cell_type": "markdown",
   "metadata": {},
   "source": [
    "#### Lambda functions"
   ]
  },
  {
   "cell_type": "code",
   "execution_count": 6,
   "metadata": {},
   "outputs": [
    {
     "data": {
      "text/plain": [
       "<function __main__.<lambda>(a, b)>"
      ]
     },
     "execution_count": 6,
     "metadata": {},
     "output_type": "execute_result"
    }
   ],
   "source": [
    "fun1 = lambda a, b: a+b\n",
    "\n",
    "fun1"
   ]
  },
  {
   "cell_type": "code",
   "execution_count": 7,
   "metadata": {},
   "outputs": [
    {
     "data": {
      "text/plain": [
       "15"
      ]
     },
     "execution_count": 7,
     "metadata": {},
     "output_type": "execute_result"
    }
   ],
   "source": [
    "fun1(12, 3)"
   ]
  },
  {
   "cell_type": "code",
   "execution_count": 9,
   "metadata": {},
   "outputs": [
    {
     "data": {
      "text/plain": [
       "[('Uldis', 'Bojārs'), ('Jānis', 'Bērziņš'), ('Baiba', 'Kalniņa')]"
      ]
     },
     "execution_count": 9,
     "metadata": {},
     "output_type": "execute_result"
    }
   ],
   "source": [
    "a = [(\"Uldis\", \"Bojārs\"), (\"Jānis\", \"Bērziņš\"), (\"Baiba\", \"Kalniņa\")]\n",
    "\n",
    "a"
   ]
  },
  {
   "cell_type": "code",
   "execution_count": 10,
   "metadata": {},
   "outputs": [
    {
     "data": {
      "text/plain": [
       "[('Baiba', 'Kalniņa'), ('Jānis', 'Bērziņš'), ('Uldis', 'Bojārs')]"
      ]
     },
     "execution_count": 10,
     "metadata": {},
     "output_type": "execute_result"
    }
   ],
   "source": [
    "sorted(a)"
   ]
  },
  {
   "cell_type": "code",
   "execution_count": 11,
   "metadata": {},
   "outputs": [
    {
     "name": "stdout",
     "output_type": "stream",
     "text": [
      "Help on built-in function sorted in module builtins:\n",
      "\n",
      "sorted(iterable, /, *, key=None, reverse=False)\n",
      "    Return a new list containing all items from the iterable in ascending order.\n",
      "    \n",
      "    A custom key function can be supplied to customize the sort order, and the\n",
      "    reverse flag can be set to request the result in descending order.\n",
      "\n"
     ]
    }
   ],
   "source": [
    "help(sorted)"
   ]
  },
  {
   "cell_type": "code",
   "execution_count": 12,
   "metadata": {},
   "outputs": [
    {
     "data": {
      "text/plain": [
       "[('Uldis', 'Bojārs'), ('Jānis', 'Bērziņš'), ('Baiba', 'Kalniņa')]"
      ]
     },
     "execution_count": 12,
     "metadata": {},
     "output_type": "execute_result"
    }
   ],
   "source": [
    "sorted(a, key = lambda elem: elem[1])"
   ]
  },
  {
   "cell_type": "code",
   "execution_count": null,
   "metadata": {},
   "outputs": [],
   "source": [
    "def fun1(elem):\n",
    "    return elem[1]"
   ]
  },
  {
   "cell_type": "code",
   "execution_count": null,
   "metadata": {},
   "outputs": [],
   "source": [
    "sorted(a, key = fun1)"
   ]
  },
  {
   "cell_type": "markdown",
   "metadata": {},
   "source": [
    "## Reading data files"
   ]
  },
  {
   "cell_type": "code",
   "execution_count": 17,
   "metadata": {},
   "outputs": [],
   "source": [
    "# Pandas can read data not just from files but also from web URLs:\n",
    "\n",
    "# city_data = pd.read_csv(\"data/iedz_skaits_2018.csv\", index_col=0)\n",
    "csv_url = \"https://raw.githubusercontent.com/CaptSolo/LU_GeoPython_2023/main/notebooks/data/iedz_skaits_2018.csv\"\n",
    "\n",
    "city_data = pd.read_csv(csv_url, index_col=0)"
   ]
  },
  {
   "cell_type": "code",
   "execution_count": null,
   "metadata": {},
   "outputs": [],
   "source": [
    "help(pd.read_csv)"
   ]
  },
  {
   "cell_type": "code",
   "execution_count": 18,
   "metadata": {},
   "outputs": [
    {
     "data": {
      "text/html": [
       "<div>\n",
       "<style scoped>\n",
       "    .dataframe tbody tr th:only-of-type {\n",
       "        vertical-align: middle;\n",
       "    }\n",
       "\n",
       "    .dataframe tbody tr th {\n",
       "        vertical-align: top;\n",
       "    }\n",
       "\n",
       "    .dataframe thead th {\n",
       "        text-align: right;\n",
       "    }\n",
       "</style>\n",
       "<table border=\"1\" class=\"dataframe\">\n",
       "  <thead>\n",
       "    <tr style=\"text-align: right;\">\n",
       "      <th></th>\n",
       "      <th>2018 Iedzīvotāju skaits gada sākumā</th>\n",
       "    </tr>\n",
       "    <tr>\n",
       "      <th>Teritoriālā vienība</th>\n",
       "      <th></th>\n",
       "    </tr>\n",
       "  </thead>\n",
       "  <tbody>\n",
       "    <tr>\n",
       "      <th>Rīga</th>\n",
       "      <td>637971</td>\n",
       "    </tr>\n",
       "    <tr>\n",
       "      <th>Daugavpils</th>\n",
       "      <td>83250</td>\n",
       "    </tr>\n",
       "    <tr>\n",
       "      <th>Jelgava</th>\n",
       "      <td>56383</td>\n",
       "    </tr>\n",
       "    <tr>\n",
       "      <th>Jēkabpils</th>\n",
       "      <td>22188</td>\n",
       "    </tr>\n",
       "    <tr>\n",
       "      <th>Jūrmala</th>\n",
       "      <td>49073</td>\n",
       "    </tr>\n",
       "    <tr>\n",
       "      <th>...</th>\n",
       "      <td>...</td>\n",
       "    </tr>\n",
       "    <tr>\n",
       "      <th>Viļaka</th>\n",
       "      <td>1301</td>\n",
       "    </tr>\n",
       "    <tr>\n",
       "      <th>Viļānu novads</th>\n",
       "      <td>5659</td>\n",
       "    </tr>\n",
       "    <tr>\n",
       "      <th>Viļāni</th>\n",
       "      <td>2891</td>\n",
       "    </tr>\n",
       "    <tr>\n",
       "      <th>Zilupes novads</th>\n",
       "      <td>2766</td>\n",
       "    </tr>\n",
       "    <tr>\n",
       "      <th>Zilupe</th>\n",
       "      <td>1437</td>\n",
       "    </tr>\n",
       "  </tbody>\n",
       "</table>\n",
       "<p>186 rows × 1 columns</p>\n",
       "</div>"
      ],
      "text/plain": [
       "                     2018 Iedzīvotāju skaits gada sākumā\n",
       "Teritoriālā vienība                                     \n",
       "Rīga                                              637971\n",
       "Daugavpils                                         83250\n",
       "Jelgava                                            56383\n",
       "Jēkabpils                                          22188\n",
       "Jūrmala                                            49073\n",
       "...                                                  ...\n",
       "Viļaka                                              1301\n",
       "Viļānu novads                                       5659\n",
       "Viļāni                                              2891\n",
       "Zilupes novads                                      2766\n",
       "Zilupe                                              1437\n",
       "\n",
       "[186 rows x 1 columns]"
      ]
     },
     "execution_count": 18,
     "metadata": {},
     "output_type": "execute_result"
    }
   ],
   "source": [
    "city_data"
   ]
  },
  {
   "cell_type": "code",
   "execution_count": 19,
   "metadata": {},
   "outputs": [
    {
     "data": {
      "text/html": [
       "<div>\n",
       "<style scoped>\n",
       "    .dataframe tbody tr th:only-of-type {\n",
       "        vertical-align: middle;\n",
       "    }\n",
       "\n",
       "    .dataframe tbody tr th {\n",
       "        vertical-align: top;\n",
       "    }\n",
       "\n",
       "    .dataframe thead th {\n",
       "        text-align: right;\n",
       "    }\n",
       "</style>\n",
       "<table border=\"1\" class=\"dataframe\">\n",
       "  <thead>\n",
       "    <tr style=\"text-align: right;\">\n",
       "      <th></th>\n",
       "      <th>2018 Iedzīvotāju skaits gada sākumā</th>\n",
       "    </tr>\n",
       "    <tr>\n",
       "      <th>Teritoriālā vienība</th>\n",
       "      <th></th>\n",
       "    </tr>\n",
       "  </thead>\n",
       "  <tbody>\n",
       "    <tr>\n",
       "      <th>Rīga</th>\n",
       "      <td>637971</td>\n",
       "    </tr>\n",
       "    <tr>\n",
       "      <th>Daugavpils</th>\n",
       "      <td>83250</td>\n",
       "    </tr>\n",
       "    <tr>\n",
       "      <th>Jelgava</th>\n",
       "      <td>56383</td>\n",
       "    </tr>\n",
       "    <tr>\n",
       "      <th>Jēkabpils</th>\n",
       "      <td>22188</td>\n",
       "    </tr>\n",
       "    <tr>\n",
       "      <th>Jūrmala</th>\n",
       "      <td>49073</td>\n",
       "    </tr>\n",
       "  </tbody>\n",
       "</table>\n",
       "</div>"
      ],
      "text/plain": [
       "                     2018 Iedzīvotāju skaits gada sākumā\n",
       "Teritoriālā vienība                                     \n",
       "Rīga                                              637971\n",
       "Daugavpils                                         83250\n",
       "Jelgava                                            56383\n",
       "Jēkabpils                                          22188\n",
       "Jūrmala                                            49073"
      ]
     },
     "execution_count": 19,
     "metadata": {},
     "output_type": "execute_result"
    }
   ],
   "source": [
    "city_data.head()"
   ]
  },
  {
   "cell_type": "code",
   "execution_count": 20,
   "metadata": {},
   "outputs": [
    {
     "data": {
      "text/plain": [
       "pandas.core.frame.DataFrame"
      ]
     },
     "execution_count": 20,
     "metadata": {},
     "output_type": "execute_result"
    }
   ],
   "source": [
    "type(city_data)"
   ]
  },
  {
   "cell_type": "code",
   "execution_count": 21,
   "metadata": {},
   "outputs": [
    {
     "data": {
      "text/plain": [
       "(array([-25.,   0.,  25.,  50.,  75., 100., 125., 150., 175., 200.]),\n",
       " [Text(-25.0, 0, 'Sabile'),\n",
       "  Text(0.0, 0, 'Rīga'),\n",
       "  Text(25.0, 0, 'Auces novads'),\n",
       "  Text(50.0, 0, 'Dobele'),\n",
       "  Text(75.0, 0, 'Kandavas novads'),\n",
       "  Text(100.0, 0, 'Lubāna'),\n",
       "  Text(125.0, 0, 'Priekules novads'),\n",
       "  Text(150.0, 0, 'Sigulda'),\n",
       "  Text(175.0, 0, 'Vecumnieku novads'),\n",
       "  Text(200.0, 0, '')])"
      ]
     },
     "execution_count": 21,
     "metadata": {},
     "output_type": "execute_result"
    },
    {
     "data": {
      "image/png": "[encoded data removed]",
      "text/plain": [
       "<Figure size 640x480 with 1 Axes>"
      ]
     },
     "metadata": {},
     "output_type": "display_data"
    }
   ],
   "source": [
    "city_data.plot()\n",
    "plt.xticks(rotation=90)"
   ]
  },
  {
   "cell_type": "code",
   "execution_count": 22,
   "metadata": {},
   "outputs": [
    {
     "data": {
      "text/plain": [
       "pandas.core.series.Series"
      ]
     },
     "execution_count": 22,
     "metadata": {},
     "output_type": "execute_result"
    }
   ],
   "source": [
    "city_series = city_data.squeeze()\n",
    "type(city_series)"
   ]
  },
  {
   "cell_type": "code",
   "execution_count": 23,
   "metadata": {},
   "outputs": [
    {
     "data": {
      "text/plain": [
       "Teritoriālā vienība\n",
       "Rīga          637971\n",
       "Daugavpils     83250\n",
       "Jelgava        56383\n",
       "Jēkabpils      22188\n",
       "Jūrmala        49073\n",
       "Name: 2018 Iedzīvotāju skaits gada sākumā, dtype: int64"
      ]
     },
     "execution_count": 23,
     "metadata": {},
     "output_type": "execute_result"
    }
   ],
   "source": [
    "city_series.head()"
   ]
  },
  {
   "cell_type": "code",
   "execution_count": 24,
   "metadata": {},
   "outputs": [
    {
     "data": {
      "text/plain": [
       "18071"
      ]
     },
     "execution_count": 24,
     "metadata": {},
     "output_type": "execute_result"
    }
   ],
   "source": [
    "city_series[\"Salaspils\"]"
   ]
  },
  {
   "cell_type": "code",
   "execution_count": 25,
   "metadata": {},
   "outputs": [
    {
     "data": {
      "text/plain": [
       "2254964"
      ]
     },
     "execution_count": 25,
     "metadata": {},
     "output_type": "execute_result"
    }
   ],
   "source": [
    "city_series.sum()"
   ]
  },
  {
   "cell_type": "code",
   "execution_count": 26,
   "metadata": {},
   "outputs": [
    {
     "data": {
      "text/plain": [
       "count       186.000000\n",
       "mean      12123.462366\n",
       "std       47444.415575\n",
       "min         503.000000\n",
       "25%        2660.750000\n",
       "50%        5238.500000\n",
       "75%        9831.750000\n",
       "max      637971.000000\n",
       "Name: 2018 Iedzīvotāju skaits gada sākumā, dtype: float64"
      ]
     },
     "execution_count": 26,
     "metadata": {},
     "output_type": "execute_result"
    }
   ],
   "source": [
    "city_series.describe()"
   ]
  },
  {
   "cell_type": "code",
   "execution_count": 35,
   "metadata": {},
   "outputs": [
    {
     "data": {
      "text/plain": [
       "Teritoriālā vienība\n",
       "Alsungas novads     False\n",
       "Viesīte             False\n",
       "Ventspils           False\n",
       "Aizkraukle          False\n",
       "Ilūkste             False\n",
       "Bauskas novads      False\n",
       "Pāvilosta            True\n",
       "Jēkabpils novads    False\n",
       "Mazsalaca           False\n",
       "Priekuļu novads     False\n",
       "Name: 2018 Iedzīvotāju skaits gada sākumā, dtype: bool"
      ]
     },
     "execution_count": 35,
     "metadata": {},
     "output_type": "execute_result"
    }
   ],
   "source": [
    "(city_series < 1000).sample(10)"
   ]
  },
  {
   "cell_type": "code",
   "execution_count": 36,
   "metadata": {},
   "outputs": [
    {
     "data": {
      "text/plain": [
       "Teritoriālā vienība\n",
       "Staicele     877\n",
       "Ape          850\n",
       "Durbe        503\n",
       "Subate       635\n",
       "Līgatne      994\n",
       "Pāvilosta    894\n",
       "Ainaži       689\n",
       "Piltene      903\n",
       "Name: 2018 Iedzīvotāju skaits gada sākumā, dtype: int64"
      ]
     },
     "execution_count": 36,
     "metadata": {},
     "output_type": "execute_result"
    }
   ],
   "source": [
    "city_series[city_series < 1000]"
   ]
  },
  {
   "cell_type": "code",
   "execution_count": 37,
   "metadata": {},
   "outputs": [
    {
     "data": {
      "text/plain": [
       "Teritoriālā vienība\n",
       "Saulkrasti           False\n",
       "Rēzeknes novads      False\n",
       "Pāvilostas novads    False\n",
       "Strenču novads       False\n",
       "Burtnieku novads     False\n",
       "Stopiņu novads       False\n",
       "Bauska               False\n",
       "Viļānu novads        False\n",
       "Nīcas novads         False\n",
       "Alūksnes novads      False\n",
       "Kandavas novads      False\n",
       "Ķekavas novads       False\n",
       "Ķeguma novads        False\n",
       "Sējas novads         False\n",
       "Cēsu novads          False\n",
       "Valka                False\n",
       "Auce                 False\n",
       "Siguldas novads      False\n",
       "Naukšēnu novads      False\n",
       "Preiļi               False\n",
       "Name: 2018 Iedzīvotāju skaits gada sākumā, dtype: bool"
      ]
     },
     "execution_count": 37,
     "metadata": {},
     "output_type": "execute_result"
    }
   ],
   "source": [
    "bitmap = city_series < 1000\n",
    "bitmap.sample(20)   # kādēļ sample() nevis head()"
   ]
  },
  {
   "cell_type": "code",
   "execution_count": 38,
   "metadata": {},
   "outputs": [
    {
     "data": {
      "text/plain": [
       "Teritoriālā vienība\n",
       "Ainaži       689\n",
       "Ape          850\n",
       "Durbe        503\n",
       "Līgatne      994\n",
       "Piltene      903\n",
       "Pāvilosta    894\n",
       "Staicele     877\n",
       "Subate       635\n",
       "Name: 2018 Iedzīvotāju skaits gada sākumā, dtype: int64"
      ]
     },
     "execution_count": 38,
     "metadata": {},
     "output_type": "execute_result"
    }
   ],
   "source": [
    "city_series[bitmap].sort_index()"
   ]
  },
  {
   "cell_type": "code",
   "execution_count": 39,
   "metadata": {},
   "outputs": [
    {
     "data": {
      "text/plain": [
       "Teritoriālā vienība\n",
       "Līgatne      994\n",
       "Piltene      903\n",
       "Pāvilosta    894\n",
       "Staicele     877\n",
       "Ape          850\n",
       "Ainaži       689\n",
       "Subate       635\n",
       "Durbe        503\n",
       "Name: 2018 Iedzīvotāju skaits gada sākumā, dtype: int64"
      ]
     },
     "execution_count": 39,
     "metadata": {},
     "output_type": "execute_result"
    }
   ],
   "source": [
    "city_series[bitmap].sort_values(ascending=False)"
   ]
  },
  {
   "cell_type": "markdown",
   "metadata": {},
   "source": [
    "# Pandas' two fundamental data structures: Series and DataFrame."
   ]
  },
  {
   "cell_type": "markdown",
   "metadata": {},
   "source": [
    "### Series\n",
    "A Series is a one-dimensional array-like object containing a sequence of values (\n",
    "similar types to NumPy types) and an associated array of data labels - index.\n",
    "Simplest Series is from an array of data."
   ]
  },
  {
   "cell_type": "code",
   "execution_count": null,
   "metadata": {},
   "outputs": [],
   "source": [
    "# Let's create some Series!"
   ]
  },
  {
   "cell_type": "code",
   "execution_count": 40,
   "metadata": {},
   "outputs": [
    {
     "data": {
      "text/plain": [
       "0    1.0\n",
       "1    4.0\n",
       "2    3.5\n",
       "3    3.0\n",
       "4    NaN\n",
       "5    0.0\n",
       "6   -5.0\n",
       "dtype: float64"
      ]
     },
     "execution_count": 40,
     "metadata": {},
     "output_type": "execute_result"
    }
   ],
   "source": [
    "s = pd.Series([1,4,3.5,3,np.nan,0,-5])\n",
    "s"
   ]
  },
  {
   "cell_type": "code",
   "execution_count": 41,
   "metadata": {},
   "outputs": [
    {
     "data": {
      "text/plain": [
       "0    5.0\n",
       "1    8.0\n",
       "2    7.5\n",
       "3    7.0\n",
       "4    NaN\n",
       "5    4.0\n",
       "6   -1.0\n",
       "dtype: float64"
      ]
     },
     "execution_count": 41,
     "metadata": {},
     "output_type": "execute_result"
    }
   ],
   "source": [
    "# we can perform operations on whole Series in one go:\n",
    "\n",
    "s + 4"
   ]
  },
  {
   "cell_type": "code",
   "execution_count": null,
   "metadata": {},
   "outputs": [],
   "source": [
    "# NaN = Not a Number (used for missing numerical values)\n",
    "# https://pandas.pydata.org/pandas-docs/stable/user_guide/missing_data.html"
   ]
  },
  {
   "cell_type": "code",
   "execution_count": 42,
   "metadata": {},
   "outputs": [
    {
     "data": {
      "text/plain": [
       "0     4.0\n",
       "1    16.0\n",
       "2    14.0\n",
       "3    12.0\n",
       "4     NaN\n",
       "5     0.0\n",
       "6   -20.0\n",
       "dtype: float64"
      ]
     },
     "execution_count": 42,
     "metadata": {},
     "output_type": "execute_result"
    }
   ],
   "source": [
    "s2 = s * 4 \n",
    "s2"
   ]
  },
  {
   "cell_type": "code",
   "execution_count": 43,
   "metadata": {},
   "outputs": [
    {
     "data": {
      "text/plain": [
       "0     16.0\n",
       "1    256.0\n",
       "2    196.0\n",
       "3    144.0\n",
       "4      NaN\n",
       "5      0.0\n",
       "6    400.0\n",
       "dtype: float64"
      ]
     },
     "execution_count": 43,
     "metadata": {},
     "output_type": "execute_result"
    }
   ],
   "source": [
    "s2**2"
   ]
  },
  {
   "cell_type": "code",
   "execution_count": null,
   "metadata": {},
   "outputs": [],
   "source": [
    "### Often you want Series with an index identifying each data point with a label "
   ]
  },
  {
   "cell_type": "code",
   "execution_count": 44,
   "metadata": {},
   "outputs": [
    {
     "data": {
      "text/plain": [
       "d    24\n",
       "e    77\n",
       "a   -35\n",
       "g    31\n",
       "dtype: int64"
      ]
     },
     "execution_count": 44,
     "metadata": {},
     "output_type": "execute_result"
    }
   ],
   "source": [
    "labeledSeries = pd.Series([24, 77, -35, 31], index=['d', 'e', 'a', 'g'])\n",
    "labeledSeries"
   ]
  },
  {
   "cell_type": "code",
   "execution_count": null,
   "metadata": {},
   "outputs": [],
   "source": [
    "## A  bit similar to dictionary isn't it?\n"
   ]
  },
  {
   "cell_type": "code",
   "execution_count": 45,
   "metadata": {},
   "outputs": [
    {
     "data": {
      "text/plain": [
       "31"
      ]
     },
     "execution_count": 45,
     "metadata": {},
     "output_type": "execute_result"
    }
   ],
   "source": [
    "labeledSeries['g']"
   ]
  },
  {
   "cell_type": "code",
   "execution_count": 46,
   "metadata": {},
   "outputs": [
    {
     "data": {
      "text/plain": [
       "Index(['d', 'e', 'a', 'g'], dtype='object')"
      ]
     },
     "execution_count": 46,
     "metadata": {},
     "output_type": "execute_result"
    }
   ],
   "source": [
    "labeledSeries.index"
   ]
  },
  {
   "cell_type": "code",
   "execution_count": 47,
   "metadata": {},
   "outputs": [
    {
     "data": {
      "text/plain": [
       "array([ 24,  77, -35,  31])"
      ]
     },
     "execution_count": 47,
     "metadata": {},
     "output_type": "execute_result"
    }
   ],
   "source": [
    "labeledSeries.values"
   ]
  },
  {
   "cell_type": "code",
   "execution_count": 48,
   "metadata": {},
   "outputs": [
    {
     "data": {
      "text/plain": [
       "a   -35\n",
       "d    24\n",
       "dtype: int64"
      ]
     },
     "execution_count": 48,
     "metadata": {},
     "output_type": "execute_result"
    }
   ],
   "source": [
    "labeledSeries[['a','d']] # NOTE double list brackets!!"
   ]
  },
  {
   "cell_type": "code",
   "execution_count": null,
   "metadata": {},
   "outputs": [],
   "source": [
    "labeledSeries"
   ]
  },
  {
   "cell_type": "code",
   "execution_count": 49,
   "metadata": {},
   "outputs": [
    {
     "data": {
      "text/plain": [
       "d    False\n",
       "e     True\n",
       "a    False\n",
       "g     True\n",
       "dtype: bool"
      ]
     },
     "execution_count": 49,
     "metadata": {},
     "output_type": "execute_result"
    }
   ],
   "source": [
    "# result of comparison = boolean array\n",
    "\n",
    "labeledSeries > 30"
   ]
  },
  {
   "cell_type": "code",
   "execution_count": 50,
   "metadata": {},
   "outputs": [
    {
     "data": {
      "text/plain": [
       "e    77\n",
       "g    31\n",
       "dtype: int64"
      ]
     },
     "execution_count": 50,
     "metadata": {},
     "output_type": "execute_result"
    }
   ],
   "source": [
    "# select values via a boolean array\n",
    "\n",
    "labeledSeries[labeledSeries > 30]"
   ]
  },
  {
   "cell_type": "code",
   "execution_count": null,
   "metadata": {},
   "outputs": [],
   "source": [
    "# So Series behaves like a fixed-length, ordered dictionary with extra helper methods"
   ]
  },
  {
   "cell_type": "code",
   "execution_count": 51,
   "metadata": {},
   "outputs": [
    {
     "data": {
      "text/plain": [
       "True"
      ]
     },
     "execution_count": 51,
     "metadata": {},
     "output_type": "execute_result"
    }
   ],
   "source": [
    "'d' in labeledSeries"
   ]
  },
  {
   "cell_type": "markdown",
   "metadata": {},
   "source": [
    "### Can create series from dictionary by simply passing to constructor pd.Series(mydict)"
   ]
  },
  {
   "cell_type": "code",
   "execution_count": 52,
   "metadata": {},
   "outputs": [
    {
     "data": {
      "text/plain": [
       "{'Riga': 650000, 'Tukums': 20000, 'Ogre': 25000, 'Carnikava': 3000}"
      ]
     },
     "execution_count": 52,
     "metadata": {},
     "output_type": "execute_result"
    }
   ],
   "source": [
    "citydict = {'Riga': 650000, 'Tukums':20000, 'Ogre': 25000, 'Carnikava': 3000}\n",
    "citydict"
   ]
  },
  {
   "cell_type": "code",
   "execution_count": 53,
   "metadata": {},
   "outputs": [
    {
     "data": {
      "text/plain": [
       "Riga         650000\n",
       "Tukums        20000\n",
       "Ogre          25000\n",
       "Carnikava      3000\n",
       "dtype: int64"
      ]
     },
     "execution_count": 53,
     "metadata": {},
     "output_type": "execute_result"
    }
   ],
   "source": [
    "cseries = pd.Series(citydict)\n",
    "cseries"
   ]
  },
  {
   "cell_type": "code",
   "execution_count": 54,
   "metadata": {},
   "outputs": [
    {
     "data": {
      "text/plain": [
       "Jurmala            NaN\n",
       "Riga          650000.0\n",
       "Tukums         20000.0\n",
       "Ogre           25000.0\n",
       "Daugavpils         NaN\n",
       "dtype: float64"
      ]
     },
     "execution_count": 54,
     "metadata": {},
     "output_type": "execute_result"
    }
   ],
   "source": [
    "## Overwriting default index\n",
    "clist = ['Jurmala', 'Riga', 'Tukums', 'Ogre', 'Daugavpils']\n",
    "cseries2 = pd.Series(citydict, index = clist)\n",
    "cseries2"
   ]
  },
  {
   "cell_type": "code",
   "execution_count": null,
   "metadata": {},
   "outputs": [],
   "source": [
    "# notice Carnikava was lost, since our index did not have it!\n",
    "# and order was preserved from the given index list!"
   ]
  },
  {
   "cell_type": "code",
   "execution_count": 55,
   "metadata": {},
   "outputs": [
    {
     "data": {
      "text/plain": [
       "Jurmala        True\n",
       "Riga          False\n",
       "Tukums        False\n",
       "Ogre          False\n",
       "Daugavpils     True\n",
       "dtype: bool"
      ]
     },
     "execution_count": 55,
     "metadata": {},
     "output_type": "execute_result"
    }
   ],
   "source": [
    "# For missing data\n",
    "cseries2.isnull()"
   ]
  },
  {
   "cell_type": "code",
   "execution_count": 56,
   "metadata": {},
   "outputs": [
    {
     "data": {
      "text/plain": [
       "Riga      650000.0\n",
       "Tukums     20000.0\n",
       "Ogre       25000.0\n",
       "dtype: float64"
      ]
     },
     "execution_count": 56,
     "metadata": {},
     "output_type": "execute_result"
    }
   ],
   "source": [
    "cseries2.dropna()"
   ]
  },
  {
   "cell_type": "code",
   "execution_count": 57,
   "metadata": {},
   "outputs": [
    {
     "data": {
      "text/plain": [
       "Jurmala            NaN\n",
       "Riga          650000.0\n",
       "Tukums         20000.0\n",
       "Ogre           25000.0\n",
       "Daugavpils         NaN\n",
       "dtype: float64"
      ]
     },
     "execution_count": 57,
     "metadata": {},
     "output_type": "execute_result"
    }
   ],
   "source": [
    "cseries2"
   ]
  },
  {
   "cell_type": "code",
   "execution_count": 58,
   "metadata": {},
   "outputs": [
    {
     "data": {
      "text/plain": [
       "Riga         650000\n",
       "Tukums        20000\n",
       "Ogre          25000\n",
       "Carnikava      3000\n",
       "dtype: int64"
      ]
     },
     "execution_count": 58,
     "metadata": {},
     "output_type": "execute_result"
    }
   ],
   "source": [
    "cseries"
   ]
  },
  {
   "cell_type": "code",
   "execution_count": 59,
   "metadata": {},
   "outputs": [
    {
     "data": {
      "text/plain": [
       "Carnikava           NaN\n",
       "Daugavpils          NaN\n",
       "Jurmala             NaN\n",
       "Ogre            50000.0\n",
       "Riga          1300000.0\n",
       "Tukums          40000.0\n",
       "dtype: float64"
      ]
     },
     "execution_count": 59,
     "metadata": {},
     "output_type": "execute_result"
    }
   ],
   "source": [
    "cseries3 = cseries + cseries2\n",
    "cseries3"
   ]
  },
  {
   "cell_type": "code",
   "execution_count": null,
   "metadata": {},
   "outputs": [],
   "source": [
    "# So NaN + number = NaN"
   ]
  },
  {
   "cell_type": "code",
   "execution_count": 60,
   "metadata": {},
   "outputs": [
    {
     "data": {
      "text/plain": [
       "City\n",
       "Riga         650000\n",
       "Tukums        20000\n",
       "Ogre          25000\n",
       "Carnikava      3000\n",
       "Name: Latvian Cities, dtype: int64"
      ]
     },
     "execution_count": 60,
     "metadata": {},
     "output_type": "execute_result"
    }
   ],
   "source": [
    "# we can name the table and its index column\n",
    "\n",
    "cseries.name = \"Latvian Cities\"\n",
    "cseries.index.name = \"City\"\n",
    "cseries"
   ]
  },
  {
   "cell_type": "code",
   "execution_count": 61,
   "metadata": {},
   "outputs": [
    {
     "data": {
      "text/plain": [
       "Index(['Riga', 'Tukums', 'Ogre', 'Carnikava'], dtype='object', name='City')"
      ]
     },
     "execution_count": 61,
     "metadata": {},
     "output_type": "execute_result"
    }
   ],
   "source": [
    "cseries.index"
   ]
  },
  {
   "cell_type": "code",
   "execution_count": 62,
   "metadata": {},
   "outputs": [
    {
     "data": {
      "text/plain": [
       "CarnikavaIsNotaCity    650000\n",
       "OgreEatsHumans          20000\n",
       "RigaIsOld               25000\n",
       "TukumsSmukums            3000\n",
       "Name: Latvian Cities, dtype: int64"
      ]
     },
     "execution_count": 62,
     "metadata": {},
     "output_type": "execute_result"
    }
   ],
   "source": [
    "cseries.index = ['CarnikavaIsNotaCity','OgreEatsHumans', 'RigaIsOld', 'TukumsSmukums']\n",
    "cseries"
   ]
  },
  {
   "cell_type": "code",
   "execution_count": 63,
   "metadata": {},
   "outputs": [
    {
     "data": {
      "text/plain": [
       "CarnikavaIsNotaCity    650000\n",
       "OgreEatsHumans          20000\n",
       "RigaIsOld              625000\n",
       "TukumsSmukums            3000\n",
       "Name: Latvian Cities, dtype: int64"
      ]
     },
     "execution_count": 63,
     "metadata": {},
     "output_type": "execute_result"
    }
   ],
   "source": [
    "# Series values are mutable\n",
    "cseries['RigaIsOld']=625000\n",
    "cseries"
   ]
  },
  {
   "cell_type": "code",
   "execution_count": 64,
   "metadata": {
    "tags": [
     "raises-exception"
    ]
   },
   "outputs": [
    {
     "ename": "TypeError",
     "evalue": "Index does not support mutable operations",
     "output_type": "error",
     "traceback": [
      "\u001b[0;31m---------------------------------------------------------------------------\u001b[0m",
      "\u001b[0;31mTypeError\u001b[0m                                 Traceback (most recent call last)",
      "Cell \u001b[0;32mIn[64], line 2\u001b[0m\n\u001b[1;32m      1\u001b[0m \u001b[38;5;66;03m# How to rename individual index elements?\u001b[39;00m\n\u001b[0;32m----> 2\u001b[0m \u001b[43mcseries\u001b[49m\u001b[38;5;241;43m.\u001b[39;49m\u001b[43mindex\u001b[49m\u001b[43m[\u001b[49m\u001b[38;5;241;43m2\u001b[39;49m\u001b[43m]\u001b[49m\u001b[38;5;241m=\u001b[39m\u001b[38;5;124m'\u001b[39m\u001b[38;5;124mRigaIsOldButFantastic\u001b[39m\u001b[38;5;124m'\u001b[39m\n\u001b[1;32m      3\u001b[0m cseries\n",
      "File \u001b[0;32m~/_changed_stuff_/Code/LU_GeoPython_2023/venv/lib/python3.9/site-packages/pandas/core/indexes/base.py:5347\u001b[0m, in \u001b[0;36mIndex.__setitem__\u001b[0;34m(self, key, value)\u001b[0m\n\u001b[1;32m   5345\u001b[0m \u001b[38;5;129m@final\u001b[39m\n\u001b[1;32m   5346\u001b[0m \u001b[38;5;28;01mdef\u001b[39;00m \u001b[38;5;21m__setitem__\u001b[39m(\u001b[38;5;28mself\u001b[39m, key, value) \u001b[38;5;241m-\u001b[39m\u001b[38;5;241m>\u001b[39m \u001b[38;5;28;01mNone\u001b[39;00m:\n\u001b[0;32m-> 5347\u001b[0m     \u001b[38;5;28;01mraise\u001b[39;00m \u001b[38;5;167;01mTypeError\u001b[39;00m(\u001b[38;5;124m\"\u001b[39m\u001b[38;5;124mIndex does not support mutable operations\u001b[39m\u001b[38;5;124m\"\u001b[39m)\n",
      "\u001b[0;31mTypeError\u001b[0m: Index does not support mutable operations"
     ]
    }
   ],
   "source": [
    "# How to rename individual index elements?\n",
    "cseries.index[2]='RigaIsOldButFantastic'\n",
    "cseries"
   ]
  },
  {
   "cell_type": "code",
   "execution_count": null,
   "metadata": {},
   "outputs": [],
   "source": [
    "# We use Renaming method to rename individual elements"
   ]
  },
  {
   "cell_type": "code",
   "execution_count": 65,
   "metadata": {},
   "outputs": [],
   "source": [
    "cseries4 = cseries.rename(index={'RigaIsOld':'RigaRocks'})"
   ]
  },
  {
   "cell_type": "code",
   "execution_count": 66,
   "metadata": {},
   "outputs": [
    {
     "data": {
      "text/plain": [
       "625000"
      ]
     },
     "execution_count": 66,
     "metadata": {},
     "output_type": "execute_result"
    }
   ],
   "source": [
    "cseries4[\"RigaRocks\"]"
   ]
  },
  {
   "cell_type": "markdown",
   "metadata": {},
   "source": [
    "### Integer (Position-based) vs Label-based Indexes\n",
    "\n",
    "Working with pandas objects indexed by integers is something that often trips up\n",
    "new users due to some differences with indexing semantics on built-in Python data\n",
    "structures like lists and tuples. For example, you might not expect the following code\n",
    "to generate an error:\n",
    "\n"
   ]
  },
  {
   "cell_type": "code",
   "execution_count": 68,
   "metadata": {
    "tags": [
     "raises-exception"
    ]
   },
   "outputs": [
    {
     "data": {
      "text/plain": [
       "0    0.0\n",
       "1    1.0\n",
       "2    2.0\n",
       "dtype: float64"
      ]
     },
     "execution_count": 68,
     "metadata": {},
     "output_type": "execute_result"
    }
   ],
   "source": [
    "ser = pd.Series(np.arange(3.))\n",
    "ser"
   ]
  },
  {
   "cell_type": "code",
   "execution_count": 69,
   "metadata": {
    "scrolled": true,
    "tags": [
     "raises-exception"
    ]
   },
   "outputs": [
    {
     "ename": "KeyError",
     "evalue": "-1",
     "output_type": "error",
     "traceback": [
      "\u001b[0;31m---------------------------------------------------------------------------\u001b[0m",
      "\u001b[0;31mValueError\u001b[0m                                Traceback (most recent call last)",
      "File \u001b[0;32m~/_changed_stuff_/Code/LU_GeoPython_2023/venv/lib/python3.9/site-packages/pandas/core/indexes/range.py:414\u001b[0m, in \u001b[0;36mRangeIndex.get_loc\u001b[0;34m(self, key)\u001b[0m\n\u001b[1;32m    413\u001b[0m \u001b[38;5;28;01mtry\u001b[39;00m:\n\u001b[0;32m--> 414\u001b[0m     \u001b[38;5;28;01mreturn\u001b[39;00m \u001b[38;5;28;43mself\u001b[39;49m\u001b[38;5;241;43m.\u001b[39;49m\u001b[43m_range\u001b[49m\u001b[38;5;241;43m.\u001b[39;49m\u001b[43mindex\u001b[49m\u001b[43m(\u001b[49m\u001b[43mnew_key\u001b[49m\u001b[43m)\u001b[49m\n\u001b[1;32m    415\u001b[0m \u001b[38;5;28;01mexcept\u001b[39;00m \u001b[38;5;167;01mValueError\u001b[39;00m \u001b[38;5;28;01mas\u001b[39;00m err:\n",
      "\u001b[0;31mValueError\u001b[0m: -1 is not in range",
      "\nThe above exception was the direct cause of the following exception:\n",
      "\u001b[0;31mKeyError\u001b[0m                                  Traceback (most recent call last)",
      "Cell \u001b[0;32mIn[69], line 1\u001b[0m\n\u001b[0;32m----> 1\u001b[0m \u001b[43mser\u001b[49m\u001b[43m[\u001b[49m\u001b[38;5;241;43m-\u001b[39;49m\u001b[38;5;241;43m1\u001b[39;49m\u001b[43m]\u001b[49m\n",
      "File \u001b[0;32m~/_changed_stuff_/Code/LU_GeoPython_2023/venv/lib/python3.9/site-packages/pandas/core/series.py:1040\u001b[0m, in \u001b[0;36mSeries.__getitem__\u001b[0;34m(self, key)\u001b[0m\n\u001b[1;32m   1037\u001b[0m     \u001b[38;5;28;01mreturn\u001b[39;00m \u001b[38;5;28mself\u001b[39m\u001b[38;5;241m.\u001b[39m_values[key]\n\u001b[1;32m   1039\u001b[0m \u001b[38;5;28;01melif\u001b[39;00m key_is_scalar:\n\u001b[0;32m-> 1040\u001b[0m     \u001b[38;5;28;01mreturn\u001b[39;00m \u001b[38;5;28;43mself\u001b[39;49m\u001b[38;5;241;43m.\u001b[39;49m\u001b[43m_get_value\u001b[49m\u001b[43m(\u001b[49m\u001b[43mkey\u001b[49m\u001b[43m)\u001b[49m\n\u001b[1;32m   1042\u001b[0m \u001b[38;5;66;03m# Convert generator to list before going through hashable part\u001b[39;00m\n\u001b[1;32m   1043\u001b[0m \u001b[38;5;66;03m# (We will iterate through the generator there to check for slices)\u001b[39;00m\n\u001b[1;32m   1044\u001b[0m \u001b[38;5;28;01mif\u001b[39;00m is_iterator(key):\n",
      "File \u001b[0;32m~/_changed_stuff_/Code/LU_GeoPython_2023/venv/lib/python3.9/site-packages/pandas/core/series.py:1156\u001b[0m, in \u001b[0;36mSeries._get_value\u001b[0;34m(self, label, takeable)\u001b[0m\n\u001b[1;32m   1153\u001b[0m     \u001b[38;5;28;01mreturn\u001b[39;00m \u001b[38;5;28mself\u001b[39m\u001b[38;5;241m.\u001b[39m_values[label]\n\u001b[1;32m   1155\u001b[0m \u001b[38;5;66;03m# Similar to Index.get_value, but we do not fall back to positional\u001b[39;00m\n\u001b[0;32m-> 1156\u001b[0m loc \u001b[38;5;241m=\u001b[39m \u001b[38;5;28;43mself\u001b[39;49m\u001b[38;5;241;43m.\u001b[39;49m\u001b[43mindex\u001b[49m\u001b[38;5;241;43m.\u001b[39;49m\u001b[43mget_loc\u001b[49m\u001b[43m(\u001b[49m\u001b[43mlabel\u001b[49m\u001b[43m)\u001b[49m\n\u001b[1;32m   1158\u001b[0m \u001b[38;5;28;01mif\u001b[39;00m is_integer(loc):\n\u001b[1;32m   1159\u001b[0m     \u001b[38;5;28;01mreturn\u001b[39;00m \u001b[38;5;28mself\u001b[39m\u001b[38;5;241m.\u001b[39m_values[loc]\n",
      "File \u001b[0;32m~/_changed_stuff_/Code/LU_GeoPython_2023/venv/lib/python3.9/site-packages/pandas/core/indexes/range.py:416\u001b[0m, in \u001b[0;36mRangeIndex.get_loc\u001b[0;34m(self, key)\u001b[0m\n\u001b[1;32m    414\u001b[0m         \u001b[38;5;28;01mreturn\u001b[39;00m \u001b[38;5;28mself\u001b[39m\u001b[38;5;241m.\u001b[39m_range\u001b[38;5;241m.\u001b[39mindex(new_key)\n\u001b[1;32m    415\u001b[0m     \u001b[38;5;28;01mexcept\u001b[39;00m \u001b[38;5;167;01mValueError\u001b[39;00m \u001b[38;5;28;01mas\u001b[39;00m err:\n\u001b[0;32m--> 416\u001b[0m         \u001b[38;5;28;01mraise\u001b[39;00m \u001b[38;5;167;01mKeyError\u001b[39;00m(key) \u001b[38;5;28;01mfrom\u001b[39;00m \u001b[38;5;21;01merr\u001b[39;00m\n\u001b[1;32m    417\u001b[0m \u001b[38;5;28;01mif\u001b[39;00m \u001b[38;5;28misinstance\u001b[39m(key, Hashable):\n\u001b[1;32m    418\u001b[0m     \u001b[38;5;28;01mraise\u001b[39;00m \u001b[38;5;167;01mKeyError\u001b[39;00m(key)\n",
      "\u001b[0;31mKeyError\u001b[0m: -1"
     ]
    }
   ],
   "source": [
    "ser[-1]"
   ]
  },
  {
   "cell_type": "markdown",
   "metadata": {},
   "source": [
    "In this case, pandas could “fall back” on integer indexing, but it’s difficult to do this in\n",
    "general without introducing subtle bugs. \n",
    "\n",
    "Here we have an index containing 0, 1, 2,\n",
    "but inferring what the user wants (label-based indexing or position-based) is difficult:\n"
   ]
  },
  {
   "cell_type": "code",
   "execution_count": 70,
   "metadata": {},
   "outputs": [
    {
     "data": {
      "text/plain": [
       "0    0.0\n",
       "1    1.0\n",
       "2    2.0\n",
       "dtype: float64"
      ]
     },
     "execution_count": 70,
     "metadata": {},
     "output_type": "execute_result"
    }
   ],
   "source": [
    "ser"
   ]
  },
  {
   "cell_type": "code",
   "execution_count": null,
   "metadata": {},
   "outputs": [],
   "source": [
    "## With a non-integer index there is no potential for ambiguity:"
   ]
  },
  {
   "cell_type": "code",
   "execution_count": 71,
   "metadata": {},
   "outputs": [
    {
     "name": "stderr",
     "output_type": "stream",
     "text": [
      "/var/folders/cy/880bvxy90j33f79df17qysyr0000gq/T/ipykernel_11965/2842014175.py:2: FutureWarning: Series.__getitem__ treating keys as positions is deprecated. In a future version, integer keys will always be treated as labels (consistent with DataFrame behavior). To access a value by position, use `ser.iloc[pos]`\n",
      "  ser2[-1]\n"
     ]
    },
    {
     "data": {
      "text/plain": [
       "2.0"
      ]
     },
     "execution_count": 71,
     "metadata": {},
     "output_type": "execute_result"
    }
   ],
   "source": [
    "ser2 = pd.Series(np.arange(3.), index=['a', 'b', 'c'])\n",
    "ser2[-1]"
   ]
  },
  {
   "cell_type": "code",
   "execution_count": 72,
   "metadata": {},
   "outputs": [
    {
     "data": {
      "text/plain": [
       "a    0.0\n",
       "b    1.0\n",
       "c    2.0\n",
       "dtype: float64"
      ]
     },
     "execution_count": 72,
     "metadata": {},
     "output_type": "execute_result"
    }
   ],
   "source": [
    "ser2"
   ]
  },
  {
   "cell_type": "code",
   "execution_count": 73,
   "metadata": {
    "scrolled": true
   },
   "outputs": [
    {
     "data": {
      "text/plain": [
       "c    2.0\n",
       "b    1.0\n",
       "a    0.0\n",
       "dtype: float64"
      ]
     },
     "execution_count": 73,
     "metadata": {},
     "output_type": "execute_result"
    }
   ],
   "source": [
    "ser2[::-1]"
   ]
  },
  {
   "cell_type": "code",
   "execution_count": null,
   "metadata": {},
   "outputs": [],
   "source": [
    "## To keep things consistent, if you have an axis index containing integers, data selection\n",
    "## will always be label-oriented. \n",
    "\n",
    "# For more precise handling, use loc (for labels) or iloc (for integer index):"
   ]
  },
  {
   "cell_type": "code",
   "execution_count": 74,
   "metadata": {},
   "outputs": [
    {
     "data": {
      "text/plain": [
       "1.0"
      ]
     },
     "execution_count": 74,
     "metadata": {},
     "output_type": "execute_result"
    }
   ],
   "source": [
    "ser2.loc['b']"
   ]
  },
  {
   "cell_type": "code",
   "execution_count": 75,
   "metadata": {},
   "outputs": [
    {
     "data": {
      "text/plain": [
       "2.0"
      ]
     },
     "execution_count": 75,
     "metadata": {},
     "output_type": "execute_result"
    }
   ],
   "source": [
    "ser.iloc[-1]"
   ]
  },
  {
   "cell_type": "code",
   "execution_count": 76,
   "metadata": {},
   "outputs": [
    {
     "data": {
      "text/plain": [
       "0    0.0\n",
       "1    1.0\n",
       "dtype: float64"
      ]
     },
     "execution_count": 76,
     "metadata": {},
     "output_type": "execute_result"
    }
   ],
   "source": [
    "# Note: label indexing includes the endpoint, integer indexing does not\n",
    "ser.loc[:1]"
   ]
  },
  {
   "cell_type": "code",
   "execution_count": 77,
   "metadata": {
    "scrolled": true
   },
   "outputs": [
    {
     "data": {
      "text/plain": [
       "0    0.0\n",
       "dtype: float64"
      ]
     },
     "execution_count": 77,
     "metadata": {},
     "output_type": "execute_result"
    }
   ],
   "source": [
    "ser.iloc[:1]"
   ]
  },
  {
   "cell_type": "markdown",
   "metadata": {},
   "source": [
    "* loc gets rows (or columns) with particular labels from the index.\n",
    "\n",
    "* iloc gets rows (or columns) at particular positions in the index (so it only takes integers)."
   ]
  },
  {
   "cell_type": "markdown",
   "metadata": {},
   "source": [
    "# Date Range creation\n",
    "\n",
    "Date ranges are used as indexes for time series data:\n",
    "* https://pandas.pydata.org/pandas-docs/stable/getting_started/10min.html#time-series"
   ]
  },
  {
   "cell_type": "code",
   "execution_count": 78,
   "metadata": {},
   "outputs": [
    {
     "data": {
      "text/plain": [
       "DatetimeIndex(['2018-05-21', '2018-05-22', '2018-05-23', '2018-05-24',\n",
       "               '2018-05-25', '2018-05-26', '2018-05-27', '2018-05-28',\n",
       "               '2018-05-29', '2018-05-30', '2018-05-31', '2018-06-01',\n",
       "               '2018-06-02', '2018-06-03', '2018-06-04'],\n",
       "              dtype='datetime64[ns]', freq='D')"
      ]
     },
     "execution_count": 78,
     "metadata": {},
     "output_type": "execute_result"
    }
   ],
   "source": [
    "dates = pd.date_range('20180521', periods=15)\n",
    "dates"
   ]
  },
  {
   "cell_type": "code",
   "execution_count": 79,
   "metadata": {},
   "outputs": [
    {
     "data": {
      "text/plain": [
       "DatetimeIndex(['2021-04-25', '2021-05-02', '2021-05-09', '2021-05-16',\n",
       "               '2021-05-23', '2021-05-30', '2021-06-06', '2021-06-13',\n",
       "               '2021-06-20', '2021-06-27', '2021-07-04', '2021-07-11',\n",
       "               '2021-07-18', '2021-07-25', '2021-08-01'],\n",
       "              dtype='datetime64[ns]', freq='W-SUN')"
      ]
     },
     "execution_count": 79,
     "metadata": {},
     "output_type": "execute_result"
    }
   ],
   "source": [
    "pd.date_range('20210422', periods=15, freq=\"W\")"
   ]
  },
  {
   "cell_type": "code",
   "execution_count": 80,
   "metadata": {},
   "outputs": [
    {
     "data": {
      "text/plain": [
       "DatetimeIndex(['2020-04-16', '2020-04-23', '2020-04-30', '2020-05-07',\n",
       "               '2020-05-14', '2020-05-21', '2020-05-28'],\n",
       "              dtype='datetime64[ns]', freq='W-THU')"
      ]
     },
     "execution_count": 80,
     "metadata": {},
     "output_type": "execute_result"
    }
   ],
   "source": [
    "pd.date_range('20200416', periods=7, freq=\"W-THU\")"
   ]
  },
  {
   "cell_type": "code",
   "execution_count": null,
   "metadata": {},
   "outputs": [],
   "source": [
    "# more on data_range frequency here\n",
    "# https://stackoverflow.com/questions/35339139/where-is-the-documentation-on-pandas-freq-tags"
   ]
  },
  {
   "cell_type": "code",
   "execution_count": 81,
   "metadata": {},
   "outputs": [
    {
     "data": {
      "text/plain": [
       "datetime.date(2023, 11, 22)"
      ]
     },
     "execution_count": 81,
     "metadata": {},
     "output_type": "execute_result"
    }
   ],
   "source": [
    "# Datetime is in the standard library (so all Python installations will have it)\n",
    "from datetime import date\n",
    "date.today()"
   ]
  },
  {
   "cell_type": "code",
   "execution_count": 82,
   "metadata": {},
   "outputs": [
    {
     "data": {
      "text/plain": [
       "DatetimeIndex(['2023-12-01', '2024-01-01', '2024-02-01', '2024-03-01',\n",
       "               '2024-04-01', '2024-05-01', '2024-06-03', '2024-07-01',\n",
       "               '2024-08-01', '2024-09-02'],\n",
       "              dtype='datetime64[ns]', freq='BMS')"
      ]
     },
     "execution_count": 82,
     "metadata": {},
     "output_type": "execute_result"
    }
   ],
   "source": [
    "# We can get a data range starting from today\n",
    "months = pd.date_range(date.today().strftime(\"%Y-%m-%d\"), periods = 10, freq='BMS')\n",
    "months"
   ]
  },
  {
   "cell_type": "markdown",
   "metadata": {},
   "source": [
    "## DataFrame\n",
    "\n",
    "A DataFrame represents a rectangular table of data and contains an ordered collection of columns. \n",
    "\n",
    "Each column can be a different value type (numeric, string,\n",
    "boolean, etc.). \n",
    "\n",
    "The DataFrame has both a row and column index;\n",
    "\n",
    "Think of it \n",
    "as an ordered dict of Series all sharing the same row index. \n",
    "\n",
    "Underneath data is stored as one or more two-dimensional blocks (similar to ndarray) \n",
    "rather than a list, dict, or some other collection of\n",
    "one-dimensional arrays."
   ]
  },
  {
   "cell_type": "code",
   "execution_count": null,
   "metadata": {},
   "outputs": [],
   "source": [
    "# Many ways of DataFrame creation\n",
    "\n",
    "# One common way is to create it  \n",
    "# from a dict of equal-length lists or NumPy arrays"
   ]
  },
  {
   "cell_type": "code",
   "execution_count": 83,
   "metadata": {},
   "outputs": [
    {
     "data": {
      "text/html": [
       "<div>\n",
       "<style scoped>\n",
       "    .dataframe tbody tr th:only-of-type {\n",
       "        vertical-align: middle;\n",
       "    }\n",
       "\n",
       "    .dataframe tbody tr th {\n",
       "        vertical-align: top;\n",
       "    }\n",
       "\n",
       "    .dataframe thead th {\n",
       "        text-align: right;\n",
       "    }\n",
       "</style>\n",
       "<table border=\"1\" class=\"dataframe\">\n",
       "  <thead>\n",
       "    <tr style=\"text-align: right;\">\n",
       "      <th></th>\n",
       "      <th>city</th>\n",
       "      <th>year</th>\n",
       "      <th>popul</th>\n",
       "    </tr>\n",
       "  </thead>\n",
       "  <tbody>\n",
       "    <tr>\n",
       "      <th>0</th>\n",
       "      <td>Riga</td>\n",
       "      <td>1990</td>\n",
       "      <td>0.90</td>\n",
       "    </tr>\n",
       "    <tr>\n",
       "      <th>1</th>\n",
       "      <td>Riga</td>\n",
       "      <td>2000</td>\n",
       "      <td>0.75</td>\n",
       "    </tr>\n",
       "    <tr>\n",
       "      <th>2</th>\n",
       "      <td>Riga</td>\n",
       "      <td>2018</td>\n",
       "      <td>0.62</td>\n",
       "    </tr>\n",
       "    <tr>\n",
       "      <th>3</th>\n",
       "      <td>Jurmala</td>\n",
       "      <td>2001</td>\n",
       "      <td>0.09</td>\n",
       "    </tr>\n",
       "    <tr>\n",
       "      <th>4</th>\n",
       "      <td>Jurmala</td>\n",
       "      <td>2002</td>\n",
       "      <td>0.08</td>\n",
       "    </tr>\n",
       "    <tr>\n",
       "      <th>5</th>\n",
       "      <td>Jurmala</td>\n",
       "      <td>2003</td>\n",
       "      <td>0.06</td>\n",
       "    </tr>\n",
       "  </tbody>\n",
       "</table>\n",
       "</div>"
      ],
      "text/plain": [
       "      city  year  popul\n",
       "0     Riga  1990   0.90\n",
       "1     Riga  2000   0.75\n",
       "2     Riga  2018   0.62\n",
       "3  Jurmala  2001   0.09\n",
       "4  Jurmala  2002   0.08\n",
       "5  Jurmala  2003   0.06"
      ]
     },
     "execution_count": 83,
     "metadata": {},
     "output_type": "execute_result"
    }
   ],
   "source": [
    "data = {'city': ['Riga', 'Riga', 'Riga', 'Jurmala', 'Jurmala', 'Jurmala'],\n",
    "        'year': [1990, 2000, 2018, 2001, 2002, 2003],\n",
    "        'popul': [0.9, 0.75, 0.62, 0.09, 0.08, 0.06]}\n",
    "\n",
    "df = pd.DataFrame(data)\n",
    "df"
   ]
  },
  {
   "cell_type": "code",
   "execution_count": 84,
   "metadata": {},
   "outputs": [
    {
     "data": {
      "text/html": [
       "<div>\n",
       "<style scoped>\n",
       "    .dataframe tbody tr th:only-of-type {\n",
       "        vertical-align: middle;\n",
       "    }\n",
       "\n",
       "    .dataframe tbody tr th {\n",
       "        vertical-align: top;\n",
       "    }\n",
       "\n",
       "    .dataframe thead th {\n",
       "        text-align: right;\n",
       "    }\n",
       "</style>\n",
       "<table border=\"1\" class=\"dataframe\">\n",
       "  <thead>\n",
       "    <tr style=\"text-align: right;\">\n",
       "      <th></th>\n",
       "      <th>year</th>\n",
       "      <th>city</th>\n",
       "      <th>popul</th>\n",
       "      <th>budget</th>\n",
       "    </tr>\n",
       "  </thead>\n",
       "  <tbody>\n",
       "    <tr>\n",
       "      <th>0</th>\n",
       "      <td>1990</td>\n",
       "      <td>Riga</td>\n",
       "      <td>0.90</td>\n",
       "      <td>NaN</td>\n",
       "    </tr>\n",
       "    <tr>\n",
       "      <th>1</th>\n",
       "      <td>2000</td>\n",
       "      <td>Riga</td>\n",
       "      <td>0.75</td>\n",
       "      <td>NaN</td>\n",
       "    </tr>\n",
       "    <tr>\n",
       "      <th>2</th>\n",
       "      <td>2018</td>\n",
       "      <td>Riga</td>\n",
       "      <td>0.62</td>\n",
       "      <td>NaN</td>\n",
       "    </tr>\n",
       "    <tr>\n",
       "      <th>3</th>\n",
       "      <td>2001</td>\n",
       "      <td>Jurmala</td>\n",
       "      <td>0.09</td>\n",
       "      <td>NaN</td>\n",
       "    </tr>\n",
       "    <tr>\n",
       "      <th>4</th>\n",
       "      <td>2002</td>\n",
       "      <td>Jurmala</td>\n",
       "      <td>0.08</td>\n",
       "      <td>NaN</td>\n",
       "    </tr>\n",
       "    <tr>\n",
       "      <th>5</th>\n",
       "      <td>2003</td>\n",
       "      <td>Jurmala</td>\n",
       "      <td>0.06</td>\n",
       "      <td>NaN</td>\n",
       "    </tr>\n",
       "  </tbody>\n",
       "</table>\n",
       "</div>"
      ],
      "text/plain": [
       "   year     city  popul budget\n",
       "0  1990     Riga   0.90    NaN\n",
       "1  2000     Riga   0.75    NaN\n",
       "2  2018     Riga   0.62    NaN\n",
       "3  2001  Jurmala   0.09    NaN\n",
       "4  2002  Jurmala   0.08    NaN\n",
       "5  2003  Jurmala   0.06    NaN"
      ]
     },
     "execution_count": 84,
     "metadata": {},
     "output_type": "execute_result"
    }
   ],
   "source": [
    "df2 = pd.DataFrame(data, columns=['year','city', 'popul', 'budget'])\n",
    "df2"
   ]
  },
  {
   "cell_type": "code",
   "execution_count": null,
   "metadata": {},
   "outputs": [],
   "source": [
    "# missing column simply given Nans"
   ]
  },
  {
   "cell_type": "code",
   "execution_count": 85,
   "metadata": {},
   "outputs": [
    {
     "data": {
      "text/html": [
       "<div>\n",
       "<style scoped>\n",
       "    .dataframe tbody tr th:only-of-type {\n",
       "        vertical-align: middle;\n",
       "    }\n",
       "\n",
       "    .dataframe tbody tr th {\n",
       "        vertical-align: top;\n",
       "    }\n",
       "\n",
       "    .dataframe thead th {\n",
       "        text-align: right;\n",
       "    }\n",
       "</style>\n",
       "<table border=\"1\" class=\"dataframe\">\n",
       "  <thead>\n",
       "    <tr style=\"text-align: right;\">\n",
       "      <th></th>\n",
       "      <th>year</th>\n",
       "      <th>city</th>\n",
       "      <th>popul</th>\n",
       "      <th>budget</th>\n",
       "    </tr>\n",
       "  </thead>\n",
       "  <tbody>\n",
       "    <tr>\n",
       "      <th>0</th>\n",
       "      <td>1990</td>\n",
       "      <td>Riga</td>\n",
       "      <td>0.90</td>\n",
       "      <td>300000000</td>\n",
       "    </tr>\n",
       "    <tr>\n",
       "      <th>1</th>\n",
       "      <td>2000</td>\n",
       "      <td>Riga</td>\n",
       "      <td>0.75</td>\n",
       "      <td>300000000</td>\n",
       "    </tr>\n",
       "    <tr>\n",
       "      <th>2</th>\n",
       "      <td>2018</td>\n",
       "      <td>Riga</td>\n",
       "      <td>0.62</td>\n",
       "      <td>300000000</td>\n",
       "    </tr>\n",
       "    <tr>\n",
       "      <th>3</th>\n",
       "      <td>2001</td>\n",
       "      <td>Jurmala</td>\n",
       "      <td>0.09</td>\n",
       "      <td>300000000</td>\n",
       "    </tr>\n",
       "    <tr>\n",
       "      <th>4</th>\n",
       "      <td>2002</td>\n",
       "      <td>Jurmala</td>\n",
       "      <td>0.08</td>\n",
       "      <td>300000000</td>\n",
       "    </tr>\n",
       "    <tr>\n",
       "      <th>5</th>\n",
       "      <td>2003</td>\n",
       "      <td>Jurmala</td>\n",
       "      <td>0.06</td>\n",
       "      <td>300000000</td>\n",
       "    </tr>\n",
       "  </tbody>\n",
       "</table>\n",
       "</div>"
      ],
      "text/plain": [
       "   year     city  popul     budget\n",
       "0  1990     Riga   0.90  300000000\n",
       "1  2000     Riga   0.75  300000000\n",
       "2  2018     Riga   0.62  300000000\n",
       "3  2001  Jurmala   0.09  300000000\n",
       "4  2002  Jurmala   0.08  300000000\n",
       "5  2003  Jurmala   0.06  300000000"
      ]
     },
     "execution_count": 85,
     "metadata": {},
     "output_type": "execute_result"
    }
   ],
   "source": [
    "df2['budget']=300000000\n",
    "df2"
   ]
  },
  {
   "cell_type": "code",
   "execution_count": 86,
   "metadata": {},
   "outputs": [
    {
     "data": {
      "text/html": [
       "<div>\n",
       "<style scoped>\n",
       "    .dataframe tbody tr th:only-of-type {\n",
       "        vertical-align: middle;\n",
       "    }\n",
       "\n",
       "    .dataframe tbody tr th {\n",
       "        vertical-align: top;\n",
       "    }\n",
       "\n",
       "    .dataframe thead th {\n",
       "        text-align: right;\n",
       "    }\n",
       "</style>\n",
       "<table border=\"1\" class=\"dataframe\">\n",
       "  <thead>\n",
       "    <tr style=\"text-align: right;\">\n",
       "      <th></th>\n",
       "      <th>year</th>\n",
       "      <th>city</th>\n",
       "      <th>popul</th>\n",
       "      <th>budget</th>\n",
       "    </tr>\n",
       "  </thead>\n",
       "  <tbody>\n",
       "    <tr>\n",
       "      <th>0</th>\n",
       "      <td>1990</td>\n",
       "      <td>Riga</td>\n",
       "      <td>0.90</td>\n",
       "      <td>300000</td>\n",
       "    </tr>\n",
       "    <tr>\n",
       "      <th>1</th>\n",
       "      <td>2000</td>\n",
       "      <td>Riga</td>\n",
       "      <td>0.75</td>\n",
       "      <td>250000</td>\n",
       "    </tr>\n",
       "    <tr>\n",
       "      <th>2</th>\n",
       "      <td>2018</td>\n",
       "      <td>Riga</td>\n",
       "      <td>0.62</td>\n",
       "      <td>400000</td>\n",
       "    </tr>\n",
       "    <tr>\n",
       "      <th>3</th>\n",
       "      <td>2001</td>\n",
       "      <td>Jurmala</td>\n",
       "      <td>0.09</td>\n",
       "      <td>200000</td>\n",
       "    </tr>\n",
       "    <tr>\n",
       "      <th>4</th>\n",
       "      <td>2002</td>\n",
       "      <td>Jurmala</td>\n",
       "      <td>0.08</td>\n",
       "      <td>250000</td>\n",
       "    </tr>\n",
       "    <tr>\n",
       "      <th>5</th>\n",
       "      <td>2003</td>\n",
       "      <td>Jurmala</td>\n",
       "      <td>0.06</td>\n",
       "      <td>200000</td>\n",
       "    </tr>\n",
       "  </tbody>\n",
       "</table>\n",
       "</div>"
      ],
      "text/plain": [
       "   year     city  popul  budget\n",
       "0  1990     Riga   0.90  300000\n",
       "1  2000     Riga   0.75  250000\n",
       "2  2018     Riga   0.62  400000\n",
       "3  2001  Jurmala   0.09  200000\n",
       "4  2002  Jurmala   0.08  250000\n",
       "5  2003  Jurmala   0.06  200000"
      ]
     },
     "execution_count": 86,
     "metadata": {},
     "output_type": "execute_result"
    }
   ],
   "source": [
    "df2['budget']=[300000, 250000, 400000, 200000, 250000, 200000] # need to pass all values\n",
    "df2"
   ]
  },
  {
   "cell_type": "code",
   "execution_count": null,
   "metadata": {},
   "outputs": [],
   "source": [
    "# Many ways of changing individual values\n",
    "\n",
    "## Recommended way of changing in place (same dataframe)\n"
   ]
  },
  {
   "cell_type": "code",
   "execution_count": 87,
   "metadata": {},
   "outputs": [
    {
     "data": {
      "text/html": [
       "<div>\n",
       "<style scoped>\n",
       "    .dataframe tbody tr th:only-of-type {\n",
       "        vertical-align: middle;\n",
       "    }\n",
       "\n",
       "    .dataframe tbody tr th {\n",
       "        vertical-align: top;\n",
       "    }\n",
       "\n",
       "    .dataframe thead th {\n",
       "        text-align: right;\n",
       "    }\n",
       "</style>\n",
       "<table border=\"1\" class=\"dataframe\">\n",
       "  <thead>\n",
       "    <tr style=\"text-align: right;\">\n",
       "      <th></th>\n",
       "      <th>year</th>\n",
       "      <th>city</th>\n",
       "      <th>popul</th>\n",
       "      <th>budget</th>\n",
       "    </tr>\n",
       "  </thead>\n",
       "  <tbody>\n",
       "    <tr>\n",
       "      <th>0</th>\n",
       "      <td>1990</td>\n",
       "      <td>Riga</td>\n",
       "      <td>0.900</td>\n",
       "      <td>300000</td>\n",
       "    </tr>\n",
       "    <tr>\n",
       "      <th>1</th>\n",
       "      <td>2000</td>\n",
       "      <td>Riga</td>\n",
       "      <td>0.750</td>\n",
       "      <td>250000</td>\n",
       "    </tr>\n",
       "    <tr>\n",
       "      <th>2</th>\n",
       "      <td>2018</td>\n",
       "      <td>Riga</td>\n",
       "      <td>0.620</td>\n",
       "      <td>400000</td>\n",
       "    </tr>\n",
       "    <tr>\n",
       "      <th>3</th>\n",
       "      <td>2001</td>\n",
       "      <td>Jurmala</td>\n",
       "      <td>0.063</td>\n",
       "      <td>200000</td>\n",
       "    </tr>\n",
       "    <tr>\n",
       "      <th>4</th>\n",
       "      <td>2002</td>\n",
       "      <td>Jurmala</td>\n",
       "      <td>0.080</td>\n",
       "      <td>250000</td>\n",
       "    </tr>\n",
       "    <tr>\n",
       "      <th>5</th>\n",
       "      <td>2003</td>\n",
       "      <td>Jurmala</td>\n",
       "      <td>0.060</td>\n",
       "      <td>200000</td>\n",
       "    </tr>\n",
       "  </tbody>\n",
       "</table>\n",
       "</div>"
      ],
      "text/plain": [
       "   year     city  popul  budget\n",
       "0  1990     Riga  0.900  300000\n",
       "1  2000     Riga  0.750  250000\n",
       "2  2018     Riga  0.620  400000\n",
       "3  2001  Jurmala  0.063  200000\n",
       "4  2002  Jurmala  0.080  250000\n",
       "5  2003  Jurmala  0.060  200000"
      ]
     },
     "execution_count": 87,
     "metadata": {},
     "output_type": "execute_result"
    }
   ],
   "source": [
    "df2.iat[3,2]=0.063\n",
    "df2"
   ]
  },
  {
   "cell_type": "code",
   "execution_count": 88,
   "metadata": {},
   "outputs": [
    {
     "data": {
      "text/plain": [
       "0    300000\n",
       "1    250000\n",
       "2    400000\n",
       "3    200000\n",
       "4    250000\n",
       "5    200000\n",
       "Name: budget, dtype: int64"
      ]
     },
     "execution_count": 88,
     "metadata": {},
     "output_type": "execute_result"
    }
   ],
   "source": [
    "df2[\"budget\"]"
   ]
  },
  {
   "cell_type": "code",
   "execution_count": 89,
   "metadata": {},
   "outputs": [
    {
     "data": {
      "text/plain": [
       "pandas.core.series.Series"
      ]
     },
     "execution_count": 89,
     "metadata": {},
     "output_type": "execute_result"
    }
   ],
   "source": [
    "type(df2[\"budget\"])"
   ]
  },
  {
   "cell_type": "code",
   "execution_count": 90,
   "metadata": {},
   "outputs": [
    {
     "data": {
      "text/html": [
       "<div>\n",
       "<style scoped>\n",
       "    .dataframe tbody tr th:only-of-type {\n",
       "        vertical-align: middle;\n",
       "    }\n",
       "\n",
       "    .dataframe tbody tr th {\n",
       "        vertical-align: top;\n",
       "    }\n",
       "\n",
       "    .dataframe thead th {\n",
       "        text-align: right;\n",
       "    }\n",
       "</style>\n",
       "<table border=\"1\" class=\"dataframe\">\n",
       "  <thead>\n",
       "    <tr style=\"text-align: right;\">\n",
       "      <th></th>\n",
       "      <th>year</th>\n",
       "      <th>city</th>\n",
       "      <th>popul</th>\n",
       "    </tr>\n",
       "  </thead>\n",
       "  <tbody>\n",
       "    <tr>\n",
       "      <th>0</th>\n",
       "      <td>1990</td>\n",
       "      <td>Riga</td>\n",
       "      <td>0.900</td>\n",
       "    </tr>\n",
       "    <tr>\n",
       "      <th>1</th>\n",
       "      <td>2000</td>\n",
       "      <td>Riga</td>\n",
       "      <td>0.750</td>\n",
       "    </tr>\n",
       "    <tr>\n",
       "      <th>2</th>\n",
       "      <td>2018</td>\n",
       "      <td>Riga</td>\n",
       "      <td>0.620</td>\n",
       "    </tr>\n",
       "    <tr>\n",
       "      <th>3</th>\n",
       "      <td>2001</td>\n",
       "      <td>Jurmala</td>\n",
       "      <td>0.063</td>\n",
       "    </tr>\n",
       "    <tr>\n",
       "      <th>4</th>\n",
       "      <td>2002</td>\n",
       "      <td>Jurmala</td>\n",
       "      <td>0.080</td>\n",
       "    </tr>\n",
       "    <tr>\n",
       "      <th>5</th>\n",
       "      <td>2003</td>\n",
       "      <td>Jurmala</td>\n",
       "      <td>0.060</td>\n",
       "    </tr>\n",
       "  </tbody>\n",
       "</table>\n",
       "</div>"
      ],
      "text/plain": [
       "   year     city  popul\n",
       "0  1990     Riga  0.900\n",
       "1  2000     Riga  0.750\n",
       "2  2018     Riga  0.620\n",
       "3  2001  Jurmala  0.063\n",
       "4  2002  Jurmala  0.080\n",
       "5  2003  Jurmala  0.060"
      ]
     },
     "execution_count": 90,
     "metadata": {},
     "output_type": "execute_result"
    }
   ],
   "source": [
    "# delete column by its name\n",
    "del df2[\"budget\"]\n",
    "df2"
   ]
  },
  {
   "cell_type": "code",
   "execution_count": 91,
   "metadata": {},
   "outputs": [
    {
     "data": {
      "text/plain": [
       "DatetimeIndex(['2018-05-21', '2018-05-22', '2018-05-23', '2018-05-24',\n",
       "               '2018-05-25', '2018-05-26', '2018-05-27', '2018-05-28',\n",
       "               '2018-05-29', '2018-05-30', '2018-05-31', '2018-06-01',\n",
       "               '2018-06-02', '2018-06-03', '2018-06-04'],\n",
       "              dtype='datetime64[ns]', freq='D')"
      ]
     },
     "execution_count": 91,
     "metadata": {},
     "output_type": "execute_result"
    }
   ],
   "source": [
    "dates"
   ]
  },
  {
   "cell_type": "code",
   "execution_count": 92,
   "metadata": {},
   "outputs": [
    {
     "data": {
      "text/html": [
       "<div>\n",
       "<style scoped>\n",
       "    .dataframe tbody tr th:only-of-type {\n",
       "        vertical-align: middle;\n",
       "    }\n",
       "\n",
       "    .dataframe tbody tr th {\n",
       "        vertical-align: top;\n",
       "    }\n",
       "\n",
       "    .dataframe thead th {\n",
       "        text-align: right;\n",
       "    }\n",
       "</style>\n",
       "<table border=\"1\" class=\"dataframe\">\n",
       "  <thead>\n",
       "    <tr style=\"text-align: right;\">\n",
       "      <th></th>\n",
       "      <th>A</th>\n",
       "      <th>B</th>\n",
       "      <th>C</th>\n",
       "      <th>D</th>\n",
       "      <th>E</th>\n",
       "    </tr>\n",
       "  </thead>\n",
       "  <tbody>\n",
       "    <tr>\n",
       "      <th>2018-05-21</th>\n",
       "      <td>0.662777</td>\n",
       "      <td>0.666669</td>\n",
       "      <td>0.878194</td>\n",
       "      <td>0.627345</td>\n",
       "      <td>0.204957</td>\n",
       "    </tr>\n",
       "    <tr>\n",
       "      <th>2018-05-22</th>\n",
       "      <td>0.576757</td>\n",
       "      <td>-0.338353</td>\n",
       "      <td>-0.949003</td>\n",
       "      <td>0.947013</td>\n",
       "      <td>0.510873</td>\n",
       "    </tr>\n",
       "    <tr>\n",
       "      <th>2018-05-23</th>\n",
       "      <td>-1.109103</td>\n",
       "      <td>0.794037</td>\n",
       "      <td>-1.004451</td>\n",
       "      <td>-1.326286</td>\n",
       "      <td>1.508179</td>\n",
       "    </tr>\n",
       "    <tr>\n",
       "      <th>2018-05-24</th>\n",
       "      <td>-1.099926</td>\n",
       "      <td>0.853258</td>\n",
       "      <td>-1.287643</td>\n",
       "      <td>-1.541802</td>\n",
       "      <td>1.856672</td>\n",
       "    </tr>\n",
       "    <tr>\n",
       "      <th>2018-05-25</th>\n",
       "      <td>-0.966063</td>\n",
       "      <td>-0.526380</td>\n",
       "      <td>0.193345</td>\n",
       "      <td>0.260406</td>\n",
       "      <td>-0.174440</td>\n",
       "    </tr>\n",
       "    <tr>\n",
       "      <th>2018-05-26</th>\n",
       "      <td>1.302870</td>\n",
       "      <td>-0.007158</td>\n",
       "      <td>-0.186783</td>\n",
       "      <td>1.731096</td>\n",
       "      <td>-0.989682</td>\n",
       "    </tr>\n",
       "    <tr>\n",
       "      <th>2018-05-27</th>\n",
       "      <td>0.102827</td>\n",
       "      <td>0.389831</td>\n",
       "      <td>-0.009321</td>\n",
       "      <td>-2.339168</td>\n",
       "      <td>0.354356</td>\n",
       "    </tr>\n",
       "    <tr>\n",
       "      <th>2018-05-28</th>\n",
       "      <td>-1.229516</td>\n",
       "      <td>0.635055</td>\n",
       "      <td>-0.326571</td>\n",
       "      <td>-1.323469</td>\n",
       "      <td>-0.494465</td>\n",
       "    </tr>\n",
       "    <tr>\n",
       "      <th>2018-05-29</th>\n",
       "      <td>0.611699</td>\n",
       "      <td>1.270709</td>\n",
       "      <td>-1.218284</td>\n",
       "      <td>-0.928532</td>\n",
       "      <td>1.927610</td>\n",
       "    </tr>\n",
       "    <tr>\n",
       "      <th>2018-05-30</th>\n",
       "      <td>-0.695086</td>\n",
       "      <td>0.811071</td>\n",
       "      <td>1.918304</td>\n",
       "      <td>1.853819</td>\n",
       "      <td>0.156570</td>\n",
       "    </tr>\n",
       "    <tr>\n",
       "      <th>2018-05-31</th>\n",
       "      <td>1.179970</td>\n",
       "      <td>0.753904</td>\n",
       "      <td>0.591013</td>\n",
       "      <td>-0.351822</td>\n",
       "      <td>-1.579526</td>\n",
       "    </tr>\n",
       "    <tr>\n",
       "      <th>2018-06-01</th>\n",
       "      <td>-2.107911</td>\n",
       "      <td>-1.692829</td>\n",
       "      <td>0.736854</td>\n",
       "      <td>0.903426</td>\n",
       "      <td>1.954866</td>\n",
       "    </tr>\n",
       "    <tr>\n",
       "      <th>2018-06-02</th>\n",
       "      <td>0.237445</td>\n",
       "      <td>0.363186</td>\n",
       "      <td>0.704813</td>\n",
       "      <td>0.785438</td>\n",
       "      <td>-0.801865</td>\n",
       "    </tr>\n",
       "    <tr>\n",
       "      <th>2018-06-03</th>\n",
       "      <td>0.980281</td>\n",
       "      <td>-0.276816</td>\n",
       "      <td>0.744498</td>\n",
       "      <td>0.490023</td>\n",
       "      <td>0.613402</td>\n",
       "    </tr>\n",
       "    <tr>\n",
       "      <th>2018-06-04</th>\n",
       "      <td>-0.950453</td>\n",
       "      <td>-0.668815</td>\n",
       "      <td>0.104648</td>\n",
       "      <td>-1.451866</td>\n",
       "      <td>0.459389</td>\n",
       "    </tr>\n",
       "  </tbody>\n",
       "</table>\n",
       "</div>"
      ],
      "text/plain": [
       "                   A         B         C         D         E\n",
       "2018-05-21  0.662777  0.666669  0.878194  0.627345  0.204957\n",
       "2018-05-22  0.576757 -0.338353 -0.949003  0.947013  0.510873\n",
       "2018-05-23 -1.109103  0.794037 -1.004451 -1.326286  1.508179\n",
       "2018-05-24 -1.099926  0.853258 -1.287643 -1.541802  1.856672\n",
       "2018-05-25 -0.966063 -0.526380  0.193345  0.260406 -0.174440\n",
       "2018-05-26  1.302870 -0.007158 -0.186783  1.731096 -0.989682\n",
       "2018-05-27  0.102827  0.389831 -0.009321 -2.339168  0.354356\n",
       "2018-05-28 -1.229516  0.635055 -0.326571 -1.323469 -0.494465\n",
       "2018-05-29  0.611699  1.270709 -1.218284 -0.928532  1.927610\n",
       "2018-05-30 -0.695086  0.811071  1.918304  1.853819  0.156570\n",
       "2018-05-31  1.179970  0.753904  0.591013 -0.351822 -1.579526\n",
       "2018-06-01 -2.107911 -1.692829  0.736854  0.903426  1.954866\n",
       "2018-06-02  0.237445  0.363186  0.704813  0.785438 -0.801865\n",
       "2018-06-03  0.980281 -0.276816  0.744498  0.490023  0.613402\n",
       "2018-06-04 -0.950453 -0.668815  0.104648 -1.451866  0.459389"
      ]
     },
     "execution_count": 92,
     "metadata": {},
     "output_type": "execute_result"
    }
   ],
   "source": [
    "df = pd.DataFrame(np.random.randn(15,5), index=dates, columns=list('ABCDE'))\n",
    "# We passed 15 rows of 5 random elements and set index to dates and columns to our basic list elements\n",
    "df"
   ]
  },
  {
   "cell_type": "code",
   "execution_count": 93,
   "metadata": {},
   "outputs": [
    {
     "data": {
      "text/html": [
       "<div>\n",
       "<style scoped>\n",
       "    .dataframe tbody tr th:only-of-type {\n",
       "        vertical-align: middle;\n",
       "    }\n",
       "\n",
       "    .dataframe tbody tr th {\n",
       "        vertical-align: top;\n",
       "    }\n",
       "\n",
       "    .dataframe thead th {\n",
       "        text-align: right;\n",
       "    }\n",
       "</style>\n",
       "<table border=\"1\" class=\"dataframe\">\n",
       "  <thead>\n",
       "    <tr style=\"text-align: right;\">\n",
       "      <th></th>\n",
       "      <th>A</th>\n",
       "      <th>B</th>\n",
       "      <th>C</th>\n",
       "      <th>D</th>\n",
       "      <th>E</th>\n",
       "      <th>F</th>\n",
       "    </tr>\n",
       "  </thead>\n",
       "  <tbody>\n",
       "    <tr>\n",
       "      <th>0</th>\n",
       "      <td>1.0</td>\n",
       "      <td>2013-01-02</td>\n",
       "      <td>1.0</td>\n",
       "      <td>3</td>\n",
       "      <td>test</td>\n",
       "      <td>foo</td>\n",
       "    </tr>\n",
       "    <tr>\n",
       "      <th>1</th>\n",
       "      <td>1.0</td>\n",
       "      <td>2013-01-02</td>\n",
       "      <td>1.0</td>\n",
       "      <td>3</td>\n",
       "      <td>train</td>\n",
       "      <td>foo</td>\n",
       "    </tr>\n",
       "    <tr>\n",
       "      <th>2</th>\n",
       "      <td>1.0</td>\n",
       "      <td>2013-01-02</td>\n",
       "      <td>1.0</td>\n",
       "      <td>3</td>\n",
       "      <td>test</td>\n",
       "      <td>foo</td>\n",
       "    </tr>\n",
       "    <tr>\n",
       "      <th>3</th>\n",
       "      <td>1.0</td>\n",
       "      <td>2013-01-02</td>\n",
       "      <td>1.0</td>\n",
       "      <td>3</td>\n",
       "      <td>train</td>\n",
       "      <td>foo</td>\n",
       "    </tr>\n",
       "  </tbody>\n",
       "</table>\n",
       "</div>"
      ],
      "text/plain": [
       "     A          B    C  D      E    F\n",
       "0  1.0 2013-01-02  1.0  3   test  foo\n",
       "1  1.0 2013-01-02  1.0  3  train  foo\n",
       "2  1.0 2013-01-02  1.0  3   test  foo\n",
       "3  1.0 2013-01-02  1.0  3  train  foo"
      ]
     },
     "execution_count": 93,
     "metadata": {},
     "output_type": "execute_result"
    }
   ],
   "source": [
    "df2 = pd.DataFrame({ 'A' : 1.,\n",
    "                      'B' : pd.Timestamp('20130102'),\n",
    "                      'C' : pd.Series(1,index=list(range(4)),dtype='float32'),\n",
    "                      'D' : np.array([3] * 4,dtype='int32'),\n",
    "                      'E' : pd.Categorical([\"test\",\"train\",\"test\",\"train\"]),\n",
    "                      'F' : 'foo' })\n",
    "df2"
   ]
  },
  {
   "cell_type": "code",
   "execution_count": null,
   "metadata": {},
   "outputs": [],
   "source": [
    "#most columns need matching length!"
   ]
  },
  {
   "cell_type": "markdown",
   "metadata": {},
   "source": [
    "Categorical data type:\n",
    "https://pandas.pydata.org/pandas-docs/stable/user_guide/categorical.html\n",
    "    "
   ]
  },
  {
   "cell_type": "code",
   "execution_count": 94,
   "metadata": {},
   "outputs": [
    {
     "data": {
      "text/plain": [
       "0    1.0\n",
       "1    4.0\n",
       "2    3.5\n",
       "3    3.0\n",
       "4    NaN\n",
       "5    0.0\n",
       "6   -5.0\n",
       "dtype: float64"
      ]
     },
     "execution_count": 94,
     "metadata": {},
     "output_type": "execute_result"
    }
   ],
   "source": [
    "s = pd.Series([1,4,3.5,3,np.nan,0,-5])\n",
    "s"
   ]
  },
  {
   "cell_type": "code",
   "execution_count": 95,
   "metadata": {},
   "outputs": [
    {
     "data": {
      "text/html": [
       "<div>\n",
       "<style scoped>\n",
       "    .dataframe tbody tr th:only-of-type {\n",
       "        vertical-align: middle;\n",
       "    }\n",
       "\n",
       "    .dataframe tbody tr th {\n",
       "        vertical-align: top;\n",
       "    }\n",
       "\n",
       "    .dataframe thead th {\n",
       "        text-align: right;\n",
       "    }\n",
       "</style>\n",
       "<table border=\"1\" class=\"dataframe\">\n",
       "  <thead>\n",
       "    <tr style=\"text-align: right;\">\n",
       "      <th></th>\n",
       "      <th>A</th>\n",
       "      <th>B</th>\n",
       "      <th>C</th>\n",
       "      <th>D</th>\n",
       "      <th>E</th>\n",
       "      <th>F</th>\n",
       "    </tr>\n",
       "  </thead>\n",
       "  <tbody>\n",
       "    <tr>\n",
       "      <th>0</th>\n",
       "      <td>1.0</td>\n",
       "      <td>2018-05-23</td>\n",
       "      <td>1.0</td>\n",
       "      <td>0</td>\n",
       "      <td>test</td>\n",
       "      <td>aha</td>\n",
       "    </tr>\n",
       "    <tr>\n",
       "      <th>1</th>\n",
       "      <td>1.0</td>\n",
       "      <td>2018-05-23</td>\n",
       "      <td>4.0</td>\n",
       "      <td>1</td>\n",
       "      <td>train</td>\n",
       "      <td>aha</td>\n",
       "    </tr>\n",
       "    <tr>\n",
       "      <th>2</th>\n",
       "      <td>1.0</td>\n",
       "      <td>2018-05-23</td>\n",
       "      <td>3.5</td>\n",
       "      <td>4</td>\n",
       "      <td>test</td>\n",
       "      <td>aha</td>\n",
       "    </tr>\n",
       "    <tr>\n",
       "      <th>3</th>\n",
       "      <td>1.0</td>\n",
       "      <td>2018-05-23</td>\n",
       "      <td>3.0</td>\n",
       "      <td>9</td>\n",
       "      <td>train</td>\n",
       "      <td>aha</td>\n",
       "    </tr>\n",
       "    <tr>\n",
       "      <th>4</th>\n",
       "      <td>1.0</td>\n",
       "      <td>2018-05-23</td>\n",
       "      <td>NaN</td>\n",
       "      <td>16</td>\n",
       "      <td>test</td>\n",
       "      <td>aha</td>\n",
       "    </tr>\n",
       "    <tr>\n",
       "      <th>5</th>\n",
       "      <td>1.0</td>\n",
       "      <td>2018-05-23</td>\n",
       "      <td>0.0</td>\n",
       "      <td>25</td>\n",
       "      <td>train</td>\n",
       "      <td>aha</td>\n",
       "    </tr>\n",
       "    <tr>\n",
       "      <th>6</th>\n",
       "      <td>1.0</td>\n",
       "      <td>2018-05-23</td>\n",
       "      <td>-5.0</td>\n",
       "      <td>36</td>\n",
       "      <td>train</td>\n",
       "      <td>aha</td>\n",
       "    </tr>\n",
       "  </tbody>\n",
       "</table>\n",
       "</div>"
      ],
      "text/plain": [
       "     A          B    C   D      E    F\n",
       "0  1.0 2018-05-23  1.0   0   test  aha\n",
       "1  1.0 2018-05-23  4.0   1  train  aha\n",
       "2  1.0 2018-05-23  3.5   4   test  aha\n",
       "3  1.0 2018-05-23  3.0   9  train  aha\n",
       "4  1.0 2018-05-23  NaN  16   test  aha\n",
       "5  1.0 2018-05-23  0.0  25  train  aha\n",
       "6  1.0 2018-05-23 -5.0  36  train  aha"
      ]
     },
     "execution_count": 95,
     "metadata": {},
     "output_type": "execute_result"
    }
   ],
   "source": [
    "df3 = pd.DataFrame({ 'A' : 1.,\n",
    "                   'B' : pd.Timestamp('20180523'),\n",
    "                   'C' : s,\n",
    "                   'D' : [x**2 for x in range(7)],\n",
    "                   'E' : pd.Categorical(['test','train']*3+[\"train\"]),\n",
    "                   'F' : 'aha'\n",
    "                   })\n",
    "df3"
   ]
  },
  {
   "cell_type": "code",
   "execution_count": null,
   "metadata": {},
   "outputs": [],
   "source": [
    "## different datatypes for columns! "
   ]
  },
  {
   "cell_type": "code",
   "execution_count": 96,
   "metadata": {},
   "outputs": [
    {
     "data": {
      "text/plain": [
       "A          float64\n",
       "B    datetime64[s]\n",
       "C          float64\n",
       "D            int64\n",
       "E         category\n",
       "F           object\n",
       "dtype: object"
      ]
     },
     "execution_count": 96,
     "metadata": {},
     "output_type": "execute_result"
    }
   ],
   "source": [
    "df3.dtypes"
   ]
  },
  {
   "cell_type": "code",
   "execution_count": 97,
   "metadata": {},
   "outputs": [
    {
     "data": {
      "text/html": [
       "<div>\n",
       "<style scoped>\n",
       "    .dataframe tbody tr th:only-of-type {\n",
       "        vertical-align: middle;\n",
       "    }\n",
       "\n",
       "    .dataframe tbody tr th {\n",
       "        vertical-align: top;\n",
       "    }\n",
       "\n",
       "    .dataframe thead th {\n",
       "        text-align: right;\n",
       "    }\n",
       "</style>\n",
       "<table border=\"1\" class=\"dataframe\">\n",
       "  <thead>\n",
       "    <tr style=\"text-align: right;\">\n",
       "      <th></th>\n",
       "      <th>A</th>\n",
       "      <th>B</th>\n",
       "      <th>C</th>\n",
       "      <th>D</th>\n",
       "      <th>E</th>\n",
       "      <th>F</th>\n",
       "    </tr>\n",
       "  </thead>\n",
       "  <tbody>\n",
       "    <tr>\n",
       "      <th>0</th>\n",
       "      <td>1.0</td>\n",
       "      <td>2018-05-23</td>\n",
       "      <td>1.0</td>\n",
       "      <td>0</td>\n",
       "      <td>test</td>\n",
       "      <td>aha</td>\n",
       "    </tr>\n",
       "    <tr>\n",
       "      <th>1</th>\n",
       "      <td>1.0</td>\n",
       "      <td>2018-05-23</td>\n",
       "      <td>4.0</td>\n",
       "      <td>1</td>\n",
       "      <td>train</td>\n",
       "      <td>aha</td>\n",
       "    </tr>\n",
       "    <tr>\n",
       "      <th>2</th>\n",
       "      <td>1.0</td>\n",
       "      <td>2018-05-23</td>\n",
       "      <td>3.5</td>\n",
       "      <td>4</td>\n",
       "      <td>test</td>\n",
       "      <td>aha</td>\n",
       "    </tr>\n",
       "    <tr>\n",
       "      <th>3</th>\n",
       "      <td>1.0</td>\n",
       "      <td>2018-05-23</td>\n",
       "      <td>3.0</td>\n",
       "      <td>9</td>\n",
       "      <td>train</td>\n",
       "      <td>aha</td>\n",
       "    </tr>\n",
       "    <tr>\n",
       "      <th>4</th>\n",
       "      <td>1.0</td>\n",
       "      <td>2018-05-23</td>\n",
       "      <td>NaN</td>\n",
       "      <td>16</td>\n",
       "      <td>test</td>\n",
       "      <td>aha</td>\n",
       "    </tr>\n",
       "  </tbody>\n",
       "</table>\n",
       "</div>"
      ],
      "text/plain": [
       "     A          B    C   D      E    F\n",
       "0  1.0 2018-05-23  1.0   0   test  aha\n",
       "1  1.0 2018-05-23  4.0   1  train  aha\n",
       "2  1.0 2018-05-23  3.5   4   test  aha\n",
       "3  1.0 2018-05-23  3.0   9  train  aha\n",
       "4  1.0 2018-05-23  NaN  16   test  aha"
      ]
     },
     "execution_count": 97,
     "metadata": {},
     "output_type": "execute_result"
    }
   ],
   "source": [
    "df3.head()"
   ]
  },
  {
   "cell_type": "code",
   "execution_count": 98,
   "metadata": {},
   "outputs": [
    {
     "data": {
      "text/html": [
       "<div>\n",
       "<style scoped>\n",
       "    .dataframe tbody tr th:only-of-type {\n",
       "        vertical-align: middle;\n",
       "    }\n",
       "\n",
       "    .dataframe tbody tr th {\n",
       "        vertical-align: top;\n",
       "    }\n",
       "\n",
       "    .dataframe thead th {\n",
       "        text-align: right;\n",
       "    }\n",
       "</style>\n",
       "<table border=\"1\" class=\"dataframe\">\n",
       "  <thead>\n",
       "    <tr style=\"text-align: right;\">\n",
       "      <th></th>\n",
       "      <th>A</th>\n",
       "      <th>B</th>\n",
       "      <th>C</th>\n",
       "      <th>D</th>\n",
       "      <th>E</th>\n",
       "      <th>F</th>\n",
       "    </tr>\n",
       "  </thead>\n",
       "  <tbody>\n",
       "    <tr>\n",
       "      <th>4</th>\n",
       "      <td>1.0</td>\n",
       "      <td>2018-05-23</td>\n",
       "      <td>NaN</td>\n",
       "      <td>16</td>\n",
       "      <td>test</td>\n",
       "      <td>aha</td>\n",
       "    </tr>\n",
       "    <tr>\n",
       "      <th>5</th>\n",
       "      <td>1.0</td>\n",
       "      <td>2018-05-23</td>\n",
       "      <td>0.0</td>\n",
       "      <td>25</td>\n",
       "      <td>train</td>\n",
       "      <td>aha</td>\n",
       "    </tr>\n",
       "    <tr>\n",
       "      <th>6</th>\n",
       "      <td>1.0</td>\n",
       "      <td>2018-05-23</td>\n",
       "      <td>-5.0</td>\n",
       "      <td>36</td>\n",
       "      <td>train</td>\n",
       "      <td>aha</td>\n",
       "    </tr>\n",
       "  </tbody>\n",
       "</table>\n",
       "</div>"
      ],
      "text/plain": [
       "     A          B    C   D      E    F\n",
       "4  1.0 2018-05-23  NaN  16   test  aha\n",
       "5  1.0 2018-05-23  0.0  25  train  aha\n",
       "6  1.0 2018-05-23 -5.0  36  train  aha"
      ]
     },
     "execution_count": 98,
     "metadata": {},
     "output_type": "execute_result"
    }
   ],
   "source": [
    "df3.tail(3)"
   ]
  },
  {
   "cell_type": "code",
   "execution_count": 99,
   "metadata": {},
   "outputs": [
    {
     "data": {
      "text/plain": [
       "DatetimeIndex(['2018-05-21', '2018-05-22', '2018-05-23', '2018-05-24',\n",
       "               '2018-05-25', '2018-05-26', '2018-05-27', '2018-05-28',\n",
       "               '2018-05-29', '2018-05-30', '2018-05-31', '2018-06-01',\n",
       "               '2018-06-02', '2018-06-03', '2018-06-04'],\n",
       "              dtype='datetime64[ns]', freq='D')"
      ]
     },
     "execution_count": 99,
     "metadata": {},
     "output_type": "execute_result"
    }
   ],
   "source": [
    "df.index"
   ]
  },
  {
   "cell_type": "code",
   "execution_count": 100,
   "metadata": {},
   "outputs": [
    {
     "data": {
      "text/plain": [
       "RangeIndex(start=0, stop=7, step=1)"
      ]
     },
     "execution_count": 100,
     "metadata": {},
     "output_type": "execute_result"
    }
   ],
   "source": [
    "df3.index"
   ]
  },
  {
   "cell_type": "code",
   "execution_count": 101,
   "metadata": {},
   "outputs": [
    {
     "data": {
      "text/plain": [
       "array([[1.0, Timestamp('2018-05-23 00:00:00'), 1.0, 0, 'test', 'aha'],\n",
       "       [1.0, Timestamp('2018-05-23 00:00:00'), 4.0, 1, 'train', 'aha'],\n",
       "       [1.0, Timestamp('2018-05-23 00:00:00'), 3.5, 4, 'test', 'aha'],\n",
       "       [1.0, Timestamp('2018-05-23 00:00:00'), 3.0, 9, 'train', 'aha'],\n",
       "       [1.0, Timestamp('2018-05-23 00:00:00'), nan, 16, 'test', 'aha'],\n",
       "       [1.0, Timestamp('2018-05-23 00:00:00'), 0.0, 25, 'train', 'aha'],\n",
       "       [1.0, Timestamp('2018-05-23 00:00:00'), -5.0, 36, 'train', 'aha']],\n",
       "      dtype=object)"
      ]
     },
     "execution_count": 101,
     "metadata": {},
     "output_type": "execute_result"
    }
   ],
   "source": [
    "df3.values"
   ]
  },
  {
   "cell_type": "code",
   "execution_count": 102,
   "metadata": {},
   "outputs": [
    {
     "data": {
      "text/html": [
       "<div>\n",
       "<style scoped>\n",
       "    .dataframe tbody tr th:only-of-type {\n",
       "        vertical-align: middle;\n",
       "    }\n",
       "\n",
       "    .dataframe tbody tr th {\n",
       "        vertical-align: top;\n",
       "    }\n",
       "\n",
       "    .dataframe thead th {\n",
       "        text-align: right;\n",
       "    }\n",
       "</style>\n",
       "<table border=\"1\" class=\"dataframe\">\n",
       "  <thead>\n",
       "    <tr style=\"text-align: right;\">\n",
       "      <th></th>\n",
       "      <th>A</th>\n",
       "      <th>B</th>\n",
       "      <th>C</th>\n",
       "      <th>D</th>\n",
       "    </tr>\n",
       "  </thead>\n",
       "  <tbody>\n",
       "    <tr>\n",
       "      <th>count</th>\n",
       "      <td>7.0</td>\n",
       "      <td>7</td>\n",
       "      <td>6.000000</td>\n",
       "      <td>7.000000</td>\n",
       "    </tr>\n",
       "    <tr>\n",
       "      <th>mean</th>\n",
       "      <td>1.0</td>\n",
       "      <td>2018-05-23 00:00:00</td>\n",
       "      <td>1.083333</td>\n",
       "      <td>13.000000</td>\n",
       "    </tr>\n",
       "    <tr>\n",
       "      <th>min</th>\n",
       "      <td>1.0</td>\n",
       "      <td>2018-05-23 00:00:00</td>\n",
       "      <td>-5.000000</td>\n",
       "      <td>0.000000</td>\n",
       "    </tr>\n",
       "    <tr>\n",
       "      <th>25%</th>\n",
       "      <td>1.0</td>\n",
       "      <td>2018-05-23 00:00:00</td>\n",
       "      <td>0.250000</td>\n",
       "      <td>2.500000</td>\n",
       "    </tr>\n",
       "    <tr>\n",
       "      <th>50%</th>\n",
       "      <td>1.0</td>\n",
       "      <td>2018-05-23 00:00:00</td>\n",
       "      <td>2.000000</td>\n",
       "      <td>9.000000</td>\n",
       "    </tr>\n",
       "    <tr>\n",
       "      <th>75%</th>\n",
       "      <td>1.0</td>\n",
       "      <td>2018-05-23 00:00:00</td>\n",
       "      <td>3.375000</td>\n",
       "      <td>20.500000</td>\n",
       "    </tr>\n",
       "    <tr>\n",
       "      <th>max</th>\n",
       "      <td>1.0</td>\n",
       "      <td>2018-05-23 00:00:00</td>\n",
       "      <td>4.000000</td>\n",
       "      <td>36.000000</td>\n",
       "    </tr>\n",
       "    <tr>\n",
       "      <th>std</th>\n",
       "      <td>0.0</td>\n",
       "      <td>NaN</td>\n",
       "      <td>3.352859</td>\n",
       "      <td>13.490738</td>\n",
       "    </tr>\n",
       "  </tbody>\n",
       "</table>\n",
       "</div>"
      ],
      "text/plain": [
       "         A                    B         C          D\n",
       "count  7.0                    7  6.000000   7.000000\n",
       "mean   1.0  2018-05-23 00:00:00  1.083333  13.000000\n",
       "min    1.0  2018-05-23 00:00:00 -5.000000   0.000000\n",
       "25%    1.0  2018-05-23 00:00:00  0.250000   2.500000\n",
       "50%    1.0  2018-05-23 00:00:00  2.000000   9.000000\n",
       "75%    1.0  2018-05-23 00:00:00  3.375000  20.500000\n",
       "max    1.0  2018-05-23 00:00:00  4.000000  36.000000\n",
       "std    0.0                  NaN  3.352859  13.490738"
      ]
     },
     "execution_count": 102,
     "metadata": {},
     "output_type": "execute_result"
    }
   ],
   "source": [
    "df3.describe()"
   ]
  },
  {
   "cell_type": "code",
   "execution_count": 103,
   "metadata": {},
   "outputs": [
    {
     "name": "stdout",
     "output_type": "stream",
     "text": [
      "<class 'pandas.core.frame.DataFrame'>\n",
      "DatetimeIndex: 15 entries, 2018-05-21 to 2018-06-04\n",
      "Freq: D\n",
      "Data columns (total 5 columns):\n",
      " #   Column  Non-Null Count  Dtype  \n",
      "---  ------  --------------  -----  \n",
      " 0   A       15 non-null     float64\n",
      " 1   B       15 non-null     float64\n",
      " 2   C       15 non-null     float64\n",
      " 3   D       15 non-null     float64\n",
      " 4   E       15 non-null     float64\n",
      "dtypes: float64(5)\n",
      "memory usage: 720.0 bytes\n"
     ]
    }
   ],
   "source": [
    "df.info()"
   ]
  },
  {
   "cell_type": "code",
   "execution_count": null,
   "metadata": {},
   "outputs": [],
   "source": []
  },
  {
   "cell_type": "code",
   "execution_count": 104,
   "metadata": {
    "scrolled": true
   },
   "outputs": [
    {
     "data": {
      "text/html": [
       "<div>\n",
       "<style scoped>\n",
       "    .dataframe tbody tr th:only-of-type {\n",
       "        vertical-align: middle;\n",
       "    }\n",
       "\n",
       "    .dataframe tbody tr th {\n",
       "        vertical-align: top;\n",
       "    }\n",
       "\n",
       "    .dataframe thead th {\n",
       "        text-align: right;\n",
       "    }\n",
       "</style>\n",
       "<table border=\"1\" class=\"dataframe\">\n",
       "  <thead>\n",
       "    <tr style=\"text-align: right;\">\n",
       "      <th></th>\n",
       "      <th>A</th>\n",
       "      <th>B</th>\n",
       "      <th>C</th>\n",
       "      <th>D</th>\n",
       "      <th>E</th>\n",
       "    </tr>\n",
       "  </thead>\n",
       "  <tbody>\n",
       "    <tr>\n",
       "      <th>2018-05-21</th>\n",
       "      <td>0.662777</td>\n",
       "      <td>0.666669</td>\n",
       "      <td>0.878194</td>\n",
       "      <td>0.627345</td>\n",
       "      <td>0.204957</td>\n",
       "    </tr>\n",
       "    <tr>\n",
       "      <th>2018-05-22</th>\n",
       "      <td>0.576757</td>\n",
       "      <td>-0.338353</td>\n",
       "      <td>-0.949003</td>\n",
       "      <td>0.947013</td>\n",
       "      <td>0.510873</td>\n",
       "    </tr>\n",
       "    <tr>\n",
       "      <th>2018-05-23</th>\n",
       "      <td>-1.109103</td>\n",
       "      <td>0.794037</td>\n",
       "      <td>-1.004451</td>\n",
       "      <td>-1.326286</td>\n",
       "      <td>1.508179</td>\n",
       "    </tr>\n",
       "    <tr>\n",
       "      <th>2018-05-24</th>\n",
       "      <td>-1.099926</td>\n",
       "      <td>0.853258</td>\n",
       "      <td>-1.287643</td>\n",
       "      <td>-1.541802</td>\n",
       "      <td>1.856672</td>\n",
       "    </tr>\n",
       "    <tr>\n",
       "      <th>2018-05-25</th>\n",
       "      <td>-0.966063</td>\n",
       "      <td>-0.526380</td>\n",
       "      <td>0.193345</td>\n",
       "      <td>0.260406</td>\n",
       "      <td>-0.174440</td>\n",
       "    </tr>\n",
       "    <tr>\n",
       "      <th>2018-05-26</th>\n",
       "      <td>1.302870</td>\n",
       "      <td>-0.007158</td>\n",
       "      <td>-0.186783</td>\n",
       "      <td>1.731096</td>\n",
       "      <td>-0.989682</td>\n",
       "    </tr>\n",
       "    <tr>\n",
       "      <th>2018-05-27</th>\n",
       "      <td>0.102827</td>\n",
       "      <td>0.389831</td>\n",
       "      <td>-0.009321</td>\n",
       "      <td>-2.339168</td>\n",
       "      <td>0.354356</td>\n",
       "    </tr>\n",
       "    <tr>\n",
       "      <th>2018-05-28</th>\n",
       "      <td>-1.229516</td>\n",
       "      <td>0.635055</td>\n",
       "      <td>-0.326571</td>\n",
       "      <td>-1.323469</td>\n",
       "      <td>-0.494465</td>\n",
       "    </tr>\n",
       "    <tr>\n",
       "      <th>2018-05-29</th>\n",
       "      <td>0.611699</td>\n",
       "      <td>1.270709</td>\n",
       "      <td>-1.218284</td>\n",
       "      <td>-0.928532</td>\n",
       "      <td>1.927610</td>\n",
       "    </tr>\n",
       "    <tr>\n",
       "      <th>2018-05-30</th>\n",
       "      <td>-0.695086</td>\n",
       "      <td>0.811071</td>\n",
       "      <td>1.918304</td>\n",
       "      <td>1.853819</td>\n",
       "      <td>0.156570</td>\n",
       "    </tr>\n",
       "    <tr>\n",
       "      <th>2018-05-31</th>\n",
       "      <td>1.179970</td>\n",
       "      <td>0.753904</td>\n",
       "      <td>0.591013</td>\n",
       "      <td>-0.351822</td>\n",
       "      <td>-1.579526</td>\n",
       "    </tr>\n",
       "    <tr>\n",
       "      <th>2018-06-01</th>\n",
       "      <td>-2.107911</td>\n",
       "      <td>-1.692829</td>\n",
       "      <td>0.736854</td>\n",
       "      <td>0.903426</td>\n",
       "      <td>1.954866</td>\n",
       "    </tr>\n",
       "    <tr>\n",
       "      <th>2018-06-02</th>\n",
       "      <td>0.237445</td>\n",
       "      <td>0.363186</td>\n",
       "      <td>0.704813</td>\n",
       "      <td>0.785438</td>\n",
       "      <td>-0.801865</td>\n",
       "    </tr>\n",
       "    <tr>\n",
       "      <th>2018-06-03</th>\n",
       "      <td>0.980281</td>\n",
       "      <td>-0.276816</td>\n",
       "      <td>0.744498</td>\n",
       "      <td>0.490023</td>\n",
       "      <td>0.613402</td>\n",
       "    </tr>\n",
       "    <tr>\n",
       "      <th>2018-06-04</th>\n",
       "      <td>-0.950453</td>\n",
       "      <td>-0.668815</td>\n",
       "      <td>0.104648</td>\n",
       "      <td>-1.451866</td>\n",
       "      <td>0.459389</td>\n",
       "    </tr>\n",
       "  </tbody>\n",
       "</table>\n",
       "</div>"
      ],
      "text/plain": [
       "                   A         B         C         D         E\n",
       "2018-05-21  0.662777  0.666669  0.878194  0.627345  0.204957\n",
       "2018-05-22  0.576757 -0.338353 -0.949003  0.947013  0.510873\n",
       "2018-05-23 -1.109103  0.794037 -1.004451 -1.326286  1.508179\n",
       "2018-05-24 -1.099926  0.853258 -1.287643 -1.541802  1.856672\n",
       "2018-05-25 -0.966063 -0.526380  0.193345  0.260406 -0.174440\n",
       "2018-05-26  1.302870 -0.007158 -0.186783  1.731096 -0.989682\n",
       "2018-05-27  0.102827  0.389831 -0.009321 -2.339168  0.354356\n",
       "2018-05-28 -1.229516  0.635055 -0.326571 -1.323469 -0.494465\n",
       "2018-05-29  0.611699  1.270709 -1.218284 -0.928532  1.927610\n",
       "2018-05-30 -0.695086  0.811071  1.918304  1.853819  0.156570\n",
       "2018-05-31  1.179970  0.753904  0.591013 -0.351822 -1.579526\n",
       "2018-06-01 -2.107911 -1.692829  0.736854  0.903426  1.954866\n",
       "2018-06-02  0.237445  0.363186  0.704813  0.785438 -0.801865\n",
       "2018-06-03  0.980281 -0.276816  0.744498  0.490023  0.613402\n",
       "2018-06-04 -0.950453 -0.668815  0.104648 -1.451866  0.459389"
      ]
     },
     "execution_count": 104,
     "metadata": {},
     "output_type": "execute_result"
    }
   ],
   "source": [
    "df.sort_index(axis=1,ascending=True)"
   ]
  },
  {
   "cell_type": "code",
   "execution_count": 106,
   "metadata": {},
   "outputs": [
    {
     "data": {
      "text/html": [
       "<div>\n",
       "<style scoped>\n",
       "    .dataframe tbody tr th:only-of-type {\n",
       "        vertical-align: middle;\n",
       "    }\n",
       "\n",
       "    .dataframe tbody tr th {\n",
       "        vertical-align: top;\n",
       "    }\n",
       "\n",
       "    .dataframe thead th {\n",
       "        text-align: right;\n",
       "    }\n",
       "</style>\n",
       "<table border=\"1\" class=\"dataframe\">\n",
       "  <thead>\n",
       "    <tr style=\"text-align: right;\">\n",
       "      <th></th>\n",
       "      <th>A</th>\n",
       "      <th>B</th>\n",
       "      <th>C</th>\n",
       "      <th>D</th>\n",
       "      <th>E</th>\n",
       "    </tr>\n",
       "  </thead>\n",
       "  <tbody>\n",
       "    <tr>\n",
       "      <th>2018-06-04</th>\n",
       "      <td>-0.950453</td>\n",
       "      <td>-0.668815</td>\n",
       "      <td>0.104648</td>\n",
       "      <td>-1.451866</td>\n",
       "      <td>0.459389</td>\n",
       "    </tr>\n",
       "    <tr>\n",
       "      <th>2018-06-03</th>\n",
       "      <td>0.980281</td>\n",
       "      <td>-0.276816</td>\n",
       "      <td>0.744498</td>\n",
       "      <td>0.490023</td>\n",
       "      <td>0.613402</td>\n",
       "    </tr>\n",
       "    <tr>\n",
       "      <th>2018-06-02</th>\n",
       "      <td>0.237445</td>\n",
       "      <td>0.363186</td>\n",
       "      <td>0.704813</td>\n",
       "      <td>0.785438</td>\n",
       "      <td>-0.801865</td>\n",
       "    </tr>\n",
       "    <tr>\n",
       "      <th>2018-06-01</th>\n",
       "      <td>-2.107911</td>\n",
       "      <td>-1.692829</td>\n",
       "      <td>0.736854</td>\n",
       "      <td>0.903426</td>\n",
       "      <td>1.954866</td>\n",
       "    </tr>\n",
       "    <tr>\n",
       "      <th>2018-05-31</th>\n",
       "      <td>1.179970</td>\n",
       "      <td>0.753904</td>\n",
       "      <td>0.591013</td>\n",
       "      <td>-0.351822</td>\n",
       "      <td>-1.579526</td>\n",
       "    </tr>\n",
       "    <tr>\n",
       "      <th>2018-05-30</th>\n",
       "      <td>-0.695086</td>\n",
       "      <td>0.811071</td>\n",
       "      <td>1.918304</td>\n",
       "      <td>1.853819</td>\n",
       "      <td>0.156570</td>\n",
       "    </tr>\n",
       "    <tr>\n",
       "      <th>2018-05-29</th>\n",
       "      <td>0.611699</td>\n",
       "      <td>1.270709</td>\n",
       "      <td>-1.218284</td>\n",
       "      <td>-0.928532</td>\n",
       "      <td>1.927610</td>\n",
       "    </tr>\n",
       "    <tr>\n",
       "      <th>2018-05-28</th>\n",
       "      <td>-1.229516</td>\n",
       "      <td>0.635055</td>\n",
       "      <td>-0.326571</td>\n",
       "      <td>-1.323469</td>\n",
       "      <td>-0.494465</td>\n",
       "    </tr>\n",
       "    <tr>\n",
       "      <th>2018-05-27</th>\n",
       "      <td>0.102827</td>\n",
       "      <td>0.389831</td>\n",
       "      <td>-0.009321</td>\n",
       "      <td>-2.339168</td>\n",
       "      <td>0.354356</td>\n",
       "    </tr>\n",
       "    <tr>\n",
       "      <th>2018-05-26</th>\n",
       "      <td>1.302870</td>\n",
       "      <td>-0.007158</td>\n",
       "      <td>-0.186783</td>\n",
       "      <td>1.731096</td>\n",
       "      <td>-0.989682</td>\n",
       "    </tr>\n",
       "    <tr>\n",
       "      <th>2018-05-25</th>\n",
       "      <td>-0.966063</td>\n",
       "      <td>-0.526380</td>\n",
       "      <td>0.193345</td>\n",
       "      <td>0.260406</td>\n",
       "      <td>-0.174440</td>\n",
       "    </tr>\n",
       "    <tr>\n",
       "      <th>2018-05-24</th>\n",
       "      <td>-1.099926</td>\n",
       "      <td>0.853258</td>\n",
       "      <td>-1.287643</td>\n",
       "      <td>-1.541802</td>\n",
       "      <td>1.856672</td>\n",
       "    </tr>\n",
       "    <tr>\n",
       "      <th>2018-05-23</th>\n",
       "      <td>-1.109103</td>\n",
       "      <td>0.794037</td>\n",
       "      <td>-1.004451</td>\n",
       "      <td>-1.326286</td>\n",
       "      <td>1.508179</td>\n",
       "    </tr>\n",
       "    <tr>\n",
       "      <th>2018-05-22</th>\n",
       "      <td>0.576757</td>\n",
       "      <td>-0.338353</td>\n",
       "      <td>-0.949003</td>\n",
       "      <td>0.947013</td>\n",
       "      <td>0.510873</td>\n",
       "    </tr>\n",
       "    <tr>\n",
       "      <th>2018-05-21</th>\n",
       "      <td>0.662777</td>\n",
       "      <td>0.666669</td>\n",
       "      <td>0.878194</td>\n",
       "      <td>0.627345</td>\n",
       "      <td>0.204957</td>\n",
       "    </tr>\n",
       "  </tbody>\n",
       "</table>\n",
       "</div>"
      ],
      "text/plain": [
       "                   A         B         C         D         E\n",
       "2018-06-04 -0.950453 -0.668815  0.104648 -1.451866  0.459389\n",
       "2018-06-03  0.980281 -0.276816  0.744498  0.490023  0.613402\n",
       "2018-06-02  0.237445  0.363186  0.704813  0.785438 -0.801865\n",
       "2018-06-01 -2.107911 -1.692829  0.736854  0.903426  1.954866\n",
       "2018-05-31  1.179970  0.753904  0.591013 -0.351822 -1.579526\n",
       "2018-05-30 -0.695086  0.811071  1.918304  1.853819  0.156570\n",
       "2018-05-29  0.611699  1.270709 -1.218284 -0.928532  1.927610\n",
       "2018-05-28 -1.229516  0.635055 -0.326571 -1.323469 -0.494465\n",
       "2018-05-27  0.102827  0.389831 -0.009321 -2.339168  0.354356\n",
       "2018-05-26  1.302870 -0.007158 -0.186783  1.731096 -0.989682\n",
       "2018-05-25 -0.966063 -0.526380  0.193345  0.260406 -0.174440\n",
       "2018-05-24 -1.099926  0.853258 -1.287643 -1.541802  1.856672\n",
       "2018-05-23 -1.109103  0.794037 -1.004451 -1.326286  1.508179\n",
       "2018-05-22  0.576757 -0.338353 -0.949003  0.947013  0.510873\n",
       "2018-05-21  0.662777  0.666669  0.878194  0.627345  0.204957"
      ]
     },
     "execution_count": 106,
     "metadata": {},
     "output_type": "execute_result"
    }
   ],
   "source": [
    "df.sort_index(axis=0,ascending=False)"
   ]
  },
  {
   "cell_type": "code",
   "execution_count": null,
   "metadata": {},
   "outputs": [],
   "source": [
    "## Sort by Axis in reverse"
   ]
  },
  {
   "cell_type": "code",
   "execution_count": 107,
   "metadata": {},
   "outputs": [
    {
     "data": {
      "text/html": [
       "<div>\n",
       "<style scoped>\n",
       "    .dataframe tbody tr th:only-of-type {\n",
       "        vertical-align: middle;\n",
       "    }\n",
       "\n",
       "    .dataframe tbody tr th {\n",
       "        vertical-align: top;\n",
       "    }\n",
       "\n",
       "    .dataframe thead th {\n",
       "        text-align: right;\n",
       "    }\n",
       "</style>\n",
       "<table border=\"1\" class=\"dataframe\">\n",
       "  <thead>\n",
       "    <tr style=\"text-align: right;\">\n",
       "      <th></th>\n",
       "      <th>E</th>\n",
       "      <th>D</th>\n",
       "      <th>C</th>\n",
       "      <th>B</th>\n",
       "      <th>A</th>\n",
       "    </tr>\n",
       "  </thead>\n",
       "  <tbody>\n",
       "    <tr>\n",
       "      <th>2018-05-21</th>\n",
       "      <td>0.204957</td>\n",
       "      <td>0.627345</td>\n",
       "      <td>0.878194</td>\n",
       "      <td>0.666669</td>\n",
       "      <td>0.662777</td>\n",
       "    </tr>\n",
       "    <tr>\n",
       "      <th>2018-05-22</th>\n",
       "      <td>0.510873</td>\n",
       "      <td>0.947013</td>\n",
       "      <td>-0.949003</td>\n",
       "      <td>-0.338353</td>\n",
       "      <td>0.576757</td>\n",
       "    </tr>\n",
       "    <tr>\n",
       "      <th>2018-05-23</th>\n",
       "      <td>1.508179</td>\n",
       "      <td>-1.326286</td>\n",
       "      <td>-1.004451</td>\n",
       "      <td>0.794037</td>\n",
       "      <td>-1.109103</td>\n",
       "    </tr>\n",
       "    <tr>\n",
       "      <th>2018-05-24</th>\n",
       "      <td>1.856672</td>\n",
       "      <td>-1.541802</td>\n",
       "      <td>-1.287643</td>\n",
       "      <td>0.853258</td>\n",
       "      <td>-1.099926</td>\n",
       "    </tr>\n",
       "    <tr>\n",
       "      <th>2018-05-25</th>\n",
       "      <td>-0.174440</td>\n",
       "      <td>0.260406</td>\n",
       "      <td>0.193345</td>\n",
       "      <td>-0.526380</td>\n",
       "      <td>-0.966063</td>\n",
       "    </tr>\n",
       "    <tr>\n",
       "      <th>2018-05-26</th>\n",
       "      <td>-0.989682</td>\n",
       "      <td>1.731096</td>\n",
       "      <td>-0.186783</td>\n",
       "      <td>-0.007158</td>\n",
       "      <td>1.302870</td>\n",
       "    </tr>\n",
       "    <tr>\n",
       "      <th>2018-05-27</th>\n",
       "      <td>0.354356</td>\n",
       "      <td>-2.339168</td>\n",
       "      <td>-0.009321</td>\n",
       "      <td>0.389831</td>\n",
       "      <td>0.102827</td>\n",
       "    </tr>\n",
       "    <tr>\n",
       "      <th>2018-05-28</th>\n",
       "      <td>-0.494465</td>\n",
       "      <td>-1.323469</td>\n",
       "      <td>-0.326571</td>\n",
       "      <td>0.635055</td>\n",
       "      <td>-1.229516</td>\n",
       "    </tr>\n",
       "    <tr>\n",
       "      <th>2018-05-29</th>\n",
       "      <td>1.927610</td>\n",
       "      <td>-0.928532</td>\n",
       "      <td>-1.218284</td>\n",
       "      <td>1.270709</td>\n",
       "      <td>0.611699</td>\n",
       "    </tr>\n",
       "    <tr>\n",
       "      <th>2018-05-30</th>\n",
       "      <td>0.156570</td>\n",
       "      <td>1.853819</td>\n",
       "      <td>1.918304</td>\n",
       "      <td>0.811071</td>\n",
       "      <td>-0.695086</td>\n",
       "    </tr>\n",
       "    <tr>\n",
       "      <th>2018-05-31</th>\n",
       "      <td>-1.579526</td>\n",
       "      <td>-0.351822</td>\n",
       "      <td>0.591013</td>\n",
       "      <td>0.753904</td>\n",
       "      <td>1.179970</td>\n",
       "    </tr>\n",
       "    <tr>\n",
       "      <th>2018-06-01</th>\n",
       "      <td>1.954866</td>\n",
       "      <td>0.903426</td>\n",
       "      <td>0.736854</td>\n",
       "      <td>-1.692829</td>\n",
       "      <td>-2.107911</td>\n",
       "    </tr>\n",
       "    <tr>\n",
       "      <th>2018-06-02</th>\n",
       "      <td>-0.801865</td>\n",
       "      <td>0.785438</td>\n",
       "      <td>0.704813</td>\n",
       "      <td>0.363186</td>\n",
       "      <td>0.237445</td>\n",
       "    </tr>\n",
       "    <tr>\n",
       "      <th>2018-06-03</th>\n",
       "      <td>0.613402</td>\n",
       "      <td>0.490023</td>\n",
       "      <td>0.744498</td>\n",
       "      <td>-0.276816</td>\n",
       "      <td>0.980281</td>\n",
       "    </tr>\n",
       "    <tr>\n",
       "      <th>2018-06-04</th>\n",
       "      <td>0.459389</td>\n",
       "      <td>-1.451866</td>\n",
       "      <td>0.104648</td>\n",
       "      <td>-0.668815</td>\n",
       "      <td>-0.950453</td>\n",
       "    </tr>\n",
       "  </tbody>\n",
       "</table>\n",
       "</div>"
      ],
      "text/plain": [
       "                   E         D         C         B         A\n",
       "2018-05-21  0.204957  0.627345  0.878194  0.666669  0.662777\n",
       "2018-05-22  0.510873  0.947013 -0.949003 -0.338353  0.576757\n",
       "2018-05-23  1.508179 -1.326286 -1.004451  0.794037 -1.109103\n",
       "2018-05-24  1.856672 -1.541802 -1.287643  0.853258 -1.099926\n",
       "2018-05-25 -0.174440  0.260406  0.193345 -0.526380 -0.966063\n",
       "2018-05-26 -0.989682  1.731096 -0.186783 -0.007158  1.302870\n",
       "2018-05-27  0.354356 -2.339168 -0.009321  0.389831  0.102827\n",
       "2018-05-28 -0.494465 -1.323469 -0.326571  0.635055 -1.229516\n",
       "2018-05-29  1.927610 -0.928532 -1.218284  1.270709  0.611699\n",
       "2018-05-30  0.156570  1.853819  1.918304  0.811071 -0.695086\n",
       "2018-05-31 -1.579526 -0.351822  0.591013  0.753904  1.179970\n",
       "2018-06-01  1.954866  0.903426  0.736854 -1.692829 -2.107911\n",
       "2018-06-02 -0.801865  0.785438  0.704813  0.363186  0.237445\n",
       "2018-06-03  0.613402  0.490023  0.744498 -0.276816  0.980281\n",
       "2018-06-04  0.459389 -1.451866  0.104648 -0.668815 -0.950453"
      ]
     },
     "execution_count": 107,
     "metadata": {},
     "output_type": "execute_result"
    }
   ],
   "source": [
    "df.sort_index(axis=1,ascending=False)"
   ]
  },
  {
   "cell_type": "code",
   "execution_count": 108,
   "metadata": {},
   "outputs": [
    {
     "data": {
      "text/html": [
       "<div>\n",
       "<style scoped>\n",
       "    .dataframe tbody tr th:only-of-type {\n",
       "        vertical-align: middle;\n",
       "    }\n",
       "\n",
       "    .dataframe tbody tr th {\n",
       "        vertical-align: top;\n",
       "    }\n",
       "\n",
       "    .dataframe thead th {\n",
       "        text-align: right;\n",
       "    }\n",
       "</style>\n",
       "<table border=\"1\" class=\"dataframe\">\n",
       "  <thead>\n",
       "    <tr style=\"text-align: right;\">\n",
       "      <th></th>\n",
       "      <th>A</th>\n",
       "      <th>B</th>\n",
       "      <th>C</th>\n",
       "      <th>D</th>\n",
       "      <th>E</th>\n",
       "      <th>F</th>\n",
       "    </tr>\n",
       "  </thead>\n",
       "  <tbody>\n",
       "    <tr>\n",
       "      <th>1</th>\n",
       "      <td>1.0</td>\n",
       "      <td>2018-05-23</td>\n",
       "      <td>4.0</td>\n",
       "      <td>1</td>\n",
       "      <td>train</td>\n",
       "      <td>aha</td>\n",
       "    </tr>\n",
       "    <tr>\n",
       "      <th>2</th>\n",
       "      <td>1.0</td>\n",
       "      <td>2018-05-23</td>\n",
       "      <td>3.5</td>\n",
       "      <td>4</td>\n",
       "      <td>test</td>\n",
       "      <td>aha</td>\n",
       "    </tr>\n",
       "    <tr>\n",
       "      <th>3</th>\n",
       "      <td>1.0</td>\n",
       "      <td>2018-05-23</td>\n",
       "      <td>3.0</td>\n",
       "      <td>9</td>\n",
       "      <td>train</td>\n",
       "      <td>aha</td>\n",
       "    </tr>\n",
       "    <tr>\n",
       "      <th>0</th>\n",
       "      <td>1.0</td>\n",
       "      <td>2018-05-23</td>\n",
       "      <td>1.0</td>\n",
       "      <td>0</td>\n",
       "      <td>test</td>\n",
       "      <td>aha</td>\n",
       "    </tr>\n",
       "    <tr>\n",
       "      <th>5</th>\n",
       "      <td>1.0</td>\n",
       "      <td>2018-05-23</td>\n",
       "      <td>0.0</td>\n",
       "      <td>25</td>\n",
       "      <td>train</td>\n",
       "      <td>aha</td>\n",
       "    </tr>\n",
       "    <tr>\n",
       "      <th>6</th>\n",
       "      <td>1.0</td>\n",
       "      <td>2018-05-23</td>\n",
       "      <td>-5.0</td>\n",
       "      <td>36</td>\n",
       "      <td>train</td>\n",
       "      <td>aha</td>\n",
       "    </tr>\n",
       "    <tr>\n",
       "      <th>4</th>\n",
       "      <td>1.0</td>\n",
       "      <td>2018-05-23</td>\n",
       "      <td>NaN</td>\n",
       "      <td>16</td>\n",
       "      <td>test</td>\n",
       "      <td>aha</td>\n",
       "    </tr>\n",
       "  </tbody>\n",
       "</table>\n",
       "</div>"
      ],
      "text/plain": [
       "     A          B    C   D      E    F\n",
       "1  1.0 2018-05-23  4.0   1  train  aha\n",
       "2  1.0 2018-05-23  3.5   4   test  aha\n",
       "3  1.0 2018-05-23  3.0   9  train  aha\n",
       "0  1.0 2018-05-23  1.0   0   test  aha\n",
       "5  1.0 2018-05-23  0.0  25  train  aha\n",
       "6  1.0 2018-05-23 -5.0  36  train  aha\n",
       "4  1.0 2018-05-23  NaN  16   test  aha"
      ]
     },
     "execution_count": 108,
     "metadata": {},
     "output_type": "execute_result"
    }
   ],
   "source": [
    "df3.sort_values(by='C', ascending=False)"
   ]
  },
  {
   "cell_type": "code",
   "execution_count": null,
   "metadata": {},
   "outputs": [],
   "source": [
    "# Notice NaN gets last"
   ]
  },
  {
   "cell_type": "markdown",
   "metadata": {},
   "source": [
    "### Selection \n",
    "\n",
    "Note: while standard Python / Numpy expressions for selecting and setting are intuitive and come in handy for interactive work, for production code, we recommend the optimized pandas data access methods, .at, .iat, .loc and .iloc."
   ]
  },
  {
   "cell_type": "code",
   "execution_count": 109,
   "metadata": {},
   "outputs": [
    {
     "data": {
      "text/plain": [
       "0     0\n",
       "1     1\n",
       "2     4\n",
       "3     9\n",
       "4    16\n",
       "5    25\n",
       "6    36\n",
       "Name: D, dtype: int64"
      ]
     },
     "execution_count": 109,
     "metadata": {},
     "output_type": "execute_result"
    }
   ],
   "source": [
    "df3['D']"
   ]
  },
  {
   "cell_type": "code",
   "execution_count": 110,
   "metadata": {},
   "outputs": [
    {
     "data": {
      "text/html": [
       "<div>\n",
       "<style scoped>\n",
       "    .dataframe tbody tr th:only-of-type {\n",
       "        vertical-align: middle;\n",
       "    }\n",
       "\n",
       "    .dataframe tbody tr th {\n",
       "        vertical-align: top;\n",
       "    }\n",
       "\n",
       "    .dataframe thead th {\n",
       "        text-align: right;\n",
       "    }\n",
       "</style>\n",
       "<table border=\"1\" class=\"dataframe\">\n",
       "  <thead>\n",
       "    <tr style=\"text-align: right;\">\n",
       "      <th></th>\n",
       "      <th>A</th>\n",
       "      <th>B</th>\n",
       "      <th>C</th>\n",
       "      <th>D</th>\n",
       "      <th>E</th>\n",
       "      <th>F</th>\n",
       "    </tr>\n",
       "  </thead>\n",
       "  <tbody>\n",
       "    <tr>\n",
       "      <th>0</th>\n",
       "      <td>1.0</td>\n",
       "      <td>2018-05-23</td>\n",
       "      <td>1.0</td>\n",
       "      <td>0</td>\n",
       "      <td>test</td>\n",
       "      <td>aha</td>\n",
       "    </tr>\n",
       "    <tr>\n",
       "      <th>1</th>\n",
       "      <td>1.0</td>\n",
       "      <td>2018-05-23</td>\n",
       "      <td>4.0</td>\n",
       "      <td>1</td>\n",
       "      <td>train</td>\n",
       "      <td>aha</td>\n",
       "    </tr>\n",
       "    <tr>\n",
       "      <th>2</th>\n",
       "      <td>1.0</td>\n",
       "      <td>2018-05-23</td>\n",
       "      <td>3.5</td>\n",
       "      <td>4</td>\n",
       "      <td>test</td>\n",
       "      <td>aha</td>\n",
       "    </tr>\n",
       "    <tr>\n",
       "      <th>3</th>\n",
       "      <td>1.0</td>\n",
       "      <td>2018-05-23</td>\n",
       "      <td>3.0</td>\n",
       "      <td>9</td>\n",
       "      <td>train</td>\n",
       "      <td>aha</td>\n",
       "    </tr>\n",
       "    <tr>\n",
       "      <th>4</th>\n",
       "      <td>1.0</td>\n",
       "      <td>2018-05-23</td>\n",
       "      <td>NaN</td>\n",
       "      <td>16</td>\n",
       "      <td>test</td>\n",
       "      <td>aha</td>\n",
       "    </tr>\n",
       "  </tbody>\n",
       "</table>\n",
       "</div>"
      ],
      "text/plain": [
       "     A          B    C   D      E    F\n",
       "0  1.0 2018-05-23  1.0   0   test  aha\n",
       "1  1.0 2018-05-23  4.0   1  train  aha\n",
       "2  1.0 2018-05-23  3.5   4   test  aha\n",
       "3  1.0 2018-05-23  3.0   9  train  aha\n",
       "4  1.0 2018-05-23  NaN  16   test  aha"
      ]
     },
     "execution_count": 110,
     "metadata": {},
     "output_type": "execute_result"
    }
   ],
   "source": [
    "df3[:5]"
   ]
  },
  {
   "cell_type": "code",
   "execution_count": 111,
   "metadata": {},
   "outputs": [
    {
     "data": {
      "text/html": [
       "<div>\n",
       "<style scoped>\n",
       "    .dataframe tbody tr th:only-of-type {\n",
       "        vertical-align: middle;\n",
       "    }\n",
       "\n",
       "    .dataframe tbody tr th {\n",
       "        vertical-align: top;\n",
       "    }\n",
       "\n",
       "    .dataframe thead th {\n",
       "        text-align: right;\n",
       "    }\n",
       "</style>\n",
       "<table border=\"1\" class=\"dataframe\">\n",
       "  <thead>\n",
       "    <tr style=\"text-align: right;\">\n",
       "      <th></th>\n",
       "      <th>A</th>\n",
       "      <th>B</th>\n",
       "      <th>C</th>\n",
       "      <th>D</th>\n",
       "      <th>E</th>\n",
       "      <th>F</th>\n",
       "    </tr>\n",
       "  </thead>\n",
       "  <tbody>\n",
       "    <tr>\n",
       "      <th>2</th>\n",
       "      <td>1.0</td>\n",
       "      <td>2018-05-23</td>\n",
       "      <td>3.5</td>\n",
       "      <td>4</td>\n",
       "      <td>test</td>\n",
       "      <td>aha</td>\n",
       "    </tr>\n",
       "    <tr>\n",
       "      <th>3</th>\n",
       "      <td>1.0</td>\n",
       "      <td>2018-05-23</td>\n",
       "      <td>3.0</td>\n",
       "      <td>9</td>\n",
       "      <td>train</td>\n",
       "      <td>aha</td>\n",
       "    </tr>\n",
       "    <tr>\n",
       "      <th>4</th>\n",
       "      <td>1.0</td>\n",
       "      <td>2018-05-23</td>\n",
       "      <td>NaN</td>\n",
       "      <td>16</td>\n",
       "      <td>test</td>\n",
       "      <td>aha</td>\n",
       "    </tr>\n",
       "  </tbody>\n",
       "</table>\n",
       "</div>"
      ],
      "text/plain": [
       "     A          B    C   D      E    F\n",
       "2  1.0 2018-05-23  3.5   4   test  aha\n",
       "3  1.0 2018-05-23  3.0   9  train  aha\n",
       "4  1.0 2018-05-23  NaN  16   test  aha"
      ]
     },
     "execution_count": 111,
     "metadata": {},
     "output_type": "execute_result"
    }
   ],
   "source": [
    "df3[2:5]"
   ]
  },
  {
   "cell_type": "code",
   "execution_count": 112,
   "metadata": {},
   "outputs": [
    {
     "data": {
      "text/html": [
       "<div>\n",
       "<style scoped>\n",
       "    .dataframe tbody tr th:only-of-type {\n",
       "        vertical-align: middle;\n",
       "    }\n",
       "\n",
       "    .dataframe tbody tr th {\n",
       "        vertical-align: top;\n",
       "    }\n",
       "\n",
       "    .dataframe thead th {\n",
       "        text-align: right;\n",
       "    }\n",
       "</style>\n",
       "<table border=\"1\" class=\"dataframe\">\n",
       "  <thead>\n",
       "    <tr style=\"text-align: right;\">\n",
       "      <th></th>\n",
       "      <th>A</th>\n",
       "      <th>B</th>\n",
       "      <th>C</th>\n",
       "      <th>D</th>\n",
       "      <th>E</th>\n",
       "      <th>F</th>\n",
       "    </tr>\n",
       "  </thead>\n",
       "  <tbody>\n",
       "    <tr>\n",
       "      <th>2</th>\n",
       "      <td>1.0</td>\n",
       "      <td>2018-05-23</td>\n",
       "      <td>3.5</td>\n",
       "      <td>4</td>\n",
       "      <td>test</td>\n",
       "      <td>aha</td>\n",
       "    </tr>\n",
       "    <tr>\n",
       "      <th>4</th>\n",
       "      <td>1.0</td>\n",
       "      <td>2018-05-23</td>\n",
       "      <td>NaN</td>\n",
       "      <td>16</td>\n",
       "      <td>test</td>\n",
       "      <td>aha</td>\n",
       "    </tr>\n",
       "  </tbody>\n",
       "</table>\n",
       "</div>"
      ],
      "text/plain": [
       "     A          B    C   D     E    F\n",
       "2  1.0 2018-05-23  3.5   4  test  aha\n",
       "4  1.0 2018-05-23  NaN  16  test  aha"
      ]
     },
     "execution_count": 112,
     "metadata": {},
     "output_type": "execute_result"
    }
   ],
   "source": [
    "df3[2:5:2]"
   ]
  },
  {
   "cell_type": "code",
   "execution_count": 113,
   "metadata": {},
   "outputs": [
    {
     "data": {
      "text/html": [
       "<div>\n",
       "<style scoped>\n",
       "    .dataframe tbody tr th:only-of-type {\n",
       "        vertical-align: middle;\n",
       "    }\n",
       "\n",
       "    .dataframe tbody tr th {\n",
       "        vertical-align: top;\n",
       "    }\n",
       "\n",
       "    .dataframe thead th {\n",
       "        text-align: right;\n",
       "    }\n",
       "</style>\n",
       "<table border=\"1\" class=\"dataframe\">\n",
       "  <thead>\n",
       "    <tr style=\"text-align: right;\">\n",
       "      <th></th>\n",
       "      <th>A</th>\n",
       "      <th>B</th>\n",
       "      <th>C</th>\n",
       "      <th>D</th>\n",
       "      <th>E</th>\n",
       "      <th>F</th>\n",
       "    </tr>\n",
       "  </thead>\n",
       "  <tbody>\n",
       "    <tr>\n",
       "      <th>6</th>\n",
       "      <td>1.0</td>\n",
       "      <td>2018-05-23</td>\n",
       "      <td>-5.0</td>\n",
       "      <td>36</td>\n",
       "      <td>train</td>\n",
       "      <td>aha</td>\n",
       "    </tr>\n",
       "    <tr>\n",
       "      <th>5</th>\n",
       "      <td>1.0</td>\n",
       "      <td>2018-05-23</td>\n",
       "      <td>0.0</td>\n",
       "      <td>25</td>\n",
       "      <td>train</td>\n",
       "      <td>aha</td>\n",
       "    </tr>\n",
       "    <tr>\n",
       "      <th>4</th>\n",
       "      <td>1.0</td>\n",
       "      <td>2018-05-23</td>\n",
       "      <td>NaN</td>\n",
       "      <td>16</td>\n",
       "      <td>test</td>\n",
       "      <td>aha</td>\n",
       "    </tr>\n",
       "    <tr>\n",
       "      <th>3</th>\n",
       "      <td>1.0</td>\n",
       "      <td>2018-05-23</td>\n",
       "      <td>3.0</td>\n",
       "      <td>9</td>\n",
       "      <td>train</td>\n",
       "      <td>aha</td>\n",
       "    </tr>\n",
       "    <tr>\n",
       "      <th>2</th>\n",
       "      <td>1.0</td>\n",
       "      <td>2018-05-23</td>\n",
       "      <td>3.5</td>\n",
       "      <td>4</td>\n",
       "      <td>test</td>\n",
       "      <td>aha</td>\n",
       "    </tr>\n",
       "    <tr>\n",
       "      <th>1</th>\n",
       "      <td>1.0</td>\n",
       "      <td>2018-05-23</td>\n",
       "      <td>4.0</td>\n",
       "      <td>1</td>\n",
       "      <td>train</td>\n",
       "      <td>aha</td>\n",
       "    </tr>\n",
       "    <tr>\n",
       "      <th>0</th>\n",
       "      <td>1.0</td>\n",
       "      <td>2018-05-23</td>\n",
       "      <td>1.0</td>\n",
       "      <td>0</td>\n",
       "      <td>test</td>\n",
       "      <td>aha</td>\n",
       "    </tr>\n",
       "  </tbody>\n",
       "</table>\n",
       "</div>"
      ],
      "text/plain": [
       "     A          B    C   D      E    F\n",
       "6  1.0 2018-05-23 -5.0  36  train  aha\n",
       "5  1.0 2018-05-23  0.0  25  train  aha\n",
       "4  1.0 2018-05-23  NaN  16   test  aha\n",
       "3  1.0 2018-05-23  3.0   9  train  aha\n",
       "2  1.0 2018-05-23  3.5   4   test  aha\n",
       "1  1.0 2018-05-23  4.0   1  train  aha\n",
       "0  1.0 2018-05-23  1.0   0   test  aha"
      ]
     },
     "execution_count": 113,
     "metadata": {},
     "output_type": "execute_result"
    }
   ],
   "source": [
    "df3[::-1]"
   ]
  },
  {
   "cell_type": "markdown",
   "metadata": {},
   "source": [
    "## Selection by Label\n",
    "\n",
    "For getting a cross section using a label:"
   ]
  },
  {
   "cell_type": "code",
   "execution_count": 114,
   "metadata": {},
   "outputs": [
    {
     "data": {
      "text/html": [
       "<div>\n",
       "<style scoped>\n",
       "    .dataframe tbody tr th:only-of-type {\n",
       "        vertical-align: middle;\n",
       "    }\n",
       "\n",
       "    .dataframe tbody tr th {\n",
       "        vertical-align: top;\n",
       "    }\n",
       "\n",
       "    .dataframe thead th {\n",
       "        text-align: right;\n",
       "    }\n",
       "</style>\n",
       "<table border=\"1\" class=\"dataframe\">\n",
       "  <thead>\n",
       "    <tr style=\"text-align: right;\">\n",
       "      <th></th>\n",
       "      <th>A</th>\n",
       "      <th>B</th>\n",
       "      <th>C</th>\n",
       "      <th>D</th>\n",
       "      <th>E</th>\n",
       "    </tr>\n",
       "  </thead>\n",
       "  <tbody>\n",
       "    <tr>\n",
       "      <th>2018-05-21</th>\n",
       "      <td>0.662777</td>\n",
       "      <td>0.666669</td>\n",
       "      <td>0.878194</td>\n",
       "      <td>0.627345</td>\n",
       "      <td>0.204957</td>\n",
       "    </tr>\n",
       "    <tr>\n",
       "      <th>2018-05-22</th>\n",
       "      <td>0.576757</td>\n",
       "      <td>-0.338353</td>\n",
       "      <td>-0.949003</td>\n",
       "      <td>0.947013</td>\n",
       "      <td>0.510873</td>\n",
       "    </tr>\n",
       "    <tr>\n",
       "      <th>2018-05-23</th>\n",
       "      <td>-1.109103</td>\n",
       "      <td>0.794037</td>\n",
       "      <td>-1.004451</td>\n",
       "      <td>-1.326286</td>\n",
       "      <td>1.508179</td>\n",
       "    </tr>\n",
       "    <tr>\n",
       "      <th>2018-05-24</th>\n",
       "      <td>-1.099926</td>\n",
       "      <td>0.853258</td>\n",
       "      <td>-1.287643</td>\n",
       "      <td>-1.541802</td>\n",
       "      <td>1.856672</td>\n",
       "    </tr>\n",
       "    <tr>\n",
       "      <th>2018-05-25</th>\n",
       "      <td>-0.966063</td>\n",
       "      <td>-0.526380</td>\n",
       "      <td>0.193345</td>\n",
       "      <td>0.260406</td>\n",
       "      <td>-0.174440</td>\n",
       "    </tr>\n",
       "    <tr>\n",
       "      <th>2018-05-26</th>\n",
       "      <td>1.302870</td>\n",
       "      <td>-0.007158</td>\n",
       "      <td>-0.186783</td>\n",
       "      <td>1.731096</td>\n",
       "      <td>-0.989682</td>\n",
       "    </tr>\n",
       "    <tr>\n",
       "      <th>2018-05-27</th>\n",
       "      <td>0.102827</td>\n",
       "      <td>0.389831</td>\n",
       "      <td>-0.009321</td>\n",
       "      <td>-2.339168</td>\n",
       "      <td>0.354356</td>\n",
       "    </tr>\n",
       "    <tr>\n",
       "      <th>2018-05-28</th>\n",
       "      <td>-1.229516</td>\n",
       "      <td>0.635055</td>\n",
       "      <td>-0.326571</td>\n",
       "      <td>-1.323469</td>\n",
       "      <td>-0.494465</td>\n",
       "    </tr>\n",
       "    <tr>\n",
       "      <th>2018-05-29</th>\n",
       "      <td>0.611699</td>\n",
       "      <td>1.270709</td>\n",
       "      <td>-1.218284</td>\n",
       "      <td>-0.928532</td>\n",
       "      <td>1.927610</td>\n",
       "    </tr>\n",
       "    <tr>\n",
       "      <th>2018-05-30</th>\n",
       "      <td>-0.695086</td>\n",
       "      <td>0.811071</td>\n",
       "      <td>1.918304</td>\n",
       "      <td>1.853819</td>\n",
       "      <td>0.156570</td>\n",
       "    </tr>\n",
       "    <tr>\n",
       "      <th>2018-05-31</th>\n",
       "      <td>1.179970</td>\n",
       "      <td>0.753904</td>\n",
       "      <td>0.591013</td>\n",
       "      <td>-0.351822</td>\n",
       "      <td>-1.579526</td>\n",
       "    </tr>\n",
       "    <tr>\n",
       "      <th>2018-06-01</th>\n",
       "      <td>-2.107911</td>\n",
       "      <td>-1.692829</td>\n",
       "      <td>0.736854</td>\n",
       "      <td>0.903426</td>\n",
       "      <td>1.954866</td>\n",
       "    </tr>\n",
       "    <tr>\n",
       "      <th>2018-06-02</th>\n",
       "      <td>0.237445</td>\n",
       "      <td>0.363186</td>\n",
       "      <td>0.704813</td>\n",
       "      <td>0.785438</td>\n",
       "      <td>-0.801865</td>\n",
       "    </tr>\n",
       "    <tr>\n",
       "      <th>2018-06-03</th>\n",
       "      <td>0.980281</td>\n",
       "      <td>-0.276816</td>\n",
       "      <td>0.744498</td>\n",
       "      <td>0.490023</td>\n",
       "      <td>0.613402</td>\n",
       "    </tr>\n",
       "    <tr>\n",
       "      <th>2018-06-04</th>\n",
       "      <td>-0.950453</td>\n",
       "      <td>-0.668815</td>\n",
       "      <td>0.104648</td>\n",
       "      <td>-1.451866</td>\n",
       "      <td>0.459389</td>\n",
       "    </tr>\n",
       "  </tbody>\n",
       "</table>\n",
       "</div>"
      ],
      "text/plain": [
       "                   A         B         C         D         E\n",
       "2018-05-21  0.662777  0.666669  0.878194  0.627345  0.204957\n",
       "2018-05-22  0.576757 -0.338353 -0.949003  0.947013  0.510873\n",
       "2018-05-23 -1.109103  0.794037 -1.004451 -1.326286  1.508179\n",
       "2018-05-24 -1.099926  0.853258 -1.287643 -1.541802  1.856672\n",
       "2018-05-25 -0.966063 -0.526380  0.193345  0.260406 -0.174440\n",
       "2018-05-26  1.302870 -0.007158 -0.186783  1.731096 -0.989682\n",
       "2018-05-27  0.102827  0.389831 -0.009321 -2.339168  0.354356\n",
       "2018-05-28 -1.229516  0.635055 -0.326571 -1.323469 -0.494465\n",
       "2018-05-29  0.611699  1.270709 -1.218284 -0.928532  1.927610\n",
       "2018-05-30 -0.695086  0.811071  1.918304  1.853819  0.156570\n",
       "2018-05-31  1.179970  0.753904  0.591013 -0.351822 -1.579526\n",
       "2018-06-01 -2.107911 -1.692829  0.736854  0.903426  1.954866\n",
       "2018-06-02  0.237445  0.363186  0.704813  0.785438 -0.801865\n",
       "2018-06-03  0.980281 -0.276816  0.744498  0.490023  0.613402\n",
       "2018-06-04 -0.950453 -0.668815  0.104648 -1.451866  0.459389"
      ]
     },
     "execution_count": 114,
     "metadata": {},
     "output_type": "execute_result"
    }
   ],
   "source": [
    "df"
   ]
  },
  {
   "cell_type": "code",
   "execution_count": 115,
   "metadata": {},
   "outputs": [
    {
     "data": {
      "text/plain": [
       "Timestamp('2018-05-21 00:00:00')"
      ]
     },
     "execution_count": 115,
     "metadata": {},
     "output_type": "execute_result"
    }
   ],
   "source": [
    "dates[0]"
   ]
  },
  {
   "cell_type": "code",
   "execution_count": 116,
   "metadata": {},
   "outputs": [
    {
     "data": {
      "text/plain": [
       "A    0.662777\n",
       "B    0.666669\n",
       "C    0.878194\n",
       "D    0.627345\n",
       "E    0.204957\n",
       "Name: 2018-05-21 00:00:00, dtype: float64"
      ]
     },
     "execution_count": 116,
     "metadata": {},
     "output_type": "execute_result"
    }
   ],
   "source": [
    "df.loc[dates[0]]"
   ]
  },
  {
   "cell_type": "code",
   "execution_count": 117,
   "metadata": {},
   "outputs": [
    {
     "data": {
      "text/html": [
       "<div>\n",
       "<style scoped>\n",
       "    .dataframe tbody tr th:only-of-type {\n",
       "        vertical-align: middle;\n",
       "    }\n",
       "\n",
       "    .dataframe tbody tr th {\n",
       "        vertical-align: top;\n",
       "    }\n",
       "\n",
       "    .dataframe thead th {\n",
       "        text-align: right;\n",
       "    }\n",
       "</style>\n",
       "<table border=\"1\" class=\"dataframe\">\n",
       "  <thead>\n",
       "    <tr style=\"text-align: right;\">\n",
       "      <th></th>\n",
       "      <th>A</th>\n",
       "      <th>B</th>\n",
       "      <th>C</th>\n",
       "      <th>D</th>\n",
       "      <th>E</th>\n",
       "    </tr>\n",
       "  </thead>\n",
       "  <tbody>\n",
       "    <tr>\n",
       "      <th>2018-05-23</th>\n",
       "      <td>-1.109103</td>\n",
       "      <td>0.794037</td>\n",
       "      <td>-1.004451</td>\n",
       "      <td>-1.326286</td>\n",
       "      <td>1.508179</td>\n",
       "    </tr>\n",
       "    <tr>\n",
       "      <th>2018-05-24</th>\n",
       "      <td>-1.099926</td>\n",
       "      <td>0.853258</td>\n",
       "      <td>-1.287643</td>\n",
       "      <td>-1.541802</td>\n",
       "      <td>1.856672</td>\n",
       "    </tr>\n",
       "    <tr>\n",
       "      <th>2018-05-25</th>\n",
       "      <td>-0.966063</td>\n",
       "      <td>-0.526380</td>\n",
       "      <td>0.193345</td>\n",
       "      <td>0.260406</td>\n",
       "      <td>-0.174440</td>\n",
       "    </tr>\n",
       "  </tbody>\n",
       "</table>\n",
       "</div>"
      ],
      "text/plain": [
       "                   A         B         C         D         E\n",
       "2018-05-23 -1.109103  0.794037 -1.004451 -1.326286  1.508179\n",
       "2018-05-24 -1.099926  0.853258 -1.287643 -1.541802  1.856672\n",
       "2018-05-25 -0.966063 -0.526380  0.193345  0.260406 -0.174440"
      ]
     },
     "execution_count": 117,
     "metadata": {},
     "output_type": "execute_result"
    }
   ],
   "source": [
    "df.loc[dates[2:5]]"
   ]
  },
  {
   "cell_type": "code",
   "execution_count": null,
   "metadata": {},
   "outputs": [],
   "source": [
    "## Selecting on a multi-axis by label:"
   ]
  },
  {
   "cell_type": "code",
   "execution_count": 118,
   "metadata": {},
   "outputs": [
    {
     "data": {
      "text/html": [
       "<div>\n",
       "<style scoped>\n",
       "    .dataframe tbody tr th:only-of-type {\n",
       "        vertical-align: middle;\n",
       "    }\n",
       "\n",
       "    .dataframe tbody tr th {\n",
       "        vertical-align: top;\n",
       "    }\n",
       "\n",
       "    .dataframe thead th {\n",
       "        text-align: right;\n",
       "    }\n",
       "</style>\n",
       "<table border=\"1\" class=\"dataframe\">\n",
       "  <thead>\n",
       "    <tr style=\"text-align: right;\">\n",
       "      <th></th>\n",
       "      <th>A</th>\n",
       "      <th>B</th>\n",
       "      <th>C</th>\n",
       "    </tr>\n",
       "  </thead>\n",
       "  <tbody>\n",
       "    <tr>\n",
       "      <th>2018-05-21</th>\n",
       "      <td>0.662777</td>\n",
       "      <td>0.666669</td>\n",
       "      <td>0.878194</td>\n",
       "    </tr>\n",
       "    <tr>\n",
       "      <th>2018-05-22</th>\n",
       "      <td>0.576757</td>\n",
       "      <td>-0.338353</td>\n",
       "      <td>-0.949003</td>\n",
       "    </tr>\n",
       "    <tr>\n",
       "      <th>2018-05-23</th>\n",
       "      <td>-1.109103</td>\n",
       "      <td>0.794037</td>\n",
       "      <td>-1.004451</td>\n",
       "    </tr>\n",
       "    <tr>\n",
       "      <th>2018-05-24</th>\n",
       "      <td>-1.099926</td>\n",
       "      <td>0.853258</td>\n",
       "      <td>-1.287643</td>\n",
       "    </tr>\n",
       "    <tr>\n",
       "      <th>2018-05-25</th>\n",
       "      <td>-0.966063</td>\n",
       "      <td>-0.526380</td>\n",
       "      <td>0.193345</td>\n",
       "    </tr>\n",
       "    <tr>\n",
       "      <th>2018-05-26</th>\n",
       "      <td>1.302870</td>\n",
       "      <td>-0.007158</td>\n",
       "      <td>-0.186783</td>\n",
       "    </tr>\n",
       "    <tr>\n",
       "      <th>2018-05-27</th>\n",
       "      <td>0.102827</td>\n",
       "      <td>0.389831</td>\n",
       "      <td>-0.009321</td>\n",
       "    </tr>\n",
       "    <tr>\n",
       "      <th>2018-05-28</th>\n",
       "      <td>-1.229516</td>\n",
       "      <td>0.635055</td>\n",
       "      <td>-0.326571</td>\n",
       "    </tr>\n",
       "    <tr>\n",
       "      <th>2018-05-29</th>\n",
       "      <td>0.611699</td>\n",
       "      <td>1.270709</td>\n",
       "      <td>-1.218284</td>\n",
       "    </tr>\n",
       "    <tr>\n",
       "      <th>2018-05-30</th>\n",
       "      <td>-0.695086</td>\n",
       "      <td>0.811071</td>\n",
       "      <td>1.918304</td>\n",
       "    </tr>\n",
       "    <tr>\n",
       "      <th>2018-05-31</th>\n",
       "      <td>1.179970</td>\n",
       "      <td>0.753904</td>\n",
       "      <td>0.591013</td>\n",
       "    </tr>\n",
       "    <tr>\n",
       "      <th>2018-06-01</th>\n",
       "      <td>-2.107911</td>\n",
       "      <td>-1.692829</td>\n",
       "      <td>0.736854</td>\n",
       "    </tr>\n",
       "    <tr>\n",
       "      <th>2018-06-02</th>\n",
       "      <td>0.237445</td>\n",
       "      <td>0.363186</td>\n",
       "      <td>0.704813</td>\n",
       "    </tr>\n",
       "    <tr>\n",
       "      <th>2018-06-03</th>\n",
       "      <td>0.980281</td>\n",
       "      <td>-0.276816</td>\n",
       "      <td>0.744498</td>\n",
       "    </tr>\n",
       "    <tr>\n",
       "      <th>2018-06-04</th>\n",
       "      <td>-0.950453</td>\n",
       "      <td>-0.668815</td>\n",
       "      <td>0.104648</td>\n",
       "    </tr>\n",
       "  </tbody>\n",
       "</table>\n",
       "</div>"
      ],
      "text/plain": [
       "                   A         B         C\n",
       "2018-05-21  0.662777  0.666669  0.878194\n",
       "2018-05-22  0.576757 -0.338353 -0.949003\n",
       "2018-05-23 -1.109103  0.794037 -1.004451\n",
       "2018-05-24 -1.099926  0.853258 -1.287643\n",
       "2018-05-25 -0.966063 -0.526380  0.193345\n",
       "2018-05-26  1.302870 -0.007158 -0.186783\n",
       "2018-05-27  0.102827  0.389831 -0.009321\n",
       "2018-05-28 -1.229516  0.635055 -0.326571\n",
       "2018-05-29  0.611699  1.270709 -1.218284\n",
       "2018-05-30 -0.695086  0.811071  1.918304\n",
       "2018-05-31  1.179970  0.753904  0.591013\n",
       "2018-06-01 -2.107911 -1.692829  0.736854\n",
       "2018-06-02  0.237445  0.363186  0.704813\n",
       "2018-06-03  0.980281 -0.276816  0.744498\n",
       "2018-06-04 -0.950453 -0.668815  0.104648"
      ]
     },
     "execution_count": 118,
     "metadata": {},
     "output_type": "execute_result"
    }
   ],
   "source": [
    "df.loc[:, ['A','B','C']]"
   ]
  },
  {
   "cell_type": "code",
   "execution_count": 119,
   "metadata": {},
   "outputs": [
    {
     "data": {
      "text/html": [
       "<div>\n",
       "<style scoped>\n",
       "    .dataframe tbody tr th:only-of-type {\n",
       "        vertical-align: middle;\n",
       "    }\n",
       "\n",
       "    .dataframe tbody tr th {\n",
       "        vertical-align: top;\n",
       "    }\n",
       "\n",
       "    .dataframe thead th {\n",
       "        text-align: right;\n",
       "    }\n",
       "</style>\n",
       "<table border=\"1\" class=\"dataframe\">\n",
       "  <thead>\n",
       "    <tr style=\"text-align: right;\">\n",
       "      <th></th>\n",
       "      <th>A</th>\n",
       "      <th>B</th>\n",
       "      <th>C</th>\n",
       "    </tr>\n",
       "  </thead>\n",
       "  <tbody>\n",
       "    <tr>\n",
       "      <th>2018-05-23</th>\n",
       "      <td>-1.109103</td>\n",
       "      <td>0.794037</td>\n",
       "      <td>-1.004451</td>\n",
       "    </tr>\n",
       "    <tr>\n",
       "      <th>2018-05-24</th>\n",
       "      <td>-1.099926</td>\n",
       "      <td>0.853258</td>\n",
       "      <td>-1.287643</td>\n",
       "    </tr>\n",
       "    <tr>\n",
       "      <th>2018-05-25</th>\n",
       "      <td>-0.966063</td>\n",
       "      <td>-0.526380</td>\n",
       "      <td>0.193345</td>\n",
       "    </tr>\n",
       "  </tbody>\n",
       "</table>\n",
       "</div>"
      ],
      "text/plain": [
       "                   A         B         C\n",
       "2018-05-23 -1.109103  0.794037 -1.004451\n",
       "2018-05-24 -1.099926  0.853258 -1.287643\n",
       "2018-05-25 -0.966063 -0.526380  0.193345"
      ]
     },
     "execution_count": 119,
     "metadata": {},
     "output_type": "execute_result"
    }
   ],
   "source": [
    "df.loc[dates[2:5], ['A','B','C']]"
   ]
  },
  {
   "cell_type": "code",
   "execution_count": 120,
   "metadata": {},
   "outputs": [
    {
     "data": {
      "text/html": [
       "<div>\n",
       "<style scoped>\n",
       "    .dataframe tbody tr th:only-of-type {\n",
       "        vertical-align: middle;\n",
       "    }\n",
       "\n",
       "    .dataframe tbody tr th {\n",
       "        vertical-align: top;\n",
       "    }\n",
       "\n",
       "    .dataframe thead th {\n",
       "        text-align: right;\n",
       "    }\n",
       "</style>\n",
       "<table border=\"1\" class=\"dataframe\">\n",
       "  <thead>\n",
       "    <tr style=\"text-align: right;\">\n",
       "      <th></th>\n",
       "      <th>B</th>\n",
       "      <th>C</th>\n",
       "    </tr>\n",
       "  </thead>\n",
       "  <tbody>\n",
       "    <tr>\n",
       "      <th>2018-05-25</th>\n",
       "      <td>-0.526380</td>\n",
       "      <td>0.193345</td>\n",
       "    </tr>\n",
       "    <tr>\n",
       "      <th>2018-05-26</th>\n",
       "      <td>-0.007158</td>\n",
       "      <td>-0.186783</td>\n",
       "    </tr>\n",
       "    <tr>\n",
       "      <th>2018-05-27</th>\n",
       "      <td>0.389831</td>\n",
       "      <td>-0.009321</td>\n",
       "    </tr>\n",
       "    <tr>\n",
       "      <th>2018-05-28</th>\n",
       "      <td>0.635055</td>\n",
       "      <td>-0.326571</td>\n",
       "    </tr>\n",
       "    <tr>\n",
       "      <th>2018-05-29</th>\n",
       "      <td>1.270709</td>\n",
       "      <td>-1.218284</td>\n",
       "    </tr>\n",
       "    <tr>\n",
       "      <th>2018-05-30</th>\n",
       "      <td>0.811071</td>\n",
       "      <td>1.918304</td>\n",
       "    </tr>\n",
       "    <tr>\n",
       "      <th>2018-05-31</th>\n",
       "      <td>0.753904</td>\n",
       "      <td>0.591013</td>\n",
       "    </tr>\n",
       "    <tr>\n",
       "      <th>2018-06-01</th>\n",
       "      <td>-1.692829</td>\n",
       "      <td>0.736854</td>\n",
       "    </tr>\n",
       "  </tbody>\n",
       "</table>\n",
       "</div>"
      ],
      "text/plain": [
       "                   B         C\n",
       "2018-05-25 -0.526380  0.193345\n",
       "2018-05-26 -0.007158 -0.186783\n",
       "2018-05-27  0.389831 -0.009321\n",
       "2018-05-28  0.635055 -0.326571\n",
       "2018-05-29  1.270709 -1.218284\n",
       "2018-05-30  0.811071  1.918304\n",
       "2018-05-31  0.753904  0.591013\n",
       "2018-06-01 -1.692829  0.736854"
      ]
     },
     "execution_count": 120,
     "metadata": {},
     "output_type": "execute_result"
    }
   ],
   "source": [
    "df.loc['20180525':'20180601',['B','C']]"
   ]
  },
  {
   "cell_type": "code",
   "execution_count": null,
   "metadata": {},
   "outputs": [],
   "source": [
    "# Reduction in the dimensions of the returned object:"
   ]
  },
  {
   "cell_type": "code",
   "execution_count": 121,
   "metadata": {},
   "outputs": [
    {
     "data": {
      "text/plain": [
       "B   -0.007158\n",
       "D    1.731096\n",
       "Name: 2018-05-26 00:00:00, dtype: float64"
      ]
     },
     "execution_count": 121,
     "metadata": {},
     "output_type": "execute_result"
    }
   ],
   "source": [
    "df.loc['20180526', [\"B\", \"D\"]]"
   ]
  },
  {
   "cell_type": "code",
   "execution_count": null,
   "metadata": {},
   "outputs": [],
   "source": [
    "## Getting scalars (single values)"
   ]
  },
  {
   "cell_type": "code",
   "execution_count": 122,
   "metadata": {},
   "outputs": [
    {
     "data": {
      "text/plain": [
       "D    1.731096\n",
       "Name: 2018-05-26 00:00:00, dtype: float64"
      ]
     },
     "execution_count": 122,
     "metadata": {},
     "output_type": "execute_result"
    }
   ],
   "source": [
    "df.loc['20180526', [\"D\"]]"
   ]
  },
  {
   "cell_type": "code",
   "execution_count": null,
   "metadata": {},
   "outputs": [],
   "source": [
    "# same as above"
   ]
  },
  {
   "cell_type": "code",
   "execution_count": 123,
   "metadata": {},
   "outputs": [
    {
     "data": {
      "text/plain": [
       "1.7310963827267511"
      ]
     },
     "execution_count": 123,
     "metadata": {},
     "output_type": "execute_result"
    }
   ],
   "source": [
    "df.at[dates[5],'D']"
   ]
  },
  {
   "cell_type": "code",
   "execution_count": null,
   "metadata": {},
   "outputs": [],
   "source": [
    "## Selection by Position"
   ]
  },
  {
   "cell_type": "code",
   "execution_count": 124,
   "metadata": {},
   "outputs": [
    {
     "data": {
      "text/plain": [
       "A   -1.099926\n",
       "B    0.853258\n",
       "C   -1.287643\n",
       "D   -1.541802\n",
       "E    1.856672\n",
       "Name: 2018-05-24 00:00:00, dtype: float64"
      ]
     },
     "execution_count": 124,
     "metadata": {},
     "output_type": "execute_result"
    }
   ],
   "source": [
    "df.iloc[3]"
   ]
  },
  {
   "cell_type": "code",
   "execution_count": null,
   "metadata": {},
   "outputs": [],
   "source": [
    "# By integer slices, acting similar to numpy/python:"
   ]
  },
  {
   "cell_type": "code",
   "execution_count": 125,
   "metadata": {},
   "outputs": [
    {
     "data": {
      "text/html": [
       "<div>\n",
       "<style scoped>\n",
       "    .dataframe tbody tr th:only-of-type {\n",
       "        vertical-align: middle;\n",
       "    }\n",
       "\n",
       "    .dataframe tbody tr th {\n",
       "        vertical-align: top;\n",
       "    }\n",
       "\n",
       "    .dataframe thead th {\n",
       "        text-align: right;\n",
       "    }\n",
       "</style>\n",
       "<table border=\"1\" class=\"dataframe\">\n",
       "  <thead>\n",
       "    <tr style=\"text-align: right;\">\n",
       "      <th></th>\n",
       "      <th>A</th>\n",
       "      <th>B</th>\n",
       "    </tr>\n",
       "  </thead>\n",
       "  <tbody>\n",
       "    <tr>\n",
       "      <th>2018-05-23</th>\n",
       "      <td>-1.109103</td>\n",
       "      <td>0.794037</td>\n",
       "    </tr>\n",
       "    <tr>\n",
       "      <th>2018-05-24</th>\n",
       "      <td>-1.099926</td>\n",
       "      <td>0.853258</td>\n",
       "    </tr>\n",
       "    <tr>\n",
       "      <th>2018-05-25</th>\n",
       "      <td>-0.966063</td>\n",
       "      <td>-0.526380</td>\n",
       "    </tr>\n",
       "  </tbody>\n",
       "</table>\n",
       "</div>"
      ],
      "text/plain": [
       "                   A         B\n",
       "2018-05-23 -1.109103  0.794037\n",
       "2018-05-24 -1.099926  0.853258\n",
       "2018-05-25 -0.966063 -0.526380"
      ]
     },
     "execution_count": 125,
     "metadata": {},
     "output_type": "execute_result"
    }
   ],
   "source": [
    "df.iloc[2:5,:2]"
   ]
  },
  {
   "cell_type": "code",
   "execution_count": null,
   "metadata": {},
   "outputs": [],
   "source": []
  },
  {
   "cell_type": "code",
   "execution_count": null,
   "metadata": {},
   "outputs": [],
   "source": [
    "# By lists of integer position locations, similar to the numpy/python style:"
   ]
  },
  {
   "cell_type": "code",
   "execution_count": 126,
   "metadata": {
    "scrolled": true
   },
   "outputs": [
    {
     "data": {
      "text/html": [
       "<div>\n",
       "<style scoped>\n",
       "    .dataframe tbody tr th:only-of-type {\n",
       "        vertical-align: middle;\n",
       "    }\n",
       "\n",
       "    .dataframe tbody tr th {\n",
       "        vertical-align: top;\n",
       "    }\n",
       "\n",
       "    .dataframe thead th {\n",
       "        text-align: right;\n",
       "    }\n",
       "</style>\n",
       "<table border=\"1\" class=\"dataframe\">\n",
       "  <thead>\n",
       "    <tr style=\"text-align: right;\">\n",
       "      <th></th>\n",
       "      <th>B</th>\n",
       "      <th>E</th>\n",
       "      <th>C</th>\n",
       "    </tr>\n",
       "  </thead>\n",
       "  <tbody>\n",
       "    <tr>\n",
       "      <th>2018-05-24</th>\n",
       "      <td>0.853258</td>\n",
       "      <td>1.856672</td>\n",
       "      <td>-1.287643</td>\n",
       "    </tr>\n",
       "    <tr>\n",
       "      <th>2018-05-26</th>\n",
       "      <td>-0.007158</td>\n",
       "      <td>-0.989682</td>\n",
       "      <td>-0.186783</td>\n",
       "    </tr>\n",
       "    <tr>\n",
       "      <th>2018-05-22</th>\n",
       "      <td>-0.338353</td>\n",
       "      <td>0.510873</td>\n",
       "      <td>-0.949003</td>\n",
       "    </tr>\n",
       "  </tbody>\n",
       "</table>\n",
       "</div>"
      ],
      "text/plain": [
       "                   B         E         C\n",
       "2018-05-24  0.853258  1.856672 -1.287643\n",
       "2018-05-26 -0.007158 -0.989682 -0.186783\n",
       "2018-05-22 -0.338353  0.510873 -0.949003"
      ]
     },
     "execution_count": 126,
     "metadata": {},
     "output_type": "execute_result"
    }
   ],
   "source": [
    "df.iloc[[3,5,1],[1,4,2]]"
   ]
  },
  {
   "cell_type": "code",
   "execution_count": 127,
   "metadata": {},
   "outputs": [
    {
     "data": {
      "text/plain": [
       "-1.0044507689678106"
      ]
     },
     "execution_count": 127,
     "metadata": {},
     "output_type": "execute_result"
    }
   ],
   "source": [
    "df.iloc[2,2]"
   ]
  },
  {
   "cell_type": "code",
   "execution_count": null,
   "metadata": {},
   "outputs": [],
   "source": [
    "# For getting fast access to a scalar (equivalent to the prior method):"
   ]
  },
  {
   "cell_type": "code",
   "execution_count": 128,
   "metadata": {},
   "outputs": [
    {
     "data": {
      "text/plain": [
       "-1.0044507689678106"
      ]
     },
     "execution_count": 128,
     "metadata": {},
     "output_type": "execute_result"
    }
   ],
   "source": [
    "df.iat[2,2]"
   ]
  },
  {
   "cell_type": "markdown",
   "metadata": {},
   "source": [
    "## Boolean Indexing"
   ]
  },
  {
   "cell_type": "code",
   "execution_count": null,
   "metadata": {},
   "outputs": [],
   "source": [
    "## Using a single column’s values to select data."
   ]
  },
  {
   "cell_type": "code",
   "execution_count": 129,
   "metadata": {},
   "outputs": [
    {
     "data": {
      "text/html": [
       "<div>\n",
       "<style scoped>\n",
       "    .dataframe tbody tr th:only-of-type {\n",
       "        vertical-align: middle;\n",
       "    }\n",
       "\n",
       "    .dataframe tbody tr th {\n",
       "        vertical-align: top;\n",
       "    }\n",
       "\n",
       "    .dataframe thead th {\n",
       "        text-align: right;\n",
       "    }\n",
       "</style>\n",
       "<table border=\"1\" class=\"dataframe\">\n",
       "  <thead>\n",
       "    <tr style=\"text-align: right;\">\n",
       "      <th></th>\n",
       "      <th>A</th>\n",
       "      <th>B</th>\n",
       "      <th>C</th>\n",
       "      <th>D</th>\n",
       "      <th>E</th>\n",
       "    </tr>\n",
       "  </thead>\n",
       "  <tbody>\n",
       "    <tr>\n",
       "      <th>2018-05-21</th>\n",
       "      <td>0.662777</td>\n",
       "      <td>0.666669</td>\n",
       "      <td>0.878194</td>\n",
       "      <td>0.627345</td>\n",
       "      <td>0.204957</td>\n",
       "    </tr>\n",
       "    <tr>\n",
       "      <th>2018-05-22</th>\n",
       "      <td>0.576757</td>\n",
       "      <td>-0.338353</td>\n",
       "      <td>-0.949003</td>\n",
       "      <td>0.947013</td>\n",
       "      <td>0.510873</td>\n",
       "    </tr>\n",
       "    <tr>\n",
       "      <th>2018-05-26</th>\n",
       "      <td>1.302870</td>\n",
       "      <td>-0.007158</td>\n",
       "      <td>-0.186783</td>\n",
       "      <td>1.731096</td>\n",
       "      <td>-0.989682</td>\n",
       "    </tr>\n",
       "    <tr>\n",
       "      <th>2018-05-29</th>\n",
       "      <td>0.611699</td>\n",
       "      <td>1.270709</td>\n",
       "      <td>-1.218284</td>\n",
       "      <td>-0.928532</td>\n",
       "      <td>1.927610</td>\n",
       "    </tr>\n",
       "    <tr>\n",
       "      <th>2018-05-31</th>\n",
       "      <td>1.179970</td>\n",
       "      <td>0.753904</td>\n",
       "      <td>0.591013</td>\n",
       "      <td>-0.351822</td>\n",
       "      <td>-1.579526</td>\n",
       "    </tr>\n",
       "    <tr>\n",
       "      <th>2018-06-02</th>\n",
       "      <td>0.237445</td>\n",
       "      <td>0.363186</td>\n",
       "      <td>0.704813</td>\n",
       "      <td>0.785438</td>\n",
       "      <td>-0.801865</td>\n",
       "    </tr>\n",
       "    <tr>\n",
       "      <th>2018-06-03</th>\n",
       "      <td>0.980281</td>\n",
       "      <td>-0.276816</td>\n",
       "      <td>0.744498</td>\n",
       "      <td>0.490023</td>\n",
       "      <td>0.613402</td>\n",
       "    </tr>\n",
       "  </tbody>\n",
       "</table>\n",
       "</div>"
      ],
      "text/plain": [
       "                   A         B         C         D         E\n",
       "2018-05-21  0.662777  0.666669  0.878194  0.627345  0.204957\n",
       "2018-05-22  0.576757 -0.338353 -0.949003  0.947013  0.510873\n",
       "2018-05-26  1.302870 -0.007158 -0.186783  1.731096 -0.989682\n",
       "2018-05-29  0.611699  1.270709 -1.218284 -0.928532  1.927610\n",
       "2018-05-31  1.179970  0.753904  0.591013 -0.351822 -1.579526\n",
       "2018-06-02  0.237445  0.363186  0.704813  0.785438 -0.801865\n",
       "2018-06-03  0.980281 -0.276816  0.744498  0.490023  0.613402"
      ]
     },
     "execution_count": 129,
     "metadata": {},
     "output_type": "execute_result"
    }
   ],
   "source": [
    "df[df.A > 0.2]"
   ]
  },
  {
   "cell_type": "code",
   "execution_count": 130,
   "metadata": {},
   "outputs": [
    {
     "data": {
      "text/html": [
       "<div>\n",
       "<style scoped>\n",
       "    .dataframe tbody tr th:only-of-type {\n",
       "        vertical-align: middle;\n",
       "    }\n",
       "\n",
       "    .dataframe tbody tr th {\n",
       "        vertical-align: top;\n",
       "    }\n",
       "\n",
       "    .dataframe thead th {\n",
       "        text-align: right;\n",
       "    }\n",
       "</style>\n",
       "<table border=\"1\" class=\"dataframe\">\n",
       "  <thead>\n",
       "    <tr style=\"text-align: right;\">\n",
       "      <th></th>\n",
       "      <th>A</th>\n",
       "      <th>B</th>\n",
       "      <th>C</th>\n",
       "      <th>D</th>\n",
       "      <th>E</th>\n",
       "    </tr>\n",
       "  </thead>\n",
       "  <tbody>\n",
       "    <tr>\n",
       "      <th>2018-05-21</th>\n",
       "      <td>0.662777</td>\n",
       "      <td>0.666669</td>\n",
       "      <td>0.878194</td>\n",
       "      <td>0.627345</td>\n",
       "      <td>0.204957</td>\n",
       "    </tr>\n",
       "    <tr>\n",
       "      <th>2018-05-22</th>\n",
       "      <td>0.576757</td>\n",
       "      <td>NaN</td>\n",
       "      <td>NaN</td>\n",
       "      <td>0.947013</td>\n",
       "      <td>0.510873</td>\n",
       "    </tr>\n",
       "    <tr>\n",
       "      <th>2018-05-23</th>\n",
       "      <td>NaN</td>\n",
       "      <td>0.794037</td>\n",
       "      <td>NaN</td>\n",
       "      <td>NaN</td>\n",
       "      <td>1.508179</td>\n",
       "    </tr>\n",
       "    <tr>\n",
       "      <th>2018-05-24</th>\n",
       "      <td>NaN</td>\n",
       "      <td>0.853258</td>\n",
       "      <td>NaN</td>\n",
       "      <td>NaN</td>\n",
       "      <td>1.856672</td>\n",
       "    </tr>\n",
       "    <tr>\n",
       "      <th>2018-05-25</th>\n",
       "      <td>NaN</td>\n",
       "      <td>NaN</td>\n",
       "      <td>0.193345</td>\n",
       "      <td>0.260406</td>\n",
       "      <td>NaN</td>\n",
       "    </tr>\n",
       "    <tr>\n",
       "      <th>2018-05-26</th>\n",
       "      <td>1.302870</td>\n",
       "      <td>NaN</td>\n",
       "      <td>NaN</td>\n",
       "      <td>1.731096</td>\n",
       "      <td>NaN</td>\n",
       "    </tr>\n",
       "    <tr>\n",
       "      <th>2018-05-27</th>\n",
       "      <td>0.102827</td>\n",
       "      <td>0.389831</td>\n",
       "      <td>NaN</td>\n",
       "      <td>NaN</td>\n",
       "      <td>0.354356</td>\n",
       "    </tr>\n",
       "    <tr>\n",
       "      <th>2018-05-28</th>\n",
       "      <td>NaN</td>\n",
       "      <td>0.635055</td>\n",
       "      <td>NaN</td>\n",
       "      <td>NaN</td>\n",
       "      <td>NaN</td>\n",
       "    </tr>\n",
       "    <tr>\n",
       "      <th>2018-05-29</th>\n",
       "      <td>0.611699</td>\n",
       "      <td>1.270709</td>\n",
       "      <td>NaN</td>\n",
       "      <td>NaN</td>\n",
       "      <td>1.927610</td>\n",
       "    </tr>\n",
       "    <tr>\n",
       "      <th>2018-05-30</th>\n",
       "      <td>NaN</td>\n",
       "      <td>0.811071</td>\n",
       "      <td>1.918304</td>\n",
       "      <td>1.853819</td>\n",
       "      <td>0.156570</td>\n",
       "    </tr>\n",
       "    <tr>\n",
       "      <th>2018-05-31</th>\n",
       "      <td>1.179970</td>\n",
       "      <td>0.753904</td>\n",
       "      <td>0.591013</td>\n",
       "      <td>NaN</td>\n",
       "      <td>NaN</td>\n",
       "    </tr>\n",
       "    <tr>\n",
       "      <th>2018-06-01</th>\n",
       "      <td>NaN</td>\n",
       "      <td>NaN</td>\n",
       "      <td>0.736854</td>\n",
       "      <td>0.903426</td>\n",
       "      <td>1.954866</td>\n",
       "    </tr>\n",
       "    <tr>\n",
       "      <th>2018-06-02</th>\n",
       "      <td>0.237445</td>\n",
       "      <td>0.363186</td>\n",
       "      <td>0.704813</td>\n",
       "      <td>0.785438</td>\n",
       "      <td>NaN</td>\n",
       "    </tr>\n",
       "    <tr>\n",
       "      <th>2018-06-03</th>\n",
       "      <td>0.980281</td>\n",
       "      <td>NaN</td>\n",
       "      <td>0.744498</td>\n",
       "      <td>0.490023</td>\n",
       "      <td>0.613402</td>\n",
       "    </tr>\n",
       "    <tr>\n",
       "      <th>2018-06-04</th>\n",
       "      <td>NaN</td>\n",
       "      <td>NaN</td>\n",
       "      <td>0.104648</td>\n",
       "      <td>NaN</td>\n",
       "      <td>0.459389</td>\n",
       "    </tr>\n",
       "  </tbody>\n",
       "</table>\n",
       "</div>"
      ],
      "text/plain": [
       "                   A         B         C         D         E\n",
       "2018-05-21  0.662777  0.666669  0.878194  0.627345  0.204957\n",
       "2018-05-22  0.576757       NaN       NaN  0.947013  0.510873\n",
       "2018-05-23       NaN  0.794037       NaN       NaN  1.508179\n",
       "2018-05-24       NaN  0.853258       NaN       NaN  1.856672\n",
       "2018-05-25       NaN       NaN  0.193345  0.260406       NaN\n",
       "2018-05-26  1.302870       NaN       NaN  1.731096       NaN\n",
       "2018-05-27  0.102827  0.389831       NaN       NaN  0.354356\n",
       "2018-05-28       NaN  0.635055       NaN       NaN       NaN\n",
       "2018-05-29  0.611699  1.270709       NaN       NaN  1.927610\n",
       "2018-05-30       NaN  0.811071  1.918304  1.853819  0.156570\n",
       "2018-05-31  1.179970  0.753904  0.591013       NaN       NaN\n",
       "2018-06-01       NaN       NaN  0.736854  0.903426  1.954866\n",
       "2018-06-02  0.237445  0.363186  0.704813  0.785438       NaN\n",
       "2018-06-03  0.980281       NaN  0.744498  0.490023  0.613402\n",
       "2018-06-04       NaN       NaN  0.104648       NaN  0.459389"
      ]
     },
     "execution_count": 130,
     "metadata": {},
     "output_type": "execute_result"
    }
   ],
   "source": [
    "df[df > 0]"
   ]
  },
  {
   "cell_type": "code",
   "execution_count": 131,
   "metadata": {},
   "outputs": [
    {
     "data": {
      "text/plain": [
       "2018-05-21       0\n",
       "2018-05-22       1\n",
       "2018-05-23       8\n",
       "2018-05-24      27\n",
       "2018-05-25      64\n",
       "2018-05-26     125\n",
       "2018-05-27     216\n",
       "2018-05-28     343\n",
       "2018-05-29     512\n",
       "2018-05-30     729\n",
       "2018-05-31    1000\n",
       "2018-06-01    1331\n",
       "2018-06-02    1728\n",
       "2018-06-03    2197\n",
       "2018-06-04    2744\n",
       "Freq: D, dtype: int64"
      ]
     },
     "execution_count": 131,
     "metadata": {},
     "output_type": "execute_result"
    }
   ],
   "source": [
    "s1 = pd.Series([x**3 for x in range(15)], index=pd.date_range('20180521', periods=15))\n",
    "s1"
   ]
  },
  {
   "cell_type": "code",
   "execution_count": 132,
   "metadata": {},
   "outputs": [
    {
     "data": {
      "text/html": [
       "<div>\n",
       "<style scoped>\n",
       "    .dataframe tbody tr th:only-of-type {\n",
       "        vertical-align: middle;\n",
       "    }\n",
       "\n",
       "    .dataframe tbody tr th {\n",
       "        vertical-align: top;\n",
       "    }\n",
       "\n",
       "    .dataframe thead th {\n",
       "        text-align: right;\n",
       "    }\n",
       "</style>\n",
       "<table border=\"1\" class=\"dataframe\">\n",
       "  <thead>\n",
       "    <tr style=\"text-align: right;\">\n",
       "      <th></th>\n",
       "      <th>A</th>\n",
       "      <th>B</th>\n",
       "      <th>C</th>\n",
       "      <th>D</th>\n",
       "      <th>E</th>\n",
       "    </tr>\n",
       "  </thead>\n",
       "  <tbody>\n",
       "    <tr>\n",
       "      <th>2018-05-21</th>\n",
       "      <td>0.662777</td>\n",
       "      <td>0.666669</td>\n",
       "      <td>0.878194</td>\n",
       "      <td>0.627345</td>\n",
       "      <td>0.204957</td>\n",
       "    </tr>\n",
       "    <tr>\n",
       "      <th>2018-05-22</th>\n",
       "      <td>0.576757</td>\n",
       "      <td>-0.338353</td>\n",
       "      <td>-0.949003</td>\n",
       "      <td>0.947013</td>\n",
       "      <td>0.510873</td>\n",
       "    </tr>\n",
       "    <tr>\n",
       "      <th>2018-05-23</th>\n",
       "      <td>-1.109103</td>\n",
       "      <td>0.794037</td>\n",
       "      <td>-1.004451</td>\n",
       "      <td>-1.326286</td>\n",
       "      <td>1.508179</td>\n",
       "    </tr>\n",
       "    <tr>\n",
       "      <th>2018-05-24</th>\n",
       "      <td>-1.099926</td>\n",
       "      <td>0.853258</td>\n",
       "      <td>-1.287643</td>\n",
       "      <td>-1.541802</td>\n",
       "      <td>1.856672</td>\n",
       "    </tr>\n",
       "    <tr>\n",
       "      <th>2018-05-25</th>\n",
       "      <td>-0.966063</td>\n",
       "      <td>-0.526380</td>\n",
       "      <td>0.193345</td>\n",
       "      <td>0.260406</td>\n",
       "      <td>-0.174440</td>\n",
       "    </tr>\n",
       "    <tr>\n",
       "      <th>2018-05-26</th>\n",
       "      <td>1.302870</td>\n",
       "      <td>-0.007158</td>\n",
       "      <td>-0.186783</td>\n",
       "      <td>1.731096</td>\n",
       "      <td>-0.989682</td>\n",
       "    </tr>\n",
       "    <tr>\n",
       "      <th>2018-05-27</th>\n",
       "      <td>0.102827</td>\n",
       "      <td>0.389831</td>\n",
       "      <td>-0.009321</td>\n",
       "      <td>-2.339168</td>\n",
       "      <td>0.354356</td>\n",
       "    </tr>\n",
       "    <tr>\n",
       "      <th>2018-05-28</th>\n",
       "      <td>-1.229516</td>\n",
       "      <td>0.635055</td>\n",
       "      <td>-0.326571</td>\n",
       "      <td>-1.323469</td>\n",
       "      <td>-0.494465</td>\n",
       "    </tr>\n",
       "    <tr>\n",
       "      <th>2018-05-29</th>\n",
       "      <td>0.611699</td>\n",
       "      <td>1.270709</td>\n",
       "      <td>-1.218284</td>\n",
       "      <td>-0.928532</td>\n",
       "      <td>1.927610</td>\n",
       "    </tr>\n",
       "    <tr>\n",
       "      <th>2018-05-30</th>\n",
       "      <td>-0.695086</td>\n",
       "      <td>0.811071</td>\n",
       "      <td>1.918304</td>\n",
       "      <td>1.853819</td>\n",
       "      <td>0.156570</td>\n",
       "    </tr>\n",
       "    <tr>\n",
       "      <th>2018-05-31</th>\n",
       "      <td>1.179970</td>\n",
       "      <td>0.753904</td>\n",
       "      <td>0.591013</td>\n",
       "      <td>-0.351822</td>\n",
       "      <td>-1.579526</td>\n",
       "    </tr>\n",
       "    <tr>\n",
       "      <th>2018-06-01</th>\n",
       "      <td>-2.107911</td>\n",
       "      <td>-1.692829</td>\n",
       "      <td>0.736854</td>\n",
       "      <td>0.903426</td>\n",
       "      <td>1.954866</td>\n",
       "    </tr>\n",
       "    <tr>\n",
       "      <th>2018-06-02</th>\n",
       "      <td>0.237445</td>\n",
       "      <td>0.363186</td>\n",
       "      <td>0.704813</td>\n",
       "      <td>0.785438</td>\n",
       "      <td>-0.801865</td>\n",
       "    </tr>\n",
       "    <tr>\n",
       "      <th>2018-06-03</th>\n",
       "      <td>0.980281</td>\n",
       "      <td>-0.276816</td>\n",
       "      <td>0.744498</td>\n",
       "      <td>0.490023</td>\n",
       "      <td>0.613402</td>\n",
       "    </tr>\n",
       "    <tr>\n",
       "      <th>2018-06-04</th>\n",
       "      <td>-0.950453</td>\n",
       "      <td>-0.668815</td>\n",
       "      <td>0.104648</td>\n",
       "      <td>-1.451866</td>\n",
       "      <td>0.459389</td>\n",
       "    </tr>\n",
       "  </tbody>\n",
       "</table>\n",
       "</div>"
      ],
      "text/plain": [
       "                   A         B         C         D         E\n",
       "2018-05-21  0.662777  0.666669  0.878194  0.627345  0.204957\n",
       "2018-05-22  0.576757 -0.338353 -0.949003  0.947013  0.510873\n",
       "2018-05-23 -1.109103  0.794037 -1.004451 -1.326286  1.508179\n",
       "2018-05-24 -1.099926  0.853258 -1.287643 -1.541802  1.856672\n",
       "2018-05-25 -0.966063 -0.526380  0.193345  0.260406 -0.174440\n",
       "2018-05-26  1.302870 -0.007158 -0.186783  1.731096 -0.989682\n",
       "2018-05-27  0.102827  0.389831 -0.009321 -2.339168  0.354356\n",
       "2018-05-28 -1.229516  0.635055 -0.326571 -1.323469 -0.494465\n",
       "2018-05-29  0.611699  1.270709 -1.218284 -0.928532  1.927610\n",
       "2018-05-30 -0.695086  0.811071  1.918304  1.853819  0.156570\n",
       "2018-05-31  1.179970  0.753904  0.591013 -0.351822 -1.579526\n",
       "2018-06-01 -2.107911 -1.692829  0.736854  0.903426  1.954866\n",
       "2018-06-02  0.237445  0.363186  0.704813  0.785438 -0.801865\n",
       "2018-06-03  0.980281 -0.276816  0.744498  0.490023  0.613402\n",
       "2018-06-04 -0.950453 -0.668815  0.104648 -1.451866  0.459389"
      ]
     },
     "execution_count": 132,
     "metadata": {},
     "output_type": "execute_result"
    }
   ],
   "source": [
    "df"
   ]
  },
  {
   "cell_type": "code",
   "execution_count": 133,
   "metadata": {},
   "outputs": [
    {
     "data": {
      "text/html": [
       "<div>\n",
       "<style scoped>\n",
       "    .dataframe tbody tr th:only-of-type {\n",
       "        vertical-align: middle;\n",
       "    }\n",
       "\n",
       "    .dataframe tbody tr th {\n",
       "        vertical-align: top;\n",
       "    }\n",
       "\n",
       "    .dataframe thead th {\n",
       "        text-align: right;\n",
       "    }\n",
       "</style>\n",
       "<table border=\"1\" class=\"dataframe\">\n",
       "  <thead>\n",
       "    <tr style=\"text-align: right;\">\n",
       "      <th></th>\n",
       "      <th>A</th>\n",
       "      <th>B</th>\n",
       "      <th>C</th>\n",
       "      <th>D</th>\n",
       "      <th>E</th>\n",
       "      <th>F</th>\n",
       "    </tr>\n",
       "  </thead>\n",
       "  <tbody>\n",
       "    <tr>\n",
       "      <th>2018-05-21</th>\n",
       "      <td>0.662777</td>\n",
       "      <td>0.666669</td>\n",
       "      <td>0.878194</td>\n",
       "      <td>0.627345</td>\n",
       "      <td>0.204957</td>\n",
       "      <td>0</td>\n",
       "    </tr>\n",
       "    <tr>\n",
       "      <th>2018-05-22</th>\n",
       "      <td>0.576757</td>\n",
       "      <td>-0.338353</td>\n",
       "      <td>-0.949003</td>\n",
       "      <td>0.947013</td>\n",
       "      <td>0.510873</td>\n",
       "      <td>1</td>\n",
       "    </tr>\n",
       "    <tr>\n",
       "      <th>2018-05-23</th>\n",
       "      <td>-1.109103</td>\n",
       "      <td>0.794037</td>\n",
       "      <td>-1.004451</td>\n",
       "      <td>-1.326286</td>\n",
       "      <td>1.508179</td>\n",
       "      <td>8</td>\n",
       "    </tr>\n",
       "    <tr>\n",
       "      <th>2018-05-24</th>\n",
       "      <td>-1.099926</td>\n",
       "      <td>0.853258</td>\n",
       "      <td>-1.287643</td>\n",
       "      <td>-1.541802</td>\n",
       "      <td>1.856672</td>\n",
       "      <td>27</td>\n",
       "    </tr>\n",
       "    <tr>\n",
       "      <th>2018-05-25</th>\n",
       "      <td>-0.966063</td>\n",
       "      <td>-0.526380</td>\n",
       "      <td>0.193345</td>\n",
       "      <td>0.260406</td>\n",
       "      <td>-0.174440</td>\n",
       "      <td>64</td>\n",
       "    </tr>\n",
       "    <tr>\n",
       "      <th>2018-05-26</th>\n",
       "      <td>1.302870</td>\n",
       "      <td>-0.007158</td>\n",
       "      <td>-0.186783</td>\n",
       "      <td>1.731096</td>\n",
       "      <td>-0.989682</td>\n",
       "      <td>125</td>\n",
       "    </tr>\n",
       "    <tr>\n",
       "      <th>2018-05-27</th>\n",
       "      <td>0.102827</td>\n",
       "      <td>0.389831</td>\n",
       "      <td>-0.009321</td>\n",
       "      <td>-2.339168</td>\n",
       "      <td>0.354356</td>\n",
       "      <td>216</td>\n",
       "    </tr>\n",
       "    <tr>\n",
       "      <th>2018-05-28</th>\n",
       "      <td>-1.229516</td>\n",
       "      <td>0.635055</td>\n",
       "      <td>-0.326571</td>\n",
       "      <td>-1.323469</td>\n",
       "      <td>-0.494465</td>\n",
       "      <td>343</td>\n",
       "    </tr>\n",
       "    <tr>\n",
       "      <th>2018-05-29</th>\n",
       "      <td>0.611699</td>\n",
       "      <td>1.270709</td>\n",
       "      <td>-1.218284</td>\n",
       "      <td>-0.928532</td>\n",
       "      <td>1.927610</td>\n",
       "      <td>512</td>\n",
       "    </tr>\n",
       "    <tr>\n",
       "      <th>2018-05-30</th>\n",
       "      <td>-0.695086</td>\n",
       "      <td>0.811071</td>\n",
       "      <td>1.918304</td>\n",
       "      <td>1.853819</td>\n",
       "      <td>0.156570</td>\n",
       "      <td>729</td>\n",
       "    </tr>\n",
       "    <tr>\n",
       "      <th>2018-05-31</th>\n",
       "      <td>1.179970</td>\n",
       "      <td>0.753904</td>\n",
       "      <td>0.591013</td>\n",
       "      <td>-0.351822</td>\n",
       "      <td>-1.579526</td>\n",
       "      <td>1000</td>\n",
       "    </tr>\n",
       "    <tr>\n",
       "      <th>2018-06-01</th>\n",
       "      <td>-2.107911</td>\n",
       "      <td>-1.692829</td>\n",
       "      <td>0.736854</td>\n",
       "      <td>0.903426</td>\n",
       "      <td>1.954866</td>\n",
       "      <td>1331</td>\n",
       "    </tr>\n",
       "    <tr>\n",
       "      <th>2018-06-02</th>\n",
       "      <td>0.237445</td>\n",
       "      <td>0.363186</td>\n",
       "      <td>0.704813</td>\n",
       "      <td>0.785438</td>\n",
       "      <td>-0.801865</td>\n",
       "      <td>1728</td>\n",
       "    </tr>\n",
       "    <tr>\n",
       "      <th>2018-06-03</th>\n",
       "      <td>0.980281</td>\n",
       "      <td>-0.276816</td>\n",
       "      <td>0.744498</td>\n",
       "      <td>0.490023</td>\n",
       "      <td>0.613402</td>\n",
       "      <td>2197</td>\n",
       "    </tr>\n",
       "    <tr>\n",
       "      <th>2018-06-04</th>\n",
       "      <td>-0.950453</td>\n",
       "      <td>-0.668815</td>\n",
       "      <td>0.104648</td>\n",
       "      <td>-1.451866</td>\n",
       "      <td>0.459389</td>\n",
       "      <td>2744</td>\n",
       "    </tr>\n",
       "  </tbody>\n",
       "</table>\n",
       "</div>"
      ],
      "text/plain": [
       "                   A         B         C         D         E     F\n",
       "2018-05-21  0.662777  0.666669  0.878194  0.627345  0.204957     0\n",
       "2018-05-22  0.576757 -0.338353 -0.949003  0.947013  0.510873     1\n",
       "2018-05-23 -1.109103  0.794037 -1.004451 -1.326286  1.508179     8\n",
       "2018-05-24 -1.099926  0.853258 -1.287643 -1.541802  1.856672    27\n",
       "2018-05-25 -0.966063 -0.526380  0.193345  0.260406 -0.174440    64\n",
       "2018-05-26  1.302870 -0.007158 -0.186783  1.731096 -0.989682   125\n",
       "2018-05-27  0.102827  0.389831 -0.009321 -2.339168  0.354356   216\n",
       "2018-05-28 -1.229516  0.635055 -0.326571 -1.323469 -0.494465   343\n",
       "2018-05-29  0.611699  1.270709 -1.218284 -0.928532  1.927610   512\n",
       "2018-05-30 -0.695086  0.811071  1.918304  1.853819  0.156570   729\n",
       "2018-05-31  1.179970  0.753904  0.591013 -0.351822 -1.579526  1000\n",
       "2018-06-01 -2.107911 -1.692829  0.736854  0.903426  1.954866  1331\n",
       "2018-06-02  0.237445  0.363186  0.704813  0.785438 -0.801865  1728\n",
       "2018-06-03  0.980281 -0.276816  0.744498  0.490023  0.613402  2197\n",
       "2018-06-04 -0.950453 -0.668815  0.104648 -1.451866  0.459389  2744"
      ]
     },
     "execution_count": 133,
     "metadata": {},
     "output_type": "execute_result"
    }
   ],
   "source": [
    "df['F'] = s1\n",
    "df"
   ]
  },
  {
   "cell_type": "code",
   "execution_count": 134,
   "metadata": {},
   "outputs": [
    {
     "data": {
      "text/html": [
       "<div>\n",
       "<style scoped>\n",
       "    .dataframe tbody tr th:only-of-type {\n",
       "        vertical-align: middle;\n",
       "    }\n",
       "\n",
       "    .dataframe tbody tr th {\n",
       "        vertical-align: top;\n",
       "    }\n",
       "\n",
       "    .dataframe thead th {\n",
       "        text-align: right;\n",
       "    }\n",
       "</style>\n",
       "<table border=\"1\" class=\"dataframe\">\n",
       "  <thead>\n",
       "    <tr style=\"text-align: right;\">\n",
       "      <th></th>\n",
       "      <th>A</th>\n",
       "      <th>B</th>\n",
       "      <th>C</th>\n",
       "      <th>D</th>\n",
       "      <th>E</th>\n",
       "      <th>F</th>\n",
       "    </tr>\n",
       "  </thead>\n",
       "  <tbody>\n",
       "    <tr>\n",
       "      <th>2018-05-21</th>\n",
       "      <td>0.662777</td>\n",
       "      <td>0.666669</td>\n",
       "      <td>0.878194</td>\n",
       "      <td>0.627345</td>\n",
       "      <td>0.204957</td>\n",
       "      <td>42</td>\n",
       "    </tr>\n",
       "    <tr>\n",
       "      <th>2018-05-22</th>\n",
       "      <td>0.576757</td>\n",
       "      <td>-0.338353</td>\n",
       "      <td>-0.949003</td>\n",
       "      <td>0.947013</td>\n",
       "      <td>0.510873</td>\n",
       "      <td>42</td>\n",
       "    </tr>\n",
       "    <tr>\n",
       "      <th>2018-05-23</th>\n",
       "      <td>-1.109103</td>\n",
       "      <td>0.794037</td>\n",
       "      <td>-1.004451</td>\n",
       "      <td>-1.326286</td>\n",
       "      <td>1.508179</td>\n",
       "      <td>42</td>\n",
       "    </tr>\n",
       "    <tr>\n",
       "      <th>2018-05-24</th>\n",
       "      <td>-1.099926</td>\n",
       "      <td>0.853258</td>\n",
       "      <td>-1.287643</td>\n",
       "      <td>-1.541802</td>\n",
       "      <td>1.856672</td>\n",
       "      <td>42</td>\n",
       "    </tr>\n",
       "    <tr>\n",
       "      <th>2018-05-25</th>\n",
       "      <td>-0.966063</td>\n",
       "      <td>-0.526380</td>\n",
       "      <td>0.193345</td>\n",
       "      <td>0.260406</td>\n",
       "      <td>-0.174440</td>\n",
       "      <td>42</td>\n",
       "    </tr>\n",
       "    <tr>\n",
       "      <th>2018-05-26</th>\n",
       "      <td>1.302870</td>\n",
       "      <td>-0.007158</td>\n",
       "      <td>-0.186783</td>\n",
       "      <td>1.731096</td>\n",
       "      <td>-0.989682</td>\n",
       "      <td>42</td>\n",
       "    </tr>\n",
       "    <tr>\n",
       "      <th>2018-05-27</th>\n",
       "      <td>0.102827</td>\n",
       "      <td>0.389831</td>\n",
       "      <td>-0.009321</td>\n",
       "      <td>-2.339168</td>\n",
       "      <td>0.354356</td>\n",
       "      <td>42</td>\n",
       "    </tr>\n",
       "    <tr>\n",
       "      <th>2018-05-28</th>\n",
       "      <td>-1.229516</td>\n",
       "      <td>0.635055</td>\n",
       "      <td>-0.326571</td>\n",
       "      <td>-1.323469</td>\n",
       "      <td>-0.494465</td>\n",
       "      <td>42</td>\n",
       "    </tr>\n",
       "    <tr>\n",
       "      <th>2018-05-29</th>\n",
       "      <td>0.611699</td>\n",
       "      <td>1.270709</td>\n",
       "      <td>-1.218284</td>\n",
       "      <td>-0.928532</td>\n",
       "      <td>1.927610</td>\n",
       "      <td>42</td>\n",
       "    </tr>\n",
       "    <tr>\n",
       "      <th>2018-05-30</th>\n",
       "      <td>-0.695086</td>\n",
       "      <td>0.811071</td>\n",
       "      <td>1.918304</td>\n",
       "      <td>1.853819</td>\n",
       "      <td>0.156570</td>\n",
       "      <td>42</td>\n",
       "    </tr>\n",
       "    <tr>\n",
       "      <th>2018-05-31</th>\n",
       "      <td>1.179970</td>\n",
       "      <td>0.753904</td>\n",
       "      <td>0.591013</td>\n",
       "      <td>-0.351822</td>\n",
       "      <td>-1.579526</td>\n",
       "      <td>42</td>\n",
       "    </tr>\n",
       "    <tr>\n",
       "      <th>2018-06-01</th>\n",
       "      <td>-2.107911</td>\n",
       "      <td>-1.692829</td>\n",
       "      <td>0.736854</td>\n",
       "      <td>0.903426</td>\n",
       "      <td>1.954866</td>\n",
       "      <td>42</td>\n",
       "    </tr>\n",
       "    <tr>\n",
       "      <th>2018-06-02</th>\n",
       "      <td>0.237445</td>\n",
       "      <td>0.363186</td>\n",
       "      <td>0.704813</td>\n",
       "      <td>0.785438</td>\n",
       "      <td>-0.801865</td>\n",
       "      <td>42</td>\n",
       "    </tr>\n",
       "    <tr>\n",
       "      <th>2018-06-03</th>\n",
       "      <td>0.980281</td>\n",
       "      <td>-0.276816</td>\n",
       "      <td>0.744498</td>\n",
       "      <td>0.490023</td>\n",
       "      <td>0.613402</td>\n",
       "      <td>42</td>\n",
       "    </tr>\n",
       "    <tr>\n",
       "      <th>2018-06-04</th>\n",
       "      <td>-0.950453</td>\n",
       "      <td>-0.668815</td>\n",
       "      <td>0.104648</td>\n",
       "      <td>-1.451866</td>\n",
       "      <td>0.459389</td>\n",
       "      <td>42</td>\n",
       "    </tr>\n",
       "  </tbody>\n",
       "</table>\n",
       "</div>"
      ],
      "text/plain": [
       "                   A         B         C         D         E   F\n",
       "2018-05-21  0.662777  0.666669  0.878194  0.627345  0.204957  42\n",
       "2018-05-22  0.576757 -0.338353 -0.949003  0.947013  0.510873  42\n",
       "2018-05-23 -1.109103  0.794037 -1.004451 -1.326286  1.508179  42\n",
       "2018-05-24 -1.099926  0.853258 -1.287643 -1.541802  1.856672  42\n",
       "2018-05-25 -0.966063 -0.526380  0.193345  0.260406 -0.174440  42\n",
       "2018-05-26  1.302870 -0.007158 -0.186783  1.731096 -0.989682  42\n",
       "2018-05-27  0.102827  0.389831 -0.009321 -2.339168  0.354356  42\n",
       "2018-05-28 -1.229516  0.635055 -0.326571 -1.323469 -0.494465  42\n",
       "2018-05-29  0.611699  1.270709 -1.218284 -0.928532  1.927610  42\n",
       "2018-05-30 -0.695086  0.811071  1.918304  1.853819  0.156570  42\n",
       "2018-05-31  1.179970  0.753904  0.591013 -0.351822 -1.579526  42\n",
       "2018-06-01 -2.107911 -1.692829  0.736854  0.903426  1.954866  42\n",
       "2018-06-02  0.237445  0.363186  0.704813  0.785438 -0.801865  42\n",
       "2018-06-03  0.980281 -0.276816  0.744498  0.490023  0.613402  42\n",
       "2018-06-04 -0.950453 -0.668815  0.104648 -1.451866  0.459389  42"
      ]
     },
     "execution_count": 134,
     "metadata": {},
     "output_type": "execute_result"
    }
   ],
   "source": [
    "df['F']=42\n",
    "df"
   ]
  },
  {
   "cell_type": "code",
   "execution_count": 135,
   "metadata": {},
   "outputs": [
    {
     "data": {
      "text/html": [
       "<div>\n",
       "<style scoped>\n",
       "    .dataframe tbody tr th:only-of-type {\n",
       "        vertical-align: middle;\n",
       "    }\n",
       "\n",
       "    .dataframe tbody tr th {\n",
       "        vertical-align: top;\n",
       "    }\n",
       "\n",
       "    .dataframe thead th {\n",
       "        text-align: right;\n",
       "    }\n",
       "</style>\n",
       "<table border=\"1\" class=\"dataframe\">\n",
       "  <thead>\n",
       "    <tr style=\"text-align: right;\">\n",
       "      <th></th>\n",
       "      <th>A</th>\n",
       "      <th>B</th>\n",
       "      <th>C</th>\n",
       "      <th>D</th>\n",
       "      <th>E</th>\n",
       "      <th>F</th>\n",
       "      <th>G</th>\n",
       "    </tr>\n",
       "  </thead>\n",
       "  <tbody>\n",
       "    <tr>\n",
       "      <th>2018-05-21</th>\n",
       "      <td>0.662777</td>\n",
       "      <td>0.666669</td>\n",
       "      <td>0.878194</td>\n",
       "      <td>0.627345</td>\n",
       "      <td>0.204957</td>\n",
       "      <td>42</td>\n",
       "      <td>0</td>\n",
       "    </tr>\n",
       "    <tr>\n",
       "      <th>2018-05-22</th>\n",
       "      <td>0.576757</td>\n",
       "      <td>-0.338353</td>\n",
       "      <td>-0.949003</td>\n",
       "      <td>0.947013</td>\n",
       "      <td>0.510873</td>\n",
       "      <td>42</td>\n",
       "      <td>1</td>\n",
       "    </tr>\n",
       "    <tr>\n",
       "      <th>2018-05-23</th>\n",
       "      <td>-1.109103</td>\n",
       "      <td>0.794037</td>\n",
       "      <td>-1.004451</td>\n",
       "      <td>-1.326286</td>\n",
       "      <td>1.508179</td>\n",
       "      <td>42</td>\n",
       "      <td>8</td>\n",
       "    </tr>\n",
       "    <tr>\n",
       "      <th>2018-05-24</th>\n",
       "      <td>-1.099926</td>\n",
       "      <td>0.853258</td>\n",
       "      <td>-1.287643</td>\n",
       "      <td>-1.541802</td>\n",
       "      <td>1.856672</td>\n",
       "      <td>42</td>\n",
       "      <td>27</td>\n",
       "    </tr>\n",
       "    <tr>\n",
       "      <th>2018-05-25</th>\n",
       "      <td>-0.966063</td>\n",
       "      <td>-0.526380</td>\n",
       "      <td>0.193345</td>\n",
       "      <td>0.260406</td>\n",
       "      <td>-0.174440</td>\n",
       "      <td>42</td>\n",
       "      <td>64</td>\n",
       "    </tr>\n",
       "    <tr>\n",
       "      <th>2018-05-26</th>\n",
       "      <td>1.302870</td>\n",
       "      <td>-0.007158</td>\n",
       "      <td>-0.186783</td>\n",
       "      <td>1.731096</td>\n",
       "      <td>-0.989682</td>\n",
       "      <td>42</td>\n",
       "      <td>125</td>\n",
       "    </tr>\n",
       "    <tr>\n",
       "      <th>2018-05-27</th>\n",
       "      <td>0.102827</td>\n",
       "      <td>0.389831</td>\n",
       "      <td>-0.009321</td>\n",
       "      <td>-2.339168</td>\n",
       "      <td>0.354356</td>\n",
       "      <td>42</td>\n",
       "      <td>216</td>\n",
       "    </tr>\n",
       "    <tr>\n",
       "      <th>2018-05-28</th>\n",
       "      <td>-1.229516</td>\n",
       "      <td>0.635055</td>\n",
       "      <td>-0.326571</td>\n",
       "      <td>-1.323469</td>\n",
       "      <td>-0.494465</td>\n",
       "      <td>42</td>\n",
       "      <td>343</td>\n",
       "    </tr>\n",
       "    <tr>\n",
       "      <th>2018-05-29</th>\n",
       "      <td>0.611699</td>\n",
       "      <td>1.270709</td>\n",
       "      <td>-1.218284</td>\n",
       "      <td>-0.928532</td>\n",
       "      <td>1.927610</td>\n",
       "      <td>42</td>\n",
       "      <td>512</td>\n",
       "    </tr>\n",
       "    <tr>\n",
       "      <th>2018-05-30</th>\n",
       "      <td>-0.695086</td>\n",
       "      <td>0.811071</td>\n",
       "      <td>1.918304</td>\n",
       "      <td>1.853819</td>\n",
       "      <td>0.156570</td>\n",
       "      <td>42</td>\n",
       "      <td>729</td>\n",
       "    </tr>\n",
       "    <tr>\n",
       "      <th>2018-05-31</th>\n",
       "      <td>1.179970</td>\n",
       "      <td>0.753904</td>\n",
       "      <td>0.591013</td>\n",
       "      <td>-0.351822</td>\n",
       "      <td>-1.579526</td>\n",
       "      <td>42</td>\n",
       "      <td>1000</td>\n",
       "    </tr>\n",
       "    <tr>\n",
       "      <th>2018-06-01</th>\n",
       "      <td>-2.107911</td>\n",
       "      <td>-1.692829</td>\n",
       "      <td>0.736854</td>\n",
       "      <td>0.903426</td>\n",
       "      <td>1.954866</td>\n",
       "      <td>42</td>\n",
       "      <td>1331</td>\n",
       "    </tr>\n",
       "    <tr>\n",
       "      <th>2018-06-02</th>\n",
       "      <td>0.237445</td>\n",
       "      <td>0.363186</td>\n",
       "      <td>0.704813</td>\n",
       "      <td>0.785438</td>\n",
       "      <td>-0.801865</td>\n",
       "      <td>42</td>\n",
       "      <td>1728</td>\n",
       "    </tr>\n",
       "    <tr>\n",
       "      <th>2018-06-03</th>\n",
       "      <td>0.980281</td>\n",
       "      <td>-0.276816</td>\n",
       "      <td>0.744498</td>\n",
       "      <td>0.490023</td>\n",
       "      <td>0.613402</td>\n",
       "      <td>42</td>\n",
       "      <td>2197</td>\n",
       "    </tr>\n",
       "    <tr>\n",
       "      <th>2018-06-04</th>\n",
       "      <td>-0.950453</td>\n",
       "      <td>-0.668815</td>\n",
       "      <td>0.104648</td>\n",
       "      <td>-1.451866</td>\n",
       "      <td>0.459389</td>\n",
       "      <td>42</td>\n",
       "      <td>2744</td>\n",
       "    </tr>\n",
       "  </tbody>\n",
       "</table>\n",
       "</div>"
      ],
      "text/plain": [
       "                   A         B         C         D         E   F     G\n",
       "2018-05-21  0.662777  0.666669  0.878194  0.627345  0.204957  42     0\n",
       "2018-05-22  0.576757 -0.338353 -0.949003  0.947013  0.510873  42     1\n",
       "2018-05-23 -1.109103  0.794037 -1.004451 -1.326286  1.508179  42     8\n",
       "2018-05-24 -1.099926  0.853258 -1.287643 -1.541802  1.856672  42    27\n",
       "2018-05-25 -0.966063 -0.526380  0.193345  0.260406 -0.174440  42    64\n",
       "2018-05-26  1.302870 -0.007158 -0.186783  1.731096 -0.989682  42   125\n",
       "2018-05-27  0.102827  0.389831 -0.009321 -2.339168  0.354356  42   216\n",
       "2018-05-28 -1.229516  0.635055 -0.326571 -1.323469 -0.494465  42   343\n",
       "2018-05-29  0.611699  1.270709 -1.218284 -0.928532  1.927610  42   512\n",
       "2018-05-30 -0.695086  0.811071  1.918304  1.853819  0.156570  42   729\n",
       "2018-05-31  1.179970  0.753904  0.591013 -0.351822 -1.579526  42  1000\n",
       "2018-06-01 -2.107911 -1.692829  0.736854  0.903426  1.954866  42  1331\n",
       "2018-06-02  0.237445  0.363186  0.704813  0.785438 -0.801865  42  1728\n",
       "2018-06-03  0.980281 -0.276816  0.744498  0.490023  0.613402  42  2197\n",
       "2018-06-04 -0.950453 -0.668815  0.104648 -1.451866  0.459389  42  2744"
      ]
     },
     "execution_count": 135,
     "metadata": {},
     "output_type": "execute_result"
    }
   ],
   "source": [
    "df['G']=[x**3 for x in range(15)] # passing a fresh list to particular column\n",
    "df"
   ]
  },
  {
   "cell_type": "code",
   "execution_count": 136,
   "metadata": {},
   "outputs": [
    {
     "data": {
      "text/html": [
       "<div>\n",
       "<style scoped>\n",
       "    .dataframe tbody tr th:only-of-type {\n",
       "        vertical-align: middle;\n",
       "    }\n",
       "\n",
       "    .dataframe tbody tr th {\n",
       "        vertical-align: top;\n",
       "    }\n",
       "\n",
       "    .dataframe thead th {\n",
       "        text-align: right;\n",
       "    }\n",
       "</style>\n",
       "<table border=\"1\" class=\"dataframe\">\n",
       "  <thead>\n",
       "    <tr style=\"text-align: right;\">\n",
       "      <th></th>\n",
       "      <th>A</th>\n",
       "      <th>B</th>\n",
       "      <th>C</th>\n",
       "      <th>D</th>\n",
       "      <th>E</th>\n",
       "      <th>F</th>\n",
       "      <th>G</th>\n",
       "    </tr>\n",
       "  </thead>\n",
       "  <tbody>\n",
       "    <tr>\n",
       "      <th>2018-05-21</th>\n",
       "      <td>0.662777</td>\n",
       "      <td>0.666669</td>\n",
       "      <td>0.878194</td>\n",
       "      <td>0.627345</td>\n",
       "      <td>0.204957</td>\n",
       "      <td>42</td>\n",
       "      <td>0</td>\n",
       "    </tr>\n",
       "    <tr>\n",
       "      <th>2018-05-22</th>\n",
       "      <td>33.000000</td>\n",
       "      <td>-0.338353</td>\n",
       "      <td>-0.949003</td>\n",
       "      <td>0.947013</td>\n",
       "      <td>0.510873</td>\n",
       "      <td>42</td>\n",
       "      <td>1</td>\n",
       "    </tr>\n",
       "    <tr>\n",
       "      <th>2018-05-23</th>\n",
       "      <td>-1.109103</td>\n",
       "      <td>0.794037</td>\n",
       "      <td>-1.004451</td>\n",
       "      <td>-1.326286</td>\n",
       "      <td>1.508179</td>\n",
       "      <td>42</td>\n",
       "      <td>8</td>\n",
       "    </tr>\n",
       "    <tr>\n",
       "      <th>2018-05-24</th>\n",
       "      <td>-1.099926</td>\n",
       "      <td>0.853258</td>\n",
       "      <td>-1.287643</td>\n",
       "      <td>-1.541802</td>\n",
       "      <td>1.856672</td>\n",
       "      <td>42</td>\n",
       "      <td>27</td>\n",
       "    </tr>\n",
       "    <tr>\n",
       "      <th>2018-05-25</th>\n",
       "      <td>-0.966063</td>\n",
       "      <td>-0.526380</td>\n",
       "      <td>0.193345</td>\n",
       "      <td>0.260406</td>\n",
       "      <td>-0.174440</td>\n",
       "      <td>42</td>\n",
       "      <td>64</td>\n",
       "    </tr>\n",
       "    <tr>\n",
       "      <th>2018-05-26</th>\n",
       "      <td>1.302870</td>\n",
       "      <td>-0.007158</td>\n",
       "      <td>-0.186783</td>\n",
       "      <td>1.731096</td>\n",
       "      <td>-0.989682</td>\n",
       "      <td>42</td>\n",
       "      <td>125</td>\n",
       "    </tr>\n",
       "    <tr>\n",
       "      <th>2018-05-27</th>\n",
       "      <td>0.102827</td>\n",
       "      <td>0.389831</td>\n",
       "      <td>-0.009321</td>\n",
       "      <td>-2.339168</td>\n",
       "      <td>0.354356</td>\n",
       "      <td>42</td>\n",
       "      <td>216</td>\n",
       "    </tr>\n",
       "    <tr>\n",
       "      <th>2018-05-28</th>\n",
       "      <td>-1.229516</td>\n",
       "      <td>0.635055</td>\n",
       "      <td>-0.326571</td>\n",
       "      <td>-1.323469</td>\n",
       "      <td>-0.494465</td>\n",
       "      <td>42</td>\n",
       "      <td>343</td>\n",
       "    </tr>\n",
       "    <tr>\n",
       "      <th>2018-05-29</th>\n",
       "      <td>0.611699</td>\n",
       "      <td>1.270709</td>\n",
       "      <td>-1.218284</td>\n",
       "      <td>-0.928532</td>\n",
       "      <td>1.927610</td>\n",
       "      <td>42</td>\n",
       "      <td>512</td>\n",
       "    </tr>\n",
       "    <tr>\n",
       "      <th>2018-05-30</th>\n",
       "      <td>-0.695086</td>\n",
       "      <td>0.811071</td>\n",
       "      <td>1.918304</td>\n",
       "      <td>1.853819</td>\n",
       "      <td>0.156570</td>\n",
       "      <td>42</td>\n",
       "      <td>729</td>\n",
       "    </tr>\n",
       "    <tr>\n",
       "      <th>2018-05-31</th>\n",
       "      <td>1.179970</td>\n",
       "      <td>0.753904</td>\n",
       "      <td>0.591013</td>\n",
       "      <td>-0.351822</td>\n",
       "      <td>-1.579526</td>\n",
       "      <td>42</td>\n",
       "      <td>1000</td>\n",
       "    </tr>\n",
       "    <tr>\n",
       "      <th>2018-06-01</th>\n",
       "      <td>-2.107911</td>\n",
       "      <td>-1.692829</td>\n",
       "      <td>0.736854</td>\n",
       "      <td>0.903426</td>\n",
       "      <td>1.954866</td>\n",
       "      <td>42</td>\n",
       "      <td>1331</td>\n",
       "    </tr>\n",
       "    <tr>\n",
       "      <th>2018-06-02</th>\n",
       "      <td>0.237445</td>\n",
       "      <td>0.363186</td>\n",
       "      <td>0.704813</td>\n",
       "      <td>0.785438</td>\n",
       "      <td>-0.801865</td>\n",
       "      <td>42</td>\n",
       "      <td>1728</td>\n",
       "    </tr>\n",
       "    <tr>\n",
       "      <th>2018-06-03</th>\n",
       "      <td>0.980281</td>\n",
       "      <td>-0.276816</td>\n",
       "      <td>0.744498</td>\n",
       "      <td>0.490023</td>\n",
       "      <td>0.613402</td>\n",
       "      <td>42</td>\n",
       "      <td>2197</td>\n",
       "    </tr>\n",
       "    <tr>\n",
       "      <th>2018-06-04</th>\n",
       "      <td>-0.950453</td>\n",
       "      <td>-0.668815</td>\n",
       "      <td>0.104648</td>\n",
       "      <td>-1.451866</td>\n",
       "      <td>0.459389</td>\n",
       "      <td>42</td>\n",
       "      <td>2744</td>\n",
       "    </tr>\n",
       "  </tbody>\n",
       "</table>\n",
       "</div>"
      ],
      "text/plain": [
       "                    A         B         C         D         E   F     G\n",
       "2018-05-21   0.662777  0.666669  0.878194  0.627345  0.204957  42     0\n",
       "2018-05-22  33.000000 -0.338353 -0.949003  0.947013  0.510873  42     1\n",
       "2018-05-23  -1.109103  0.794037 -1.004451 -1.326286  1.508179  42     8\n",
       "2018-05-24  -1.099926  0.853258 -1.287643 -1.541802  1.856672  42    27\n",
       "2018-05-25  -0.966063 -0.526380  0.193345  0.260406 -0.174440  42    64\n",
       "2018-05-26   1.302870 -0.007158 -0.186783  1.731096 -0.989682  42   125\n",
       "2018-05-27   0.102827  0.389831 -0.009321 -2.339168  0.354356  42   216\n",
       "2018-05-28  -1.229516  0.635055 -0.326571 -1.323469 -0.494465  42   343\n",
       "2018-05-29   0.611699  1.270709 -1.218284 -0.928532  1.927610  42   512\n",
       "2018-05-30  -0.695086  0.811071  1.918304  1.853819  0.156570  42   729\n",
       "2018-05-31   1.179970  0.753904  0.591013 -0.351822 -1.579526  42  1000\n",
       "2018-06-01  -2.107911 -1.692829  0.736854  0.903426  1.954866  42  1331\n",
       "2018-06-02   0.237445  0.363186  0.704813  0.785438 -0.801865  42  1728\n",
       "2018-06-03   0.980281 -0.276816  0.744498  0.490023  0.613402  42  2197\n",
       "2018-06-04  -0.950453 -0.668815  0.104648 -1.451866  0.459389  42  2744"
      ]
     },
     "execution_count": 136,
     "metadata": {},
     "output_type": "execute_result"
    }
   ],
   "source": [
    "df.at[dates[1], 'A'] = 33\n",
    "df"
   ]
  },
  {
   "cell_type": "code",
   "execution_count": null,
   "metadata": {},
   "outputs": [],
   "source": [
    "# Missing Data\n",
    "# pandas primarily uses the value np.nan to represent missing data. \n",
    "# It is by default not included in computations."
   ]
  },
  {
   "cell_type": "code",
   "execution_count": 137,
   "metadata": {},
   "outputs": [
    {
     "data": {
      "text/html": [
       "<div>\n",
       "<style scoped>\n",
       "    .dataframe tbody tr th:only-of-type {\n",
       "        vertical-align: middle;\n",
       "    }\n",
       "\n",
       "    .dataframe tbody tr th {\n",
       "        vertical-align: top;\n",
       "    }\n",
       "\n",
       "    .dataframe thead th {\n",
       "        text-align: right;\n",
       "    }\n",
       "</style>\n",
       "<table border=\"1\" class=\"dataframe\">\n",
       "  <thead>\n",
       "    <tr style=\"text-align: right;\">\n",
       "      <th></th>\n",
       "      <th>A</th>\n",
       "      <th>B</th>\n",
       "      <th>C</th>\n",
       "      <th>D</th>\n",
       "      <th>E</th>\n",
       "      <th>F</th>\n",
       "      <th>G</th>\n",
       "      <th>H</th>\n",
       "    </tr>\n",
       "  </thead>\n",
       "  <tbody>\n",
       "    <tr>\n",
       "      <th>2018-05-21</th>\n",
       "      <td>0.662777</td>\n",
       "      <td>0.666669</td>\n",
       "      <td>0.878194</td>\n",
       "      <td>0.627345</td>\n",
       "      <td>0.204957</td>\n",
       "      <td>42</td>\n",
       "      <td>0</td>\n",
       "      <td>NaN</td>\n",
       "    </tr>\n",
       "    <tr>\n",
       "      <th>2018-05-22</th>\n",
       "      <td>33.000000</td>\n",
       "      <td>-0.338353</td>\n",
       "      <td>-0.949003</td>\n",
       "      <td>0.947013</td>\n",
       "      <td>0.510873</td>\n",
       "      <td>42</td>\n",
       "      <td>1</td>\n",
       "      <td>NaN</td>\n",
       "    </tr>\n",
       "    <tr>\n",
       "      <th>2018-05-23</th>\n",
       "      <td>-1.109103</td>\n",
       "      <td>0.794037</td>\n",
       "      <td>-1.004451</td>\n",
       "      <td>-1.326286</td>\n",
       "      <td>1.508179</td>\n",
       "      <td>42</td>\n",
       "      <td>8</td>\n",
       "      <td>NaN</td>\n",
       "    </tr>\n",
       "    <tr>\n",
       "      <th>2018-05-24</th>\n",
       "      <td>-1.099926</td>\n",
       "      <td>0.853258</td>\n",
       "      <td>-1.287643</td>\n",
       "      <td>-1.541802</td>\n",
       "      <td>1.856672</td>\n",
       "      <td>42</td>\n",
       "      <td>27</td>\n",
       "      <td>NaN</td>\n",
       "    </tr>\n",
       "    <tr>\n",
       "      <th>2018-05-25</th>\n",
       "      <td>-0.966063</td>\n",
       "      <td>-0.526380</td>\n",
       "      <td>0.193345</td>\n",
       "      <td>0.260406</td>\n",
       "      <td>-0.174440</td>\n",
       "      <td>42</td>\n",
       "      <td>64</td>\n",
       "      <td>NaN</td>\n",
       "    </tr>\n",
       "    <tr>\n",
       "      <th>2018-05-26</th>\n",
       "      <td>1.302870</td>\n",
       "      <td>-0.007158</td>\n",
       "      <td>-0.186783</td>\n",
       "      <td>1.731096</td>\n",
       "      <td>-0.989682</td>\n",
       "      <td>42</td>\n",
       "      <td>125</td>\n",
       "      <td>NaN</td>\n",
       "    </tr>\n",
       "    <tr>\n",
       "      <th>2018-05-27</th>\n",
       "      <td>0.102827</td>\n",
       "      <td>0.389831</td>\n",
       "      <td>-0.009321</td>\n",
       "      <td>-2.339168</td>\n",
       "      <td>0.354356</td>\n",
       "      <td>42</td>\n",
       "      <td>216</td>\n",
       "      <td>NaN</td>\n",
       "    </tr>\n",
       "    <tr>\n",
       "      <th>2018-05-28</th>\n",
       "      <td>-1.229516</td>\n",
       "      <td>0.635055</td>\n",
       "      <td>-0.326571</td>\n",
       "      <td>-1.323469</td>\n",
       "      <td>-0.494465</td>\n",
       "      <td>42</td>\n",
       "      <td>343</td>\n",
       "      <td>NaN</td>\n",
       "    </tr>\n",
       "    <tr>\n",
       "      <th>2018-05-29</th>\n",
       "      <td>0.611699</td>\n",
       "      <td>1.270709</td>\n",
       "      <td>-1.218284</td>\n",
       "      <td>-0.928532</td>\n",
       "      <td>1.927610</td>\n",
       "      <td>42</td>\n",
       "      <td>512</td>\n",
       "      <td>NaN</td>\n",
       "    </tr>\n",
       "    <tr>\n",
       "      <th>2018-05-30</th>\n",
       "      <td>-0.695086</td>\n",
       "      <td>0.811071</td>\n",
       "      <td>1.918304</td>\n",
       "      <td>1.853819</td>\n",
       "      <td>0.156570</td>\n",
       "      <td>42</td>\n",
       "      <td>729</td>\n",
       "      <td>NaN</td>\n",
       "    </tr>\n",
       "    <tr>\n",
       "      <th>2018-05-31</th>\n",
       "      <td>1.179970</td>\n",
       "      <td>0.753904</td>\n",
       "      <td>0.591013</td>\n",
       "      <td>-0.351822</td>\n",
       "      <td>-1.579526</td>\n",
       "      <td>42</td>\n",
       "      <td>1000</td>\n",
       "      <td>NaN</td>\n",
       "    </tr>\n",
       "    <tr>\n",
       "      <th>2018-06-01</th>\n",
       "      <td>-2.107911</td>\n",
       "      <td>-1.692829</td>\n",
       "      <td>0.736854</td>\n",
       "      <td>0.903426</td>\n",
       "      <td>1.954866</td>\n",
       "      <td>42</td>\n",
       "      <td>1331</td>\n",
       "      <td>NaN</td>\n",
       "    </tr>\n",
       "    <tr>\n",
       "      <th>2018-06-02</th>\n",
       "      <td>0.237445</td>\n",
       "      <td>0.363186</td>\n",
       "      <td>0.704813</td>\n",
       "      <td>0.785438</td>\n",
       "      <td>-0.801865</td>\n",
       "      <td>42</td>\n",
       "      <td>1728</td>\n",
       "      <td>NaN</td>\n",
       "    </tr>\n",
       "    <tr>\n",
       "      <th>2018-06-03</th>\n",
       "      <td>0.980281</td>\n",
       "      <td>-0.276816</td>\n",
       "      <td>0.744498</td>\n",
       "      <td>0.490023</td>\n",
       "      <td>0.613402</td>\n",
       "      <td>42</td>\n",
       "      <td>2197</td>\n",
       "      <td>NaN</td>\n",
       "    </tr>\n",
       "    <tr>\n",
       "      <th>2018-06-04</th>\n",
       "      <td>-0.950453</td>\n",
       "      <td>-0.668815</td>\n",
       "      <td>0.104648</td>\n",
       "      <td>-1.451866</td>\n",
       "      <td>0.459389</td>\n",
       "      <td>42</td>\n",
       "      <td>2744</td>\n",
       "      <td>NaN</td>\n",
       "    </tr>\n",
       "  </tbody>\n",
       "</table>\n",
       "</div>"
      ],
      "text/plain": [
       "                    A         B         C         D         E   F     G   H\n",
       "2018-05-21   0.662777  0.666669  0.878194  0.627345  0.204957  42     0 NaN\n",
       "2018-05-22  33.000000 -0.338353 -0.949003  0.947013  0.510873  42     1 NaN\n",
       "2018-05-23  -1.109103  0.794037 -1.004451 -1.326286  1.508179  42     8 NaN\n",
       "2018-05-24  -1.099926  0.853258 -1.287643 -1.541802  1.856672  42    27 NaN\n",
       "2018-05-25  -0.966063 -0.526380  0.193345  0.260406 -0.174440  42    64 NaN\n",
       "2018-05-26   1.302870 -0.007158 -0.186783  1.731096 -0.989682  42   125 NaN\n",
       "2018-05-27   0.102827  0.389831 -0.009321 -2.339168  0.354356  42   216 NaN\n",
       "2018-05-28  -1.229516  0.635055 -0.326571 -1.323469 -0.494465  42   343 NaN\n",
       "2018-05-29   0.611699  1.270709 -1.218284 -0.928532  1.927610  42   512 NaN\n",
       "2018-05-30  -0.695086  0.811071  1.918304  1.853819  0.156570  42   729 NaN\n",
       "2018-05-31   1.179970  0.753904  0.591013 -0.351822 -1.579526  42  1000 NaN\n",
       "2018-06-01  -2.107911 -1.692829  0.736854  0.903426  1.954866  42  1331 NaN\n",
       "2018-06-02   0.237445  0.363186  0.704813  0.785438 -0.801865  42  1728 NaN\n",
       "2018-06-03   0.980281 -0.276816  0.744498  0.490023  0.613402  42  2197 NaN\n",
       "2018-06-04  -0.950453 -0.668815  0.104648 -1.451866  0.459389  42  2744 NaN"
      ]
     },
     "execution_count": 137,
     "metadata": {},
     "output_type": "execute_result"
    }
   ],
   "source": [
    "df['H'] = np.nan\n",
    "df"
   ]
  },
  {
   "cell_type": "code",
   "execution_count": 138,
   "metadata": {},
   "outputs": [
    {
     "data": {
      "text/html": [
       "<div>\n",
       "<style scoped>\n",
       "    .dataframe tbody tr th:only-of-type {\n",
       "        vertical-align: middle;\n",
       "    }\n",
       "\n",
       "    .dataframe tbody tr th {\n",
       "        vertical-align: top;\n",
       "    }\n",
       "\n",
       "    .dataframe thead th {\n",
       "        text-align: right;\n",
       "    }\n",
       "</style>\n",
       "<table border=\"1\" class=\"dataframe\">\n",
       "  <thead>\n",
       "    <tr style=\"text-align: right;\">\n",
       "      <th></th>\n",
       "      <th>A</th>\n",
       "      <th>B</th>\n",
       "      <th>C</th>\n",
       "      <th>D</th>\n",
       "      <th>E</th>\n",
       "      <th>F</th>\n",
       "      <th>G</th>\n",
       "      <th>H</th>\n",
       "    </tr>\n",
       "  </thead>\n",
       "  <tbody>\n",
       "    <tr>\n",
       "      <th>2018-05-21</th>\n",
       "      <td>0.662777</td>\n",
       "      <td>0.666669</td>\n",
       "      <td>0.878194</td>\n",
       "      <td>0.627345</td>\n",
       "      <td>0.204957</td>\n",
       "      <td>42</td>\n",
       "      <td>0</td>\n",
       "      <td>3.14</td>\n",
       "    </tr>\n",
       "    <tr>\n",
       "      <th>2018-05-22</th>\n",
       "      <td>33.000000</td>\n",
       "      <td>-0.338353</td>\n",
       "      <td>-0.949003</td>\n",
       "      <td>0.947013</td>\n",
       "      <td>0.510873</td>\n",
       "      <td>42</td>\n",
       "      <td>1</td>\n",
       "      <td>3.14</td>\n",
       "    </tr>\n",
       "    <tr>\n",
       "      <th>2018-05-23</th>\n",
       "      <td>-1.109103</td>\n",
       "      <td>0.794037</td>\n",
       "      <td>-1.004451</td>\n",
       "      <td>-1.326286</td>\n",
       "      <td>1.508179</td>\n",
       "      <td>42</td>\n",
       "      <td>8</td>\n",
       "      <td>3.14</td>\n",
       "    </tr>\n",
       "    <tr>\n",
       "      <th>2018-05-24</th>\n",
       "      <td>-1.099926</td>\n",
       "      <td>0.853258</td>\n",
       "      <td>-1.287643</td>\n",
       "      <td>-1.541802</td>\n",
       "      <td>1.856672</td>\n",
       "      <td>42</td>\n",
       "      <td>27</td>\n",
       "      <td>3.14</td>\n",
       "    </tr>\n",
       "    <tr>\n",
       "      <th>2018-05-25</th>\n",
       "      <td>-0.966063</td>\n",
       "      <td>-0.526380</td>\n",
       "      <td>0.193345</td>\n",
       "      <td>0.260406</td>\n",
       "      <td>-0.174440</td>\n",
       "      <td>42</td>\n",
       "      <td>64</td>\n",
       "      <td>3.14</td>\n",
       "    </tr>\n",
       "    <tr>\n",
       "      <th>2018-05-26</th>\n",
       "      <td>1.302870</td>\n",
       "      <td>-0.007158</td>\n",
       "      <td>-0.186783</td>\n",
       "      <td>1.731096</td>\n",
       "      <td>-0.989682</td>\n",
       "      <td>42</td>\n",
       "      <td>125</td>\n",
       "      <td>3.14</td>\n",
       "    </tr>\n",
       "    <tr>\n",
       "      <th>2018-05-27</th>\n",
       "      <td>0.102827</td>\n",
       "      <td>0.389831</td>\n",
       "      <td>-0.009321</td>\n",
       "      <td>-2.339168</td>\n",
       "      <td>0.354356</td>\n",
       "      <td>42</td>\n",
       "      <td>216</td>\n",
       "      <td>3.14</td>\n",
       "    </tr>\n",
       "    <tr>\n",
       "      <th>2018-05-28</th>\n",
       "      <td>-1.229516</td>\n",
       "      <td>0.635055</td>\n",
       "      <td>-0.326571</td>\n",
       "      <td>-1.323469</td>\n",
       "      <td>-0.494465</td>\n",
       "      <td>42</td>\n",
       "      <td>343</td>\n",
       "      <td>3.14</td>\n",
       "    </tr>\n",
       "    <tr>\n",
       "      <th>2018-05-29</th>\n",
       "      <td>0.611699</td>\n",
       "      <td>1.270709</td>\n",
       "      <td>-1.218284</td>\n",
       "      <td>-0.928532</td>\n",
       "      <td>1.927610</td>\n",
       "      <td>42</td>\n",
       "      <td>512</td>\n",
       "      <td>3.14</td>\n",
       "    </tr>\n",
       "    <tr>\n",
       "      <th>2018-05-30</th>\n",
       "      <td>-0.695086</td>\n",
       "      <td>0.811071</td>\n",
       "      <td>1.918304</td>\n",
       "      <td>1.853819</td>\n",
       "      <td>0.156570</td>\n",
       "      <td>42</td>\n",
       "      <td>729</td>\n",
       "      <td>3.14</td>\n",
       "    </tr>\n",
       "    <tr>\n",
       "      <th>2018-05-31</th>\n",
       "      <td>1.179970</td>\n",
       "      <td>0.753904</td>\n",
       "      <td>0.591013</td>\n",
       "      <td>-0.351822</td>\n",
       "      <td>-1.579526</td>\n",
       "      <td>42</td>\n",
       "      <td>1000</td>\n",
       "      <td>3.14</td>\n",
       "    </tr>\n",
       "    <tr>\n",
       "      <th>2018-06-01</th>\n",
       "      <td>-2.107911</td>\n",
       "      <td>-1.692829</td>\n",
       "      <td>0.736854</td>\n",
       "      <td>0.903426</td>\n",
       "      <td>1.954866</td>\n",
       "      <td>42</td>\n",
       "      <td>1331</td>\n",
       "      <td>3.14</td>\n",
       "    </tr>\n",
       "    <tr>\n",
       "      <th>2018-06-02</th>\n",
       "      <td>0.237445</td>\n",
       "      <td>0.363186</td>\n",
       "      <td>0.704813</td>\n",
       "      <td>0.785438</td>\n",
       "      <td>-0.801865</td>\n",
       "      <td>42</td>\n",
       "      <td>1728</td>\n",
       "      <td>3.14</td>\n",
       "    </tr>\n",
       "    <tr>\n",
       "      <th>2018-06-03</th>\n",
       "      <td>0.980281</td>\n",
       "      <td>-0.276816</td>\n",
       "      <td>0.744498</td>\n",
       "      <td>0.490023</td>\n",
       "      <td>0.613402</td>\n",
       "      <td>42</td>\n",
       "      <td>2197</td>\n",
       "      <td>3.14</td>\n",
       "    </tr>\n",
       "    <tr>\n",
       "      <th>2018-06-04</th>\n",
       "      <td>-0.950453</td>\n",
       "      <td>-0.668815</td>\n",
       "      <td>0.104648</td>\n",
       "      <td>-1.451866</td>\n",
       "      <td>0.459389</td>\n",
       "      <td>42</td>\n",
       "      <td>2744</td>\n",
       "      <td>3.14</td>\n",
       "    </tr>\n",
       "  </tbody>\n",
       "</table>\n",
       "</div>"
      ],
      "text/plain": [
       "                    A         B         C         D         E   F     G     H\n",
       "2018-05-21   0.662777  0.666669  0.878194  0.627345  0.204957  42     0  3.14\n",
       "2018-05-22  33.000000 -0.338353 -0.949003  0.947013  0.510873  42     1  3.14\n",
       "2018-05-23  -1.109103  0.794037 -1.004451 -1.326286  1.508179  42     8  3.14\n",
       "2018-05-24  -1.099926  0.853258 -1.287643 -1.541802  1.856672  42    27  3.14\n",
       "2018-05-25  -0.966063 -0.526380  0.193345  0.260406 -0.174440  42    64  3.14\n",
       "2018-05-26   1.302870 -0.007158 -0.186783  1.731096 -0.989682  42   125  3.14\n",
       "2018-05-27   0.102827  0.389831 -0.009321 -2.339168  0.354356  42   216  3.14\n",
       "2018-05-28  -1.229516  0.635055 -0.326571 -1.323469 -0.494465  42   343  3.14\n",
       "2018-05-29   0.611699  1.270709 -1.218284 -0.928532  1.927610  42   512  3.14\n",
       "2018-05-30  -0.695086  0.811071  1.918304  1.853819  0.156570  42   729  3.14\n",
       "2018-05-31   1.179970  0.753904  0.591013 -0.351822 -1.579526  42  1000  3.14\n",
       "2018-06-01  -2.107911 -1.692829  0.736854  0.903426  1.954866  42  1331  3.14\n",
       "2018-06-02   0.237445  0.363186  0.704813  0.785438 -0.801865  42  1728  3.14\n",
       "2018-06-03   0.980281 -0.276816  0.744498  0.490023  0.613402  42  2197  3.14\n",
       "2018-06-04  -0.950453 -0.668815  0.104648 -1.451866  0.459389  42  2744  3.14"
      ]
     },
     "execution_count": 138,
     "metadata": {},
     "output_type": "execute_result"
    }
   ],
   "source": [
    "df.fillna(value=3.14)"
   ]
  },
  {
   "cell_type": "code",
   "execution_count": null,
   "metadata": {},
   "outputs": [],
   "source": [
    "# there is also df.dropna() to drop any ROWS! with missing data"
   ]
  },
  {
   "cell_type": "markdown",
   "metadata": {},
   "source": [
    "## Operations"
   ]
  },
  {
   "cell_type": "markdown",
   "metadata": {},
   "source": [
    "DataFrame methods and properties:\n",
    "* https://pandas.pydata.org/pandas-docs/stable/reference/api/pandas.DataFrame.html\n",
    "        \n",
    "Series methods and properties:\n",
    "* https://pandas.pydata.org/pandas-docs/stable/reference/api/pandas.Series.html\n",
    "    \n",
    "Data Science Handbook:\n",
    "* [Data manipulation with Pandas](https://jakevdp.github.io/PythonDataScienceHandbook/index.html#3.-Data-Manipulation-with-Pandas)"
   ]
  },
  {
   "cell_type": "code",
   "execution_count": 139,
   "metadata": {},
   "outputs": [
    {
     "data": {
      "text/html": [
       "<div>\n",
       "<style scoped>\n",
       "    .dataframe tbody tr th:only-of-type {\n",
       "        vertical-align: middle;\n",
       "    }\n",
       "\n",
       "    .dataframe tbody tr th {\n",
       "        vertical-align: top;\n",
       "    }\n",
       "\n",
       "    .dataframe thead th {\n",
       "        text-align: right;\n",
       "    }\n",
       "</style>\n",
       "<table border=\"1\" class=\"dataframe\">\n",
       "  <thead>\n",
       "    <tr style=\"text-align: right;\">\n",
       "      <th></th>\n",
       "      <th>A</th>\n",
       "      <th>B</th>\n",
       "      <th>C</th>\n",
       "      <th>D</th>\n",
       "      <th>E</th>\n",
       "      <th>F</th>\n",
       "      <th>G</th>\n",
       "      <th>H</th>\n",
       "    </tr>\n",
       "  </thead>\n",
       "  <tbody>\n",
       "    <tr>\n",
       "      <th>2018-05-21</th>\n",
       "      <td>0.662777</td>\n",
       "      <td>0.666669</td>\n",
       "      <td>0.878194</td>\n",
       "      <td>0.627345</td>\n",
       "      <td>0.204957</td>\n",
       "      <td>42</td>\n",
       "      <td>0</td>\n",
       "      <td>NaN</td>\n",
       "    </tr>\n",
       "    <tr>\n",
       "      <th>2018-05-22</th>\n",
       "      <td>33.000000</td>\n",
       "      <td>-0.338353</td>\n",
       "      <td>-0.949003</td>\n",
       "      <td>0.947013</td>\n",
       "      <td>0.510873</td>\n",
       "      <td>42</td>\n",
       "      <td>1</td>\n",
       "      <td>NaN</td>\n",
       "    </tr>\n",
       "    <tr>\n",
       "      <th>2018-05-23</th>\n",
       "      <td>-1.109103</td>\n",
       "      <td>0.794037</td>\n",
       "      <td>-1.004451</td>\n",
       "      <td>-1.326286</td>\n",
       "      <td>1.508179</td>\n",
       "      <td>42</td>\n",
       "      <td>8</td>\n",
       "      <td>NaN</td>\n",
       "    </tr>\n",
       "    <tr>\n",
       "      <th>2018-05-24</th>\n",
       "      <td>-1.099926</td>\n",
       "      <td>0.853258</td>\n",
       "      <td>-1.287643</td>\n",
       "      <td>-1.541802</td>\n",
       "      <td>1.856672</td>\n",
       "      <td>42</td>\n",
       "      <td>27</td>\n",
       "      <td>NaN</td>\n",
       "    </tr>\n",
       "    <tr>\n",
       "      <th>2018-05-25</th>\n",
       "      <td>-0.966063</td>\n",
       "      <td>-0.526380</td>\n",
       "      <td>0.193345</td>\n",
       "      <td>0.260406</td>\n",
       "      <td>-0.174440</td>\n",
       "      <td>42</td>\n",
       "      <td>64</td>\n",
       "      <td>NaN</td>\n",
       "    </tr>\n",
       "    <tr>\n",
       "      <th>2018-05-26</th>\n",
       "      <td>1.302870</td>\n",
       "      <td>-0.007158</td>\n",
       "      <td>-0.186783</td>\n",
       "      <td>1.731096</td>\n",
       "      <td>-0.989682</td>\n",
       "      <td>42</td>\n",
       "      <td>125</td>\n",
       "      <td>NaN</td>\n",
       "    </tr>\n",
       "    <tr>\n",
       "      <th>2018-05-27</th>\n",
       "      <td>0.102827</td>\n",
       "      <td>0.389831</td>\n",
       "      <td>-0.009321</td>\n",
       "      <td>-2.339168</td>\n",
       "      <td>0.354356</td>\n",
       "      <td>42</td>\n",
       "      <td>216</td>\n",
       "      <td>NaN</td>\n",
       "    </tr>\n",
       "    <tr>\n",
       "      <th>2018-05-28</th>\n",
       "      <td>-1.229516</td>\n",
       "      <td>0.635055</td>\n",
       "      <td>-0.326571</td>\n",
       "      <td>-1.323469</td>\n",
       "      <td>-0.494465</td>\n",
       "      <td>42</td>\n",
       "      <td>343</td>\n",
       "      <td>NaN</td>\n",
       "    </tr>\n",
       "    <tr>\n",
       "      <th>2018-05-29</th>\n",
       "      <td>0.611699</td>\n",
       "      <td>1.270709</td>\n",
       "      <td>-1.218284</td>\n",
       "      <td>-0.928532</td>\n",
       "      <td>1.927610</td>\n",
       "      <td>42</td>\n",
       "      <td>512</td>\n",
       "      <td>NaN</td>\n",
       "    </tr>\n",
       "    <tr>\n",
       "      <th>2018-05-30</th>\n",
       "      <td>-0.695086</td>\n",
       "      <td>0.811071</td>\n",
       "      <td>1.918304</td>\n",
       "      <td>1.853819</td>\n",
       "      <td>0.156570</td>\n",
       "      <td>42</td>\n",
       "      <td>729</td>\n",
       "      <td>NaN</td>\n",
       "    </tr>\n",
       "    <tr>\n",
       "      <th>2018-05-31</th>\n",
       "      <td>1.179970</td>\n",
       "      <td>0.753904</td>\n",
       "      <td>0.591013</td>\n",
       "      <td>-0.351822</td>\n",
       "      <td>-1.579526</td>\n",
       "      <td>42</td>\n",
       "      <td>1000</td>\n",
       "      <td>NaN</td>\n",
       "    </tr>\n",
       "    <tr>\n",
       "      <th>2018-06-01</th>\n",
       "      <td>-2.107911</td>\n",
       "      <td>-1.692829</td>\n",
       "      <td>0.736854</td>\n",
       "      <td>0.903426</td>\n",
       "      <td>1.954866</td>\n",
       "      <td>42</td>\n",
       "      <td>1331</td>\n",
       "      <td>NaN</td>\n",
       "    </tr>\n",
       "    <tr>\n",
       "      <th>2018-06-02</th>\n",
       "      <td>0.237445</td>\n",
       "      <td>0.363186</td>\n",
       "      <td>0.704813</td>\n",
       "      <td>0.785438</td>\n",
       "      <td>-0.801865</td>\n",
       "      <td>42</td>\n",
       "      <td>1728</td>\n",
       "      <td>NaN</td>\n",
       "    </tr>\n",
       "    <tr>\n",
       "      <th>2018-06-03</th>\n",
       "      <td>0.980281</td>\n",
       "      <td>-0.276816</td>\n",
       "      <td>0.744498</td>\n",
       "      <td>0.490023</td>\n",
       "      <td>0.613402</td>\n",
       "      <td>42</td>\n",
       "      <td>2197</td>\n",
       "      <td>NaN</td>\n",
       "    </tr>\n",
       "    <tr>\n",
       "      <th>2018-06-04</th>\n",
       "      <td>-0.950453</td>\n",
       "      <td>-0.668815</td>\n",
       "      <td>0.104648</td>\n",
       "      <td>-1.451866</td>\n",
       "      <td>0.459389</td>\n",
       "      <td>42</td>\n",
       "      <td>2744</td>\n",
       "      <td>NaN</td>\n",
       "    </tr>\n",
       "  </tbody>\n",
       "</table>\n",
       "</div>"
      ],
      "text/plain": [
       "                    A         B         C         D         E   F     G   H\n",
       "2018-05-21   0.662777  0.666669  0.878194  0.627345  0.204957  42     0 NaN\n",
       "2018-05-22  33.000000 -0.338353 -0.949003  0.947013  0.510873  42     1 NaN\n",
       "2018-05-23  -1.109103  0.794037 -1.004451 -1.326286  1.508179  42     8 NaN\n",
       "2018-05-24  -1.099926  0.853258 -1.287643 -1.541802  1.856672  42    27 NaN\n",
       "2018-05-25  -0.966063 -0.526380  0.193345  0.260406 -0.174440  42    64 NaN\n",
       "2018-05-26   1.302870 -0.007158 -0.186783  1.731096 -0.989682  42   125 NaN\n",
       "2018-05-27   0.102827  0.389831 -0.009321 -2.339168  0.354356  42   216 NaN\n",
       "2018-05-28  -1.229516  0.635055 -0.326571 -1.323469 -0.494465  42   343 NaN\n",
       "2018-05-29   0.611699  1.270709 -1.218284 -0.928532  1.927610  42   512 NaN\n",
       "2018-05-30  -0.695086  0.811071  1.918304  1.853819  0.156570  42   729 NaN\n",
       "2018-05-31   1.179970  0.753904  0.591013 -0.351822 -1.579526  42  1000 NaN\n",
       "2018-06-01  -2.107911 -1.692829  0.736854  0.903426  1.954866  42  1331 NaN\n",
       "2018-06-02   0.237445  0.363186  0.704813  0.785438 -0.801865  42  1728 NaN\n",
       "2018-06-03   0.980281 -0.276816  0.744498  0.490023  0.613402  42  2197 NaN\n",
       "2018-06-04  -0.950453 -0.668815  0.104648 -1.451866  0.459389  42  2744 NaN"
      ]
     },
     "execution_count": 139,
     "metadata": {},
     "output_type": "execute_result"
    }
   ],
   "source": [
    "df"
   ]
  },
  {
   "cell_type": "code",
   "execution_count": 140,
   "metadata": {},
   "outputs": [
    {
     "data": {
      "text/plain": [
       "A      1.994654\n",
       "B      0.201825\n",
       "C      0.059307\n",
       "D     -0.110958\n",
       "E      0.367126\n",
       "F     42.000000\n",
       "G    735.000000\n",
       "H           NaN\n",
       "dtype: float64"
      ]
     },
     "execution_count": 140,
     "metadata": {},
     "output_type": "execute_result"
    }
   ],
   "source": [
    "df.mean()"
   ]
  },
  {
   "cell_type": "code",
   "execution_count": 141,
   "metadata": {},
   "outputs": [
    {
     "data": {
      "text/plain": [
       "A      33.000000\n",
       "B       1.270709\n",
       "C       1.918304\n",
       "D       1.853819\n",
       "E       1.954866\n",
       "F      42.000000\n",
       "G    2744.000000\n",
       "H            NaN\n",
       "dtype: float64"
      ]
     },
     "execution_count": 141,
     "metadata": {},
     "output_type": "execute_result"
    }
   ],
   "source": [
    "df.max()"
   ]
  },
  {
   "cell_type": "code",
   "execution_count": null,
   "metadata": {},
   "outputs": [],
   "source": [
    "# Other axis"
   ]
  },
  {
   "cell_type": "code",
   "execution_count": 142,
   "metadata": {},
   "outputs": [
    {
     "data": {
      "text/plain": [
       "2018-05-21      6.434278\n",
       "2018-05-22     10.881504\n",
       "2018-05-23      6.980339\n",
       "2018-05-24      9.682937\n",
       "2018-05-25     14.969553\n",
       "2018-05-26     24.121477\n",
       "2018-05-27     36.642646\n",
       "2018-05-28     54.608719\n",
       "2018-05-29     79.380457\n",
       "2018-05-30    110.720668\n",
       "2018-05-31    148.941934\n",
       "2018-06-01    196.113487\n",
       "2018-06-02    253.041288\n",
       "2018-06-03    320.221627\n",
       "2018-06-04    397.641843\n",
       "Freq: D, dtype: float64"
      ]
     },
     "execution_count": 142,
     "metadata": {},
     "output_type": "execute_result"
    }
   ],
   "source": [
    "df.mean(axis=1)"
   ]
  },
  {
   "cell_type": "code",
   "execution_count": 143,
   "metadata": {},
   "outputs": [
    {
     "data": {
      "text/plain": [
       "2018-05-21      42.0\n",
       "2018-05-22      42.0\n",
       "2018-05-23      42.0\n",
       "2018-05-24      42.0\n",
       "2018-05-25      64.0\n",
       "2018-05-26     125.0\n",
       "2018-05-27     216.0\n",
       "2018-05-28     343.0\n",
       "2018-05-29     512.0\n",
       "2018-05-30     729.0\n",
       "2018-05-31    1000.0\n",
       "2018-06-01    1331.0\n",
       "2018-06-02    1728.0\n",
       "2018-06-03    2197.0\n",
       "2018-06-04    2744.0\n",
       "Freq: D, dtype: float64"
      ]
     },
     "execution_count": 143,
     "metadata": {},
     "output_type": "execute_result"
    }
   ],
   "source": [
    "df.max(axis=1)"
   ]
  },
  {
   "cell_type": "code",
   "execution_count": null,
   "metadata": {},
   "outputs": [],
   "source": [
    "## String operations (df.str.*)"
   ]
  },
  {
   "cell_type": "code",
   "execution_count": 144,
   "metadata": {},
   "outputs": [
    {
     "data": {
      "text/plain": [
       "0     APPle\n",
       "1    baNAna\n",
       "2       NaN\n",
       "3        42\n",
       "4     mangO\n",
       "dtype: object"
      ]
     },
     "execution_count": 144,
     "metadata": {},
     "output_type": "execute_result"
    }
   ],
   "source": [
    "import numpy as np\n",
    "str1 = pd.Series(['APPle', 'baNAna', np.NaN, 42, 'mangO'])\n",
    "str1"
   ]
  },
  {
   "cell_type": "code",
   "execution_count": 145,
   "metadata": {},
   "outputs": [
    {
     "data": {
      "text/plain": [
       "['capitalize',\n",
       " 'casefold',\n",
       " 'cat',\n",
       " 'center',\n",
       " 'contains',\n",
       " 'count',\n",
       " 'decode',\n",
       " 'encode',\n",
       " 'endswith',\n",
       " 'extract',\n",
       " 'extractall',\n",
       " 'find',\n",
       " 'findall',\n",
       " 'fullmatch',\n",
       " 'get',\n",
       " 'get_dummies',\n",
       " 'index',\n",
       " 'isalnum',\n",
       " 'isalpha',\n",
       " 'isdecimal',\n",
       " 'isdigit',\n",
       " 'islower',\n",
       " 'isnumeric',\n",
       " 'isspace',\n",
       " 'istitle',\n",
       " 'isupper',\n",
       " 'join',\n",
       " 'len',\n",
       " 'ljust',\n",
       " 'lower',\n",
       " 'lstrip',\n",
       " 'match',\n",
       " 'normalize',\n",
       " 'pad',\n",
       " 'partition',\n",
       " 'removeprefix',\n",
       " 'removesuffix',\n",
       " 'repeat',\n",
       " 'replace',\n",
       " 'rfind',\n",
       " 'rindex',\n",
       " 'rjust',\n",
       " 'rpartition',\n",
       " 'rsplit',\n",
       " 'rstrip',\n",
       " 'slice',\n",
       " 'slice_replace',\n",
       " 'split',\n",
       " 'startswith',\n",
       " 'strip',\n",
       " 'swapcase',\n",
       " 'title',\n",
       " 'translate',\n",
       " 'upper',\n",
       " 'wrap',\n",
       " 'zfill']"
      ]
     },
     "execution_count": 145,
     "metadata": {},
     "output_type": "execute_result"
    }
   ],
   "source": [
    "[name for name in dir(str1.str) if not name.startswith(\"_\")]"
   ]
  },
  {
   "cell_type": "code",
   "execution_count": 146,
   "metadata": {},
   "outputs": [
    {
     "name": "stdout",
     "output_type": "stream",
     "text": [
      "Help on method lower in module pandas.core.strings.accessor:\n",
      "\n",
      "lower() method of pandas.core.strings.accessor.StringMethods instance\n",
      "    Convert strings in the Series/Index to lowercase.\n",
      "    \n",
      "    Equivalent to :meth:`str.lower`.\n",
      "    \n",
      "    Returns\n",
      "    -------\n",
      "    Series or Index of object\n",
      "    \n",
      "    See Also\n",
      "    --------\n",
      "    Series.str.lower : Converts all characters to lowercase.\n",
      "    Series.str.upper : Converts all characters to uppercase.\n",
      "    Series.str.title : Converts first character of each word to uppercase and\n",
      "        remaining to lowercase.\n",
      "    Series.str.capitalize : Converts first character to uppercase and\n",
      "        remaining to lowercase.\n",
      "    Series.str.swapcase : Converts uppercase to lowercase and lowercase to\n",
      "        uppercase.\n",
      "    Series.str.casefold: Removes all case distinctions in the string.\n",
      "    \n",
      "    Examples\n",
      "    --------\n",
      "    >>> s = pd.Series(['lower', 'CAPITALS', 'this is a sentence', 'SwApCaSe'])\n",
      "    >>> s\n",
      "    0                 lower\n",
      "    1              CAPITALS\n",
      "    2    this is a sentence\n",
      "    3              SwApCaSe\n",
      "    dtype: object\n",
      "    \n",
      "    >>> s.str.lower()\n",
      "    0                 lower\n",
      "    1              capitals\n",
      "    2    this is a sentence\n",
      "    3              swapcase\n",
      "    dtype: object\n",
      "    \n",
      "    >>> s.str.upper()\n",
      "    0                 LOWER\n",
      "    1              CAPITALS\n",
      "    2    THIS IS A SENTENCE\n",
      "    3              SWAPCASE\n",
      "    dtype: object\n",
      "    \n",
      "    >>> s.str.title()\n",
      "    0                 Lower\n",
      "    1              Capitals\n",
      "    2    This Is A Sentence\n",
      "    3              Swapcase\n",
      "    dtype: object\n",
      "    \n",
      "    >>> s.str.capitalize()\n",
      "    0                 Lower\n",
      "    1              Capitals\n",
      "    2    This is a sentence\n",
      "    3              Swapcase\n",
      "    dtype: object\n",
      "    \n",
      "    >>> s.str.swapcase()\n",
      "    0                 LOWER\n",
      "    1              capitals\n",
      "    2    THIS IS A SENTENCE\n",
      "    3              sWaPcAsE\n",
      "    dtype: object\n",
      "\n"
     ]
    }
   ],
   "source": [
    "help(str1.str.lower)"
   ]
  },
  {
   "cell_type": "code",
   "execution_count": 147,
   "metadata": {},
   "outputs": [
    {
     "data": {
      "text/plain": [
       "0     apple\n",
       "1    banana\n",
       "2       NaN\n",
       "3       NaN\n",
       "4     mango\n",
       "dtype: object"
      ]
     },
     "execution_count": 147,
     "metadata": {},
     "output_type": "execute_result"
    }
   ],
   "source": [
    "str1.str.lower()"
   ]
  },
  {
   "cell_type": "code",
   "execution_count": 148,
   "metadata": {},
   "outputs": [
    {
     "data": {
      "text/plain": [
       "0    5.0\n",
       "1    6.0\n",
       "2    NaN\n",
       "3    NaN\n",
       "4    5.0\n",
       "dtype: float64"
      ]
     },
     "execution_count": 148,
     "metadata": {},
     "output_type": "execute_result"
    }
   ],
   "source": [
    "str1.str.len()"
   ]
  },
  {
   "cell_type": "code",
   "execution_count": null,
   "metadata": {},
   "outputs": [],
   "source": [
    "## Apply"
   ]
  },
  {
   "cell_type": "code",
   "execution_count": 149,
   "metadata": {},
   "outputs": [
    {
     "data": {
      "text/html": [
       "<div>\n",
       "<style scoped>\n",
       "    .dataframe tbody tr th:only-of-type {\n",
       "        vertical-align: middle;\n",
       "    }\n",
       "\n",
       "    .dataframe tbody tr th {\n",
       "        vertical-align: top;\n",
       "    }\n",
       "\n",
       "    .dataframe thead th {\n",
       "        text-align: right;\n",
       "    }\n",
       "</style>\n",
       "<table border=\"1\" class=\"dataframe\">\n",
       "  <thead>\n",
       "    <tr style=\"text-align: right;\">\n",
       "      <th></th>\n",
       "      <th>A</th>\n",
       "      <th>B</th>\n",
       "      <th>C</th>\n",
       "      <th>D</th>\n",
       "      <th>E</th>\n",
       "      <th>F</th>\n",
       "      <th>G</th>\n",
       "      <th>H</th>\n",
       "    </tr>\n",
       "  </thead>\n",
       "  <tbody>\n",
       "    <tr>\n",
       "      <th>2018-05-21</th>\n",
       "      <td>0.662777</td>\n",
       "      <td>0.666669</td>\n",
       "      <td>0.878194</td>\n",
       "      <td>0.627345</td>\n",
       "      <td>0.204957</td>\n",
       "      <td>42</td>\n",
       "      <td>0</td>\n",
       "      <td>NaN</td>\n",
       "    </tr>\n",
       "    <tr>\n",
       "      <th>2018-05-22</th>\n",
       "      <td>33.000000</td>\n",
       "      <td>-0.338353</td>\n",
       "      <td>-0.949003</td>\n",
       "      <td>0.947013</td>\n",
       "      <td>0.510873</td>\n",
       "      <td>42</td>\n",
       "      <td>1</td>\n",
       "      <td>NaN</td>\n",
       "    </tr>\n",
       "    <tr>\n",
       "      <th>2018-05-23</th>\n",
       "      <td>-1.109103</td>\n",
       "      <td>0.794037</td>\n",
       "      <td>-1.004451</td>\n",
       "      <td>-1.326286</td>\n",
       "      <td>1.508179</td>\n",
       "      <td>42</td>\n",
       "      <td>8</td>\n",
       "      <td>NaN</td>\n",
       "    </tr>\n",
       "    <tr>\n",
       "      <th>2018-05-24</th>\n",
       "      <td>-1.099926</td>\n",
       "      <td>0.853258</td>\n",
       "      <td>-1.287643</td>\n",
       "      <td>-1.541802</td>\n",
       "      <td>1.856672</td>\n",
       "      <td>42</td>\n",
       "      <td>27</td>\n",
       "      <td>NaN</td>\n",
       "    </tr>\n",
       "    <tr>\n",
       "      <th>2018-05-25</th>\n",
       "      <td>-0.966063</td>\n",
       "      <td>-0.526380</td>\n",
       "      <td>0.193345</td>\n",
       "      <td>0.260406</td>\n",
       "      <td>-0.174440</td>\n",
       "      <td>42</td>\n",
       "      <td>64</td>\n",
       "      <td>NaN</td>\n",
       "    </tr>\n",
       "    <tr>\n",
       "      <th>2018-05-26</th>\n",
       "      <td>1.302870</td>\n",
       "      <td>-0.007158</td>\n",
       "      <td>-0.186783</td>\n",
       "      <td>1.731096</td>\n",
       "      <td>-0.989682</td>\n",
       "      <td>42</td>\n",
       "      <td>125</td>\n",
       "      <td>NaN</td>\n",
       "    </tr>\n",
       "    <tr>\n",
       "      <th>2018-05-27</th>\n",
       "      <td>0.102827</td>\n",
       "      <td>0.389831</td>\n",
       "      <td>-0.009321</td>\n",
       "      <td>-2.339168</td>\n",
       "      <td>0.354356</td>\n",
       "      <td>42</td>\n",
       "      <td>216</td>\n",
       "      <td>NaN</td>\n",
       "    </tr>\n",
       "    <tr>\n",
       "      <th>2018-05-28</th>\n",
       "      <td>-1.229516</td>\n",
       "      <td>0.635055</td>\n",
       "      <td>-0.326571</td>\n",
       "      <td>-1.323469</td>\n",
       "      <td>-0.494465</td>\n",
       "      <td>42</td>\n",
       "      <td>343</td>\n",
       "      <td>NaN</td>\n",
       "    </tr>\n",
       "    <tr>\n",
       "      <th>2018-05-29</th>\n",
       "      <td>0.611699</td>\n",
       "      <td>1.270709</td>\n",
       "      <td>-1.218284</td>\n",
       "      <td>-0.928532</td>\n",
       "      <td>1.927610</td>\n",
       "      <td>42</td>\n",
       "      <td>512</td>\n",
       "      <td>NaN</td>\n",
       "    </tr>\n",
       "    <tr>\n",
       "      <th>2018-05-30</th>\n",
       "      <td>-0.695086</td>\n",
       "      <td>0.811071</td>\n",
       "      <td>1.918304</td>\n",
       "      <td>1.853819</td>\n",
       "      <td>0.156570</td>\n",
       "      <td>42</td>\n",
       "      <td>729</td>\n",
       "      <td>NaN</td>\n",
       "    </tr>\n",
       "    <tr>\n",
       "      <th>2018-05-31</th>\n",
       "      <td>1.179970</td>\n",
       "      <td>0.753904</td>\n",
       "      <td>0.591013</td>\n",
       "      <td>-0.351822</td>\n",
       "      <td>-1.579526</td>\n",
       "      <td>42</td>\n",
       "      <td>1000</td>\n",
       "      <td>NaN</td>\n",
       "    </tr>\n",
       "    <tr>\n",
       "      <th>2018-06-01</th>\n",
       "      <td>-2.107911</td>\n",
       "      <td>-1.692829</td>\n",
       "      <td>0.736854</td>\n",
       "      <td>0.903426</td>\n",
       "      <td>1.954866</td>\n",
       "      <td>42</td>\n",
       "      <td>1331</td>\n",
       "      <td>NaN</td>\n",
       "    </tr>\n",
       "    <tr>\n",
       "      <th>2018-06-02</th>\n",
       "      <td>0.237445</td>\n",
       "      <td>0.363186</td>\n",
       "      <td>0.704813</td>\n",
       "      <td>0.785438</td>\n",
       "      <td>-0.801865</td>\n",
       "      <td>42</td>\n",
       "      <td>1728</td>\n",
       "      <td>NaN</td>\n",
       "    </tr>\n",
       "    <tr>\n",
       "      <th>2018-06-03</th>\n",
       "      <td>0.980281</td>\n",
       "      <td>-0.276816</td>\n",
       "      <td>0.744498</td>\n",
       "      <td>0.490023</td>\n",
       "      <td>0.613402</td>\n",
       "      <td>42</td>\n",
       "      <td>2197</td>\n",
       "      <td>NaN</td>\n",
       "    </tr>\n",
       "    <tr>\n",
       "      <th>2018-06-04</th>\n",
       "      <td>-0.950453</td>\n",
       "      <td>-0.668815</td>\n",
       "      <td>0.104648</td>\n",
       "      <td>-1.451866</td>\n",
       "      <td>0.459389</td>\n",
       "      <td>42</td>\n",
       "      <td>2744</td>\n",
       "      <td>NaN</td>\n",
       "    </tr>\n",
       "  </tbody>\n",
       "</table>\n",
       "</div>"
      ],
      "text/plain": [
       "                    A         B         C         D         E   F     G   H\n",
       "2018-05-21   0.662777  0.666669  0.878194  0.627345  0.204957  42     0 NaN\n",
       "2018-05-22  33.000000 -0.338353 -0.949003  0.947013  0.510873  42     1 NaN\n",
       "2018-05-23  -1.109103  0.794037 -1.004451 -1.326286  1.508179  42     8 NaN\n",
       "2018-05-24  -1.099926  0.853258 -1.287643 -1.541802  1.856672  42    27 NaN\n",
       "2018-05-25  -0.966063 -0.526380  0.193345  0.260406 -0.174440  42    64 NaN\n",
       "2018-05-26   1.302870 -0.007158 -0.186783  1.731096 -0.989682  42   125 NaN\n",
       "2018-05-27   0.102827  0.389831 -0.009321 -2.339168  0.354356  42   216 NaN\n",
       "2018-05-28  -1.229516  0.635055 -0.326571 -1.323469 -0.494465  42   343 NaN\n",
       "2018-05-29   0.611699  1.270709 -1.218284 -0.928532  1.927610  42   512 NaN\n",
       "2018-05-30  -0.695086  0.811071  1.918304  1.853819  0.156570  42   729 NaN\n",
       "2018-05-31   1.179970  0.753904  0.591013 -0.351822 -1.579526  42  1000 NaN\n",
       "2018-06-01  -2.107911 -1.692829  0.736854  0.903426  1.954866  42  1331 NaN\n",
       "2018-06-02   0.237445  0.363186  0.704813  0.785438 -0.801865  42  1728 NaN\n",
       "2018-06-03   0.980281 -0.276816  0.744498  0.490023  0.613402  42  2197 NaN\n",
       "2018-06-04  -0.950453 -0.668815  0.104648 -1.451866  0.459389  42  2744 NaN"
      ]
     },
     "execution_count": 149,
     "metadata": {},
     "output_type": "execute_result"
    }
   ],
   "source": [
    "df"
   ]
  },
  {
   "cell_type": "code",
   "execution_count": 150,
   "metadata": {},
   "outputs": [
    {
     "data": {
      "text/html": [
       "<div>\n",
       "<style scoped>\n",
       "    .dataframe tbody tr th:only-of-type {\n",
       "        vertical-align: middle;\n",
       "    }\n",
       "\n",
       "    .dataframe tbody tr th {\n",
       "        vertical-align: top;\n",
       "    }\n",
       "\n",
       "    .dataframe thead th {\n",
       "        text-align: right;\n",
       "    }\n",
       "</style>\n",
       "<table border=\"1\" class=\"dataframe\">\n",
       "  <thead>\n",
       "    <tr style=\"text-align: right;\">\n",
       "      <th></th>\n",
       "      <th>A</th>\n",
       "      <th>B</th>\n",
       "      <th>C</th>\n",
       "      <th>D</th>\n",
       "      <th>E</th>\n",
       "      <th>F</th>\n",
       "      <th>G</th>\n",
       "      <th>H</th>\n",
       "    </tr>\n",
       "  </thead>\n",
       "  <tbody>\n",
       "    <tr>\n",
       "      <th>2018-05-21</th>\n",
       "      <td>1.988332</td>\n",
       "      <td>2.000007</td>\n",
       "      <td>2.634581</td>\n",
       "      <td>1.882036</td>\n",
       "      <td>0.614871</td>\n",
       "      <td>126</td>\n",
       "      <td>0</td>\n",
       "      <td>NaN</td>\n",
       "    </tr>\n",
       "    <tr>\n",
       "      <th>2018-05-22</th>\n",
       "      <td>99.000000</td>\n",
       "      <td>-1.015058</td>\n",
       "      <td>-2.847010</td>\n",
       "      <td>2.841039</td>\n",
       "      <td>1.532618</td>\n",
       "      <td>126</td>\n",
       "      <td>3</td>\n",
       "      <td>NaN</td>\n",
       "    </tr>\n",
       "    <tr>\n",
       "      <th>2018-05-23</th>\n",
       "      <td>-3.327309</td>\n",
       "      <td>2.382110</td>\n",
       "      <td>-3.013352</td>\n",
       "      <td>-3.978858</td>\n",
       "      <td>4.524538</td>\n",
       "      <td>126</td>\n",
       "      <td>24</td>\n",
       "      <td>NaN</td>\n",
       "    </tr>\n",
       "    <tr>\n",
       "      <th>2018-05-24</th>\n",
       "      <td>-3.299778</td>\n",
       "      <td>2.559775</td>\n",
       "      <td>-3.862928</td>\n",
       "      <td>-4.625405</td>\n",
       "      <td>5.570017</td>\n",
       "      <td>126</td>\n",
       "      <td>81</td>\n",
       "      <td>NaN</td>\n",
       "    </tr>\n",
       "    <tr>\n",
       "      <th>2018-05-25</th>\n",
       "      <td>-2.898188</td>\n",
       "      <td>-1.579139</td>\n",
       "      <td>0.580034</td>\n",
       "      <td>0.781218</td>\n",
       "      <td>-0.523320</td>\n",
       "      <td>126</td>\n",
       "      <td>192</td>\n",
       "      <td>NaN</td>\n",
       "    </tr>\n",
       "    <tr>\n",
       "      <th>2018-05-26</th>\n",
       "      <td>3.908610</td>\n",
       "      <td>-0.021475</td>\n",
       "      <td>-0.560350</td>\n",
       "      <td>5.193289</td>\n",
       "      <td>-2.969046</td>\n",
       "      <td>126</td>\n",
       "      <td>375</td>\n",
       "      <td>NaN</td>\n",
       "    </tr>\n",
       "    <tr>\n",
       "      <th>2018-05-27</th>\n",
       "      <td>0.308480</td>\n",
       "      <td>1.169493</td>\n",
       "      <td>-0.027964</td>\n",
       "      <td>-7.017503</td>\n",
       "      <td>1.063069</td>\n",
       "      <td>126</td>\n",
       "      <td>648</td>\n",
       "      <td>NaN</td>\n",
       "    </tr>\n",
       "    <tr>\n",
       "      <th>2018-05-28</th>\n",
       "      <td>-3.688547</td>\n",
       "      <td>1.905165</td>\n",
       "      <td>-0.979713</td>\n",
       "      <td>-3.970406</td>\n",
       "      <td>-1.483395</td>\n",
       "      <td>126</td>\n",
       "      <td>1029</td>\n",
       "      <td>NaN</td>\n",
       "    </tr>\n",
       "    <tr>\n",
       "      <th>2018-05-29</th>\n",
       "      <td>1.835098</td>\n",
       "      <td>3.812126</td>\n",
       "      <td>-3.654853</td>\n",
       "      <td>-2.785596</td>\n",
       "      <td>5.782830</td>\n",
       "      <td>126</td>\n",
       "      <td>1536</td>\n",
       "      <td>NaN</td>\n",
       "    </tr>\n",
       "    <tr>\n",
       "      <th>2018-05-30</th>\n",
       "      <td>-2.085257</td>\n",
       "      <td>2.433214</td>\n",
       "      <td>5.754913</td>\n",
       "      <td>5.561456</td>\n",
       "      <td>0.469710</td>\n",
       "      <td>126</td>\n",
       "      <td>2187</td>\n",
       "      <td>NaN</td>\n",
       "    </tr>\n",
       "    <tr>\n",
       "      <th>2018-05-31</th>\n",
       "      <td>3.539911</td>\n",
       "      <td>2.261713</td>\n",
       "      <td>1.773039</td>\n",
       "      <td>-1.055465</td>\n",
       "      <td>-4.738579</td>\n",
       "      <td>126</td>\n",
       "      <td>3000</td>\n",
       "      <td>NaN</td>\n",
       "    </tr>\n",
       "    <tr>\n",
       "      <th>2018-06-01</th>\n",
       "      <td>-6.323733</td>\n",
       "      <td>-5.078487</td>\n",
       "      <td>2.210563</td>\n",
       "      <td>2.710277</td>\n",
       "      <td>5.864598</td>\n",
       "      <td>126</td>\n",
       "      <td>3993</td>\n",
       "      <td>NaN</td>\n",
       "    </tr>\n",
       "    <tr>\n",
       "      <th>2018-06-02</th>\n",
       "      <td>0.712336</td>\n",
       "      <td>1.089558</td>\n",
       "      <td>2.114440</td>\n",
       "      <td>2.356315</td>\n",
       "      <td>-2.405596</td>\n",
       "      <td>126</td>\n",
       "      <td>5184</td>\n",
       "      <td>NaN</td>\n",
       "    </tr>\n",
       "    <tr>\n",
       "      <th>2018-06-03</th>\n",
       "      <td>2.940843</td>\n",
       "      <td>-0.830448</td>\n",
       "      <td>2.233494</td>\n",
       "      <td>1.470069</td>\n",
       "      <td>1.840207</td>\n",
       "      <td>126</td>\n",
       "      <td>6591</td>\n",
       "      <td>NaN</td>\n",
       "    </tr>\n",
       "    <tr>\n",
       "      <th>2018-06-04</th>\n",
       "      <td>-2.851359</td>\n",
       "      <td>-2.006444</td>\n",
       "      <td>0.313944</td>\n",
       "      <td>-4.355599</td>\n",
       "      <td>1.378168</td>\n",
       "      <td>126</td>\n",
       "      <td>8232</td>\n",
       "      <td>NaN</td>\n",
       "    </tr>\n",
       "  </tbody>\n",
       "</table>\n",
       "</div>"
      ],
      "text/plain": [
       "                    A         B         C         D         E    F     G   H\n",
       "2018-05-21   1.988332  2.000007  2.634581  1.882036  0.614871  126     0 NaN\n",
       "2018-05-22  99.000000 -1.015058 -2.847010  2.841039  1.532618  126     3 NaN\n",
       "2018-05-23  -3.327309  2.382110 -3.013352 -3.978858  4.524538  126    24 NaN\n",
       "2018-05-24  -3.299778  2.559775 -3.862928 -4.625405  5.570017  126    81 NaN\n",
       "2018-05-25  -2.898188 -1.579139  0.580034  0.781218 -0.523320  126   192 NaN\n",
       "2018-05-26   3.908610 -0.021475 -0.560350  5.193289 -2.969046  126   375 NaN\n",
       "2018-05-27   0.308480  1.169493 -0.027964 -7.017503  1.063069  126   648 NaN\n",
       "2018-05-28  -3.688547  1.905165 -0.979713 -3.970406 -1.483395  126  1029 NaN\n",
       "2018-05-29   1.835098  3.812126 -3.654853 -2.785596  5.782830  126  1536 NaN\n",
       "2018-05-30  -2.085257  2.433214  5.754913  5.561456  0.469710  126  2187 NaN\n",
       "2018-05-31   3.539911  2.261713  1.773039 -1.055465 -4.738579  126  3000 NaN\n",
       "2018-06-01  -6.323733 -5.078487  2.210563  2.710277  5.864598  126  3993 NaN\n",
       "2018-06-02   0.712336  1.089558  2.114440  2.356315 -2.405596  126  5184 NaN\n",
       "2018-06-03   2.940843 -0.830448  2.233494  1.470069  1.840207  126  6591 NaN\n",
       "2018-06-04  -2.851359 -2.006444  0.313944 -4.355599  1.378168  126  8232 NaN"
      ]
     },
     "execution_count": 150,
     "metadata": {},
     "output_type": "execute_result"
    }
   ],
   "source": [
    "# Lambda functions are anonymous functions\n",
    "# (functions defined without a name)\n",
    "\n",
    "# We can apply a function over all DataFrame elements:\n",
    "\n",
    "df.apply(lambda x: x*3) # ie same as df*3"
   ]
  },
  {
   "cell_type": "code",
   "execution_count": 151,
   "metadata": {},
   "outputs": [
    {
     "data": {
      "text/html": [
       "<div>\n",
       "<style scoped>\n",
       "    .dataframe tbody tr th:only-of-type {\n",
       "        vertical-align: middle;\n",
       "    }\n",
       "\n",
       "    .dataframe tbody tr th {\n",
       "        vertical-align: top;\n",
       "    }\n",
       "\n",
       "    .dataframe thead th {\n",
       "        text-align: right;\n",
       "    }\n",
       "</style>\n",
       "<table border=\"1\" class=\"dataframe\">\n",
       "  <thead>\n",
       "    <tr style=\"text-align: right;\">\n",
       "      <th></th>\n",
       "      <th>key</th>\n",
       "      <th>data</th>\n",
       "    </tr>\n",
       "  </thead>\n",
       "  <tbody>\n",
       "    <tr>\n",
       "      <th>0</th>\n",
       "      <td>A</td>\n",
       "      <td>0</td>\n",
       "    </tr>\n",
       "    <tr>\n",
       "      <th>1</th>\n",
       "      <td>B</td>\n",
       "      <td>1</td>\n",
       "    </tr>\n",
       "    <tr>\n",
       "      <th>2</th>\n",
       "      <td>C</td>\n",
       "      <td>2</td>\n",
       "    </tr>\n",
       "    <tr>\n",
       "      <th>3</th>\n",
       "      <td>A</td>\n",
       "      <td>3</td>\n",
       "    </tr>\n",
       "    <tr>\n",
       "      <th>4</th>\n",
       "      <td>B</td>\n",
       "      <td>4</td>\n",
       "    </tr>\n",
       "    <tr>\n",
       "      <th>5</th>\n",
       "      <td>C</td>\n",
       "      <td>5</td>\n",
       "    </tr>\n",
       "  </tbody>\n",
       "</table>\n",
       "</div>"
      ],
      "text/plain": [
       "  key  data\n",
       "0   A     0\n",
       "1   B     1\n",
       "2   C     2\n",
       "3   A     3\n",
       "4   B     4\n",
       "5   C     5"
      ]
     },
     "execution_count": 151,
     "metadata": {},
     "output_type": "execute_result"
    }
   ],
   "source": [
    "df = pd.DataFrame({'key': ['A', 'B', 'C', 'A', 'B', 'C'], 'data': range(6)}, columns=['key', 'data'])\n",
    "df"
   ]
  },
  {
   "cell_type": "code",
   "execution_count": 152,
   "metadata": {},
   "outputs": [
    {
     "data": {
      "text/plain": [
       "<pandas.core.groupby.generic.DataFrameGroupBy object at 0x121b51b80>"
      ]
     },
     "execution_count": 152,
     "metadata": {},
     "output_type": "execute_result"
    }
   ],
   "source": [
    "df.groupby('key')"
   ]
  },
  {
   "cell_type": "code",
   "execution_count": 153,
   "metadata": {},
   "outputs": [
    {
     "data": {
      "text/plain": [
       "[('A',\n",
       "    key  data\n",
       "  0   A     0\n",
       "  3   A     3),\n",
       " ('B',\n",
       "    key  data\n",
       "  1   B     1\n",
       "  4   B     4),\n",
       " ('C',\n",
       "    key  data\n",
       "  2   C     2\n",
       "  5   C     5)]"
      ]
     },
     "execution_count": 153,
     "metadata": {},
     "output_type": "execute_result"
    }
   ],
   "source": [
    "[item for item in df.groupby('key')]"
   ]
  },
  {
   "cell_type": "code",
   "execution_count": 154,
   "metadata": {},
   "outputs": [
    {
     "data": {
      "text/html": [
       "<div>\n",
       "<style scoped>\n",
       "    .dataframe tbody tr th:only-of-type {\n",
       "        vertical-align: middle;\n",
       "    }\n",
       "\n",
       "    .dataframe tbody tr th {\n",
       "        vertical-align: top;\n",
       "    }\n",
       "\n",
       "    .dataframe thead th {\n",
       "        text-align: right;\n",
       "    }\n",
       "</style>\n",
       "<table border=\"1\" class=\"dataframe\">\n",
       "  <thead>\n",
       "    <tr style=\"text-align: right;\">\n",
       "      <th></th>\n",
       "      <th>data</th>\n",
       "    </tr>\n",
       "    <tr>\n",
       "      <th>key</th>\n",
       "      <th></th>\n",
       "    </tr>\n",
       "  </thead>\n",
       "  <tbody>\n",
       "    <tr>\n",
       "      <th>A</th>\n",
       "      <td>3</td>\n",
       "    </tr>\n",
       "    <tr>\n",
       "      <th>B</th>\n",
       "      <td>5</td>\n",
       "    </tr>\n",
       "    <tr>\n",
       "      <th>C</th>\n",
       "      <td>7</td>\n",
       "    </tr>\n",
       "  </tbody>\n",
       "</table>\n",
       "</div>"
      ],
      "text/plain": [
       "     data\n",
       "key      \n",
       "A       3\n",
       "B       5\n",
       "C       7"
      ]
     },
     "execution_count": 154,
     "metadata": {},
     "output_type": "execute_result"
    }
   ],
   "source": [
    "df.groupby('key').sum()"
   ]
  },
  {
   "cell_type": "code",
   "execution_count": 155,
   "metadata": {},
   "outputs": [
    {
     "name": "stdout",
     "output_type": "stream",
     "text": [
      "Help on method groupby in module pandas.core.frame:\n",
      "\n",
      "groupby(by=None, axis: 'Axis | lib.NoDefault' = <no_default>, level: 'IndexLabel | None' = None, as_index: 'bool' = True, sort: 'bool' = True, group_keys: 'bool' = True, observed: 'bool | lib.NoDefault' = <no_default>, dropna: 'bool' = True) -> 'DataFrameGroupBy' method of pandas.core.frame.DataFrame instance\n",
      "    Group DataFrame using a mapper or by a Series of columns.\n",
      "    \n",
      "    A groupby operation involves some combination of splitting the\n",
      "    object, applying a function, and combining the results. This can be\n",
      "    used to group large amounts of data and compute operations on these\n",
      "    groups.\n",
      "    \n",
      "    Parameters\n",
      "    ----------\n",
      "    by : mapping, function, label, pd.Grouper or list of such\n",
      "        Used to determine the groups for the groupby.\n",
      "        If ``by`` is a function, it's called on each value of the object's\n",
      "        index. If a dict or Series is passed, the Series or dict VALUES\n",
      "        will be used to determine the groups (the Series' values are first\n",
      "        aligned; see ``.align()`` method). If a list or ndarray of length\n",
      "        equal to the selected axis is passed (see the `groupby user guide\n",
      "        <https://pandas.pydata.org/pandas-docs/stable/user_guide/groupby.html#splitting-an-object-into-groups>`_),\n",
      "        the values are used as-is to determine the groups. A label or list\n",
      "        of labels may be passed to group by the columns in ``self``.\n",
      "        Notice that a tuple is interpreted as a (single) key.\n",
      "    axis : {0 or 'index', 1 or 'columns'}, default 0\n",
      "        Split along rows (0) or columns (1). For `Series` this parameter\n",
      "        is unused and defaults to 0.\n",
      "    \n",
      "        .. deprecated:: 2.1.0\n",
      "    \n",
      "            Will be removed and behave like axis=0 in a future version.\n",
      "            For ``axis=1``, do ``frame.T.groupby(...)`` instead.\n",
      "    \n",
      "    level : int, level name, or sequence of such, default None\n",
      "        If the axis is a MultiIndex (hierarchical), group by a particular\n",
      "        level or levels. Do not specify both ``by`` and ``level``.\n",
      "    as_index : bool, default True\n",
      "        Return object with group labels as the\n",
      "        index. Only relevant for DataFrame input. as_index=False is\n",
      "        effectively \"SQL-style\" grouped output. This argument has no effect\n",
      "        on filtrations (see the `filtrations in the user guide\n",
      "        <https://pandas.pydata.org/docs/dev/user_guide/groupby.html#filtration>`_),\n",
      "        such as ``head()``, ``tail()``, ``nth()`` and in transformations\n",
      "        (see the `transformations in the user guide\n",
      "        <https://pandas.pydata.org/docs/dev/user_guide/groupby.html#transformation>`_).\n",
      "    sort : bool, default True\n",
      "        Sort group keys. Get better performance by turning this off.\n",
      "        Note this does not influence the order of observations within each\n",
      "        group. Groupby preserves the order of rows within each group. If False,\n",
      "        the groups will appear in the same order as they did in the original DataFrame.\n",
      "        This argument has no effect on filtrations (see the `filtrations in the user guide\n",
      "        <https://pandas.pydata.org/docs/dev/user_guide/groupby.html#filtration>`_),\n",
      "        such as ``head()``, ``tail()``, ``nth()`` and in transformations\n",
      "        (see the `transformations in the user guide\n",
      "        <https://pandas.pydata.org/docs/dev/user_guide/groupby.html#transformation>`_).\n",
      "    \n",
      "        .. versionchanged:: 2.0.0\n",
      "    \n",
      "            Specifying ``sort=False`` with an ordered categorical grouper will no\n",
      "            longer sort the values.\n",
      "    \n",
      "    group_keys : bool, default True\n",
      "        When calling apply and the ``by`` argument produces a like-indexed\n",
      "        (i.e. :ref:`a transform <groupby.transform>`) result, add group keys to\n",
      "        index to identify pieces. By default group keys are not included\n",
      "        when the result's index (and column) labels match the inputs, and\n",
      "        are included otherwise.\n",
      "    \n",
      "        .. versionchanged:: 1.5.0\n",
      "    \n",
      "           Warns that ``group_keys`` will no longer be ignored when the\n",
      "           result from ``apply`` is a like-indexed Series or DataFrame.\n",
      "           Specify ``group_keys`` explicitly to include the group keys or\n",
      "           not.\n",
      "    \n",
      "        .. versionchanged:: 2.0.0\n",
      "    \n",
      "           ``group_keys`` now defaults to ``True``.\n",
      "    \n",
      "    observed : bool, default False\n",
      "        This only applies if any of the groupers are Categoricals.\n",
      "        If True: only show observed values for categorical groupers.\n",
      "        If False: show all values for categorical groupers.\n",
      "    \n",
      "        .. deprecated:: 2.1.0\n",
      "    \n",
      "            The default value will change to True in a future version of pandas.\n",
      "    \n",
      "    dropna : bool, default True\n",
      "        If True, and if group keys contain NA values, NA values together\n",
      "        with row/column will be dropped.\n",
      "        If False, NA values will also be treated as the key in groups.\n",
      "    \n",
      "    Returns\n",
      "    -------\n",
      "    pandas.api.typing.DataFrameGroupBy\n",
      "        Returns a groupby object that contains information about the groups.\n",
      "    \n",
      "    See Also\n",
      "    --------\n",
      "    resample : Convenience method for frequency conversion and resampling\n",
      "        of time series.\n",
      "    \n",
      "    Notes\n",
      "    -----\n",
      "    See the `user guide\n",
      "    <https://pandas.pydata.org/pandas-docs/stable/groupby.html>`__ for more\n",
      "    detailed usage and examples, including splitting an object into groups,\n",
      "    iterating through groups, selecting a group, aggregation, and more.\n",
      "    \n",
      "    Examples\n",
      "    --------\n",
      "    >>> df = pd.DataFrame({'Animal': ['Falcon', 'Falcon',\n",
      "    ...                               'Parrot', 'Parrot'],\n",
      "    ...                    'Max Speed': [380., 370., 24., 26.]})\n",
      "    >>> df\n",
      "       Animal  Max Speed\n",
      "    0  Falcon      380.0\n",
      "    1  Falcon      370.0\n",
      "    2  Parrot       24.0\n",
      "    3  Parrot       26.0\n",
      "    >>> df.groupby(['Animal']).mean()\n",
      "            Max Speed\n",
      "    Animal\n",
      "    Falcon      375.0\n",
      "    Parrot       25.0\n",
      "    \n",
      "    **Hierarchical Indexes**\n",
      "    \n",
      "    We can groupby different levels of a hierarchical index\n",
      "    using the `level` parameter:\n",
      "    \n",
      "    >>> arrays = [['Falcon', 'Falcon', 'Parrot', 'Parrot'],\n",
      "    ...           ['Captive', 'Wild', 'Captive', 'Wild']]\n",
      "    >>> index = pd.MultiIndex.from_arrays(arrays, names=('Animal', 'Type'))\n",
      "    >>> df = pd.DataFrame({'Max Speed': [390., 350., 30., 20.]},\n",
      "    ...                   index=index)\n",
      "    >>> df\n",
      "                    Max Speed\n",
      "    Animal Type\n",
      "    Falcon Captive      390.0\n",
      "           Wild         350.0\n",
      "    Parrot Captive       30.0\n",
      "           Wild          20.0\n",
      "    >>> df.groupby(level=0).mean()\n",
      "            Max Speed\n",
      "    Animal\n",
      "    Falcon      370.0\n",
      "    Parrot       25.0\n",
      "    >>> df.groupby(level=\"Type\").mean()\n",
      "             Max Speed\n",
      "    Type\n",
      "    Captive      210.0\n",
      "    Wild         185.0\n",
      "    \n",
      "    We can also choose to include NA in group keys or not by setting\n",
      "    `dropna` parameter, the default setting is `True`.\n",
      "    \n",
      "    >>> l = [[1, 2, 3], [1, None, 4], [2, 1, 3], [1, 2, 2]]\n",
      "    >>> df = pd.DataFrame(l, columns=[\"a\", \"b\", \"c\"])\n",
      "    \n",
      "    >>> df.groupby(by=[\"b\"]).sum()\n",
      "        a   c\n",
      "    b\n",
      "    1.0 2   3\n",
      "    2.0 2   5\n",
      "    \n",
      "    >>> df.groupby(by=[\"b\"], dropna=False).sum()\n",
      "        a   c\n",
      "    b\n",
      "    1.0 2   3\n",
      "    2.0 2   5\n",
      "    NaN 1   4\n",
      "    \n",
      "    >>> l = [[\"a\", 12, 12], [None, 12.3, 33.], [\"b\", 12.3, 123], [\"a\", 1, 1]]\n",
      "    >>> df = pd.DataFrame(l, columns=[\"a\", \"b\", \"c\"])\n",
      "    \n",
      "    >>> df.groupby(by=\"a\").sum()\n",
      "        b     c\n",
      "    a\n",
      "    a   13.0   13.0\n",
      "    b   12.3  123.0\n",
      "    \n",
      "    >>> df.groupby(by=\"a\", dropna=False).sum()\n",
      "        b     c\n",
      "    a\n",
      "    a   13.0   13.0\n",
      "    b   12.3  123.0\n",
      "    NaN 12.3   33.0\n",
      "    \n",
      "    When using ``.apply()``, use ``group_keys`` to include or exclude the\n",
      "    group keys. The ``group_keys`` argument defaults to ``True`` (include).\n",
      "    \n",
      "    >>> df = pd.DataFrame({'Animal': ['Falcon', 'Falcon',\n",
      "    ...                               'Parrot', 'Parrot'],\n",
      "    ...                    'Max Speed': [380., 370., 24., 26.]})\n",
      "    >>> df.groupby(\"Animal\", group_keys=True).apply(lambda x: x)\n",
      "              Animal  Max Speed\n",
      "    Animal\n",
      "    Falcon 0  Falcon      380.0\n",
      "           1  Falcon      370.0\n",
      "    Parrot 2  Parrot       24.0\n",
      "           3  Parrot       26.0\n",
      "    \n",
      "    >>> df.groupby(\"Animal\", group_keys=False).apply(lambda x: x)\n",
      "       Animal  Max Speed\n",
      "    0  Falcon      380.0\n",
      "    1  Falcon      370.0\n",
      "    2  Parrot       24.0\n",
      "    3  Parrot       26.0\n",
      "\n"
     ]
    }
   ],
   "source": [
    "help(df.groupby)"
   ]
  },
  {
   "cell_type": "markdown",
   "metadata": {},
   "source": [
    "### Time series"
   ]
  },
  {
   "cell_type": "code",
   "execution_count": 156,
   "metadata": {},
   "outputs": [],
   "source": [
    "ts = pd.Series(np.random.randn(3650), index=pd.date_range('11/18/2008', periods=3650))"
   ]
  },
  {
   "cell_type": "code",
   "execution_count": 157,
   "metadata": {},
   "outputs": [
    {
     "data": {
      "text/plain": [
       "2008-11-18    0.512941\n",
       "2008-11-19   -0.193559\n",
       "2008-11-20   -0.650273\n",
       "2008-11-21    1.203320\n",
       "2008-11-22    0.160332\n",
       "                ...   \n",
       "2018-11-11   -0.354503\n",
       "2018-11-12    0.120834\n",
       "2018-11-13   -0.596308\n",
       "2018-11-14    0.873609\n",
       "2018-11-15   -0.561257\n",
       "Freq: D, Length: 3650, dtype: float64"
      ]
     },
     "execution_count": 157,
     "metadata": {},
     "output_type": "execute_result"
    }
   ],
   "source": [
    "ts"
   ]
  },
  {
   "cell_type": "code",
   "execution_count": 158,
   "metadata": {},
   "outputs": [],
   "source": [
    "ts = ts.cumsum() # cumulative sum"
   ]
  },
  {
   "cell_type": "code",
   "execution_count": 159,
   "metadata": {},
   "outputs": [
    {
     "data": {
      "text/plain": [
       "2008-11-18     0.512941\n",
       "2008-11-19     0.319382\n",
       "2008-11-20    -0.330891\n",
       "2008-11-21     0.872429\n",
       "2008-11-22     1.032761\n",
       "                ...    \n",
       "2018-11-11   -30.374458\n",
       "2018-11-12   -30.253624\n",
       "2018-11-13   -30.849932\n",
       "2018-11-14   -29.976322\n",
       "2018-11-15   -30.537579\n",
       "Freq: D, Length: 3650, dtype: float64"
      ]
     },
     "execution_count": 159,
     "metadata": {},
     "output_type": "execute_result"
    }
   ],
   "source": [
    "ts"
   ]
  },
  {
   "cell_type": "code",
   "execution_count": 160,
   "metadata": {},
   "outputs": [
    {
     "data": {
      "text/plain": [
       "<Axes: >"
      ]
     },
     "execution_count": 160,
     "metadata": {},
     "output_type": "execute_result"
    },
    {
     "data": {
      "image/png": "[encoded data removed]",
      "text/plain": [
       "<Figure size 640x480 with 1 Axes>"
      ]
     },
     "metadata": {},
     "output_type": "display_data"
    }
   ],
   "source": [
    "ts.plot()"
   ]
  },
  {
   "cell_type": "code",
   "execution_count": 161,
   "metadata": {},
   "outputs": [],
   "source": [
    "ts[\"2014-01-01\":\"2016-01-01\"] = np.NaN"
   ]
  },
  {
   "cell_type": "code",
   "execution_count": 162,
   "metadata": {},
   "outputs": [
    {
     "data": {
      "text/plain": [
       "<Axes: >"
      ]
     },
     "execution_count": 162,
     "metadata": {},
     "output_type": "execute_result"
    },
    {
     "data": {
      "image/png": "[encoded data removed]",
      "text/plain": [
       "<Figure size 640x480 with 1 Axes>"
      ]
     },
     "metadata": {},
     "output_type": "display_data"
    }
   ],
   "source": [
    "ts.plot()"
   ]
  },
  {
   "cell_type": "code",
   "execution_count": 163,
   "metadata": {},
   "outputs": [
    {
     "data": {
      "text/plain": [
       "2008-11-18          NaN\n",
       "2008-11-19          NaN\n",
       "2008-11-20          NaN\n",
       "2008-11-21          NaN\n",
       "2008-11-22          NaN\n",
       "                ...    \n",
       "2018-11-11   -21.463555\n",
       "2018-11-12   -21.654251\n",
       "2018-11-13   -21.847483\n",
       "2018-11-14   -22.039587\n",
       "2018-11-15   -22.222744\n",
       "Freq: D, Length: 3650, dtype: float64"
      ]
     },
     "execution_count": 163,
     "metadata": {},
     "output_type": "execute_result"
    }
   ],
   "source": [
    "rolling_avg = ts.rolling(window=90).mean()\n",
    "rolling_avg"
   ]
  },
  {
   "cell_type": "code",
   "execution_count": 164,
   "metadata": {},
   "outputs": [
    {
     "data": {
      "text/plain": [
       "<Axes: >"
      ]
     },
     "execution_count": 164,
     "metadata": {},
     "output_type": "execute_result"
    },
    {
     "data": {
      "image/png": "[encoded data removed]",
      "text/plain": [
       "<Figure size 640x480 with 1 Axes>"
      ]
     },
     "metadata": {},
     "output_type": "display_data"
    }
   ],
   "source": [
    "rolling_avg.plot()"
   ]
  },
  {
   "cell_type": "markdown",
   "metadata": {},
   "source": [
    "## File operations"
   ]
  },
  {
   "cell_type": "code",
   "execution_count": null,
   "metadata": {},
   "outputs": [],
   "source": [
    "# CSV\n",
    "# Writing to a csv file."
   ]
  },
  {
   "cell_type": "code",
   "execution_count": 165,
   "metadata": {},
   "outputs": [],
   "source": [
    "df.to_csv(\"test_pandas2.csv\")"
   ]
  },
  {
   "cell_type": "code",
   "execution_count": 166,
   "metadata": {},
   "outputs": [
    {
     "name": "stdout",
     "output_type": "stream",
     "text": [
      ",key,data\n",
      "0,A,0\n",
      "1,B,1\n",
      "2,C,2\n",
      "3,A,3\n",
      "4,B,4\n",
      "5,C,5\n"
     ]
    }
   ],
   "source": [
    "!cat test_pandas2.csv"
   ]
  },
  {
   "cell_type": "code",
   "execution_count": null,
   "metadata": {},
   "outputs": [],
   "source": [
    "# Reading from csv\n"
   ]
  },
  {
   "cell_type": "code",
   "execution_count": 167,
   "metadata": {},
   "outputs": [
    {
     "data": {
      "text/html": [
       "<div>\n",
       "<style scoped>\n",
       "    .dataframe tbody tr th:only-of-type {\n",
       "        vertical-align: middle;\n",
       "    }\n",
       "\n",
       "    .dataframe tbody tr th {\n",
       "        vertical-align: top;\n",
       "    }\n",
       "\n",
       "    .dataframe thead th {\n",
       "        text-align: right;\n",
       "    }\n",
       "</style>\n",
       "<table border=\"1\" class=\"dataframe\">\n",
       "  <thead>\n",
       "    <tr style=\"text-align: right;\">\n",
       "      <th></th>\n",
       "      <th>key</th>\n",
       "      <th>data</th>\n",
       "    </tr>\n",
       "  </thead>\n",
       "  <tbody>\n",
       "    <tr>\n",
       "      <th>0</th>\n",
       "      <td>A</td>\n",
       "      <td>0</td>\n",
       "    </tr>\n",
       "    <tr>\n",
       "      <th>1</th>\n",
       "      <td>B</td>\n",
       "      <td>1</td>\n",
       "    </tr>\n",
       "    <tr>\n",
       "      <th>2</th>\n",
       "      <td>C</td>\n",
       "      <td>2</td>\n",
       "    </tr>\n",
       "    <tr>\n",
       "      <th>3</th>\n",
       "      <td>A</td>\n",
       "      <td>3</td>\n",
       "    </tr>\n",
       "    <tr>\n",
       "      <th>4</th>\n",
       "      <td>B</td>\n",
       "      <td>4</td>\n",
       "    </tr>\n",
       "  </tbody>\n",
       "</table>\n",
       "</div>"
      ],
      "text/plain": [
       "  key  data\n",
       "0   A     0\n",
       "1   B     1\n",
       "2   C     2\n",
       "3   A     3\n",
       "4   B     4"
      ]
     },
     "execution_count": 167,
     "metadata": {},
     "output_type": "execute_result"
    }
   ],
   "source": [
    "new_df = pd.read_csv(\"test_pandas2.csv\", index_col=0)\n",
    "new_df.head()"
   ]
  },
  {
   "cell_type": "code",
   "execution_count": null,
   "metadata": {},
   "outputs": [],
   "source": [
    "# Excel"
   ]
  },
  {
   "cell_type": "code",
   "execution_count": 169,
   "metadata": {},
   "outputs": [
    {
     "name": "stdout",
     "output_type": "stream",
     "text": [
      "Collecting openpyxl\n",
      "  Using cached openpyxl-3.1.2-py2.py3-none-any.whl (249 kB)\n",
      "Collecting et-xmlfile\n",
      "  Using cached et_xmlfile-1.1.0-py3-none-any.whl (4.7 kB)\n",
      "Installing collected packages: et-xmlfile, openpyxl\n",
      "Successfully installed et-xmlfile-1.1.0 openpyxl-3.1.2\n",
      "\u001b[33mWARNING: You are using pip version 22.0.4; however, version 23.3.1 is available.\n",
      "You should consider upgrading via the '/Users/captsolo/_changed_stuff_/Code/LU_GeoPython_2023/venv/bin/python -m pip install --upgrade pip' command.\u001b[0m\u001b[33m\n",
      "\u001b[0m"
     ]
    }
   ],
   "source": [
    "!pip install openpyxl"
   ]
  },
  {
   "cell_type": "code",
   "execution_count": 170,
   "metadata": {},
   "outputs": [],
   "source": [
    "# this will raise an error if 'openpyxl' package is not installed\n",
    "df.to_excel('test_pandas.xlsx', sheet_name='Sheet1')\n"
   ]
  },
  {
   "cell_type": "code",
   "execution_count": 171,
   "metadata": {},
   "outputs": [],
   "source": [
    "df6=pd.read_excel('test_pandas.xlsx', 'Sheet1', index_col=0, na_values=['NA'])"
   ]
  },
  {
   "cell_type": "code",
   "execution_count": 172,
   "metadata": {},
   "outputs": [
    {
     "data": {
      "text/html": [
       "<div>\n",
       "<style scoped>\n",
       "    .dataframe tbody tr th:only-of-type {\n",
       "        vertical-align: middle;\n",
       "    }\n",
       "\n",
       "    .dataframe tbody tr th {\n",
       "        vertical-align: top;\n",
       "    }\n",
       "\n",
       "    .dataframe thead th {\n",
       "        text-align: right;\n",
       "    }\n",
       "</style>\n",
       "<table border=\"1\" class=\"dataframe\">\n",
       "  <thead>\n",
       "    <tr style=\"text-align: right;\">\n",
       "      <th></th>\n",
       "      <th>key</th>\n",
       "      <th>data</th>\n",
       "    </tr>\n",
       "  </thead>\n",
       "  <tbody>\n",
       "    <tr>\n",
       "      <th>0</th>\n",
       "      <td>A</td>\n",
       "      <td>0</td>\n",
       "    </tr>\n",
       "    <tr>\n",
       "      <th>1</th>\n",
       "      <td>B</td>\n",
       "      <td>1</td>\n",
       "    </tr>\n",
       "    <tr>\n",
       "      <th>2</th>\n",
       "      <td>C</td>\n",
       "      <td>2</td>\n",
       "    </tr>\n",
       "    <tr>\n",
       "      <th>3</th>\n",
       "      <td>A</td>\n",
       "      <td>3</td>\n",
       "    </tr>\n",
       "    <tr>\n",
       "      <th>4</th>\n",
       "      <td>B</td>\n",
       "      <td>4</td>\n",
       "    </tr>\n",
       "  </tbody>\n",
       "</table>\n",
       "</div>"
      ],
      "text/plain": [
       "  key  data\n",
       "0   A     0\n",
       "1   B     1\n",
       "2   C     2\n",
       "3   A     3\n",
       "4   B     4"
      ]
     },
     "execution_count": 172,
     "metadata": {},
     "output_type": "execute_result"
    }
   ],
   "source": [
    "df6.head()"
   ]
  },
  {
   "cell_type": "code",
   "execution_count": null,
   "metadata": {},
   "outputs": [],
   "source": []
  },
  {
   "cell_type": "code",
   "execution_count": null,
   "metadata": {},
   "outputs": [],
   "source": [
    "# basic DataFrame information:"
   ]
  },
  {
   "cell_type": "code",
   "execution_count": 173,
   "metadata": {},
   "outputs": [
    {
     "name": "stdout",
     "output_type": "stream",
     "text": [
      "<class 'pandas.core.frame.DataFrame'>\n",
      "RangeIndex: 6 entries, 0 to 5\n",
      "Data columns (total 2 columns):\n",
      " #   Column  Non-Null Count  Dtype \n",
      "---  ------  --------------  ----- \n",
      " 0   key     6 non-null      object\n",
      " 1   data    6 non-null      int64 \n",
      "dtypes: int64(1), object(1)\n",
      "memory usage: 224.0+ bytes\n"
     ]
    }
   ],
   "source": [
    "df.info()"
   ]
  },
  {
   "cell_type": "code",
   "execution_count": 174,
   "metadata": {},
   "outputs": [
    {
     "name": "stdout",
     "output_type": "stream",
     "text": [
      "<class 'pandas.core.frame.DataFrame'>\n",
      "RangeIndex: 6 entries, 0 to 5\n",
      "Data columns (total 2 columns):\n",
      " #   Column  Non-Null Count  Dtype \n",
      "---  ------  --------------  ----- \n",
      " 0   key     6 non-null      object\n",
      " 1   data    6 non-null      int64 \n",
      "dtypes: int64(1), object(1)\n",
      "memory usage: 524.0 bytes\n"
     ]
    }
   ],
   "source": [
    "df.info(memory_usage=\"deep\") # more reliable info"
   ]
  },
  {
   "cell_type": "markdown",
   "metadata": {},
   "source": [
    "## Exercises\n",
    "\n",
    "See the \"Pandas Exercises.ipynb\" notebook."
   ]
  },
  {
   "cell_type": "code",
   "execution_count": null,
   "metadata": {},
   "outputs": [],
   "source": []
  },
  {
   "cell_type": "code",
   "execution_count": null,
   "metadata": {},
   "outputs": [],
   "source": []
  },
  {
   "cell_type": "code",
   "execution_count": null,
   "metadata": {},
   "outputs": [],
   "source": []
  }
 ],
 "metadata": {
  "kernelspec": {
   "display_name": "Python 3 (ipykernel)",
   "language": "python",
   "name": "python3"
  },
  "language_info": {
   "codemirror_mode": {
    "name": "ipython",
    "version": 3
   },
   "file_extension": ".py",
   "mimetype": "text/x-python",
   "name": "python",
   "nbconvert_exporter": "python",
   "pygments_lexer": "ipython3",
   "version": "3.9.18"
  }
 },
 "nbformat": 4,
 "nbformat_minor": 4
}
